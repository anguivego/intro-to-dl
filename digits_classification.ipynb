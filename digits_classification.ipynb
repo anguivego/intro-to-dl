{
  "nbformat": 4,
  "nbformat_minor": 0,
  "metadata": {
    "colab": {
      "name": "digits_classification.ipynb",
      "version": "0.3.2",
      "provenance": [],
      "include_colab_link": true
    },
    "kernelspec": {
      "display_name": "Python 3",
      "language": "python",
      "name": "python3"
    }
  },
  "cells": [
    {
      "cell_type": "markdown",
      "metadata": {
        "id": "view-in-github",
        "colab_type": "text"
      },
      "source": [
        "[View in Colaboratory](https://colab.research.google.com/github/anguivego/intro-to-dl/blob/master/digits_classification.ipynb)"
      ]
    },
    {
      "metadata": {
        "id": "qjt5nXpBHqtD",
        "colab_type": "text"
      },
      "cell_type": "markdown",
      "source": [
        "\n",
        "# MNIST digits classification with TensorFlow"
      ]
    },
    {
      "metadata": {
        "id": "I7UlQljtHqtG",
        "colab_type": "text"
      },
      "cell_type": "markdown",
      "source": [
        "<img src=\"images/mnist_sample.png\" style=\"width:30%\">"
      ]
    },
    {
      "metadata": {
        "id": "mTvzCx5qIOTw",
        "colab_type": "code",
        "colab": {
          "base_uri": "https://localhost:8080/",
          "height": 306
        },
        "outputId": "2166790e-d829-4f6f-916c-73ed83fb01f8"
      },
      "cell_type": "code",
      "source": [
        "! wget https://raw.githubusercontent.com/hse-aml/intro-to-dl/master/setup_google_colab.py -O setup_google_colab.py\n",
        "import setup_google_colab\n",
        "# please, uncomment the week you're working on\n",
        "setup_google_colab.setup_week2()"
      ],
      "execution_count": 1,
      "outputs": [
        {
          "output_type": "stream",
          "text": [
            "--2018-10-20 01:40:10--  https://raw.githubusercontent.com/hse-aml/intro-to-dl/master/setup_google_colab.py\n",
            "Resolving raw.githubusercontent.com (raw.githubusercontent.com)... 151.101.0.133, 151.101.64.133, 151.101.128.133, ...\n",
            "Connecting to raw.githubusercontent.com (raw.githubusercontent.com)|151.101.0.133|:443... connected.\n",
            "HTTP request sent, awaiting response... 200 OK\n",
            "Length: 3595 (3.5K) [text/plain]\n",
            "Saving to: ‘setup_google_colab.py’\n",
            "\n",
            "\rsetup_google_colab.   0%[                    ]       0  --.-KB/s               \rsetup_google_colab. 100%[===================>]   3.51K  --.-KB/s    in 0s      \n",
            "\n",
            "2018-10-20 01:40:10 (28.0 MB/s) - ‘setup_google_colab.py’ saved [3595/3595]\n",
            "\n",
            "**************************************************\n",
            "inception_v3_weights_tf_dim_ordering_tf_kernels_notop.h5\n",
            "**************************************************\n",
            "cifar-10-batches-py.tar.gz\n",
            "**************************************************\n",
            "mnist.npz\n"
          ],
          "name": "stdout"
        }
      ]
    },
    {
      "metadata": {
        "colab_type": "code",
        "id": "dJ5iYP_0IMwn",
        "colab": {
          "base_uri": "https://localhost:8080/",
          "height": 51
        },
        "outputId": "66d46b65-4553-4829-f39a-fbe22494f496"
      },
      "cell_type": "code",
      "source": [
        "import numpy as np\n",
        "from sklearn.metrics import accuracy_score\n",
        "from matplotlib import pyplot as plt\n",
        "%matplotlib inline\n",
        "import tensorflow as tf\n",
        "print(\"We're using TF\", tf.__version__)\n",
        "\n",
        "import sys\n",
        "sys.path.append(\"../..\")\n",
        "import grading\n",
        "\n",
        "import matplotlib_utils\n",
        "from importlib import reload\n",
        "reload(matplotlib_utils)\n",
        "\n",
        "import grading_utils\n",
        "reload(grading_utils)\n",
        "\n",
        "import keras_utils\n",
        "from keras_utils import reset_tf_session"
      ],
      "execution_count": 2,
      "outputs": [
        {
          "output_type": "stream",
          "text": [
            "We're using TF 1.12.0-rc1\n"
          ],
          "name": "stdout"
        },
        {
          "output_type": "stream",
          "text": [
            "Using TensorFlow backend.\n"
          ],
          "name": "stderr"
        }
      ]
    },
    {
      "metadata": {
        "id": "2VFB9wE-HqtL",
        "colab_type": "text"
      },
      "cell_type": "markdown",
      "source": [
        "# Fill in your Coursera token and email\n",
        "To successfully submit your answers to our grader, please fill in your Coursera submission token and email"
      ]
    },
    {
      "metadata": {
        "id": "Gm5wOHjHHqtM",
        "colab_type": "code",
        "colab": {}
      },
      "cell_type": "code",
      "source": [
        "grader = grading.Grader(assignment_key=\"XtD7ho3TEeiHQBLWejjYAA\", \n",
        "                        all_parts=[\"9XaAS\", \"vmogZ\", \"RMv95\", \"i8bgs\", \"rE763\"])"
      ],
      "execution_count": 0,
      "outputs": []
    },
    {
      "metadata": {
        "id": "a7BTVSngHqtS",
        "colab_type": "code",
        "colab": {}
      },
      "cell_type": "code",
      "source": [
        "# token expires every 30 min\n",
        "COURSERA_TOKEN = \"p2ARXV81v2Jdxc9s\"\n",
        "COURSERA_EMAIL = \"andres@sirius.utp.edu.co\""
      ],
      "execution_count": 0,
      "outputs": []
    },
    {
      "metadata": {
        "id": "A9WTG0QGHqtZ",
        "colab_type": "text"
      },
      "cell_type": "markdown",
      "source": [
        "# Look at the data\n",
        "\n",
        "In this task we have 50000 28x28 images of digits from 0 to 9.\n",
        "We will train a classifier on this data."
      ]
    },
    {
      "metadata": {
        "id": "lbjpUai0Hqtb",
        "colab_type": "code",
        "colab": {
          "base_uri": "https://localhost:8080/",
          "height": 51
        },
        "outputId": "c64a358c-8cd1-41c3-feb8-4204a7c33a99"
      },
      "cell_type": "code",
      "source": [
        "import preprocessed_mnist\n",
        "X_train, y_train, X_val, y_val, X_test, y_test = preprocessed_mnist.load_dataset()"
      ],
      "execution_count": 3,
      "outputs": [
        {
          "output_type": "stream",
          "text": [
            "Downloading data from https://s3.amazonaws.com/img-datasets/mnist.npz\n",
            " 9560064/11490434 [=======================>......] - ETA: 0s"
          ],
          "name": "stdout"
        }
      ]
    },
    {
      "metadata": {
        "id": "6u9t0j3AHqtf",
        "colab_type": "code",
        "colab": {
          "base_uri": "https://localhost:8080/",
          "height": 683
        },
        "outputId": "dea5f9e0-8e1d-4d45-f542-4f1fdda4b957"
      },
      "cell_type": "code",
      "source": [
        "# X contains rgb values divided by 255\n",
        "print(\"X_train [shape %s] sample patch:\\n\" % (str(X_train.shape)), X_train[1, 15:20, 5:10])\n",
        "print(\"A closeup of a sample patch:\")\n",
        "plt.imshow(X_train[1, 15:20, 5:10], cmap=\"Greys\")\n",
        "plt.show()\n",
        "print(\"And the whole sample:\")\n",
        "plt.imshow(X_train[1], cmap=\"Greys\")\n",
        "plt.show()\n",
        "print(\"y_train [shape %s] 10 samples:\\n\" % (str(y_train.shape)), y_train[:10])"
      ],
      "execution_count": 4,
      "outputs": [
        {
          "output_type": "stream",
          "text": [
            "X_train [shape (50000, 28, 28)] sample patch:\n",
            " [[0.         0.29803922 0.96470588 0.98823529 0.43921569]\n",
            " [0.         0.33333333 0.98823529 0.90196078 0.09803922]\n",
            " [0.         0.33333333 0.98823529 0.8745098  0.        ]\n",
            " [0.         0.33333333 0.98823529 0.56862745 0.        ]\n",
            " [0.         0.3372549  0.99215686 0.88235294 0.        ]]\n",
            "A closeup of a sample patch:\n"
          ],
          "name": "stdout"
        },
        {
          "output_type": "display_data",
          "data": {
            "image/png": "[encoded data removed]",
            "text/plain": [
              "<matplotlib.figure.Figure at 0x7fc6ea757dd8>"
            ]
          },
          "metadata": {
            "tags": []
          }
        },
        {
          "output_type": "stream",
          "text": [
            "And the whole sample:\n"
          ],
          "name": "stdout"
        },
        {
          "output_type": "display_data",
          "data": {
            "image/png": "[encoded data removed]",
            "text/plain": [
              "<matplotlib.figure.Figure at 0x7fc6d9b913c8>"
            ]
          },
          "metadata": {
            "tags": []
          }
        },
        {
          "output_type": "stream",
          "text": [
            "y_train [shape (50000,)] 10 samples:\n",
            " [5 0 4 1 9 2 1 3 1 4]\n"
          ],
          "name": "stdout"
        }
      ]
    },
    {
      "metadata": {
        "id": "j20iRABTHqti",
        "colab_type": "text"
      },
      "cell_type": "markdown",
      "source": [
        "# Linear model\n",
        "\n",
        "Your task is to train a linear classifier $\\vec{x} \\rightarrow y$ with SGD using TensorFlow.\n",
        "\n",
        "You will need to calculate a logit (a linear transformation) $z_k$ for each class: \n",
        "$$z_k = \\vec{x} \\cdot \\vec{w_k} + b_k \\quad k = 0..9$$\n",
        "\n",
        "And transform logits $z_k$ to valid probabilities $p_k$ with softmax: \n",
        "$$p_k = \\frac{e^{z_k}}{\\sum_{i=0}^{9}{e^{z_i}}} \\quad k = 0..9$$\n",
        "\n",
        "We will use a cross-entropy loss to train our multi-class classifier:\n",
        "$$\\text{cross-entropy}(y, p) = -\\sum_{k=0}^{9}{\\log(p_k)[y = k]}$$ \n",
        "\n",
        "where \n",
        "$$\n",
        "[x]=\\begin{cases}\n",
        "       1, \\quad \\text{if $x$ is true} \\\\\n",
        "       0, \\quad \\text{otherwise}\n",
        "    \\end{cases}\n",
        "$$\n",
        "\n",
        "Cross-entropy minimization pushes $p_k$ close to 1 when $y = k$, which is what we want.\n",
        "\n",
        "Here's the plan:\n",
        "* Flatten the images (28x28 -> 784) with `X_train.reshape((X_train.shape[0], -1))` to simplify our linear model implementation\n",
        "* Use a matrix placeholder for flattened `X_train`\n",
        "* Convert `y_train` to one-hot encoded vectors that are needed for cross-entropy\n",
        "* Use a shared variable `W` for all weights (a column $\\vec{w_k}$ per class) and `b` for all biases.\n",
        "* Aim for ~0.93 validation accuracy"
      ]
    },
    {
      "metadata": {
        "id": "rP25RbmLHqtj",
        "colab_type": "code",
        "colab": {
          "base_uri": "https://localhost:8080/",
          "height": 51
        },
        "outputId": "29f807d3-f970-4f1f-844a-b78b9e623f21"
      },
      "cell_type": "code",
      "source": [
        "X_train_flat = X_train.reshape((X_train.shape[0], -1))\n",
        "print(X_train_flat.shape)\n",
        "\n",
        "X_val_flat = X_val.reshape((X_val.shape[0], -1))\n",
        "print(X_val_flat.shape)"
      ],
      "execution_count": 5,
      "outputs": [
        {
          "output_type": "stream",
          "text": [
            "(50000, 784)\n",
            "(10000, 784)\n"
          ],
          "name": "stdout"
        }
      ]
    },
    {
      "metadata": {
        "id": "F979kyOkHqtn",
        "colab_type": "code",
        "colab": {
          "base_uri": "https://localhost:8080/",
          "height": 85
        },
        "outputId": "666a1d55-a6a7-4184-b5ca-52ddf0f4fca2"
      },
      "cell_type": "code",
      "source": [
        "import keras\n",
        "\n",
        "y_train_oh = keras.utils.to_categorical(y_train, 10)\n",
        "y_val_oh = keras.utils.to_categorical(y_val, 10)\n",
        "\n",
        "print(y_train_oh.shape)\n",
        "print(y_train_oh[:3], y_train[:3])"
      ],
      "execution_count": 54,
      "outputs": [
        {
          "output_type": "stream",
          "text": [
            "(50000, 10)\n",
            "[[0. 0. 0. 0. 0. 1. 0. 0. 0. 0.]\n",
            " [1. 0. 0. 0. 0. 0. 0. 0. 0. 0.]\n",
            " [0. 0. 0. 0. 1. 0. 0. 0. 0. 0.]] [5 0 4]\n"
          ],
          "name": "stdout"
        }
      ]
    },
    {
      "metadata": {
        "id": "SK06Tc9THqtq",
        "colab_type": "code",
        "colab": {}
      },
      "cell_type": "code",
      "source": [
        "# run this again if you remake your graph\n",
        "s = reset_tf_session()"
      ],
      "execution_count": 0,
      "outputs": []
    },
    {
      "metadata": {
        "id": "36AZe3I5Hqtu",
        "colab_type": "code",
        "colab": {}
      },
      "cell_type": "code",
      "source": [
        "# Model parameters: W and b\n",
        "W = tf.get_variable(\"W\",[784,10]) ### tf.get_variable(...) with shape[0] = 784\n",
        "b = tf.get_variable(\"b\",[1,10]) ### tf.get_variable(...)"
      ],
      "execution_count": 0,
      "outputs": []
    },
    {
      "metadata": {
        "id": "AREXtEbMHqtz",
        "colab_type": "code",
        "colab": {}
      },
      "cell_type": "code",
      "source": [
        "# Placeholders for the input data\n",
        "input_X = tf.placeholder(tf.float32,shape=(None,784)) ### tf.placeholder(...) for flat X with shape[0] = None for any batch size\n",
        "input_y = tf.placeholder(tf.float32,shape=(None,10))### tf.placeholder(...) for one-hot encoded true labels"
      ],
      "execution_count": 0,
      "outputs": []
    },
    {
      "metadata": {
        "id": "RuM4kV7lHqt3",
        "colab_type": "code",
        "colab": {}
      },
      "cell_type": "code",
      "source": [
        "# Compute predictions\n",
        "logits = input_X @ W + b ### logits for input_X, resulting shape should be [input_X.shape[0], 10]\n",
        "probas = tf.nn.softmax(logits) ### apply tf.nn.softmax to logits\n",
        "classes =tf.argmax(probas,1) ### apply tf.argmax to find a class index with highest probability\n",
        "\n",
        "# Loss should be a scalar number: average loss over all the objects with tf.reduce_mean().\n",
        "# Use tf.nn.softmax_cross_entropy_with_logits on top of one-hot encoded input_y and logits.\n",
        "# It is identical to calculating cross-entropy on top of probas, but is more numerically friendly (read the docs).\n",
        "loss = tf.reduce_mean(tf.nn.softmax_cross_entropy_with_logits(labels=input_y,logits=logits))### cross-entropy loss\n",
        "\n",
        "# Use a default tf.train.AdamOptimizer to get an SGD step\n",
        "step = tf.train.AdamOptimizer().minimize(loss)### optimizer step that minimizes the loss"
      ],
      "execution_count": 0,
      "outputs": []
    },
    {
      "metadata": {
        "id": "0EhI2NDSXY58",
        "colab_type": "code",
        "colab": {}
      },
      "cell_type": "code",
      "source": [
        ""
      ],
      "execution_count": 0,
      "outputs": []
    },
    {
      "metadata": {
        "scrolled": false,
        "id": "X16xJtTAHqt6",
        "colab_type": "code",
        "colab": {
          "base_uri": "https://localhost:8080/",
          "height": 309
        },
        "outputId": "7eac00f1-96ae-4c94-9474-c92f07fcf5f1"
      },
      "cell_type": "code",
      "source": [
        "s.run(tf.global_variables_initializer())\n",
        "\n",
        "BATCH_SIZE = 512\n",
        "EPOCHS = 40\n",
        "\n",
        "# for logging the progress right here in Jupyter (for those who don't have TensorBoard)\n",
        "simpleTrainingCurves = matplotlib_utils.SimpleTrainingCurves(\"cross-entropy\", \"accuracy\")\n",
        "\n",
        "for epoch in range(EPOCHS):  # we finish an epoch when we've looked at all training samples\n",
        "    \n",
        "    batch_losses = []\n",
        "    for batch_start in range(0, X_train_flat.shape[0], BATCH_SIZE):  # data is already shuffled\n",
        "        _, batch_loss = s.run([step, loss], {input_X: X_train_flat[batch_start:batch_start+BATCH_SIZE], \n",
        "                                             input_y: y_train_oh[batch_start:batch_start+BATCH_SIZE]})\n",
        "        # collect batch losses, this is almost free as we need a forward pass for backprop anyway\n",
        "        batch_losses.append(batch_loss)\n",
        "\n",
        "    train_loss = np.mean(batch_losses)\n",
        "    val_loss = s.run(loss, {input_X: X_val_flat, input_y: y_val_oh})  # this part is usually small\n",
        "    train_accuracy = accuracy_score(y_train, s.run(classes, {input_X: X_train_flat}))  # this is slow and usually skipped\n",
        "    valid_accuracy = accuracy_score(y_val, s.run(classes, {input_X: X_val_flat}))  \n",
        "    simpleTrainingCurves.add(train_loss, val_loss, train_accuracy, valid_accuracy)"
      ],
      "execution_count": 82,
      "outputs": [
        {
          "output_type": "display_data",
          "data": {
            "text/html": [
              "<img src=\"data:image/jpeg;base64,/9j/4AAQSkZJRgABAQEASABIAAD/2wBDAAIBAQEBAQIBAQECAgICAgQDAgICAgUEBAMEBgUGBgYFBgYGBwkIBgcJBwYGCAsICQoKCgoKBggLDAsKDAkKCgr/2wBDAQICAgICAgUDAwUKBwYHCgoKCgoKCgoKCgoKCgoKCgoKCgoKCgoKCgoKCgoKCgoKCgoKCgoKCgoKCgoKCgoKCgr/wAARCAEgA2ADASIAAhEBAxEB/8QAHwAAAQUBAQEBAQEAAAAAAAAAAAECAwQFBgcICQoL/8QAtRAAAgEDAwIEAwUFBAQAAAF9AQIDAAQRBRIhMUEGE1FhByJxFDKBkaEII0KxwRVS0fAkM2JyggkKFhcYGRolJicoKSo0NTY3ODk6Q0RFRkdISUpTVFVWV1hZWmNkZWZnaGlqc3R1dnd4eXqDhIWGh4iJipKTlJWWl5iZmqKjpKWmp6ipqrKztLW2t7i5usLDxMXGx8jJytLT1NXW19jZ2uHi4%2BTl5ufo6erx8vP09fb3%2BPn6/8QAHwEAAwEBAQEBAQEBAQAAAAAAAAECAwQFBgcICQoL/8QAtREAAgECBAQDBAcFBAQAAQJ3AAECAxEEBSExBhJBUQdhcRMiMoEIFEKRobHBCSMzUvAVYnLRChYkNOEl8RcYGRomJygpKjU2Nzg5OkNERUZHSElKU1RVVldYWVpjZGVmZ2hpanN0dXZ3eHl6goOEhYaHiImKkpOUlZaXmJmaoqOkpaanqKmqsrO0tba3uLm6wsPExcbHyMnK0tPU1dbX2Nna4uPk5ebn6Onq8vP09fb3%2BPn6/9oADAMBAAIRAxEAPwD9/KKKKACiiigAooooAKKKKACiiigAooooAKKKKACiiigAooooAKKKKACiiigAooooAKKKKACiiigAooooAKKKKACiiigAooooAKKKKACiiigAooooAKKKKACiiigAooooAKKKKACiiigAooooAKKKKACiiigAooooAKKKKACiiigAooooAKKKKACiiigAooooAKKKKACiiigAooooAKKKKACiiigAooooAKKKKACiiigAooooAKKKKACiiigAooooAKKKKACiiigAooooAKKKKACiiigAooooAKKKKACiiigAooooAKKKKACiiigAooooAKKKKACiiigAooooAKKKKACiiigAooooAKKKKACiiigDxPxd/wAFFP2PvAmoXmn%2BK/ipc2gs9UbTReHwpqj2l5eLfw6fJb2lwlsYb2SO7nigkW3eQxOxD7drY2j%2B2f8As6R%2BObL4c3XjHUbfVLy6sLNlu/Cmpw29le3sUctpY3dw9sIbG8lSWIraXDxzkzRjy8uoPiVz%2Bxn%2B1bH4C8N/s66Zqfw9HgXwn8W9N8V22tXOo3r6rqtnb%2BLrXWxbyQC1EVrLHAlxFvEswuJFiJ%2Bzqzbeh8cfsffGzXfGPi3wPoup%2BFv%2BEA8c/F7QfHuq61dalcrrOnvp8mlTyWEVqtu0Mwll0mLbcNcRmJLhh5TmNSwB6Fa/t1fsv3cGr3w8f30Nno2n3N7LqV54U1OC0vYLedLeZ7G4ktli1HbNJHHi1aYlpEAB3rns/hT8ZfAXxp0m91fwJc6njTdQNlqVnrfh690q8tJxGkuyW1voYZ48xyxupZAGVwQSDmvmbTf2IPj5a6t4mtbTwl8ONN8MazoOp22reBV8Za1feHfFN5cXcEsdw2mTwCPQGCJcEvZyTnzLkMRL5Q3egfs4/sm%2BOvDGmXP/AAu3xl4hhgsfFa6n4L8M6H8ZPEOpQaLbC3tla2mvpmtZtTheeGSUQXUbxRLKY1BQnIB0kX7eP7Kk0fiC6HxNlW18N6Jqur32oy%2BHdQS0urLTSRfzWVw1uItSFuRiQWjTFSQCMkZ5vx3/AMFL/wBmXwh4Vl8TaPd%2BJtceDxF4b0yXTdP8Dav9qeLW78WdnfwxNaB7m1crO0c8IeOZoTFEzyvGjeKaH/wSx%2BI%2BjfBrXPgl5eiXX9m/DfxR4c8C%2BK9W%2BK/ia/LzajZT2VtI%2Bkz5sdLUQzFZjALjJGY0j4A7z4//ALEPxs8d%2BOH%2BIfw%2B1Pwo9zp/hz4cxaTp2r6nc20dzfeG/FE2szxSyRW0phhlidIklVJGDliYsAbgD1V/25/2ZFtteu4/G%2BpzJ4b8Sf8ACPakLbwfqsrPq/nPCdOt1S1JvLsOhJggEkgQrIV2MrGpqn/BQX9lDSbTRp5PH%2Bq3U%2Bv2Wq3WmaXpfgnWLy/ZNMuIrfUFks4LR7iGW3lmRZIpI1kT5iVwjleFtv2OvjToXha08QaFfeFZvFegftCaz8R9G0y61O5j0%2B%2Bgvl1C3NnPcrbNJDILbUZSJFhlCyxJ8rCvMNI%2BEf7S3wX/AG5vCGqeD9N8Dav478U%2BA/iX4l1jSNT128tdItftmt%2BFwlvBdpZyzN5Srb5kNuvnFZfli8wbQD6jsf2yP2adU8Gaz8QtK%2BKVvd6PoNxpMGoXtpY3MoLapDaTaeYVWMtcrcJfWvlvCHVmkKZ3I6r6bXwN8Nv2Q7XwR%2B1Z8Ff2dvBXxLsNdsPh58M9Ff432dmnD3ugLu8PPKqki2klutRnuUjf52i06PGVQGvvmgAooooAKKKKACiiigAooooAKKKKACiiigAooooAKKKKACiiigAooooAKKKKACiiigAooooAKKKKACiiigAooooAKKKKACiiigArzb4q/tdfs/fBPxlH4D%2BJPje4stR%2By2l1efZ9Bvru3023urh7a2nvbi3geGwilmjkRJLl41YxvgnY2PSa%2BQ/28f2Kv2o/2pNZ8Z6N4R%2BIWn/8I5rvhC0s/DFtqHxB1rSoNGvoXnkm8/TtPi8jU47ljApluZG8hVJWCXbscA9gh/br/ZUku9btpviqtrFoGn6hfXeoahot7bWVzb2EywXslndSwrDqAhldI3%2ByvKVd1U8sAdDwJ%2B2B%2Bz78R/EmneC/DXjC%2Bj1vVNTutPt9D1fwzqOnX0Vzb2kd5LHPb3dvHLbH7NLHMvnKgkSRShbIrwzQ/wBjX9rW8/ZXP7IXiDWvh5pWgaLpEn9ga1ZX99qF3qF9FqUN9YC5R7e3W2hjMRinKNO1xuDqIOYz1/jH4S/tp%2BNfiB4H%2BPWqaH8ME1/wZ4l1CS08HQeJtQWzGmXel/ZHLambAyTXAnHnAfY408s%2BVnK%2BawB2uh/t0/steJddsPDmh/EuW4utR0KfWotnh7UBFDpsM9zbzXk8pg8u1gSa0njaSZkUMEBP72Le3w9%2B3Z%2By74m8J6741sviFe21l4dsdPvdSj1fwrqdhctbX8jRWM0Ftc20c13Hcyq0UDQJIJpAUjLN8teO/s%2BfsI/tK/Bjw3q7xfFHwvY%2BKLj4J3fhXR/EWlxzSrY61Jq2rX0V6IZYgDAn263baWJ3RuuCAGbkrH/gnN%2B1HceNNR%2BImoa74div59G8Iz2dvrXxT1/xIw1jw7r39rQrLc6hbB/st3vlR/JSJbU7WjgmJY0AfUHw9/bC/Z2%2BJ%2Buy%2BF/Cnj%2BRdTttLvdQvdN1fRL3Tbizgs5Yorrz47uGJoHia4ty8UgWRVnicrskRj2nw98e%2BFvip4C0T4m%2BBr%2BS70XxFpNvqWkXU1nLbtNazxrLE5imVJIyUZTtdVYZwQDxXxx%2B3H8PfjP8Ybb4c/D3xh4x8IaH8UvFXjTUNFj8PeD724unh8D6lZNaa0vnSpDLMYoUS7N2YYIxPDbRBdxQyfbOnadYaRp8Gk6XZx29rawrDbW8KBUijUAKqgcAAAAD2oAmooooAKKKKACiiigAooooAKKKKACiiigAooooAKKKKACiiigAooooAKKKKACiiigAooooAKKKKACiiigAooooAKKKKACiiigArL0Txv4L8Tazq3hzw34v0vUNQ0G4S31ywsdQjlm06V4xIkc6KxaFmRlcK4BKsCODmtSvm39nDxH4O8LftXfGDStD%2BFni7RbHX9Z06bT7tvhdrFlp97cLAy3kwuXs0gYtcO7NIXxIWZwWBLUAe4%2BB/i58KPibe6ppvw2%2BJ3h7xDc6Hc/Z9at9D1qC7fT5ssPLnWJ2MT5RxtbByjehq94q1m70PT0u7RI2ZpghEikjGCexHpXz9%2BxHc6N478d6z8Wv%2BFY%2BIfA7nwzZaB4U8Dah8OdU0K30Lw/aTTtbxu91awwy3UjTF3ihJSBBHEgOySWX0b4t/FuDw/8AGrwh8E73RDND4m8Oa3q4vUutjxSafNpkQjClSGDrqDsTxjyh1ycJzhTkufZtL5vRHThcHiMbKUaKu4xlN/4YR5pP5LW276G5/wALD1r/AJ9bX/vhv/iqP%2BFh61/z62v/AHw3/wAVWX52i/8AQPuv/Axf/jdHnaL/ANA%2B6/8AAxf/AI3XbyQ7HHdmp/wsPWv%2BfW1/74b/AOKo/wCFh61/z62v/fDf/FVl%2Bdov/QPuv/Axf/jdHnaL/wBA%2B6/8DF/%2BN0ckOwXZtP471hdPiuxb2255pEI2NjChCP4v9o1D/wALD1r/AJ9bX/vhv/iqqSy6R/ZEBNjc7ftMuB9qXIO2PPOz6VW87Rf%2Bgfdf%2BBi//G6ShDsF2an/AAsPWv8An1tf%2B%2BG/%2BKo/4WHrX/Pra/8AfDf/ABVZfnaL/wBA%2B6/8DF/%2BN0edov8A0D7r/wADF/8AjdPkh2C7NT/hYetf8%2Btr/wB8N/8AFVNdeO9Yggt5Vt7YmaEu2Ubg72X%2B9/sisXztF/6B91/4GL/8bqzfS6QLaz32NyQbY7QLpRgea/X5Oec0nCF9guy3/wALD1r/AJ9bX/vhv/iqP%2BFh61/z62v/AHw3/wAVWX52i/8AQPuv/Axf/jdHnaL/ANA%2B6/8AAxf/AI3T5IdguzU/4WHrX/Pra/8AfDf/ABVH/Cw9a/59bX/vhv8A4qsvztF/6B91/wCBi/8AxujztF/6B91/4GL/APG6OSHYLs2r7x3rFrOsSW9sQYY35RurIrH%2BL3qH/hYetf8APra/98N/8VVTVZdIFyvmWNyT9mh5F0o48pcfwelVvO0X/oH3X/gYv/xukoQtsF2an/Cw9a/59bX/AL4b/wCKo/4WHrX/AD62v/fDf/FVl%2Bdov/QPuv8AwMX/AON1w3jj9qP9lH4ZeIpfCHxJ%2BO3hDw9q0CI8%2Bl6544sbS4jVlDKWjlKsAQQQSOQc1FWeGoR5qjUV3bSX3to68FgMxzKt7LB0Z1Z2vywhObt3tCE3bVa2t5npv/Cw9a/59bX/AL4b/wCKqbUfHesWeoT2kdvbFYpmRSUbJAJH96vFv%2BG4v2Ff%2Bjq/hz/4crTP/iqtXv7bv7Dt/rcsFr%2B1T8OriWa6ZYxB8SNMPmsW42gOSck8DnrXP9dyy/8AFh/4HD/5M9V8J8WJXeXYj/wnr/8Ayg9Z/wCFh61/z62v/fDf/FUf8LD1r/n1tf8Avhv/AIque8S%2BJfCvhPw5qHinVtN1E2umWUt3ci1czSmONC7bI44i8jYBwqgsTgAEmvKfh1%2B3b%2Bzf8Q/CNv4ktLTxbBdHw7pmr6jpC%2BF9TmuLJL8RfZoSI7E%2BZK5lGxEy0iq7qCiMw6%2BWmuh8/qe7/wDCw9a/59bX/vhv/iqm07x3rF5qEFpJb2wWWZUYhGyASB/erwiX9uH9ma3u4ZJvEN21ld2lmbFbex1CW/lubi7vbRbVrNbAukvnWE8Xl5MwljeN4kITf6H8Ifi58MPi1HpniP4fNqd3Z3axz293PZzwIP38kLRt51um2ZJIZFkgbEsZXDquRkcadtg1Ou/4WHrX/Pra/wDfDf8AxVH/AAsPWv8An1tf%2B%2BG/%2BKrwr4HftW23xd8YaTouq/CqTSNM8XeG9Q8QeBdSh8Ti6k1DTrO7treR7mE2kYtZGF7aSoivMCsrZZWQg858av22vEfwLvdci8afs8RwRW/h/WNX8OeZ8QI/Nu7fT7y1tWlvFSydbGGb7XHLG6vOdnEiRyfuwctO2wan0x/wsPWv%2BfW1/wC%2BG/8AiqP%2BFh61/wA%2Btr/3w3/xVfL/AIn/AG7YPDg8GW/9k/CqX/hMI9Xlg1t/joE0SNbGSzj8tL7%2ByD507vdkeUI12%2BU3zMTgdF8W/wBrLVfgh4rhXx/8B7lPDF1Ne29hqun%2BLo7jULyS10W41WaaKxW1x9lC2s1uJGmWTzQuYQjhyWp9g1PoSx8d6xdTtE9vbACGR%2BEbqqMw/i9qh/4WHrX/AD62v/fDf/FV8tX/APwUQs/BWnrD41%2BHPhbRNYeTTTc3eqfFNY/D%2BnWGp6ff3Nrc3mpnTs27O1jNbqnkMGmltgHKzBhY8Kft%2BaT4on0TVpvgvcaXoV5/wi1trVxqnixItQs77X2SOyigtPshFzEJJoVaUyxHBkKxt5TClanfYep9O/8ACw9a/wCfW1/74b/4qj/hYetf8%2Btr/wB8N/8AFV4f4O/aM8bePNI8fwaD%2Bzfep4h8GeOrfw7a6Fe%2BNLZBdRzWOm3q3lxOtuy2yJDqIaSOMXDgQsE8xmCVw3h7/goJD4l8c6D4Aj%2BHfhHR7zVBfxXMvif4sCyimubTWbjSnh05hpjnUN727SRnEJZWUFVJIDtT7C1Pqn/hYetf8%2Btr/wB8N/8AFVNbeO9YnguJWt7YGGEOuEbk71X%2B9/tGvmP44ftr%2BIvgNda83jL9nhY7a18N69rHhvd49j%2B0X0OlywRtLdRpZOtlBN9oRo5VknYKyCSON28sbV3%2B1zqejfCLSvidp/wy8PeJrTWfGmk%2BH7%2B98EfE6LUtNsLe91ay0/7SbprKFpJUmuV/cJCc7CGkTO5U1T7D1PfP%2BFh61/z62v8A3w3/AMVR/wALD1r/AJ9bX/vhv/iq8Y8bfGf4peGfjXovwq0T4KaBqVr4gjvp7C%2Bb4izw3UNra2wZ7me3/shkji%2B0y2tudszsDdRsFbDKL/wJ%2BMHiz4m6z4t0jx38K9O0ZPC%2BrxaZFfaD40k1OC9ufIWWdVaXTrUr5XmRISAwMnmJkGNhT5afYWp6x/wsPWv%2BfW1/74b/AOKrZ8JeIr3XvtH2yKJfK2bfKUjOd3XJPpXJedov/QPuv/Axf/jddH4Aeyf7X9jt5Y/9Xu82YPn73TCjFTUjFQdkNN3OjooormKCiiigAooooAK5nxB4y1TSdXm0%2B3gt2SPbtLo2eVB7N7101cH4z/5GW5/4B/6Ata0oqUtRPYtf8LD1r/n1tf8Avhv/AIqj/hYetf8APra/98N/8VWDRXR7OHYm7N7/AIWHrX/Pra/98N/8VR/wsPWv%2BfW1/wC%2BG/8AiqwaKPZw7BdnSaj471iz1Ce0jt7YrFMyKSjZIBI/vVD/AMLD1r/n1tf%2B%2BG/%2BKrL1z/kNXn/X1J/6Eaq0lThbYLs3v%2BFh61/z62v/AHw3/wAVR/wsPWv%2BfW1/74b/AOKrBop%2Bzh2C7Ok07x3rF5qEFpJb2wWWZUYhGyASB/eqH/hYetf8%2Btr/AN8N/wDFVl6H/wAhqz/6%2Bo//AEIVVpezhfYLs3v%2BFh61/wA%2Btr/3w3/xVH/Cw9a/59bX/vhv/iqwaKfs4dguze/4WHrX/Pra/wDfDf8AxVTWPjvWLqdont7YAQyPwjdVRmH8XtXN1a0f/j7f/r1n/wDRT0nThbYLs1P%2BFh61/wA%2Btr/3w3/xVH/Cw9a/59bX/vhv/iqwaKfs4dguze/4WHrX/Pra/wDfDf8AxVH/AAsPWv8An1tf%2B%2BG/%2BKrBoo9nDsF2dJbeO9YnguJWt7YGGEOuEbk71X%2B9/tGof%2BFh61/z62v/AHw3/wAVWXp//Hpff9eo/wDRsdVaSpwvsF2b3/Cw9a/59bX/AL4b/wCKo/4WHrX/AD62v/fDf/FVg0U/Zw7Bdm9/wsPWv%2BfW1/74b/4qpk8d6w2ny3Zt7bck0aAbGxhg5P8AF/sivOPEvxh%2BEfgyc2vjD4peHNJkX70epa5bwMPwdxWKv7Y37IkVjPp0n7VHw4W4a5iKwN44sA5AWTJ2%2BdnuPzrnqV8DTdpTin5yivzkjmnjcJSdp1Yp%2Bcor85I9b/4WHrX/AD62v/fDf/FUf8LD1r/n1tf%2B%2BG/%2BKrysftLfs5G1%2B2j4/wDgkw/89h4rs9v5%2BZisi/8A21f2ONLcx6h%2B1h8NYXHVH8c2Ab8vOzSlicviryqQX/b0f/kiZZhgYK8q0F6zh/8AJHtf/Cw9a/59bX/vhv8A4qj/AIWHrX/Pra/98N/8VXgN1/wUF/YctM%2Bb%2B1n8Pzj/AJ5eKLZ//QXNZeof8FM/2B9NUvc/tUeE2A/5971pT%2BSKaxlmOTx3r0//AAOP/wAkYSznKIfFiaa/7fh/8kfTD%2BO9YXT4rsW9tueaRCNjYwoQj%2BL/AGjUP/Cw9a/59bX/AL4b/wCKr5S1r/gsF/wT4srCDS9I%2BOMutX/2iVksND8M6jcyOCsYGNsG3qD/ABVzmu/8FgPgnoEP2%2B5/Zz%2BNr2JGY9RHw9McEg9VaWZTj8K5pZ5kEE714P0fN/6SpWM4Z/k9aoqdKvGcu0Lzf3U4zf4H2h/wsPWv%2BfW1/wC%2BG/8AiqP%2BFh61/wA%2Btr/3w3/xVfnzqn/BwH%2Bx3p0xs1%2BGXxMa4Bw0Uui2MW0/7W%2B9GPyrH1L/AIOCfgVGhk0X4E%2BJrgdhd61p0JP4CZzXJLivhaP/ADEw%2BV3/AO2nu0cHm%2BJt7DBYmd9uXCYuX5YS34n6Pf8ACw9a/wCfW1/74b/4qprrx3rEEFvKtvbEzQl2yjcHey/3v9kV%2BVeu/wDBxVppuBY%2BFv2V3LMcC51LxkAie5WC1kLfgaYP%2BC5/7QHiGOD/AIRr4OeCLsJEVS3to9dmkXLs2GIswpPPbiuV8acL81oVeb0jJ/5HtR4N8QKlP2lPIce49/qWIS%2B%2BcKaP1R/4WHrX/Pra/wDfDf8AxVH/AAsPWv8An1tf%2B%2BG/%2BKr8vLP/AIK5f8FCNZIHhX9gmXWc/d/svw7rkmfzgFdZ4Y/4KK/8FSdWZWuf%2BCXupyK3QP8Aa7I/%2BRkOK1p8V5JVdoRqP0pVH%2BUWcGKyHirAwcsTlmIppfzU4p/d7fm/8lP0X/4WHrX/AD62v/fDf/FV03h/UZ9W0iHULhUV5N24ICBwxHf6V%2Bfdh%2B1//wAFSvEFvnRv%2BCXcNu%2B37%2BpfEuyiAPrtkCH8M19mfso%2BIvjD4s%2BAOgeIPj78PLPwp4tuPtX9raBYail3Fa7bqZYtsqMyvuiEbnBOC5HavSo5jhcZLlpQmut5U5xX3ySV/I8ahifa1HBwnFr%2BaEo/meiUUUV0nUFFFFABRRRQAUUUUAFFFFABRRRQAUUUUAFFFFABRRRQAUUUUAFFFFABXzD%2B1hq/9m/t8/s/2e7H9oeFvHFvj1wmjy/%2B06%2Bnq%2BPv28bybTP%2BCh/7KF70gmfxvaTN/tSaXbFB/wB9R15%2BZT9nRhL/AKeUvxqRX6n23AOHWLzqvSfXCY38MJVkv/ST3GiiivoD4UKKKKALU3/IFt/%2Bvqb/ANBiqrVqb/kC2/8A19Tf%2BgxVVpIAooopgFWtQ/49LH/r1P8A6NkqrVrUP%2BPSx/69T/6NkpPdAVaKKKYBRRRQBa1j/j7T/r1g/wDRSVVq1rH/AB9p/wBesH/opKq0lsAVw3jj9mL9mv4m%2BIpfF/xJ/Z58DeIdWnREn1TXPCVnd3EiqoVQ0ksbMQAAACeAMV3NeG/HD/gpL%2BxZ%2Bzh8RLr4UfGf4z/2Nr9lDFLc2H/CO6lcbEkQOh3wW7ocqQeGOM84NcmOq5fRo82McFC/2%2BW1/wDt5NX38yo57U4ef1qGKeHb93nVSVJ668vNGcHrba9nbbQ6P/hiL9i//o0T4X/%2BEDp3/wAZq3qH7E/7Gen6/PNYfskfDGB4LxmheHwFpymMq5wVIh4xgYx0ryP/AIfNf8E1/wDo5D/yz9Z/%2BQ6uy/8ABZL/AIJu674ja00r9o3zZLy9KWy/8IhrC72d8KObQYzkdcV5Cx/CXNpUof8AlL/5E0/4ihipaf27N3/6i6v/AM0H0TrulQ69ol5odxIyR3trJA7p1UOpUke/NfOOk/8ABP3xFZ/CW4%2BHmrfGPSNRup/%2BEZSd7vwW7abew6PCkC293ZG%2BLXEMyRqXj85RuGeV%2BSvobxl4kHg3whqvi9tFvtSGlabPeHTtMjV7m68qNn8qJXZVaRtu1QzKCxGSBzXj3j//AIKA/BPwJotx4mj0/U9V0u3j01v7Vtr7TLS1ka9spL6KJZr%2B8t4zILZYpChYMRdwbA5LhPoXy9TJXOS%2BEn/BOCT4W%2BIdK1Vfi7ZT2mi67Bf6fp9j4QWzSOGPV9Y1PyMJcFFG/WHjUoiqiQJhDnj3T9nH4T6v8GrGDwbJ4rttTsDr1/qEJGltBMs17q13fOC3nOrKq3KRgBQcxM5PzhE8S0z/AIKI%2BF18TeINR1eGS48NW9wZfC40nRWe61K0bQdA1GFWaW5QJPJNrPlovl7WBjDGMozv6d%2By78fPGfxj%2BIHi/SfEnwx1DQ4vDPxBXRraC7W3WezjXStKvCLvy7mVZJGmvZwjwFozGiZIPzOvdtoGpg/CP9lLxN8KPEmmaxB8U7K/tfCXh%2B90DwHZTeG2T%2BzdMu721uZ4rl1uv9LlCWVrDHIohCCLcyOWbMGifsy/GfTfEfjrxLqHxu8L3t74ynmaLVLj4dyS3tlAsrNY2TNNqEkMlpboShhSGLzC8su6OWV5DX0b9pT4mX3xksILqy0H/hC9X%2BJuo%2BB7G0jsZxqUNzaaddXLXr3BmMbxtPZTwiAQghXjk804ZKu/GX4zfHT4afGDRvD%2Blw%2BE7/Stfvp7fSfDdvZXU2ryWkGmyXE%2BpyTCVY4YorkRwmLyXDCSL9%2Bsk6RKe7YNTPuf2Sfit/ZXiWfT/jf4cj1jxxqWo3Pi6W4%2BHInsJRdafY2AFrbte%2BbbMkFhFy08qSPLM0kb5jEdvwH%2Byp8RfAXxQm8YWvxk0i/0qLQLfQdBh1PwhLPqmi6XDaRReRb3bX3kBpJ4xcyyNakyttRwUiiCeb6B%2B2b8d9V%2BEPh3XT4l0KbxXqep6IniTSYfgl4hSfw7aXtldTNKdPN6bm%2BRprcxRzxFYyY5cbyCF3b39sf4hzrP4t8EeIfCGv8AhfwrYeHJvFF/FoF3bzau2p38lvP9kR7omwNtGgcxzCd3kLRN5RQtReIal/4efsAax4K16z%2BInhj4h%2BENO8Z6ZqMd5aXOl/DRbTRGgg0zUbQRSabBeIWlb%2B072YzLOh8yVcKEUxs/S/2AtPsrvwBp2o%2BNNG1DRvA1ro3lNd%2BB7f8Atdp9OuftcYt9RWQNa2r3KQO9t5cgCxbEdFdq6rwH8Wf2iPFPiH4t%2BEY9N8H2eq%2BENYgt/Dji3vrqGPT57GK4eW4WMiS6uFikkcQxLEGcJDvAzOfDfGH/AAUP%2BNvhzwDb%2BIrbS/Dr3UFh4mupXfwbqZOotpl9FbwQ3FqLnzfDaSpJmW6v2eK2ODKF%2B7S91MNT1C8/ZV/aLvNG%2BJ2mxftL%2BHbGb4l%2BJbTVrm70r4f3lvJZLFZ6dYTWyuur79k1ppwjLo0cqNPI6OpCBbXjb9kz4j%2BOvhenweu/il4P0rw/eeGW8Pa3p2gfDT7Miafv%2BVdOLXzvYyrF8gZ2uI1ZI5EjRlO6j4B/aL%2BM3jH4l%2BLfAF34h8L6dqsGqa7Y%2BB/DmseA9XsU1H7I5WCY6s87W9yNu2WSOCEuEJICgE1kWn7T/wC0NqXws8a%2BLbK98OB/AviiaxvtTPwx1x7q8t1sLWeMLoKXBvLdzPcMhklmC%2BTEtwFMUqsr90NTrdM/Zm%2BMlp4u8eeLNQ%2BNnhm8ufGbXCW%2Bo3Hw9eW9061DN9hsd82oSQSWsCnDRLBGJmeWTKSSs4q63%2Bx/8X/EHgfxPYWHx08M2mt%2BKPH%2Bj%2BMfEmoP8Pp3tJJ9NudHa1gtrZdTRoFP9lQCV5JZmfzJCCnyhdD4d/Hv4t%2BKvjb4C8J%2BIdA8L2vhzxr8I77xNG2lai97cpfW0uiq6rcIRA1uRqsiqUDl/JWQOA2yuVl/an/aVsfhPreqXug%2BG7XxBZfFkeFr9tF8Kapr1vY6eRDKZBbW8sVxdSoWVN6%2BWHPzeUmdoT5bBqeweH/hZqll8Yrv4xeI/FMN/dXPgzTtDisrfTjBFayw3F3PdXEZaVyFuDNbjyzkoLNcu%2B75Z/gn8MH%2BEHw%2Bj8Fz69/alwdV1HUb3UTa%2BSbi4vb6e8lfZubb%2B8nb%2BI/h0HkPjf8Aab%2BK/hzw14I%2BIvhTxb4P8QeHdf1PS9NnurfwbqkH265n1IWt3vle4MOhrBGw2i7aZ5Z1eDakgVXzfgr%2B1Z8c/jd8RNY%2BHOnal4V0e4/svVr2yvL/AMF6gbfTTZavFZiNZXvYotdjkhaQtc2bxR28ixiQEzIlVdXA%2BnK6j4bf8vv/AGz/APZq8V/Zc8dfEb4n/BnTfiL8SrzRrifW5Z7vR7jRNImsYp9LeRjZTtDNcTsjyweXMV8w7fNC4ypJ9q%2BG3/L7/wBs/wD2apq602C3OoooorjLCiimXNzbWVtJeXlwkMMKF5ZZXCqigZLEngADnNAD6K858E/tafs/fEDwbr3xB0Dx6YdH8M6Omr63eazpF3pot9NeKSaO/C3cUTSWrxxSslwgaJxE%2B1m2Nik/7Z37PsfhqPxK3iDXcy6ydKTRR4H1c6ubwWv2wx/2YLX7aMWxE%2B7ydvlkPnaQaAPU64Pxn/yMtz/wD/0Ba6zwl4s8N%2BPPCmmeOfButW%2BpaPrWnw3%2BlajaPuiuraaNZIpUPdWRlYHuCK5Pxn/yMtz/AMA/9AWtqHxky2MuiiiuokKKKKALWuf8hq8/6%2BpP/QjVWrWuf8hq8/6%2BpP8A0I1VpLZAFFFFMC1of/Ias/8Ar6j/APQhVWrOisq6zaMzAAXMZJJ6fMK8T%2BLv/BQT9jD4GSvafEf9orw5Bdxttk07Tro390h9GhtRJIp%2BqiufEYrDYSPPXnGC7yaS/Fo58Ti8Jg6fPiKkYR7yaS/Fr9T2Oivl4/8ABX79jW8B/wCEXvfGeuMfuJpPgPUHLnsBviXrTD/wUS%2BLfjUGP4F/8E6vjBrTPxb3Pimwg0C2lPYiWd3%2BX/aIrg/t/J38FZS/wqU3/wCSxf5nmf6x5I/grKb7QUpv/wAkhL8z6kq1o/8Ax9v/ANes/wD6Kevk9NJ/4K2fGRhPf%2BLvhn8GdPfmOHTrB/EOqR%2B0hlItm%2Bq471S8R/s0/tJ%2BG7N9T%2BP/APwWE1jRbFreUzXdt4c0nQFIEbZCyb8Lnpntmonm1ZwcoYWpy95clNf%2BTzuvmka0MwzDG1VTweArVHLRK0Yt%2BkXJz/8AJL%2BR9X3l7Z6dayX2oXcUEESFpZppAqIo6kk8Ae9eF/FP/gpj%2BxJ8Jr3%2BxdV%2BO2mazqrP5cOj%2BE1fVrmST/nni1DqrezstfJfiew/4JE2muppvxR/aK%2BJnx81xX3rYTeItT1sysD1U2axwkA4wC5H1Fet/Cz9pPw/8P7Iad%2Bxz/wSR%2BIdnGybUu7zwnZ%2BHY7kepuJCzSA/wB5smvLlxBWrScYTpQ9HOvL7qUeW/rI%2B4o%2BGfjBjKSqzyxYOm9VLETjT07pVqmGj87SR1aftwftZfFds/s1f8E8vFsti/3Nc%2BJeqwaBHt7OsD75JVPbaQcc08aP/wAFf/Hf7y%2B8Y/BPwHbt9yPTdPv9Tu0/3zKRET/u07/han/BWbx5/wAir%2Byt8MPAav8AdPjXxtLqZjHuNPUZNJ/woL/gqD47/wCR4/bq8K%2BEYn/11p4H%2BHkdySP7qzXjB1/3utLnxOI3eJqekY0Y/jZ/ezT/AIhVUp65xxHhqXdQxCm//AcHh6z/APKz9SxZ/sh/8FBPFNvdv45/4Kf6jbReQDJZ%2BF/hpp1nx5iDaJtxfqQckdq5Txt%2Bxr4G8Dqb/wCOP/BWP4zaPdKNwmuPiza6PEnuI2jwPz6V1Vn/AMEv7Hxlb3U/xz/bL%2BNfjLEAaXT5fGZsrCTMiAj7PAgwOezdh6VueCP%2BCW37AvgJxPpv7NOh3827dJN4hebU2kbuWF3JIDn6YpLK8VWf%2B7JedTEVJP7oP9R/6keEOD/3zNMVin2pUaiX/geKxUPv9lbyR8u%2BMfFv7G3gd20/Vf8Agtv8ZLm26PDo3i59Rmf0CzWtrJg%2B9c8Lb9gfxl81zon7XXxogb70kq6ndRzfXBtyc/hX6Q%2BDvhF8J/h2ix/D/wCGHh3QlUYVdG0WC1AHt5aLXQ0/9WqtX%2BJKmvLkqT/9OVmv/JRfUPBbDaQyXE4j/r/jeVf%2BAUaUkv8AwJn5weGfBP7I%2BmQLafDX/gh/8Vb0/wDLM%2BL/AA4Ys/7z3lzKR%2BNdTF8IviP4s0aXTvA3/BCb4WaLC80ezWPGGvaMTHw%2BFMUMHnc9Thv4fpX3tVqH/kC3H/X1D/6DLW8eGaUY2dRJf3aVCP8A7jmzpp5p4eYNWwfCuEX/AF8nia34OVJP5qx%2BdI/4JgftI%2BLLr%2B1tS%2BC37LPhPd9yz0rwffXxQf7fnEIW%2BgxWxY/8ElfjdcqIbr4qfBLRV7yaV%2Bzjo124%2BhuVz%2BOa%2B9KKuPCWTLWSk/8At63/AKTCJUeMKVB/7Nk%2BW0u3Ll2Flb51Y1m/nc%2BH7X/gjZqEuJNZ/aliEn8R0b4S6FYL%2BCpEcVqWH/BHDwyrAal%2B1t8SI17/ANhDT9Pb8GjtiRX2ZRW0eF8ij/y5%2B%2BU//kkbx8Q%2BJqf8H6vT/wAGCwMLelsE7Hy7Zf8ABIT9n6LR4R4o%2BNHxg8RRSTyLJb618Q5jGwCp1EKR9cmtXw5/wSV/4J7%2BG5/tcX7OllfTk5kn1jWL69Ln1ImnZf0r6Xm/5Atv/wBfU3/oMVVa3p5BkkNfq8H6x5v/AEpyNKnij4jTpezjm1eEX9mnP2Uf/AaMaK/A8y0X9ir9jzw9EsOj/sr/AA7h2dHHg2yZ/wAWaIsfxNdLpHwP%2BCvh9g2g/CDwvYkdDZ%2BH7aLH/fKCuoorvhg8HS%2BClFekYr8oo%2BbxPEPEOMv9Yxtad/5q1WX/AKVVZHa2dnYxCCytY4UAwEijCgfgKvah/wAelj/16n/0bJVWrWof8elj/wBep/8ARsldG1jyG3J3ZVooopiCu88Gf8i1bf8AA/8A0Nq4Ou88Gf8AItW3/A//AENqxr/AOO5qUUUVylhRRRQAUUUUAFFFFABRRRQAUUUUAFFFFABRRRQAUUUUAFFFFABRRRQAV8ef8FNU/sv9ov8AZd8XdPI%2BKV1p%2B7/r6smTH47K%2Bw6%2BQf8AgrwBp2lfs/eLRx/Zv7SnhpZW9IZVukf/ANlry850y6Uuzg/uqU2foHhf73G2Hpf8/IYiH/geExa/RHt1FFFfSH52FFFFAFqb/kC2/wD19Tf%2BgxVVq1N/yBbf/r6m/wDQYqq0kAUUUUwCrWof8elj/wBep/8ARslVatah/wAelj/16n/0bJSe6Aq0UUUwCiiigC1rH/H2n/XrB/6KSqtWtY/4%2B0/69YP/AEUlVaS2AKKKKYBVrXP%2BQ1ef9fUn/oRqrVrXP%2BQ1ef8AX1J/6EaXUCrXhPh7/gn18IvB/h/SdB8HeNfFultpGr6hdw39rfWpuJLe7t0tHsS0luwSCO0ht7WJowk8cVtGFl3bmb3aihpMD530L/gml8EtE8Njw4/jnxjeCOy%2Bz297c31mJoSumaVp0MqmO1RfMij0azkQlSPMDlg6sFHqnwD%2BAdr8HPFeo6tY/EzxNrVz4m8Vf21r02uNZMbu7a0srME%2BRbRCNVjsoyqR7QC75BXYqdpVrQ/%2BQ1Z/9fUf/oQpNJIdzyZP2VfBsHxQf4nWnjLxFDt1u51zT9BSa1NhYaxcWLWMuoxK0Bl80wSSjY8jw7ppH8rc2aS1/ZjFp8YtY%2BM0Pxy8afa9etLS01PTduleQ9rbweWtvHKLH7VBGXMs5WKdMTTyOu3IA9Qop2QjyLS/2SV0q4uvEMf7RXxGl8TXMOn2yeLZr/TzexWdl9q8m0MYshbTxZvLlm8%2BGV3eRXZi0cTJQ0/9hD4UaTNYLpvi3xRFZp9hfxFpwvbdofEs9pqM2pQz3xaAvv8AtlxNK/kNCsgfy3Vo1WMe2UUcqC55Po/7H8Enijxn4gvP2h/iFLN4ylhv7gRz6Xb/ANn3lmsLWk9u0FhG/wC7FrHH5crSxSoXWVJQxrB1b9gP4caxp%2BowXHxQ8apeeIrLUrLxrq0N3YrceJbS/dGuILr/AETy4l2oI0a1SB40yFYZzX0Bo/8Ax9v/ANes/wD6KeqtKyuO55L4o/ZC8LeNtcn1LxZ8VfHF7ZKNQbQtHOsxRxaDPeQvDLPZzRwrcq6xyyrEJJpEhWUqiKoULBD%2Bx9aWlzdeJtP/AGgviFbeKtQ1J7vUvGFvd6at5dq1pFaCB4PsX2PyljgiK4tw6upcMGZy3sNFOyFc8j8Pfsh6B4O8e%2BC/GPgv4teLtJsPAPg9/C/hvwvbDTHsIdLdbASQs0tk9y5Y6basXM24FDtKhiKl8CfskX/g/RPFVvpn7UPxKN3rmtpr0mpeZo8Utvelo45CqQ6ckUsciBVaKeOWMbVZVVwGr1erWn/8el9/16j/ANGx0mlYZ4Wn7Dfw/i0228P2/wAS/GqaTI8UviTRzqds9v4inTUptSae6D25aOSW6uJ3lNqbfzA%2BxgURFWfQf2Kvh/4fg1Cyg8f%2BLJrWXwrq/h3w/ay3lqF8OafqUsct1FZslurkl4Lcq1w07IIEAIG4N7HRT5UK5T8OaDp3hbw9YeGNHi2Wmm2UVraocfLHGgRRwAOgHSu0%2BG3/AC%2B/9s//AGauXrqPht/y%2B/8AbP8A9mqKv8NjW51FFFFcZYVz3xc8FXHxK%2BFHif4c2moizl1/w9e6bFdkE%2BQ08DxB%2BOeC2fwroaKAPlHwb8F/i94%2B03xwnxe/ZuvLG08SfAvS/Acnh2bxRYxpfXFlFqr3DG5tZpWgtpm1FIYJQhmTZLI8Ufyg4GlfD39tHwZofivxH4d8B/Ee81L4keKbCz1TUNR1zwzL4j0HRbTTBFJeIsd1b6cLqWbdbxCJnEaFbmRXkDRN9m0UAc78IfDGheCfhT4a8F%2BFvA9z4Z0zR9BtLHTfDl5LE8umW8MKxx2ztFLLGzRoqoSsjqdvDN1Ob4tvLeLxBcRyaVbyEbMu7SZPyL6OB%2BldpXB%2BM/8AkZbn/gH/AKAtbUdZClsVf7QtP%2BgHa/8Afcv/AMXR/aFp/wBAO1/77l/%2BLqrRXTZEFr%2B0LT/oB2v/AH3L/wDF0f2haf8AQDtf%2B%2B5f/i6q1w37QX7R3we/Zf8AAE3xI%2BMvi6HS7BG8u1gA33F9Nj5YIIh80sh9B0HJIAJGdapRw9J1KslGK1bbskvUzrV6OGpSq1ZKMYq7bdkl5s9M1i%2BtU1e6RtHtmIuXBZmlyfmPJw%2BK4P4l/tNfs8fBqN3%2BK/xM8G%2BHWRc%2BTq%2BvrBK3ssbTBmPsATXzjqOhftp/8FDNSn1DxxJq/wACvhJeTs6eH7WQL4q16BiTi4k6WEbDrGBu6qwcENXovwz/AOCav7C/wndLjwx%2BzZ4cublDu%2B26/A2pzF%2B77rtpMNnnIx7YryYY3MMYr4SklDpKo5Rv5qCXNbs5ON%2BiseNHMM0x3vYKilDpOq5Rv5xhFc9uzk4X6K2pyd5/wUv1f4z3knh79gz9lPWfiXIJDE3i/U1n0jw9AwOCftNwwaYrySiqpI%2B6TUc/wH/4KV/GxxP8Yv2uPDXw30%2BTmXQfhL4deWUqe322%2BYyxsO5XIzX07ZWVnptpFp%2BnWkUEEMYSGCGMKkagYCqBwAB2FcL8eP2o/wBn/wDZl0IeIPjh8UtL0GN0LW1rPKXurnH/ADyt4w0svP8AdU474qKuAtTdXMMS%2BVbpS9lBfc%2BZ/wDb07vsd2XcL5xn%2BMhhVKriKs3aNOipRTfZQpJ1Jesp7b2R5No3/BJj9nzxXqNvb/HX4o/FT4lrPOq3CeM/iHdujAkAgLbmLA9BnivW/hV%2BzL%2Byl%2BzrZ/bfhb%2Bz14M8OG1jLSapFYkXCoByXuZHMhAHdnPevFtK/au/bZ/ad1S2s/2NP2aR4S0Oe4QQ/EX4vK1rGylhiS30%2BPMsoPVXJKHjcBRa/wDBNCT4r3Met/tvftK%2BMfipMHEjeHlujpGhI2cjbZ2rDJBwN28ZA5FcWHjgPa8%2BW4Pnf/PyS5Y%2BqnPmnL/t2Poz9Cw/hZw3w1U9rxBiqOEqLelTj9axXo1CcqdJ%2BVXEpp7wWqOq%2BJn/AAVK/ZP8F%2BIT4C%2BHyXfxL8UkkR%2BGvhnp1xq05IODmSOTyVweCN%2B4elc%2Bfjp/wU1%2BNo2fCn9kTwR8LtNl/wBXrHxL8RT3t2yf31tLNsxP/syZHHNe8fDL4PfCr4L%2BH18LfCX4d6N4c09cZtdH06OBXI/ifYAXb/abJPrXSV6P1DMsTricQ4r%2BWkuVf%2BBy5pv5KJ6L4l4Myj3coyhVpL/l7jZuq35qhSdHDx9JSq%2BbZ8uH9hn9qL4oP5/7R/8AwUP8b3EEhy%2BjfDexg8PQIP8AnmZYw8kq%2B7AEiuo%2BHP8AwSr/AGDfDWrnWdd%2BA0HivVPJkebVfGesXupyzFY2Yb0mmMR5H9wda97q1o//AB9v/wBes/8A6KeqWRZSnzTpc8l1m3N/%2BTuX4JGFbxP46nSdHD414am9OTDRp4aNu1sPCk2v8U5feZHg3wd8N/h1pg0T4ffCzw9oVmMYtNG0/wCyxDHT5Y2UfpWv/aFp/wBAO1/77l/%2BLqrRXqxpwhFRirJdtPyPh61eviarq1puUnq3JuTb7tttt%2BrZa/tC0/6Adr/33L/8XR/aFp/0A7X/AL7l/wDi6q0VVkZGnY31q1teEaPbDFsCQGl%2Bb96nB%2Bf8ePSq39oWn/QDtf8AvuX/AOLo0/8A49L7/r1H/o2OqtJJXYFr%2B0LT/oB2v/fcv/xdH9oWn/QDtf8AvuX/AOLqrRTsgLX9oWn/AEA7X/vuX/4urMV9anSJ3/se2AFzECu6XB%2BWTn7%2Bf/11mVah/wCQLcf9fUP/AKDLSaQB/aFp/wBAO1/77l/%2BLo/tC0/6Adr/AN9y/wDxdVaKdkBa/tC0/wCgHa/99y//ABdH9oWn/QDtf%2B%2B5f/i6q0UWQGnLfWo0iB/7HtiDcygLulwPlj5%2B/n/9VVv7QtP%2BgHa/99y//F0Tf8gW3/6%2Bpv8A0GKqtJJAWv7QtP8AoB2v/fcv/wAXR/aFp/0A7X/vuX/4uqtFOyAtf2haf9AO1/77l/8Ai6s319arbWZOj2xzbEgFpfl/evwPn/Hn1rMq1qH/AB6WP/Xqf/RslJpXQB/aFp/0A7X/AL7l/wDi6P7QtP8AoB2v/fcv/wAXVWinZAWv7QtP%2BgHa/wDfcv8A8XXa%2BEpEl8P28kcCRg78IhOB87epJ/WuArvPBn/ItW3/AAP/ANDasaySiVHc1KKKK5igooooAKKKKACiiigAooooAKKKKACiiigAooooAKKKKACiiigArxb4OfEH4sQfGP41%2BHfiR40TxBZeGL%2BxuvDljZ6RFaLY2s9k04tV27nlbAXdJI7FnLFRGhWNPaa858JfsrfCDwP8TNW%2BL3hxvFkeu65cpPq01z8RdbuLe6dPubraa8aDao%2BVUEe1V%2BUALxQB5l%2Bxn8YvjJ4s8SeG9N%2BKXxKk8UJ45%2BDWk%2BOF36baW6aNdzyYntbc20UZa1ImiEQmMko8hy0r7vl5X/gtShtf2VPDfipSB/YPxa8N6hvLAbdt0Uzz/wBdK%2BhPhB%2Bzd8GfgPdXt58LPCUmnSX1pBaP5%2BrXV2Le0gaVoLO3FxK4tbWIzSlLeEJEnmNtQZr5/wD%2BC5VnNP8A8E1/G9/aj9/p%2BoaRdwn0Kalbkn/vndXl54n/AGPiGukJP7lzfoff%2BFTS8S8ni9pYilD5VHKm/wAKh7n/AGPd/wDPa1/8Dov/AIqj%2Bx7v/nta/wDgdF/8VVCxvIdQsYb%2B3OY54lkQ%2BzDI/nUtfRq7W5%2BetOLae6LX9j3f/Pa1/wDA6L/4qj%2Bx7v8A57Wv/gdF/wDFVVoo1EaculXR0iCPzbbIuZSf9Mixysffdjt/nNVv7Hu/%2Be1r/wCB0X/xVE3/ACBbf/r6m/8AQYqq0lcC1/Y93/z2tf8AwOi/%2BKo/se7/AOe1r/4HRf8AxVVaKeoFr%2Bx7v/nta/8AgdF/8VVm%2B0q6a2s1Ett8tsQc3kQ/5auePm569qzKtah/x6WP/Xqf/RslJ3ugD%2Bx7v/nta/8AgdF/8VR/Y93/AM9rX/wOi/8Aiqq0U9QLX9j3f/Pa1/8AA6L/AOKo/se7/wCe1r/4HRf/ABVVaKNQNPVdKupLlWWW2/49oR815EOkSju1Vv7Hu/8Anta/%2BB0X/wAVRrH/AB9p/wBesH/opKq0lewFr%2Bx7v/nta/8AgdF/8VR/Y93/AM9rX/wOi/8Aiqq0U9QLX9j3f/Pa1/8AA6L/AOKqzrGlXUmr3Uiy2wDXLkbryIH7x6gtkVmVa1z/AJDV5/19Sf8AoRpa3AP7Hu/%2Be1r/AOB0X/xVH9j3f/Pa1/8AA6L/AOKqrRT1Atf2Pd/89rX/AMDov/iqs6PpV1Hq9rI0tsQtyhO28iJ%2B8OwbJrMq1of/ACGrP/r6j/8AQhSd7MA/se7/AOe1r/4HRf8AxVH9j3f/AD2tf/A6L/4qqtFPUC1/Y93/AM9rX/wOi/8AiqP7Hu/%2Be1r/AOB0X/xVVaKNQNPStKuo7lmaW2/49phxeRHrEw7NVb%2Bx7v8A57Wv/gdF/wDFUaP/AMfb/wDXrP8A%2BinqrS1uBa/se7/57Wv/AIHRf/FUf2Pd/wDPa1/8Dov/AIqqtFPUC1/Y93/z2tf/AAOi/wDiqs2OlXS214pltvmtgBi8iP8Ay1Q8/Nx071mVa0//AI9L7/r1H/o2Ok72AP7Hu/8Anta/%2BB0X/wAVR/Y93/z2tf8AwOi/%2BKqrRT1Atf2Pd/8APa1/8Dov/iq6PwBZy2n2vzXiO7y8eVOj/wB7rtJxXJV1Hw2/5ff%2B2f8A7NWdW/Ixrc6iiiiuQsKKKKACiiigArg/Gf8AyMtz/wAA/wDQFrvK4Pxn/wAjLc/8A/8AQFrah8ZMtjLoops88FrA9zczJHHGhaSSRgFVQMkknoAK6iTzL9r79pjQf2UvgjqHxP1GwbUdUkkSw8L6DFky6tqc2Vt7ZAvzHLfM2MkIrEAkAHzf9m79iXXrzxjZftU/tp%2BIl8a/FKaBZbCynjH9l%2BElbDfZrGDJUOh4MxySVyOdzvzHwGhm/b9/aqm/a712FpPhh8NrufS/hJZyqfK1bUQdt1rJU/eUEbIj/sg/K8bZ%2Bvq8HDU45xiPrdVXpRf7tPZ2etRrZ3ekL3tFcyV5Jr53C0453ifrlVXoxf7qL2dnrVa2d3pTve0VzJXkmrWuf8hq8/6%2BpP8A0I1zvj34g%2BB/hb4TvPHfxG8WWGiaPp8XmXmpalcrFFEO2WY9SeABySQACTXmv7ZX7aPhv9nrxJH8MvBHhm48a/E7xHcyJ4W8B6Q4M8xLN/pFw3It7dcEmRsZCtjhWZfO/AH7BXjP4zeK7L41/wDBRDxxB441u2k8/RvAGnqyeGtBY/wrAf8Aj7kA4LyZB6EPhWrevmNSVV4bBw56itdt2hD/ABS79eSN5d%2BVO5%2BvZTwfhaWXU844irvDYSd3TjGKliMQk7P2FN2Shdcrr1XGindR9tKLisqf9of9qX9vG6fw/wDsaadcfD/4cNIY734weI9OIu9RjzhhpVo%2BCQecTPjvzGy4PpXwG/4J6/s3fArXv%2BFgHQLzxf40lcSXfjjxxeHUtTll/vq8nyxH3jVTjgk17dbW1vZ28dpaQJFFEgSKKNQqooGAABwABxin06GU0vaKvi37WqtnJe7H/BDWMfXWT6yHmfHmM%2BpzyzIqf1HByVnCnJ%2B0qrviK9o1KzfWF6dFbRo21drQ/wDkNWf/AF9R/wDoQqrVrQ/%2BQ1Z/9fUf/oQqrXq9T4IKKKKYBVrR/wDj7f8A69Z//RT1Vq1o/wDx9v8A9es//op6T2Aq0UUUwCiiigC1p/8Ax6X3/XqP/RsdVataf/x6X3/XqP8A0bHVWkt2AUUUUwCrUP8AyBbj/r6h/wDQZaq1ah/5Atx/19Q/%2Bgy0mBVooopgFFFFAFqb/kC2/wD19Tf%2BgxVVq1N/yBbf/r6m/wDQYqq0kAUUUUwCrWof8elj/wBep/8ARslVatah/wAelj/16n/0bJSe6Aq0UUUwCu88Gf8AItW3/A//AENq4Ou88Gf8i1bf8D/9Dasa/wAA47mpRRRXKWFFFFABRRRQAUUUUAFFFFABRRRQAUUUUAFFFFABRRRQAUUUUAFFFFABXzV/wV%2B0j%2B2/%2BCdXxOs9udmgtcY/65MJf/ZK%2Bla8S/4KO6R/b37DvxR0oLlpfAmseWP9safcFf1ArjzCHtcvrQ7wn/6RI%2Bn4IxP1LjXK6/8AJicO/ur0f8yp8D9X/wCEg%2BCvg/Xt277b4W0%2B43eu%2B2jb%2BtdRXl37EWr/ANu/sa/CjVS25pfh1ookP%2B2tlErfqDXqNengp%2B1wdKfeMX98Yv8AU8ziLDfUuIsbh/5K1aP/AIDVqx/QKKKK6Txy1N/yBbf/AK%2Bpv/QYqq1am/5Atv8A9fU3/oMVVaSAKKKKYBVrUP8Aj0sf%2BvU/%2BjZKq1a1D/j0sf8Ar1P/AKNkpPdAVaKKKYBRRRQBa1j/AI%2B0/wCvWD/0UlVatax/x9p/16wf%2BikqrSWwBRRRTAKta5/yGrz/AK%2BpP/QjVWrWuf8AIavP%2BvqT/wBCNLqBVooopgFWtD/5DVn/ANfUf/oQqrVrQ/8AkNWf/X1H/wChCk9mBVooopgFFFFAFrR/%2BPt/%2BvWf/wBFPVWrWj/8fb/9es//AKKeqtLqAUUUUwCrWn/8el9/16j/ANGx1Vq1p/8Ax6X3/XqP/RsdJ7AVaKKKYBXUfDb/AJff%2B2f/ALNXL11Hw2/5ff8Atn/7NWdX%2BGxrc6iiiiuMsKKK5r4zDxmfg/4rHw5Mn/CQ/wDCNX39g%2BV9/wC2/Z38jb7%2BZtxQB0tFfBfwXT4Ma58O/it4B/Z2%2BIlj4W8N67%2BzppFvNqugRvJJa%2BJfsus/b7jyLf8AfzanDbtYvdKo%2B1cW4bDla434f3vwe1D4hw3/AMZNC%2BFmnfs7nxdcrDZ%2BHL9bzwYmtjw9AAY55YIYZVI%2B0EERKguyyDdcKXYA/SauD8Z/8jLc/wDAP/QFrP8A2Lh43H7IPwuHxKXUBr//AAr7R/7YGrbvtYuPscW/z9/zedn7%2Bed%2B7NbHi2PS28QXBuLy4R/k3KlsrAfIvcuP5VtR%2BIUtjDr5V/bg%2BIHi/wDaA%2BJOm/8ABOj4Ga1Laah4jtBe/FLxDaHJ0Dw9kb4s9BPcghFU/wALjI2ybh9D/Hv4o%2BEfgX8FPFfxi1i%2BnaDw1oF1qHlSWqgTPHGzJFnzOruFQe7CvI/%2BCafwOh8B/AKD40/ErUr28%2BIfxUEfiXxrqtxaKZHknXzILYfONkcUTqojwArM%2BAAQB5%2BZSnjK8cvhdKS5pvqoJ25V5zfu36R5nvY8DNHUxuIhltN2U05VGt1TTtyrzqP3b9I873aPZvh58P8Awh8KfA2k/DfwDosWnaNoljHZ6bZQj5YokGAM9ST1LHkkkkkk14r%2B1/8Ata%2BKvA3iLT/2Y/2Y9Hg8Q/F/xVCTp1m/zW3h%2B0PDalenkJGgOVU/fOOCMK3Vftw/tK2H7MXwVk1rwdBcav428Q3kei%2BAPD/2RS2oarOdsQ2iTJRM727EKFyCwqH9jD9kTwx%2Bzb4QuvEnjTxNeeIfiT4tKX3xA8X3dssk17eEZMMbFxtt4ySqIABgZwM4CxVWrWrf2fg/cslzyX2IvRRj055JadIxXNa/Kj9d4aynJ8gyWPEeb0lUhzOGFw70jXqU0uadS1msNQbippWdapy0IuMVVkj9mD9jHwl%2BzHPq3inXfEF14w%2BIviGdpPGXxA1n57zUpt2WRM58mAEDbEvGFXJJAx6/WnrEWkHV7oy31yG%2B0vuC2qkA7j33jNVvJ0X/AKCF1/4Br/8AHK9LCYbD4PDxpUY2iv6bb3bb1bbbb1bPk86zrNeIcyqY/MarqVZ7t20SVoxiklGMIpKMIRjGMYpRjFJa1aKteTov/QQuv/ANf/jlHk6L/wBBC6/8A1/%2BOV0XPKDQ/wDkNWf/AF9R/wDoQqrWno8WkDV7UxX1yW%2B0ptDWqgE7h1O84qt5Oi/9BC6/8A1/%2BOUr6gVaKteTov8A0ELr/wAA1/8AjlHk6L/0ELr/AMA1/wDjlO4FWrWj/wDH2/8A16z/APop6PJ0X/oIXX/gGv8A8cqzpUWkC5by765J%2BzTcNaqOPKbP8fpSb0AzKKteTov/AEELr/wDX/45R5Oi/wDQQuv/AADX/wCOU7gVaKteTov/AEELr/wDX/45R5Oi/wDQQuv/AADX/wCOUXANP/49L7/r1H/o2OqtadjFpAtrzZfXJBthuJtVGB5qdPn55xVbydF/6CF1/wCAa/8AxyknqwKtFWvJ0X/oIXX/AIBr/wDHKPJ0X/oIXX/gGv8A8cp3Aq1ah/5Atx/19Q/%2Bgy0eTov/AEELr/wDX/45VmKLSP7InAvrnb9piyfsq5B2yY43/Wk2BmUVa8nRf%2Bghdf8AgGv/AMco8nRf%2Bghdf%2BAa/wDxyncCrRVrydF/6CF1/wCAa/8AxyjydF/6CF1/4Br/APHKLgE3/IFt/wDr6m/9BiqrWnLFpH9kQA31zt%2B0y4P2Vck7Y88b/pVbydF/6CF1/wCAa/8AxykmBVoq15Oi/wDQQuv/AADX/wCOUeTov/QQuv8AwDX/AOOU7gVatah/x6WP/Xqf/RslHk6L/wBBC6/8A1/%2BOVZvotINtZ7765AFsdpFqpyPNfr8/HOaTeqAzKKteTov/QQuv/ANf/jlHk6L/wBBC6/8A1/%2BOU7gVa7zwZ/yLVt/wP8A9DauN8nRf%2Bghdf8AgGv/AMcrtfCQgXw/bi3kd0%2BfazoFJ%2BduwJ/nWNZ%2B6VHc0aKKK5igooooAKKKKACiiigAooooAKKKKACiiigAooooAKKKKACiiigAoorxP4Iftd6n8W/Hml%2BH9V%2BGMWk6P4t0PWNY8B6tBrpuptSstOvbe1la5gMEYtJJBd280SLJNujZ9zIybSAe2V51%2B1hpH/CQfs/eKdB27vtuhX1vj132ky/1riv2M/23bf8Aa51DVrG38G6Vp50zRNN1Kb%2BxfFQ1RtPku2uFOl6iv2eH7DqcH2f99afvfL3j5zxn1f4oWkV/4ZNjOMxzS%2BW49QUcH%2BdDh7ROHdNfemv1OjCYh4TF0q63hKMv/AZRl/7afLP/AATC1f8Atv8AYD%2BFt5vzs8Mpb5/65SPFj/xyvea%2BZP8AgjvdzS/8E8vAum3TZn02fVrOb2Kapd4H/fJWvpus8jn7TJcNLvTh/wCkr/I%2Bs8TcOsL4j5zRWyxWIt6OtNr8JBRRRXqHw5am/wCQLb/9fU3/AKDFVWrU3/IFt/8Ar6m/9BiqrSQBRRRTAKtah/x6WP8A16n/ANGyVVq1qH/HpY/9ep/9GyUnugKtFFFMAooooAtax/x9p/16wf8AopKq1a1j/j7T/r1g/wDRSVVpLYAooopgFWtc/wCQ1ef9fUn/AKEaq1a1z/kNXn/X1J/6EaXUCrRRRTAKtaH/AMhqz/6%2Bo/8A0IVVq1of/Ias/wDr6j/9CFJ7MCrRRRTAKKKKALWj/wDH2/8A16z/APop6q1a0f8A4%2B3/AOvWf/0U9VaXUAooopgFWtP/AOPS%2B/69R/6NjqrVrT/%2BPS%2B/69R/6NjpPYCrRRRTAK6j4bf8vv8A2z/9mrl66j4bf8vv/bP/ANmrOr/DY1udRRRRXGWFFFFABRRRQAVwfjP/AJGW5/4B/wCgLXeVwfjP/kZbn/gH/oC1tQ%2BMmWx8i/8ABUC5n%2BJOi/Db9jbSp3Fx8WvHtrbatHG2GGjWTLd3rjHPyhYT7jNfT7NpuiaaXdobSztIMlmISOGNF/JVAH0AFfLvw7/4v7/wVN8Z/EBv32i/BjwdbeG9Lbqh1a/JnuZUP95IgYWHbitT/gpd8Q/E9z8OdB/ZM%2BFl%2BYvGPxn1j%2BwLOSPlrPTMBtRuyBzsSAlT3xKSOleLTxcaEcXmMlf3uSC7qHuRS/xVJS/PoPgHIa3F/FUqMJKCrVOTne1OjQUnVqP%2B7BRr1H35Et2r85%2By3Z3f7bn7TOo/t2%2BKrWQ%2BCfCbXOg/BawuUIWZQxS81jaf4pGBjQ9QoIIzGpP1xWH8NPh74X%2BEvw90T4Y%2BCrAW2k6BpcNhp8PcRRIEUk92OMk9SST3rcr1MtwcsHhrVHepJ8033k9/ktIxXSMV5n1HGPEFLiHOObCwdPC0Yqlh6f8AJRhdQT7zm3KrVl9qrUm%2BkbWtc/5DV5/19Sf%2BhGqtWtc/5DV5/wBfUn/oRqrXetkfKBRRRTAtaH/yGrP/AK%2Bo/wD0IVVq1of/ACGrP/r6j/8AQhVWl1AKKKKYBVrR/wDj7f8A69Z//RT1Vq1o/wDx9v8A9es//op6T2Aq0UUUwCiiigC1p/8Ax6X3/XqP/RsdVataf/x6X3/XqP8A0bHVWkt2AUUUUwCrUP8AyBbj/r6h/wDQZaq1ah/5Atx/19Q/%2Bgy0mBVooopgFFFFAFqb/kC2/wD19Tf%2BgxVVq1N/yBbf/r6m/wDQYqq0kAUUUUwCrWof8elj/wBep/8ARslVatah/wAelj/16n/0bJSe6Aq0UUUwCu88Gf8AItW3/A//AENq4Ou88Gf8i1bf8D/9Dasa/wAA47mpRRRXKWFFFFABRRRQAUUUUAFFFFABRRRQAUUUUAFFFFABRRRQAUUUUAFeDfC39jXxL8NvGmkau3xetL7RPCuk6vo3g/SB4beGew0vUryG5uIpbhbsiadBa20MMyxxiONH3RytJvHvNFAHin7Lf7JOs/s96nb6l4i%2BJdnr/wDZPgLSfBugJpvhr%2BzBHpentO0L3X%2BkTC5uT53MiiKMYbZEm9s%2Bo%2BO7q6s9IjltLmSJjcgFo3KnG1uOK2qwfiH/AMgWL/r6X/0Fqun8aE9j40/4JI6rqmk/s3eI/CFvqVxGug/FTxHYeWkzALtvC%2BMA/wDTSvqP%2B3Na/wCgxdf%2BBDf418q/8Ey/%2BJbcfH3wo3H9n/tF%2BI2hX%2B7FKLd0H86%2BoK5MgS/seiuya%2B6U1%2Bh994q%2B94h5jU/nnCf/AIMo4ap%2Bc2Wv7c1r/oMXX/gQ3%2BNH9ua1/wBBi6/8CG/xqrRXr2XY/PjTl1jVxpEEo1W53G5lBbz2yQFjwOvufzqt/bmtf9Bi6/8AAhv8aJv%2BQLb/APX1N/6DFVWkkuwFr%2B3Na/6DF1/4EN/jR/bmtf8AQYuv/Ahv8aq0U7LsBa/tzWv%2Bgxdf%2BBDf41ZvtY1dLazZNVuQWtiWInbk%2Ba4yefQD8qzKtah/x6WP/Xqf/RslJpXWgB/bmtf9Bi6/8CG/xo/tzWv%2Bgxdf%2BBDf41Vop2XYC1/bmtf9Bi6/8CG/xo/tzWv%2Bgxdf%2BBDf41VoosuwGnqusavHcqseq3Kg20JwJ2HJiUk9fWq39ua1/wBBi6/8CG/xo1j/AI%2B0/wCvWD/0UlVaSStsBa/tzWv%2Bgxdf%2BBDf40f25rX/AEGLr/wIb/GqtFOy7AWv7c1r/oMXX/gQ3%2BNWdY1jV4tXuootVuVVblwqrOwAG48dazKta5/yGrz/AK%2BpP/QjSsr7AH9ua1/0GLr/AMCG/wAaP7c1r/oMXX/gQ3%2BNVaKdl2Atf25rX/QYuv8AwIb/ABqzo%2BsavLq9rFLqtyytcoGVp2II3Dg81mVa0P8A5DVn/wBfUf8A6EKTSs9AD%2B3Na/6DF1/4EN/jR/bmtf8AQYuv/Ahv8aq0U7LsBa/tzWv%2Bgxdf%2BBDf40f25rX/AEGLr/wIb/GqtFFl2A09K1jV5Lllk1W5YC2mOGnY8iJiD19arf25rX/QYuv/AAIb/GjR/wDj7f8A69Z//RT1VpWV9gLX9ua1/wBBi6/8CG/xo/tzWv8AoMXX/gQ3%2BNVaKdl2Atf25rX/AEGLr/wIb/GrNjrGrvbXjPqtyStsCpM7cHzUGRz6E/nWZVrT/wDj0vv%2BvUf%2BjY6TStsAf25rX/QYuv8AwIb/ABo/tzWv%2Bgxdf%2BBDf41Vop2XYC1/bmtf9Bi6/wDAhv8AGuj8AX17e/a/tl5LLt8vb5shbGd3TNclXUfDb/l9/wC2f/s1Z1UuRjW51FFFFchYUUUUAFFFFABXnfxK1S00S/1PWr99sFnb%2BfM3oiRBifyBr0Svnb/goL4u/wCEE/Zo%2BK/i1Zdkln4D1Jrds4/emyZY/wDx8rRKssPRqVX9mMn9yb/Q58XWWGwtSs/sxk/uTf6Hjf8AwSR0a7vP2SV%2BNniFc678UPFer%2BKddkPeaa7kjUAn%2BHy4UIHbcay/2RAf2rP2t/H37b%2BoDz/Dnh8v4J%2BFpblHtoXzfX6dj5sp2q452F0P3abqHjNv2Tv%2BCN%2Bn%2BI4JPs%2Boaf8ACGxhsyvBTUb22jjQjuSJ7gH8DXtf7H3wdT4AfsveBfhAbUQ3Gi%2BG7aPUEVcZvHXzLhvxmeQ/jXiYCg6ksHhJbUqcasvOctI3%2Bcqk/Wz6H2vBdJ8MeE9XMFpXxfJhIPqqfs4YjFyXnNyo0W%2B05r7TPSKKKK%2BrPji1rn/IavP%2BvqT/ANCNVata5/yGrz/r6k/9CNVaS2QBRRRTAtaH/wAhqz/6%2Bo//AEIVVq1of/Ias/8Ar6j/APQhVWl1AKKKKYBVrR/%2BPt/%2BvWf/ANFPVWrWj/8AH2//AF6z/wDop6T2Aq0UUUwCiiigC1p//Hpff9eo/wDRsdVataf/AMel9/16j/0bHVWkt2AUUUUwCrUP/IFuP%2BvqH/0GWqtWof8AkC3H/X1D/wCgy0mBVooopgFFFFAFqb/kC2//AF9Tf%2BgxVVq1N/yBbf8A6%2Bpv/QYqq0kAUUUUwCrWof8AHpY/9ep/9GyVVq1qH/HpY/8AXqf/AEbJSe6Aq0UUUwCu88Gf8i1bf8D/APQ2rg67zwZ/yLVt/wAD/wDQ2rGv8A47mpRRRXKWFFFFABRRRQAUUUUAFFFFABRRRQAUUUUAFFFFABRRRQAUUUUAFFFFABWD8Q/%2BQLF/19L/AOgtW9Xz5%2B018a9b8C/tffBn4PjVSmk%2BOtB8WLPYlVxLeWaaZPBJnGcpEbtQAcESnIOBiJ16eHcZT2cor5ydl%2BLRz4rE08LTU57OUY/OUlFfi0eJfsJZ0r9p39prwqePJ%2BJdrf7f%2BvqyD5/HbX1BXy/%2By7/xJ/8AgpJ%2B07oh4S9h8H38C/8AcNkSQ/i2K%2BoKyyPTAOP8s6q%2B6rP/ADP0TxN9/iiNb/n5hsFP/wACwWHv%2BMX9wUUUV7B%2Bflqb/kC2/wD19Tf%2BgxVVq1N/yBbf/r6m/wDQYqq0kAUUUUwCrWof8elj/wBep/8ARslVatah/wAelj/16n/0bJSe6Aq0UUUwCiiigC1rH/H2n/XrB/6KSqtWtY/4%2B0/69YP/AEUlVaS2AKKKKYBVrXP%2BQ1ef9fUn/oRqrVrXP%2BQ1ef8AX1J/6EaXUCrRRRTAKtaH/wAhqz/6%2Bo//AEIVVq1of/Ias/8Ar6j/APQhSezAq0UUUwCiiigC1o//AB9v/wBes/8A6KeqtWtH/wCPt/8Ar1n/APRT1VpdQCiiimAVa0//AI9L7/r1H/o2OqtWtP8A%2BPS%2B/wCvUf8Ao2Ok9gKtFFFMArqPht/y%2B/8AbP8A9mrl66j4bf8AL7/2z/8AZqzq/wANjW51FFFFcZYVz3xd8a3Pw1%2BE/if4i2WnC8m0Dw7e6lFaHP79oIHlCcc8lccetdDTLm2t7y3ktLuBJYpUKSxSKGV1IwQQeCCOMUAfJdp8ffjz8M/hl8UrbxN8bIPEGraJ8AdK8daH4j13RLeOLT9TvItWRoTFYQJ5loJbCF4kKSzENKpeX5a4G%2B/ad/bC/tC7%2BFGn6p8S38QWviS%2BZPDCaV4UbxolhFoNndJJM2z%2BxWtRd3BBMLGcrNAgJkEsY%2Bo/C/7GH7N/hDw1qvg7SPAd1Jpet6QdJ1aw1LxHqF7Fc6d5DwJYstxO/wDo0cckixQf6uHzXMaoXYmvN%2Bw9%2BzfcaYbGbwxrrXLahJey67/wnes/2vLLJbJauH1H7X9rkjaCKOMxNKY9saDb8owAdd8BPGt58SvgX4L%2BIuo63p2p3Gv%2BE9O1KfUtIikS0u3ntY5WlgWQB1iYsWUOAwUjIBzXy9/wWr1DUdL/AGHvH1npckX2vXptK0myj%2B0KGd5722Rl253fc39q%2BwPDnh3QvCHh6w8J%2BF9Jt7DTNLsorTTrC0jCRW0EaBI40UcKqqoUAdABXxd/wVx/4qLWPg78KU%2Bb/hJ/jv4eju4/71pCryzH3xhDXnZw2sprpbyi4/8AgTjD/wBuPE4kbWRYiK3lHlXrNxh/7eYX7dvhJPFnj79nj9iPSnt3tde8aRapq8CXMZVtJ0W3E0kchDYRXJQDOMsmBkivrX%2Bx7v8A57Wv/gdF/wDFV8n/AAr/AOL1f8FTfiL8RG/e6Z8KPBGn%2BFdNbqn269Y3lw6/7aqDE3sQK%2Bpq3ymPta2IxK2lPlX%2BGmuRf%2BTc7P1njdLK8ryfI46ewwyqzX/T3Fydd3840lh4%2BS08i1/Y93/z2tf/AAOi/wDiqP7Hu/8Anta/%2BB0X/wAVVWivZ1Pz009Y0q6k1e6kWW2Aa5cjdeRA/ePUFsiq39j3f/Pa1/8AA6L/AOKo1z/kNXn/AF9Sf%2BhGqtJXsgLX9j3f/Pa1/wDA6L/4qj%2Bx7v8A57Wv/gdF/wDFVVop6gaej6VdR6vayNLbELcoTtvIifvDsGyarf2Pd/8APa1/8Dov/iqND/5DVn/19R/%2BhCqtLW4Fr%2Bx7v/nta/8AgdF/8VR/Y93/AM9rX/wOi/8Aiqq0U9QLX9j3f/Pa1/8AA6L/AOKqzpWlXUdyzNLbf8e0w4vIj1iYdmrMq1o//H2//XrP/wCinpO9gD%2Bx7v8A57Wv/gdF/wDFUf2Pd/8APa1/8Dov/iqq0U9QLX9j3f8Az2tf/A6L/wCKo/se7/57Wv8A4HRf/FVVoo1A07HSrpba8Uy23zWwAxeRH/lqh5%2Bbjp3qt/Y93/z2tf8AwOi/%2BKo0/wD49L7/AK9R/wCjY6q0le7Atf2Pd/8APa1/8Dov/iqP7Hu/%2Be1r/wCB0X/xVVaKeoFr%2Bx7v/nta/wDgdF/8VVmLSroaRPH5ttk3MRH%2BmRY4WTvux3/zisyrUP8AyBbj/r6h/wDQZaTuAf2Pd/8APa1/8Dov/iqP7Hu/%2Be1r/wCB0X/xVVaKeoFr%2Bx7v/nta/wDgdF/8VR/Y93/z2tf/AAOi/wDiqq0UagaculXR0iCPzbbIuZSf9Mixysffdjt/nNVv7Hu/%2Be1r/wCB0X/xVE3/ACBbf/r6m/8AQYqq0lcC1/Y93/z2tf8AwOi/%2BKo/se7/AOe1r/4HRf8AxVVaKeoFr%2Bx7v/nta/8AgdF/8VVm%2B0q6a2s1Ett8tsQc3kQ/5auePm569qzKtah/x6WP/Xqf/RslJ3ugD%2Bx7v/nta/8AgdF/8VR/Y93/AM9rX/wOi/8Aiqq0U9QLX9j3f/Pa1/8AA6L/AOKrtfCUL2/h%2B3hkKEjfko4YffbuCQa4Cu88Gf8AItW3/A//AENqxrX5So7mpRRRXMUFFFFABRRRQAUUUUAFFFFABRRRQAUUUUAFFFFABRRRQAUUUUAMubm2sraS8vLhIYYULyyyuFVFAyWJPAAHOa4L4c/tS/An4q%2BHNX8W%2BEfHDLp2g6bFqWq3Os6Vd6YIbCWN5Yr4C8iiL2siRSslwoMTiJ9rnY2N/wCLngq4%2BJXwo8T/AA5tNRFnLr/h6902K7IJ8hp4HiD8c8Fs/hXy7P8As8/tCfGb4c/E7wv4q%2BE114LvfGn7PVj8O9PF1rGnzwx6ha2%2BrGS6dreeU/ZHk1KOOH5DKRHMZIogyggH0x8I/jX8O/jloVz4h%2BHWo380FndLb3cWq6DeabcRSNDHMu6C8iilCtFLG6vt2srgqSK%2BZf8AgrLCvgfxJ%2Bz5%2B0XH8p8J/Gaz0y/n6eTYanC8Fw5Pp%2B7jGO%2Ba9j/ZI8M/F3w%2BfF9z4/0PxXouh32s28vhTw/448VR6zqdkos4Vuma5jubkCF7gO0cXnNs%2BYhY1ZY14L/gsf4GuPHn/BO34hWlhEftmlWUOtWc653wPYyrds6477IXH0Y15ucQlPLKrjvFcy9YNTX/AKT%2BJ43ENOU8lruK96MedesGpr/0j8Ty74Y/8Sf/AIK1fFDTen9s/CnRb/H97yZ2gz%2BuK%2BoK%2BPviJ8R9O0P9rP8AZr/bZ03TLWHR/il4XHg7xCyPIEf7dAl7py539TcFu/Ra%2By/7QtP%2BgHa/99y//F1vktRP29NdKkpL/DUUakX8039zP1TjmUMfg8mzak706%2BCoxT/vYd1KFReqtTf%2BGcSrRVr%2B0LT/AKAdr/33L/8AF0f2haf9AO1/77l/%2BLr2rvsfABN/yBbf/r6m/wDQYqq1py31qNIgf%2Bx7Yg3MoC7pcD5Y%2Bfv5/wD1VW/tC0/6Adr/AN9y/wDxdJN9gKtFWv7QtP8AoB2v/fcv/wAXR/aFp/0A7X/vuX/4und9gKtWtQ/49LH/AK9T/wCjZKP7QtP%2BgHa/99y//F1Zvr61W2sydHtjm2JALS/L%2B9fgfP8Ajz60m3daAZlFWv7QtP8AoB2v/fcv/wAXR/aFp/0A7X/vuX/4und9gKtFWv7QtP8AoB2v/fcv/wAXR/aFp/0A7X/vuX/4ui77AGsf8faf9esH/opKq1p6rfWq3KhtHtm/0aE5Zpf%2BeS8cP26VW/tC0/6Adr/33L/8XSTdtgKtFWv7QtP%2BgHa/99y//F0f2haf9AO1/wC%2B5f8A4und9gKtWtc/5DV5/wBfUn/oRo/tC0/6Adr/AN9y/wDxdWdYvrVNXukbR7ZiLlwWZpcn5jycPild32AzKKtf2haf9AO1/wC%2B5f8A4uj%2B0LT/AKAdr/33L/8AF07vsBVq1of/ACGrP/r6j/8AQhR/aFp/0A7X/vuX/wCLqzo99avq9qi6PbKTcoAytLkfMOeXxSbdnoBmUVa/tC0/6Adr/wB9y/8AxdH9oWn/AEA7X/vuX/4und9gKtFWv7QtP%2BgHa/8Afcv/AMXR/aFp/wBAO1/77l/%2BLou%2BwBo//H2//XrP/wCinqrWnpV9atcsF0e2X/RpjkNL/wA8m45fv0qt/aFp/wBAO1/77l/%2BLpXd9gKtFWv7QtP%2BgHa/99y//F0f2haf9AO1/wC%2B5f8A4und9gKtWtP/AOPS%2B/69R/6Njo/tC0/6Adr/AN9y/wDxdWbG%2BtWtrwjR7YYtgSA0vzfvU4Pz/jx6Um3bYDMoq1/aFp/0A7X/AL7l/wDi6P7QtP8AoB2v/fcv/wAXTu%2BwFWuo%2BG3/AC%2B/9s//AGasH%2B0LT/oB2v8A33L/APF10fgC4in%2B1%2BVYxQ48vPlFzn73XcxrOq3yMa3OjooorkLCiiigAooooAK%2BHv267iHxF/wUp/Z28FTuPsulP4j8Q6nnpGsGmxrA/wD38LV9w1%2Bdn7ZniXH/AAUi%2BIXizzP9H%2BG/7Kep3%2B/P%2Bqu5pXb8MwrXk5xUUMLBPrOH3Rbm/wAKZ52Owk8yxGDy%2BG9fEYemv%2B3qsf8AJHR/8ElbK48Qfsy6j%2B0FrEZGqfFXx1rPie/38tHvu3gjjz/dVYMgdAHr6grxT/gnD4a/4RT9hH4U6X5e3zfBlneYx/z8J9oz/wCRc17XXpZJTdLJ8PF78kW/WS5m/m5N/M/Q/EnGRx3iDmtWHwLEVYxXRQpzdKEV5RhRhFeUQooor1D4kta5/wAhq8/6%2BpP/AEI1Vq1rn/IavP8Ar6k/9CNVaS2QBRRRTAtaH/yGrP8A6%2Bo//QhVWrWh/wDIas/%2BvqP/ANCFVaXUAooopgFWtH/4%2B3/69Z//AEU9VataP/x9v/16z/8Aop6T2Aq0UUUwCiiigC1p/wDx6X3/AF6j/wBGx1Vq1p//AB6X3/XqP/RsdVaS3YBRRRTAKtQ/8gW4/wCvqH/0GWqtWof%2BQLcf9fUP/oMtJgVaKKKYBRRRQBam/wCQLb/9fU3/AKDFVWrU3/IFt/8Ar6m/9BiqrSQBRRRTAKtah/x6WP8A16n/ANGyVVq1qH/HpY/9ep/9GyUnugKtFFFMArvPBn/ItW3/AAP/ANDauDrvPBn/ACLVt/wP/wBDasa/wDjualFFFcpYUUUUAFFFFABRRRQAUUUUAFFFFABRRRQAUUUUAFFFFABRRRQAUUUUAFcX8f8Awlp/j/4War4E1YA2ut2c9hcgjP7uaCSNuPoxrtKwfiH/AMgWL/r6X/0FqcYxm%2BWWz0%2B%2B5FSMZwcZK6as/np%2Bp%2BYPhbw74k%2BOH/BEaGwtC8fjD4Vie4smT5pLS90S%2BkdQvfd9lTaB/t19yfBH4n6V8a/g74X%2BLui7RbeJNBtdRjRTnyzLErtGfdWJU%2BhU18/fsFWVn4U%2BNn7Sn7NupWyPbad8TTr0dnKuV%2By6zaiYIAf4MRkY6fN71P8A8Es7278EfDjxv%2BydrVw7Xvwi8f6ho9oJWy8mmTSNc2cxzzh1kkx7IK%2BfyaUsPWw/N9um6T/x0JSS%2Bbhf7j6nhWUs68GHhpO9XLK8Zefsq18NU%2BUa%2BHoyfZ1PPX6iooor68%2BVLU3/ACBbf/r6m/8AQYqq1am/5Atv/wBfU3/oMVVaSAKKKKYBVrUP%2BPSx/wCvU/8Ao2SqtWtQ/wCPSx/69T/6NkpPdAVaKKKYBRRRQBa1j/j7T/r1g/8ARSVVq1rH/H2n/XrB/wCikqrSWwBRRRTAKta5/wAhq8/6%2BpP/AEI1Vq1rn/IavP8Ar6k/9CNLqBVooopgFWtD/wCQ1Z/9fUf/AKEKq1a0P/kNWf8A19R/%2BhCk9mBVooopgFFFFAFrR/8Aj7f/AK9Z/wD0U9VataP/AMfb/wDXrP8A%2BinqrS6gFFFFMAq1p/8Ax6X3/XqP/RsdVataf/x6X3/XqP8A0bHSewFWiiimAV1Hw2/5ff8Atn/7NXL11Hw2/wCX3/tn/wCzVnV/hsa3OoooorjLCiiquu63pPhnRLzxJr1/Ha2On2slze3MpwsMUalnc%2BwUEn6UAWqK8Z8Nftv/AA01b4eeL/iP4q8FeK/C1v4L8FQeL9TsNfsLc3U2hzw3MsF7EltPMCJBZ3KiJykytCQ8aZXNU/tz%2BGN03hyL4H%2BPJfGUPiJtHbwBbx6XJqRlXTU1NphKl%2BbLyhayxuW%2B053SJHt8x1RgD3Cvyq/bC8TrN8Rf27vih5n7jTvCXhzwnYS56ebZCO4T/v7KOPev1L0TVY9d0W01uGzurdLy1jnS3vrZoZog6hgskbAMjjOCpGQQQelfkZ%2B0Fp1/rX7NP7S8eo5F18Qf2uJvDsBB5kt7bVLWOMD/AL8SD8K%2Ba4llJUIpdFVl81SlFfjUR7nA2FhmHivw1hp/B9chOX%2BGkud/ck38j9AvgR4a/wCEM%2BB/g3wf5ez%2ByfCmnWe3HTyraNMf%2BO11dIqqihEUAAYAA4Apa%2BypQVKnGC2SS%2B5JfoeRjMTPG4yriZ/FUlKT9ZSlJ/jJhRRRVnMWtc/5DV5/19Sf%2BhGqtWtc/wCQ1ef9fUn/AKEaq0lsgCiiimBa0P8A5DVn/wBfUf8A6EKq1a0P/kNWf/X1H/6EKq0uoBRRRTAKtaP/AMfb/wDXrP8A%2BinqrVrR/wDj7f8A69Z//RT0nsBVooopgFFFFAFrT/8Aj0vv%2BvUf%2BjY6q1a0/wD49L7/AK9R/wCjY6q0luwCiiimAVah/wCQLcf9fUP/AKDLVWrUP/IFuP8Ar6h/9BlpMCrRRRTAKKKKALU3/IFt/wDr6m/9BiqrVqb/AJAtv/19Tf8AoMVVaSAKKKKYBVrUP%2BPSx/69T/6NkqrVrUP%2BPSx/69T/AOjZKT3QFWiiimAV3ngz/kWrb/gf/obVwdd54M/5Fq2/4H/6G1Y1/gHHc1KKKK5SwooooAKKKKACiiigAooooAKKKKACiiigAooooAKKKKACiiigAooooAKwfiH/AMgWL/r6X/0Fq3qwfiH/AMgWL/r6X/0Fqun8aE9j4f8AiTfyfsu/8FLtB%2BLeuIqeEfjZoEHhW9v%2Bi2evWrFrPzD0xNEfKTvu3HgLVf4/315%2BxH%2B2fZ/teTjPw6%2BKENl4c%2BJk2zjSL%2BIFLDUnI/5ZbT5Tk8KMnksor2n9sH9nTSv2p/2e/EHwevLgWt9d24uNA1IEhrDUoT5ltOrDlcSABsclGYd64T9l/wAe6D%2B3r%2BxzffD/AOPegB9agjufCnxM0SYBZbfU7f8AdyvgfcZiEmQj7jMMHKV4eIwlSGLnhoO0pN1qLeymvji/J3u1/LOX8p18B5/huEeKq2Ex8HUwWMjONSK3lTqOPtlBvRVKU408TRf80bP3XI%2Bh0dJEEkbBlYZVgcgilr5Z/YT%2BMniH4VeJ9R/4J8ftEeIgfGPgoY8E6renZ/wlOgYJt5oieHliQbHQEkBP4ikhH1NXu4DG08fhlVirPaUXvGS0lF%2Baf3qzWjR6nFPDmK4XzieCqyU4NKdKok%2BStSmuanVhfeM4tO28ZKcJWlCSLU3/ACBbf/r6m/8AQYqq1am/5Atv/wBfU3/oMVVa60fOhRRRTAKtah/x6WP/AF6n/wBGyVVq1qH/AB6WP/Xqf/RslJ7oCrRRRTAKKKKALWsf8faf9esH/opKq1a1j/j7T/r1g/8ARSVVpLYAooopgFWtc/5DV5/19Sf%2BhGqtWtc/5DV5/wBfUn/oRpdQKtFFFMAq1of/ACGrP/r6j/8AQhVWrWh/8hqz/wCvqP8A9CFJ7MCrRRRTAKKKKALWj/8AH2//AF6z/wDop6q1a0f/AI%2B3/wCvWf8A9FPVWl1AKKKKYBVrT/8Aj0vv%2BvUf%2BjY6q1a0/wD49L7/AK9R/wCjY6T2Aq0UUUwCuo%2BG3/L7/wBs/wD2auXrqPht/wAvv/bP/wBmrOr/AA2NbnUUUUVxlhWL8SfBNh8TPh1r/wAONUuZIbXxBot1ptzNEPmjjnhaJmHuA5IraooA%2BXbH9lX9p/xH4R8b2njPxH4T0XXvE/wesfAenap4b1q8lWz%2BxRagU1HDW0Thp5r9t0KsDAkClJpWclePj/4Jua9Aw8UW/wAB/hDHa2/iK6uNM%2BDkeq3K%2BF7S1udKtrOaRJl04EXDXFrHc4FmEzkgiU%2BfX2lRQBy/wQ8D%2BIPhj8F/CHw18WeL5/EOq%2BHvC%2Bn6Zqev3O7zNTuILaOKS5fcSd0jIXOSTluSa%2BI/2%2B/hN4c%2BGHiD4PfBjwlLLPF4u/ast/FeqtexxvJK89xdahcplUGY1acIoOcIi5LHJP6CV8R/t1f8VJ/wUl/Zr8Dr80cOoeI9Zuh/c%2Bz6XF5Tfi7EV5WcU4VMHZrVyhFf9vVKaf3pH3nhnTpx4zpYxrXD0cXVT7cmDxL/ADcfnY%2Blv7Yu/wDnja/%2BAMX/AMTR/bF3/wA8bX/wBi/%2BJqrRX0lkfn5a/ti7/wCeNr/4Axf/ABNH9sXf/PG1/wDAGL/4mqtFFkBp6xqt1Hq91GsVsQty4G6ziJ%2B8epK5NVv7Yu/%2BeNr/AOAMX/xNGuf8hq8/6%2BpP/QjVWkkrIC1/bF3/AM8bX/wBi/8AiaP7Yu/%2BeNr/AOAMX/xNVaKdkBp6Pqt1Jq9rG0VsA1ygO2ziB%2B8O4XIqt/bF3/zxtf8AwBi/%2BJo0P/kNWf8A19R/%2BhCqtKyuBa/ti7/542v/AIAxf/E0f2xd/wDPG1/8AYv/AImqtFOyAtf2xd/88bX/AMAYv/ias6Vqt1JcsrRW3/HtMeLOIdImPZazKtaP/wAfb/8AXrP/AOinpNKwB/bF3/zxtf8AwBi/%2BJo/ti7/AOeNr/4Axf8AxNVaKdkBa/ti7/542v8A4Axf/E0f2xd/88bX/wAAYv8A4mqtFFkBp2Oq3TW14xitvltgRiziH/LVBz8vPXvVb%2B2Lv/nja/8AgDF/8TRp/wDx6X3/AF6j/wBGx1VpJK7Atf2xd/8APG1/8AYv/iaP7Yu/%2BeNr/wCAMX/xNVaKdkBa/ti7/wCeNr/4Axf/ABNWYtVujpE8nlW2RcxAf6HFjlZO23Hb/OazKtQ/8gW4/wCvqH/0GWk0gD%2B2Lv8A542v/gDF/wDE0f2xd/8APG1/8AYv/iaq0U7IC1/bF3/zxtf/AABi/wDiaP7Yu/8Anja/%2BAMX/wATVWiiyA05dVuhpEEnlW2Tcyg/6HFjhY%2B23Hf/ADiq39sXf/PG1/8AAGL/AOJom/5Atv8A9fU3/oMVVaSSAtf2xd/88bX/AMAYv/iaP7Yu/wDnja/%2BAMX/AMTVWinZAWv7Yu/%2BeNr/AOAMX/xNWb7VbpbazYRW3zWxJzZxH/lq44%2BXjp2rMq1qH/HpY/8AXqf/AEbJSaV0Af2xd/8APG1/8AYv/iaP7Yu/%2BeNr/wCAMX/xNVaKdkBa/ti7/wCeNr/4Axf/ABNdr4Sme48P280gQE78hECj77dgABXAV3ngz/kWrb/gf/obVjWSUSo7mpRRRXMUFFFFABRRRQAUUUUAFFFFABRRRQAUUUUAFFFFABRRRQAUUUUAc18Zh4zPwf8AFY%2BHJk/4SH/hGr7%2BwfK%2B/wDbfs7%2BRt9/M24r5K/ZN8b%2BDPBk3jGf9i7w5o2uRv8ABbwzLpXhfT9St7SPVvF8a6q13FK0kiKL8Qmw%2B2tIRMqmDzTuxX21RQB8v/8ABMmw8SaBb/GPwv4q8HeKdOv7b4rfaNSvfFdzp8lzf30%2Bh6TJcysLK7uI0ZpS02xW8tFuI0Q/KyJ9DeO1tW0iMXc0iL9pGDHGGOdrdiRW1WD8Q/8AkCxf9fS/%2BgtV0/jQnscv5Oi/9BC6/wDANf8A45XyR%2B0h4F%2BIX7GHxz1b9uX9n/R7zxH4S8RRQD4zeBrazVbgxwKVXV7IB8NLGhPmIcBhuYn5i8f1bQQCMEZB6g0sdgY42klzOMou8ZLeMu/mtbNPRptPo152YYGOPopczjOL5oSW8ZLr2as2pRekotp9GvFPip8HP2Yf%2BCjnwL0Tx34S8e3fmBRqPgXx7oNusd/ot2CCHjYSBlKuoWSFscpg7XVWXhvgt%2B21rnwS8UQfs1/8FFZj4Z8UJN9n8OfEOOxC6F4rhGNkonLKltcEY3xttUH%2B6WCVW8a/sk/Hr9lzx1q/xs/4J86rpz6drN2b7xR8GtbYRaZqM2MPNYS8fYp2A%2B7xGTjJ2qqVteA/2uP2Sv20NGvf2evjx4Vt/D/ih2Fvrnwv%2BItssF2k%2BOPI8zAn67kkiO8DDYTivAlOrDFqUmqGJejv/CrW21017aqrC9rTifW8NeIODp5fHhvi6g54e7dNxkozpTfxTwlWd4uM9HUwtW0ZvW0aiVV/Un/Ekn0S2li1Kd4nnkaORLZTuysf/TTGMYwc85/ODydF/wCghdf%2BAa//AByvkpf2SP2wP2RNNS6/Ye%2BNVr4k8Gx3UrQfCX4ku8sVooVCY7HUAfMiHOFjfCDGWZiTVzw5/wAFRfhp4V1WDwV%2B1/8ADDxT8GvELv5W3xNpzz6XcSf9O9/ApjkTr85CLwea9KGcUqL5MdF0Zd5awfpUS5flLkfkfTVvDvHZjF4jhmtHMaW/LS93ExW/7zCyaqprq6X1ino2pWsfVPk6L/0ELr/wDX/45R5Oi/8AQQuv/ANf/jlc/wCC/Hvgb4kaFF4o%2BHvjLStd02YfutQ0fUI7mF/o8bFT%2Bda1exFxnFSi7p9VZn5/Wo1sPVlSrQcZRdmpJppro00mn5NJ%2BRa8nRf%2Bghdf%2BAa//HKs30WkG2s999cgC2O0i1U5Hmv1%2BfjnNZlWtQ/49LH/AK9T/wCjZKbWqMg8nRf%2Bghdf%2BAa//HKPJ0X/AKCF1/4Br/8AHKq0U7eYFrydF/6CF1/4Br/8co8nRf8AoIXX/gGv/wAcqrRRbzA09Vi0g3K%2BZfXIP2aHgWqnjylx/H6VW8nRf%2Bghdf8AgGv/AMco1j/j7T/r1g/9FJVWkloBa8nRf%2Bghdf8AgGv/AMco8nRf%2Bghdf%2BAa/wDxyqtFO3mBa8nRf%2Bghdf8AgGv/AMcqzrEWkHV7oy31yG%2B0vuC2qkA7j33jNZlWtc/5DV5/19Sf%2BhGlbUA8nRf%2Bghdf%2BAa//HKPJ0X/AKCF1/4Br/8AHKq0U7eYFrydF/6CF1/4Br/8cqzo8WkDV7UxX1yW%2B0ptDWqgE7h1O84rMq1of/Ias/8Ar6j/APQhSa0YB5Oi/wDQQuv/AADX/wCOUeTov/QQuv8AwDX/AOOVVop28wLXk6L/ANBC6/8AANf/AI5R5Oi/9BC6/wDANf8A45VWii3mBp6VFpAuW8u%2BuSfs03DWqjjymz/H6VW8nRf%2Bghdf%2BAa//HKNH/4%2B3/69Z/8A0U9VaVtQLXk6L/0ELr/wDX/45R5Oi/8AQQuv/ANf/jlVaKdvMC15Oi/9BC6/8A1/%2BOVZsYtIFtebL65INsNxNqowPNTp8/POKzKtaf8A8el9/wBeo/8ARsdJrQA8nRf%2Bghdf%2BAa//HKPJ0X/AKCF1/4Br/8AHKq0U7eYFrydF/6CF1/4Br/8cro/ACWSfa/sdxLJ/q93mwhMfe6YY5rkq6j4bf8AL7/2z/8AZqzqr3GNbnUUUUVyFhRRRQAUUUUAFfEXxk/4qf8A4LR%2BFtG%2B8PC/wQvdW9ka5vUtfzIFfbtfEfhn/ip/%2BCw/xk1z73/CL/DPw9o%2B7%2B59pzd7fxxmvNzD3qmGp/zVYf8AkvPL9Eff8BfuaWc4v/n3gMQvnVlh6K/9OSXzPoyivnr4i/8ABVb9gn4T%2BOtW%2BGnxA%2BPH2DW9DvpLPVLL/hF9Ul8idDhk3x2rI2D3Uke9Yv8Aw%2BY/4Js/9HH/APln6x/8h12Tz7I6c3GWKpprRrnjo18znoeF3iXiqEK1HJcXKE0pRksPVacWk001CzTTTTWjTT6n0/RXz18Ov%2BCq37BPxY8daT8NPh/8ePt%2Bt65fR2el2X/CL6pF587nCpvktVRcnuxA969B/a1%2BJnjX4N/s1%2BNPih8OtPsLrW9E0KW506LU52jgEgwN7FUcnaCWC7cMVCkqCWHZhcdgsdBzw1SM0tG4tOz3tofP55w1xHwzXhQzjB1cNOa5oxq05U3JXtdKaTavpdaX0PTtc/5DV5/19Sf%2BhGqtfPXjj9uL4h6HJ4huZ/gdpDX1n8QLzw1pmnW/inULuXUZ7WGaa7mSKy0me48pNkaqVhbO52k8lUBfnPCH/BQPxZ8QtStk%2BFPwfOsSeI7WDUNItvEPiuOwhtLdvDem6xtLQ2MrrkXpjwfOPmDO5UbbHupKyPFsz6oorzG6%2BP2p3X7K2qftN6P4VhW1/wCFfnxPoFjJdtJLPGdNF4scyhFEbbyY8KzggBtwLbVwf2efGPxat/iD4l%2BE/jj4jy%2BMrix8AeHPEtjq2oWFpasLjUX1SGW2AtIY08gPpquhZWkAmYM77VNVdCPdtD/5DVn/ANfUf/oQqrXyT8Fvj98bdRGo%2BFfjH8c/Efgu40rwXoPiTxf4m8TeBrOym8PXTXVxHqdjYrJbrDND%2B5RIJ3ju1%2B/tkuSRsyfFX7Qn7Xvw38Had8QPiLL4utLSy8P2uoaPb23gq3lGvu2tXaSQay62zDTZ/wCyhpr7Ua1H2i5uFUOY1hE8yuOx9mUV8UfED9qr9pv4daxqvhnW9c8SQa/q9trnkaXf%2BD4IbXTZYdf0%2Bz06LR7hrdUvXubW%2BCK80lxELiW3MpgUvEffv2QPH/xA8deB/EFt8Tb/AFOTVtB8Y3ulvbeILeyj1S0iRYpYo73%2BzwLNpjHKsga3zGYpYuS%2B%2BmpJuwWPWataP/x9v/16z/8Aop6q1a0f/j7f/r1n/wDRT03sIq0UUUwCiiigC1p//Hpff9eo/wDRsdVataf/AMel9/16j/0bHVWkt2AUUUUwCrUP/IFuP%2BvqH/0GWqtWof8AkC3H/X1D/wCgy0mBVooopgFFFFAFqb/kC2//AF9Tf%2BgxVVq1N/yBbf8A6%2Bpv/QYqq0kAUUUUwCrWof8AHpY/9ep/9GyVVq1qH/HpY/8AXqf/AEbJSe6Aq0UUUwCu88Gf8i1bf8D/APQ2rg67zwZ/yLVt/wAD/wDQ2rGv8A47mpRRRXKWFFFFABRRRQAUUUUAFFFFABRRRQAUUUUAFFFFABRRRQAUUUUAFFFFABWD8Q/%2BQLF/19L/AOgtW9WD8Q/%2BQLF/19L/AOgtV0/jQnscbRRRXaQFcB8eP2Wf2fP2mtE/sL44/CrSdfRIylvd3EGy6tgf%2BeVwhWWL/gLDPfNd/RWVajRxFN06sVKL3TSafydzKvQoYmk6VaKlF7ppNP5NNHy2P2Mf2y/2fdJif9j/APbPuL/RIriUWfgT4t2B1O0iAWM7Evo8XEUYyAEUcADknmqOuftZ/tS%2BDdHn8L/tf/8ABODWdd0p12XuqfDee38QWd2ndjZORIie0hJxzX15N/yBbf8A6%2Bpv/QYqq15X9jqkmsLWnTX8t1OH/gNTmsvJSS8jy6eUVMFNTy/EVKLWqSlzRTW1ozu426cs426WPziFx/wRi8f%2BKZdU8D/E/wAQfAnxkzYuH0e7v/DFzat1AKSIbRMHsor1jwR4M/bTs7Zbr9lf/gpZ4E%2BKWnKu600zxxpdvdfL/t3unu00mfUgV9W%2BMfh54A%2BIlj/ZfxA8DaPrttgj7NrGmRXUeD/syKwrxTxr/wAErf2APHU7Xmofs16Np85bck3h%2Be40wxt2Ki1kjUflj2ry5ZFjaMnKjGnfvB1KDfqoudN/%2BAH3tHxM8U6VKNHHV8PmNOKso4ukqrSXRSqRqzj/ANu1l5WOfH7Sn/BST4cfu/in%2BwNpfim3j/12r/Drx1Dg%2B6WlyPObPpmrN3/wVd%2BE3h23tYfjZ%2Bz38Y/h60EBWe48T/D6f7P/AKxyWSSAyb05xuA7Hiq//DrXwj4c%2Bb4R/tb/ABy8HBf9VaaT8QXktV9jFNG24exap7z9jv8Ab48K29o3gD/gqDrMsXkEx2nir4c6fqGV8xxtMpYN1GcgZ5qbcS4d%2B7zv1dGp%2BP7mX6l/69ZHif8AkZ8KRT6ywmLnS%2BahUdaHysl5HR%2BDf%2BCnn7AnjoIdF/ak8MQb%2Bg1meTTsfX7WkePxr1Pwp8aPg748CnwN8WPDWs7/ALn9k67b3O76eW5zXyz4x/ZY/wCCiWv7/wDhJ7r9mj4h5zuPjr4dzoZf97yVbk15b4r/AGAvjnqe/wD4S7/gmZ%2Bz9rZP3/8AhC/F2oaLu/3fmTbT/tfP6Px4fm/7cqR/9JlVQv7a8KMR/Ew2a4V/9e8LiYr5xnRm/uR%2BjtFfl7/wx78cfB3Hh7/gnH8TfCyJ9y4%2BH/7TkJ2/7scwdh%2BJpf7G/bE8G/8AIL0v9tLTtnRJfEVh4iVPYAqm4e1H%2BtGIp/xcJL5c3/t1JB/xqyt/Dz2rS8q%2BW4yP3ulKtH8GfqXrH/H2n/XrB/6KSqtfmFeftI/8FAfCsq7fir%2B0xaKkSDyvFP7LGnXCEBBj98l1uIx3A5GDUf8Aw8j/AG4fDH/H58S7Wbb1/wCEt%2BBeq2f/AH19kLY/CkuMsBBfvKVSPyT/AFQf2ZwVV/gcTYF/4/rlB/P2uBSX3v1P1Bor8vx/wWn/AGjfDi58WeIPgnOF6iPw34ttHP18y2YA/pV%2Bw/4L1eN4MfavhZ8PdW9fsHjO7st30%2B1Wgx%2BNUuN%2BHr2lOS9Y/wCUmOPDuW1XbD55llT0zDDx/wDTsaP42P0xq1rn/IavP%2BvqT/0I1%2BcWlf8ABfHzQDrX7Lulwju1r8X9Ml/Ro0robj/gvz8HJL6e8134FavbiSZnK2Pi7SLrGST2nXNbx4x4bk7/AFhL1Ul%2BhouDsxqO1HE4Op/gzDAS/LFo%2B8qK%2BFbD/g4E/Y/mmFrf/DP4jQydzBpunzoPxS9z%2BldHpn/Bcr9ivUADNpXj21B7z%2BFd2P8Av3K1bw4q4bntiofe/wD5E0lwHxXFXVCMv8NfCS/9JxsvyPserWh/8hqz/wCvqP8A9CFfJFp/wWj/AGCZwDfeO/EFkO5uvB99x/3xE1bXh3/gsn/wTel1a2kl/aOSDy7hGkFx4W1VNoDAnra4rf8A1hyGS0xVP/wNL87ErgLjWXwZfVl/hip/%2BkVJn0nRXz3Y/wDBVf8A4J76hjyP2ntEXP8Az3tbqL/0OIVr2X/BSL9g%2B/x5H7Vfg1c/89tWWP8A9DxW8c5yifw4mn/4HH/5Il8CccR/5leJ/wDBFV/lTke20V5PZ/t4fsT32PI/a2%2BHAz/z28Z2Uf8A6HIK1bP9rr9lDUP%2BPD9p74eT56eT41sG/lLW8cwy%2BXw1oP8A7fh/8kcdXhPiuj/Ey7ER9aFdfnRPTdH/AOPt/wDr1n/9FPVWuY8PftD/AAAvbpjZ/HPwdLm2mA8rxNaNn903pJVm1%2BKnwwvv%2BPL4j6DNnp5WsQN/Jq0jiMPJ6Ti/mv8AM4KmU5tR/iYapH1p1F%2BcEb1FUrXxJ4dvcfYtfsps9PKukb%2BRq4rK43IwIPQg1smnszinTqU3aaa9U1%2BaQtWtP/49L7/r1H/o2OqtWtP/AOPS%2B/69R/6NjoexBVooopgFdR8Nv%2BX3/tn/AOzVy9dR8Nv%2BX3/tn/7NWdX%2BGxrc6iiiiuMsKKK5r4zeHfEfjD4P%2BK/CXg68%2Bz6vqnhq%2BtNKuPM2eVcy27pE27%2BHDspz2xQAeD/jP8HviHomo%2BJvAHxY8Na5pujyvFq%2BoaPrtvdQWLou91mkjcrEVX5iGIIHJ4qHQ/jt8EPE/wAPtQ%2BLXhv4yeFNQ8KaTHNJqviax8RW0un2aQpvlaW5RzHGEQhmLMNo5OBXyOnhvxb46%2BFPxVsvBv7PPie2h1n9mTR/Bun%2BFtd8J3%2Bni%2B1ayttZNxZAMsXyxR3tvEkyyJHOzlIZW8ssvK/Eb4E/tPfFL4J/FvT/AAPoOq%2BOvDWr6lc6nqV98T7K78N%2BIfFctv4dtIbOJbGDSVEscF1FlYxbWvnSWsKlpAZZJQD9CrW6tr22jvbK4SaGZA8UsThldSMhgRwQRzmviL9lCX/hJ/25v2qfiN977R450fRRJ/2D9O8nb%2BG%2Bvr74Qx%2BJIfhT4ah8YaPBp%2BqpoNouo2NtcvNHbzCFQ6K7xxMwByMsiH1UV8o/8E99HtdP1X4/a/q1tcSz6t%2B0r4ueOVZwv7mK4SBFwUPQxN%2BdefXi55phF0TqS%2B6nZf8ApR95w1Uhh%2BDM/q396VPC016TxfNL8KKPoCivA/iL/wAFDdF%2BHfjvVvA3/DCH7SGu/wBk30lt/bHhzwAt1YXmw482CXzF8yM9Q2Bkdqxf%2BHn%2Bi/8ASOX9qr/w2S//AB2uqeeZVCbjKpqtPhn/APK3%2BZ%2BTzz/J6c3CVXVaP3anT0pP82fS1ZHxA8B%2BFPij4I1b4c%2BOtLN9o2uWEtlqdoLiSIywyKVZRJGyuhweGRgynBBBANeNfDr/AIKG6L8RPHek%2BBv%2BGEP2kNC/ta%2Bjtv7Y8R%2BAFtbCz3nHmzy%2BY3lxjqWwcDtXqX7Q/wAQNU%2BF3wV8Q/EzwT4cN7eeHbIanPZXUhl%2B0WcDrLdxxqgU%2Bc1skyxHJAlKEq4BU9eFx2FxsHKi%2BZLR6Nf%2BlRj%2BTO3B47CY%2BDlh5cyTs9JLX/t6MfyfqZXib9kj4C3s50m58Kagy2XiO81SK4HifURcvdXCGK4aWcXHmzJKnyyRyM0cn8Sseao/Dr9jr9nT4UPZSeBPAEtm2nQGGyaXXL64MMRsYLDYPOmf5Ra20ESr0VYxtwck%2BKfHX/gol8S/DUOv/EX4c%2BGNG1bQtMvdY1YRpYiQz6DaahHp8Vw9zLf26R/abiG%2BeKSGO5Zo5LfFu20vLk%2BBv2pfito3j%2B%2B%2BG2g3sNxqOtePdY0vS9b8U3t5fQacj%2BNfEFsge3W4iSSOO1so4IkQxNuMSeZ5arGN1KNlodtmfV3gz4XeCPAHg6H4feGdJkTRLfTYNPg0y8vp7qGK1ht0to4VWd32p5UaggfeO5m3MzMcf4a/s5/CT4Q2zW3w/wBF1GzDzW7vLN4jv7mV0giaKC3aSed3NtGjsEtifJTcSqA81y/7Cfivxh40%2BCR8T/EDxQutSSeMPFkDzQzyOS8PibVIk8qaV3/0ZYUiiii25RI1AcrhV4H9lDxvruofFLwHq2q%2BMfEmqXXjzwT4s1TxrpeoeJZrm3s7%2By1jT4YVggk3R2Ig%2B03Vr5cSoH2guGaLNPmWmgj0/Rf2Hv2a/wCz4/BkXg/VorG41XSrjdb%2BM9WjuIPsExksYYbhboTQQW8js8VvG6wxsxZUB5q1dfsp/BPUb7RtT1nRta1G40IxfZJtV8Y6pdNcCK6N3CLvzrlvtyxTkyRLc%2BaIm/1YWvCNG8aeJPDn7QP/AAjHxN%2BJHivSdJ8Tal4zi8Q%2BNLP4lwy6fHp0WqRJYPYwK8n9mTWaSwWM7%2BVbss0jZaVyJUwfDGueJtT%2BJet/AT4rfErxf4c0rw%2B3jG/uU0n4n6hP/Zl1a6d4ansYE1iTy7q%2BiW31S9vGjnCASM0ZjMVshaeZX2Cx9ITfsh/s93Nzrt3eeBZp28QrOL0XGuXsi2/nXa3kps1aYiwL3SJcMbUREyxxyH50Vh1Xw3%2BF/gr4TaFL4e8D6bcQwXN7JeXk97qVxe3N1cSY3zTXFy8k0zkBV3O7EKqqMBQB4D8HNZ8YfFT4kfDbxfpfivxtP4jGi6VrfxahuPEUkeh6PbXGg7Ro8dkqrAbqa7kjvOUeeJNzPKkb28T/AFR52i/9A%2B6/8DF/%2BN1aafQCrVrR/wDj7f8A69Z//RT0edov/QPuv/Axf/jdWdKl0g3LeXY3IP2ablrpTx5TZ/g9KG9BGZRVrztF/wCgfdf%2BBi//ABujztF/6B91/wCBi/8AxunfyAq0Va87Rf8AoH3X/gYv/wAbo87Rf%2Bgfdf8AgYv/AMbov5AGn/8AHpff9eo/9Gx1VrTsZdINtebLG5AFsNwN0pyPNTp8nHOKredov/QPuv8AwMX/AON0k9WBVoq152i/9A%2B6/wDAxf8A43R52i/9A%2B6/8DF/%2BN07%2BQFWrUP/ACBbj/r6h/8AQZaPO0X/AKB91/4GL/8AG6sxS6R/ZE5Fjc7ftMWR9qXJO2THOz60mwMyirXnaL/0D7r/AMDF/wDjdHnaL/0D7r/wMX/43Tv5AVaKtedov/QPuv8AwMX/AON0edov/QPuv/Axf/jdF/IAm/5Atv8A9fU3/oMVVa05ZdI/siAmxudv2mXA%2B1LkHbHnnZ9Kredov/QPuv8AwMX/AON0kwKtFWvO0X/oH3X/AIGL/wDG6PO0X/oH3X/gYv8A8bp38gKtWtQ/49LH/r1P/o2SjztF/wCgfdf%2BBi//ABurN9LpAtrPfY3JBtjtAulGB5r9fk55zSb1QGZRVrztF/6B91/4GL/8bo87Rf8AoH3X/gYv/wAbp38gKtd54M/5Fq2/4H/6G1cb52i/9A%2B6/wDAxf8A43Xa%2BEjA3h%2B3NvG6J8%2B1XcMR87dwB/Ksaz90qO5o0UUVzFBRRRQAUUUUAFFFFABRRRQAUUUUAFFFFABRRRQAUUUUAFFFFABRRRQAVg/EP/kCxf8AX0v/AKC1b1UPEWif29ZLZ/avK2yh92zdnAIx1HrVQaU02J7Hn1FdR/wrb/qNf%2BS3/wBlR/wrb/qNf%2BS3/wBlXV7Wn3Jszl6K6j/hW3/Ua/8AJb/7Kj/hW3/Ua/8AJb/7Kj2tPuFmYM3/ACBbf/r6m/8AQYqq11r%2BAN9lHZ/2t/q5Xfd5HXcFGPvf7P61F/wrb/qNf%2BS3/wBlSVWHcLM5eiuo/wCFbf8AUa/8lv8A7Kj/AIVt/wBRr/yW/wDsqftafcLM5erWof8AHpY/9ep/9GyVvf8ACtv%2Bo1/5Lf8A2VS3HgDz4oIv7Wx5MRTPkdfnZs/e4%2B9j8KTqwvuFmclRXUf8K2/6jX/kt/8AZUf8K2/6jX/kt/8AZU/a0%2B4WZy9FdR/wrb/qNf8Akt/9lR/wrb/qNf8Akt/9lR7Wn3CzMHWP%2BPtP%2BvWD/wBFJVWutvPAH2uUS/2ttxEiY8jP3UC5%2B97ZqL/hW3/Ua/8AJb/7KkqsLbhZnLkAjBFUL/wp4W1TP9p%2BGtPuc9fPs0fP5iu3/wCFbf8AUa/8lv8A7Kj/AIVt/wBRr/yW/wDsqHUpSVmJwUlZq55fe/BD4L6ln%2B0fhD4XuM9fP0C2fP5pVPxL%2Byl%2By5e6xdpefs2eAZVFzIAJfB1iwxuPrFXrn/Ctv%2Bo1/wCS3/2VS33gD7bezXn9rbfNlZ9vkZxk5x96sJUsDN%2B9CL/7dX/yJhLBYSfxUov1jF/%2B2ngN3%2Bw/%2BxffZNz%2ByT8NGJ6sPA1gD%2BYizWbdf8E8/wBhm7z5v7JvgIZ/55eG4E/9BUV9F/8ACtv%2Bo1/5Lf8A2VH/AArb/qNf%2BS3/ANlWUsFlUt6MP/AI/wDyJhLKcslvh6f/AIBD/wCQPmS5/wCCZ37BF3nzf2VvCQz/AM8rEp/6CwqCx/4JS/8ABPPUdVtoLr9lzQSklwiusc9ymQWGfuyivqL/AIVt/wBRr/yW/wDsqlsfAH2K9hvP7W3eVKr7fIxnBzj71ZSyvJZLXD0//AI//ImTyLJZb4Wn/wCAQ/8AkT5CuP8AgkX/AME6bn/WfszaeM/889a1BP8A0G4FU5/%2BCNv/AATcuPv/ALN0Y/3PFerL/K7r7E/4Vt/1Gv8AyW/%2Byo/4Vt/1Gv8AyW/%2ByrN5Nw%2B98NT/APAI/wCRk%2BHMglvhKX/guH%2BR8YTf8EWv%2BCcMudnwGuI/9zxdqn9bk1Um/wCCJH/BOuX7nwh1KP8A3PFd/wD1mNfbX/Ctv%2Bo1/wCS3/2VH/Ctv%2Bo1/wCS3/2VQ8i4cf8AzC0//AF/kXDIMmp/Bh4L0VvyaPiK0/4IZf8ABPG8uGjb4d64gEErDZ4puuqxsw6se4FZ8v8AwQr/AOCf8n3PCviWP/c8TS/1Br7ys/AH2SUy/wBrbsxOmPIx95Cufve%2Bai/4Vt/1Gv8AyW/%2ByqP9XuG29cLT/wDAUdEcswcPhhb0lNflUR8Fy/8ABB/9gmT7umeLU/3fEh/qhqBv%2BCDP7DKnNre%2BObc%2BsPiRB/OE199/8K2/6jX/AJLf/ZUf8K2/6jX/AJLf/ZVL4b4Yf/MLD/wH/gmywsY7Smv%2B4tZflXPgVf8AghP%2ByFCc2fxE%2BJ9v6eT4qhGP/Jarth/wQ7/ZsSC5ktPj38ZrcxQBl8jxnAvPmIOf9F96%2B7f%2BFbf9Rr/yW/8Asqlt/AHkRTxf2tnzogmfI6fOrZ%2B9z93H40v9XOG1tho/dL/5IHhYS3lP/wAG1v8A5efCMH/BGT4N2n/Hl%2B1V8eIMdPJ8ewrj/wAlKu2//BI3wTZ4%2BxftsftFw46eV8SY1/la19uf8K2/6jX/AJLf/ZUf8K2/6jX/AJLf/ZVosh4fjtRS%2Bc//AJYc88qwdT4lJ/8AcSr/APLj4wj/AOCW1vbDFj/wUC/aZh9NvxTH9LYV71%2Bw7%2By/ffs3t4p%2B1/tG/Ev4gDWvsWwfETxMdSNh5P2jP2fKr5e/zRv/AL3lp6V6r/wrb/qNf%2BS3/wBlWp4b8N/8I953%2Bm%2Bd523/AJZ7cYz7n1ranleV4eaqUYWktven%2BTm1%2BAsNk%2BX4WsqtOFpLrzTf/pVSS/BmpRRRXSeoFFFFABRRRQAV414X%2BEPhX4MXWvaF4TlupI9Y8Vanr97JeSKzm61C6kvJgNqqAivMVQYyEVQSxyx9lrB1rwT/AGvqcuo/2n5fmbfk8nOMKB13D0qqcaaqqclqr2fa9r/fY2jisTTw08PCTUJuLkuj5G3G/wDhcm15tnG0V1H/AArb/qNf%2BS3/ANlR/wAK2/6jX/kt/wDZV1e1p9zmszl6ZPBBdQPbXMKSRyIVkjkUFWUjBBB6gjtXV/8ACtv%2Bo1/5Lf8A2VH/AArb/qNf%2BS3/ANlR7Wn3CzPLfFf7N/7O%2Bqm18N6p8BfBdzp2gWdxpWhWFx4WtHh06wdfKe1gQx7YYWjAQxoApUAEY4qKf9n34C3Oi3Phq5%2BCPhCTTryPZd6e/hq1ME6/aXu9roY9rD7TJJPgj/Wuz/eJNeuX3gD7bezXn9rbfNlZ9vkZxk5x96ov%2BFbf9Rr/AMlv/sqSqU7BZnnvhP4cfDzwDCtv4F8B6LosaRvGiaTpcNsFR5pJ3UCNRgNNLLKR3eR2PLEmpZfBr4P6bqesa1p3wp8NW954hlSXxBdw6FbpLqbq%2B9WuGCZmIYlgXJIJz1r03/hW3/Ua/wDJb/7Kj/hW3/Ua/wDJb/7Kn7Wn3CzPO9B%2BC/wdj8X6lrsfwm8MrfeKSlv4nvBoNuJdXhOFMd0%2BzNwhUkbZCwxxWRJ%2Bzl%2Bz1L4Otfh3L8CPBjeH7G%2BN7ZaE3he0Nnb3JzmZIfL2JIdzfOAD8x55r2Cx8AfYr2G8/tbd5Uqvt8jGcHOPvVF/wrb/AKjX/kt/9lS9pTuFmeU/8KA%2BBH/CwX%2BLX/Ck/CP/AAlUlws8nib/AIRu1/tBpVjWJZDc%2BX5hYRqqBt2QqgdABXXV1H/Ctv8AqNf%2BS3/2VH/Ctv8AqNf%2BS3/2VP2tPuFmcvVrR/8Aj7f/AK9Z/wD0U9b3/Ctv%2Bo1/5Lf/AGVS2fgD7JKZf7W3ZidMeRj7yFc/e980nVhbcLM5Kiuo/wCFbf8AUa/8lv8A7Kj/AIVt/wBRr/yW/wDsqftafcLM5eiuo/4Vt/1Gv/Jb/wCyo/4Vt/1Gv/Jb/wCyo9rT7hZmDp//AB6X3/XqP/RsdVa6238AeRFPF/a2fOiCZ8jp86tn73P3cfjUX/Ctv%2Bo1/wCS3/2VJVYX3CzOXorqP%2BFbf9Rr/wAlv/sqP%2BFbf9Rr/wAlv/sqftafcLM5erUP/IFuP%2BvqH/0GWt7/AIVt/wBRr/yW/wDsqlTwBsspLP8Atb/WSo%2B7yOm0MMfe/wBr9KTqw7hZnJUV1H/Ctv8AqNf%2BS3/2VH/Ctv8AqNf%2BS3/2VP2tPuFmcvRXUf8ACtv%2Bo1/5Lf8A2VH/AArb/qNf%2BS3/ANlR7Wn3CzMGb/kC2/8A19Tf%2BgxVVrrX8Ab7KOz/ALW/1crvu8jruCjH3v8AZ/Wov%2BFbf9Rr/wAlv/sqSqw7hZnL0V1H/Ctv%2Bo1/5Lf/AGVH/Ctv%2Bo1/5Lf/AGVP2tPuFmcvVrUP%2BPSx/wCvU/8Ao2St7/hW3/Ua/wDJb/7KpbjwB58UEX9rY8mIpnyOvzs2fvcfex%2BFJ1YX3CzOSorqP%2BFbf9Rr/wAlv/sqP%2BFbf9Rr/wAlv/sqftafcLM5eu88Gf8AItW3/A//AENqy/8AhW3/AFGv/Jb/AOyre0XTf7I0yLTvO8zy93z7cZyxPTJ9azqzjKNkNJplqiiiucoKKKKACiiigAooooAKKKKACiiigAooooAKKKKACiiigAooooAKKKKACvnv4sftR/FTwd8Wddj8N2Ph4%2BD/AAX4n8J6D4jtL6wnfUb%2BfWru3gaa3nWdY7dLdLy2k2tDKZisqZj%2BVq%2BhK8t8d/smeA/H/wAUx8TtS8U%2BILWK4vtHvtb8NWVxbrp2sXelXH2jT7i4DwtMHhlEbfupY1k8iJZBIqAUAepUUUUAFFFFAHz/APDn9pX4h67%2B1V4i%2BEfxA8VaLomlW3iy50nwno0/w41WKfW0i0yC83RazJdfYpJgWuHMCRGTyrZzgBWcfQFeb3X7Nelap8YNP%2BLHiH4peL9Ut9G1yXWdC8J6hf28mmabqEllJZNPF%2B4FzjyZ7gLC87Qo07MsYIQr6RQAUUUUAcT%2B0h4y%2BI3w8%2BBHivx38J9P0W51/RtFnvbGPxDJKLNfKUu7yCH55NqBmEYKeYwCeZGGMi%2BK%2BHP2yfjJrmuQeLpNL8MR%2BEtM8aeFfCHiLThp1wdQuNQ1nTdMuhd29x9o8uKGOTWbJPJeKRmWOY%2BavyivevjH8NW%2BMPw01f4Zt451nw7DrVk9pd6noCWhulgkUrIi/a4J4huUlSTGSAcqVOCPMvAn7BngXwTrOk6ndfFzxtrdvp2o2Gp3ularNpy2ur6lY2621lfXK21lExlhgitY1ETRxt9it2kR3QuwB7nRRRQAV5Z%2B2J8WPir8EvgzJ8RvhPpOgXVzZaxYpqh8QtOY4rKW4SKQxRwlTLKS6qoZ0Vdxcl9gik9Trgf2jvgLB%2B0f8OZPhlqPxP8AEnhexuLqGa8n8MJYGa4EUiyJGxvbW4VVDojfIqsSoG7BIIB578DP2lfiH43%2BP/iD4bfEzxToukRQeJNb0/w14bf4carZ3Go21nNtSaLVp7o2l2/lYleKGLcFbdhVUmvoCvK/CP7LNtoXxC0j4ieL/jj478YzeH7i7u9DsPFF5Yvb2V7cwtDPdJ9ntIZCzJJOqxs5hiWd0ijjQIqeqUAFFFFAHjH7Znxe%2BOPwO8CTfEj4Wt4Qaz03TpnGk69Z3Vzf%2BI9VZ4ksdGskhliWGW5dnjE7GYq7R/uGXcRh/so/tR/FT4wa54Qk%2BJFj4eXTfid8Ll8eeDotEsJ4J9Ls/NtQbO7eWeVbmURajZnzo1hUssw8vG0123xl/ZpT4v8AxJ8M/FKD40%2BLvDOo%2BErW8i0eHQoNJnt0kuQiyXJj1CxuQLgRoYllXayxyzIMCV90XwM/ZM8B/ATXE1rw94q8Qaqmn6Aug%2BGLHW7i3eHw9pCy%2BaLC0EMEbeVkRLumaWTbbwrvwgFAHqVFFFABXzl%2B3R%2B0V%2B0r%2BzfpTeMvhXpvgzVoJ/stn4d8HXWm3t3rPiC7dpGvJIzDPEsEVpbL9qZQkxlSCZS0BKNX0bXknxF/ZLg%2BIHxku/jTB8fPHmg3154bj0F7HQpNLWKCxEjySpbyzWMl1aPMzgySQTRyMYYSGBhjKgC/skfGrxB8Y/Cl9N418e6Tqmu2BtTqWl2Hw/1Pw3PpnnQLIqy22pXE00it8xSddsbhTt3bSa9arg/g98BrD4Ta1rni7UPiJ4j8XeIPEMdnDqfiDxQ9p9oe3tVkW3t1Wzt7eFUQzTvxHuZpnLM2RjvKACiiigD5S/a3/bE/aJ/Zt%2BMPhzwNY6f4QvLXx54psdA8L2134c1NEsDfTR2dteT6k0yW15Kt2%2B6TS7dFuBb7phIEjZz7P%2Bzn8T/GvxAsvFnhj4kjS5PEHgjxjPoOqX2iWcltaXuLa2vIZ44ZZZnhzb3kIZDLJh1fDEYrk/iv%2BwX8PPjN4j/tjxp8VPHT2Nr4m/4SbQNBi1W2%2By6HrwhMUWp2rPbNOskRZ5Eiklktlkct5PTHovwc%2BD%2Bi/Brw9faRp3iDVNZvdX1i41XXNd1t4Td6leTbQ0snkRRRLhEjjVY40VUiRQvFAHW0UUUAFfG/xw/bO/a3%2BFH7QGnfBCO08Ky/2rdNPeXtj8K/EGonRbLzB5XkRx3McmvkxyRCWezWOO1l2xyrunjA%2ByK8Nk/YZ0pPF1j450z9pL4oWepaDHfQeEZ4tXsJP7Ctby4jnurWMTWTi7ikMMC7b77UUWGPyyjKGoA9M%2BDXje0%2BJHwu0XxvZeMtN8QJqFkJG1jSNMlsre4cEq%2B23mklktyGDK0Ujs6MrK2CCB01c18IfhX4b%2BCvw8sPhv4VuLye1sWnlkvNRmElxd3E8z3FxcSsqqpklmlkkbaqruc7VUYA6WgAooooAKKKKACiiigAooooAxPiV43sfhn8Odf%2BJGp2sk9t4f0S71K4hiOGkSCFpWUe5CECvMf2ZvjZ8YvGXjbUPhr8b4/DcmqJ4F0DxXZXXhfT7i2hih1J76J7J1nnmMjwSWR/fgoJVmX91GVOfX9c0XSvEmi3nh3XbGO6sb%2B1ktry2lGVmidSrofYqSD9a4H4C/szeGPgJdXuq2PjfxJ4k1G80bTdGTU/E9zbyz2%2Bl2An%2Bx2SGCCEFIzc3Db3DzO0zGSRzjAB6RRRRQAVwP7UvxG8cfCL9nTxn8Tvhpo8F/r%2Bh%2BH7i80izutPmu45Z0XKhoYHSSUZ/gRlY9ARXfVleOfCo8ceENR8Jf8ACR6rpB1C1aFNV0O9%2Bz3lox%2B7LDJghXU4IyGU4wyspIIByX7N3xQu/il4N1C91f4g6Zr%2BpaXrUlhqf9n%2BCL/w7JYSiKKQW89hqE81xFLslSUFyoeOaNlXaQzehVxnwb%2BCulfB2HXrpPF%2BteItX8Ua0NV8Q%2BIPEDW32q9uFtoLSPK2sMMEapBbQRqscSDCbjl2Zm7OgAooooA%2Bff2vf2rvid%2By/wCMotcHhTQr/wAFW3w48TeIL5WmmOp3V3pVi955MZGIoItiqu4iVnMp4iEeZet%2BAnxN%2BLeqfEXxd8FPjjP4cvNf8M6bpGqLqnhXTJ7O0mtdQW5VYzDPPO4kjmsrkF/Mw6GM7UORVf4%2Bfsf%2BHf2i/G2m%2BKPHHxY8WW%2Bl2GlXumT%2BEtPj0v8As6/tL2Lyb2GYzWUlyRPD%2B7YpMhVeYyjfNXQ/BX4BaT8GbnWNal8e%2BIvFet679lTUvEPiqe2e7kgtovKt7f8A0aCGMRxhpGHybmeaRmZmYmgDvKKKKACvmf8AaT/ak/aT%2BEvxG8beE/CXhbwxNY6Z4O0nVvCrro9/qt45n1WGyuZrmC3kiaRUWSVlt4fmxCHMp8wxx/TFeO%2BO/wBkO58cfGK%2B%2BNEX7TfxJ0S%2Bu9Gj0yLT9Bm0iC3tLeOYTxrGzae05xOBIRJK6ycxyB4WaIgHT/s7fEqX4pfDw69e%2BPdN8QXttqVxZ6jPpvhK90I2s8bYNvNYX00txbyqCuVkYEhlYKAwz3dch8G/g3o3wZ0bVLKy8S6trmoa7rc2r69r2uvAbvUbyRI4vMcW8UUKbYoYYlWONFCRLxnJPX0AFFFFAHyh8RP2rP2rfB37VPhP9luzl%2BHNxqHj%2B%2Bv47a%2Bs9Fv7qLwXHDHc3lmuoH7XEb%2BW9sbG%2BaNUFpsltX/1iYY%2B6fs1fFXWfjN8HNO8ceJtOtbXVlvdQ0zWIrDd9nN7YX09jcPEHJYRNLbSMgYkhWUEkjJ8%2B039gXRtLvrrVbb9pD4i/bJPGFz4qsb5otC%2B0WGsT%2BYj3aS/2XvmItZprJY7gzRrayeUE%2BSIp6z8Jfhf4a%2BDPw70z4aeEnupLLTImAub6YSXF1K7tLNcSuAA0ssrvI5AALOxAA4oA6OiiigCO6a5S1keyhSSYRkwxyyFFZscAsASoJ74OPQ9K%2BLfFH7bn7W3gr44v8H/ABXrPgRdK0rRxdeK/Hfhn4Ua/r1hpGo%2BSZZtGaG0vhIZLePyZnu2KKY7qPdDCVbP2hqNpLf6fPYwahNaPNC0aXVtt8yEkEB13qy7h1G5SMjkEcV4R4N/YOn8A%2BALL4beFv2wPi1aabYWU9pEIZdBRpY58m5ebZpQFxPK581rmUPcCTeyyoZZvMAPcPDerWmv%2BHbDXdP1i01GC9sop4NQsP8AUXSOgYSx/M3yMCGX5m4I5PWrtZngnwd4d%2BHfgzSPh/4Q08Wmk6Fplvp%2Bl2iuWENtDGscaZYknCKoyTnitOgArK8bnxsPCOoj4brpR142rDSTrbSC0WcjCtMIhvZAeSq4LYxuXO4atYnxI8Caf8TfA2p%2BA9T1fU9Pi1K2MX9oaNem3u7V8hklhkGdrqwVhkFSRhgwJBAPjzw1/wAFEv2iNbufirPFY%2BEJdO%2BB%2Bn2es%2BK5r3wdqel32v6dcPOfLisLm88/RbiOOxvcC6E5mBtZVjWOYGvt6vnv/h3N8MrnxL4g8Ya38XPHeo6n43uLVviRc3N3pyDxfBbCFba1vEiskSOGKOHylFqtuzJLKHZzIxP0JQAUUUUAct8ZtU%2BIui/D691f4YXGlwaja7ZprrVtGvNSSC1Q752jsrIrPeTeWrCOCN0Z3KgHPyt8xfsqft5fGf4zfEVNM%2BLWv%2BF/DGjP4hXSNIRfhjrIGuyYlUf8TF7022mXMjxkfYLhXnhkD277pUavqD4rfDSL4p%2BGodCXxprvh26tNRgvtP1rw5dRxXVrPE25SBNHJDKpG5WjljkRlYgrnBHmng/9hHwX4RvLCN/jN4/1XSLXxX/wlN74c1fU7OWy1HXTdSXjahJttVliY3b/AGgwW8kNt5iKRCPmDAHuNFFFABRRRQAUUUUAFFFFABRRRQAUUUUAFFFFABRRRQAUUUUAFFFFABRRRQAUUUUAFFFFABRRRQAUUUUAFFFFABRRRQAUUUUAFFFFABRRRQAUUUUAFFFFABRRRQAUUUUAFFFFABRRRQAUUUUAFFFFABRRRQAUUUUAFFFFABRRRQAUUUUAFFFFABRRRQAUUUUAFFFFABRRRQAUUUUAFFFFABRRRQAUUUUAFFFFABRRRQAUUUUAFFFFABRRRQAUUUUAFFFFABRRRQAUUUUAFFFFABRRRQAUUUUAFFFFABRRRQAUUUUAFFFFABRRRQAUUUUAFFFFAH//2Q%3D%3D\">"
            ]
          },
          "metadata": {
            "tags": []
          }
        }
      ]
    },
    {
      "metadata": {
        "id": "Yxlck81OHqt_",
        "colab_type": "text"
      },
      "cell_type": "markdown",
      "source": [
        "# Submit a linear model"
      ]
    },
    {
      "metadata": {
        "id": "Npe3l4SYHquA",
        "colab_type": "code",
        "colab": {}
      },
      "cell_type": "code",
      "source": [
        "## GRADED PART, DO NOT CHANGE!\n",
        "# Testing shapes \n",
        "grader.set_answer(\"9XaAS\", grading_utils.get_tensors_shapes_string([W, b, input_X, input_y, logits, probas, classes]))\n",
        "# Validation loss\n",
        "grader.set_answer(\"vmogZ\", s.run(loss, {input_X: X_val_flat, input_y: y_val_oh}))\n",
        "# Validation accuracy\n",
        "grader.set_answer(\"RMv95\", accuracy_score(y_val, s.run(classes, {input_X: X_val_flat})))"
      ],
      "execution_count": 0,
      "outputs": []
    },
    {
      "metadata": {
        "id": "MAOQZ_-WHquE",
        "colab_type": "code",
        "colab": {
          "base_uri": "https://localhost:8080/",
          "height": 34
        },
        "outputId": "ce94a68c-08ef-4311-ddca-40f501b6fa4b"
      },
      "cell_type": "code",
      "source": [
        "# you can make submission with answers so far to check yourself at this stage\n",
        "grader.submit(COURSERA_EMAIL, COURSERA_TOKEN)"
      ],
      "execution_count": 43,
      "outputs": [
        {
          "output_type": "stream",
          "text": [
            "Submitted to Coursera platform. See results on assignment page!\n"
          ],
          "name": "stdout"
        }
      ]
    },
    {
      "metadata": {
        "id": "J36fp7MhHquI",
        "colab_type": "text"
      },
      "cell_type": "markdown",
      "source": [
        "# MLP with hidden layers"
      ]
    },
    {
      "metadata": {
        "id": "5kriTkUiHquK",
        "colab_type": "text"
      },
      "cell_type": "markdown",
      "source": [
        "Previously we've coded a dense layer with matrix multiplication by hand. \n",
        "But this is not convenient, you have to create a lot of variables and your code becomes a mess. \n",
        "In TensorFlow there's an easier way to make a dense layer:\n",
        "```python\n",
        "hidden1 = tf.layers.dense(inputs, 256, activation=tf.nn.sigmoid)\n",
        "```\n",
        "\n",
        "That will create all the necessary variables automatically.\n",
        "Here you can also choose an activation function (remember that we need it for a hidden layer!).\n",
        "\n",
        "Now define the MLP with 2 hidden layers and restart training with the cell above.\n",
        "\n",
        "You're aiming for ~0.97 validation accuracy here."
      ]
    },
    {
      "metadata": {
        "id": "iQkxl1PZHquL",
        "colab_type": "code",
        "colab": {}
      },
      "cell_type": "code",
      "source": [
        "# write the code here to get a new `step` operation and then run the cell with training loop above.\n",
        "# name your variables in the same way (e.g. logits, probas, classes, etc) for safety.\n",
        "### YOUR CODE HERE ###\n",
        "\n",
        "s = reset_tf_session()\n",
        "\n",
        "W = tf.get_variable(\"W\",[784,10]) ### tf.get_variable(...) with shape[0] = 784\n",
        "b = tf.get_variable(\"b\",[1,10]) ### tf.get_variable(...)\n",
        "\n",
        "# Placeholders for the input data\n",
        "input_X = tf.placeholder(tf.float32,shape=(None,784)) ### tf.placeholder(...) for flat X with shape[0] = None for any batch size\n",
        "input_y = tf.placeholder(tf.float32,shape=(None,10))### tf.placeholder(...) for one-hot encoded true labels"
      ],
      "execution_count": 0,
      "outputs": []
    },
    {
      "metadata": {
        "id": "3U-IqxuPajJj",
        "colab_type": "code",
        "colab": {}
      },
      "cell_type": "code",
      "source": [
        "logits = input_X @ W + b ### logits for input_X, resulting shape should be [input_X.shape[0], 10]\n",
        "hidden1 = tf.layers.dense(input_X, 256, activation=tf.nn.sigmoid)\n",
        "hidden2 = tf.layers.dense(hidden1, 256, activation=tf.nn.sigmoid)\n",
        "logits =  tf.layers.dense(hidden2, 10)\n",
        "probas = tf.nn.softmax(logits) ### apply tf.nn.softmax to logits\n",
        "classes =tf.argmax(probas,1) ### apply tf.argmax to find a class index with highest probability\n",
        "\n",
        "# Loss should be a scalar number: average loss over all the objects with tf.reduce_mean().\n",
        "# Use tf.nn.softmax_cross_entropy_with_logits on top of one-hot encoded input_y and logits.\n",
        "# It is identical to calculating cross-entropy on top of probas, but is more numerically friendly (read the docs).\n",
        "loss = tf.reduce_mean(tf.nn.softmax_cross_entropy_with_logits(labels=input_y,logits=logits))### cross-entropy loss\n",
        "\n",
        "# Use a default tf.train.AdamOptimizer to get an SGD step\n",
        "step = tf.train.AdamOptimizer().minimize(loss)### optimizer step that minimizes the loss"
      ],
      "execution_count": 0,
      "outputs": []
    },
    {
      "metadata": {
        "id": "MdtJ1gSHfyQ6",
        "colab_type": "code",
        "colab": {
          "base_uri": "https://localhost:8080/",
          "height": 309
        },
        "outputId": "7ef8eb24-33db-4c88-9b75-b8328952922b"
      },
      "cell_type": "code",
      "source": [
        "s.run(tf.global_variables_initializer())\n",
        "\n",
        "BATCH_SIZE = 512\n",
        "EPOCHS = 50\n",
        "\n",
        "# for logging the progress right here in Jupyter (for those who don't have TensorBoard)\n",
        "simpleTrainingCurves = matplotlib_utils.SimpleTrainingCurves(\"cross-entropy\", \"accuracy\")\n",
        " \n",
        "for epoch in range(EPOCHS):  # we finish an epoch when we've looked at all training samples\n",
        "    \n",
        "    batch_losses = []\n",
        "    for batch_start in range(0, X_train_flat.shape[0], BATCH_SIZE):  # data is already shuffled\n",
        "        _, batch_loss = s.run([step, loss], {input_X: X_train_flat[batch_start:batch_start+BATCH_SIZE], \n",
        "                                             input_y: y_train_oh[batch_start:batch_start+BATCH_SIZE]})\n",
        "        # collect batch losses, this is almost free as we need a forward pass for backprop anyway\n",
        "        batch_losses.append(batch_loss)\n",
        "\n",
        "    train_loss = np.mean(batch_losses)\n",
        "    val_loss = s.run(loss, {input_X: X_val_flat, input_y: y_val_oh})  # this part is usually small\n",
        "    train_accuracy = accuracy_score(y_train, s.run(classes, {input_X: X_train_flat}))  # this is slow and usually skipped\n",
        "    valid_accuracy = accuracy_score(y_val, s.run(classes, {input_X: X_val_flat}))  \n",
        "    simpleTrainingCurves.add(train_loss, val_loss, train_accuracy, valid_accuracy)"
      ],
      "execution_count": 96,
      "outputs": [
        {
          "output_type": "display_data",
          "data": {
            "text/html": [
              "<img src=\"data:image/jpeg;base64,/9j/4AAQSkZJRgABAQEASABIAAD/2wBDAAIBAQEBAQIBAQECAgICAgQDAgICAgUEBAMEBgUGBgYFBgYGBwkIBgcJBwYGCAsICQoKCgoKBggLDAsKDAkKCgr/2wBDAQICAgICAgUDAwUKBwYHCgoKCgoKCgoKCgoKCgoKCgoKCgoKCgoKCgoKCgoKCgoKCgoKCgoKCgoKCgoKCgoKCgr/wAARCAEgA2ADASIAAhEBAxEB/8QAHwAAAQUBAQEBAQEAAAAAAAAAAAECAwQFBgcICQoL/8QAtRAAAgEDAwIEAwUFBAQAAAF9AQIDAAQRBRIhMUEGE1FhByJxFDKBkaEII0KxwRVS0fAkM2JyggkKFhcYGRolJicoKSo0NTY3ODk6Q0RFRkdISUpTVFVWV1hZWmNkZWZnaGlqc3R1dnd4eXqDhIWGh4iJipKTlJWWl5iZmqKjpKWmp6ipqrKztLW2t7i5usLDxMXGx8jJytLT1NXW19jZ2uHi4%2BTl5ufo6erx8vP09fb3%2BPn6/8QAHwEAAwEBAQEBAQEBAQAAAAAAAAECAwQFBgcICQoL/8QAtREAAgECBAQDBAcFBAQAAQJ3AAECAxEEBSExBhJBUQdhcRMiMoEIFEKRobHBCSMzUvAVYnLRChYkNOEl8RcYGRomJygpKjU2Nzg5OkNERUZHSElKU1RVVldYWVpjZGVmZ2hpanN0dXZ3eHl6goOEhYaHiImKkpOUlZaXmJmaoqOkpaanqKmqsrO0tba3uLm6wsPExcbHyMnK0tPU1dbX2Nna4uPk5ebn6Onq8vP09fb3%2BPn6/9oADAMBAAIRAxEAPwD9/KKKKACiiigAooooAKKKKACiiigAooooAKKKKACiiigAooooAKKKKACiiigAooooAKKKKACiiigAooooAKKKKACiiigAooooAKKKKACiiigAooooAKKKKACiiigAooooAKKKKACiiigAooooAKKKKACiiigAooooAKKKKACiiigAooooAKKKKACiiigAooooAKKKKACiiigAooooAKKKKACiiigAooooAKKKKACiiigAooooAKKKKACiiigAooooAKKKKACiiigAooooAKKKKACiiigAooooAKKKKACiiigAooooAKKKKACiiigAooooAKKKKACiiigAooooAKKKKACiiigAooooAKKKKACiiigDxPxd/wAFFP2PvAmoXmn%2BK/ipc2gs9UbTReHwpqj2l5eLfw6fJb2lwlsYb2SO7nigkW3eQxOxD7drY2j%2B2f8As6R%2BObL4c3XjHUbfVLy6sLNlu/Cmpw29le3sUctpY3dw9sIbG8lSWIraXDxzkzRjy8uoPiVz%2Bxn%2B1bH4C8N/s66Zqfw9HgXwn8W9N8V22tXOo3r6rqtnb%2BLrXWxbyQC1EVrLHAlxFvEswuJFiJ%2Bzqzbeh8cfsffGzXfGPi3wPoup%2BFv%2BEA8c/F7QfHuq61dalcrrOnvp8mlTyWEVqtu0Mwll0mLbcNcRmJLhh5TmNSwB6Fa/t1fsv3cGr3w8f30Nno2n3N7LqV54U1OC0vYLedLeZ7G4ktli1HbNJHHi1aYlpEAB3rns/hT8ZfAXxp0m91fwJc6njTdQNlqVnrfh690q8tJxGkuyW1voYZ48xyxupZAGVwQSDmvmbTf2IPj5a6t4mtbTwl8ONN8MazoOp22reBV8Za1feHfFN5cXcEsdw2mTwCPQGCJcEvZyTnzLkMRL5Q3egfs4/sm%2BOvDGmXP/AAu3xl4hhgsfFa6n4L8M6H8ZPEOpQaLbC3tla2mvpmtZtTheeGSUQXUbxRLKY1BQnIB0kX7eP7Kk0fiC6HxNlW18N6Jqur32oy%2BHdQS0urLTSRfzWVw1uItSFuRiQWjTFSQCMkZ5vx3/AMFL/wBmXwh4Vl8TaPd%2BJtceDxF4b0yXTdP8Dav9qeLW78WdnfwxNaB7m1crO0c8IeOZoTFEzyvGjeKaH/wSx%2BI%2BjfBrXPgl5eiXX9m/DfxR4c8C%2BK9W%2BK/ia/LzajZT2VtI%2Bkz5sdLUQzFZjALjJGY0j4A7z4//ALEPxs8d%2BOH%2BIfw%2B1Pwo9zp/hz4cxaTp2r6nc20dzfeG/FE2szxSyRW0phhlidIklVJGDliYsAbgD1V/25/2ZFtteu4/G%2BpzJ4b8Sf8ACPakLbwfqsrPq/nPCdOt1S1JvLsOhJggEkgQrIV2MrGpqn/BQX9lDSbTRp5PH%2Bq3U%2Bv2Wq3WmaXpfgnWLy/ZNMuIrfUFks4LR7iGW3lmRZIpI1kT5iVwjleFtv2OvjToXha08QaFfeFZvFegftCaz8R9G0y61O5j0%2B%2Bgvl1C3NnPcrbNJDILbUZSJFhlCyxJ8rCvMNI%2BEf7S3wX/AG5vCGqeD9N8Dav478U%2BA/iX4l1jSNT128tdItftmt%2BFwlvBdpZyzN5Srb5kNuvnFZfli8wbQD6jsf2yP2adU8Gaz8QtK%2BKVvd6PoNxpMGoXtpY3MoLapDaTaeYVWMtcrcJfWvlvCHVmkKZ3I6r6bXwN8Nv2Q7XwR%2B1Z8Ff2dvBXxLsNdsPh58M9Ff432dmnD3ugLu8PPKqki2klutRnuUjf52i06PGVQGvvmgAooooAKKKKACiiigAooooAKKKKACiiigAooooAKKKKACiiigAooooAKKKKACiiigAooooAKKKKACiiigAooooAKKKKACiiigArzb4q/tdfs/fBPxlH4D%2BJPje4stR%2By2l1efZ9Bvru3023urh7a2nvbi3geGwilmjkRJLl41YxvgnY2PSa%2BQ/28f2Kv2o/2pNZ8Z6N4R%2BIWn/8I5rvhC0s/DFtqHxB1rSoNGvoXnkm8/TtPi8jU47ljApluZG8hVJWCXbscA9gh/br/ZUku9btpviqtrFoGn6hfXeoahot7bWVzb2EywXslndSwrDqAhldI3%2ByvKVd1U8sAdDwJ%2B2B%2Bz78R/EmneC/DXjC%2Bj1vVNTutPt9D1fwzqOnX0Vzb2kd5LHPb3dvHLbH7NLHMvnKgkSRShbIrwzQ/wBjX9rW8/ZXP7IXiDWvh5pWgaLpEn9ga1ZX99qF3qF9FqUN9YC5R7e3W2hjMRinKNO1xuDqIOYz1/jH4S/tp%2BNfiB4H%2BPWqaH8ME1/wZ4l1CS08HQeJtQWzGmXel/ZHLambAyTXAnHnAfY408s%2BVnK%2BawB2uh/t0/steJddsPDmh/EuW4utR0KfWotnh7UBFDpsM9zbzXk8pg8u1gSa0njaSZkUMEBP72Le3w9%2B3Z%2By74m8J6741sviFe21l4dsdPvdSj1fwrqdhctbX8jRWM0Ftc20c13Hcyq0UDQJIJpAUjLN8teO/s%2BfsI/tK/Bjw3q7xfFHwvY%2BKLj4J3fhXR/EWlxzSrY61Jq2rX0V6IZYgDAn263baWJ3RuuCAGbkrH/gnN%2B1HceNNR%2BImoa74div59G8Iz2dvrXxT1/xIw1jw7r39rQrLc6hbB/st3vlR/JSJbU7WjgmJY0AfUHw9/bC/Z2%2BJ%2Buy%2BF/Cnj%2BRdTttLvdQvdN1fRL3Tbizgs5Yorrz47uGJoHia4ty8UgWRVnicrskRj2nw98e%2BFvip4C0T4m%2BBr%2BS70XxFpNvqWkXU1nLbtNazxrLE5imVJIyUZTtdVYZwQDxXxx%2B3H8PfjP8Ybb4c/D3xh4x8IaH8UvFXjTUNFj8PeD724unh8D6lZNaa0vnSpDLMYoUS7N2YYIxPDbRBdxQyfbOnadYaRp8Gk6XZx29rawrDbW8KBUijUAKqgcAAAAD2oAmooooAKKKKACiiigAooooAKKKKACiiigAooooAKKKKACiiigAooooAKKKKACiiigAooooAKKKKACiiigAooooAKKKKACiiigAr5Z/ZV%2BJf7NWgftj/HXwZ4L%2BMPhifUtX8Q6VdS2X/CXRXV3dXhtCtwAHlaRjHKRF5Y4iCpEoRVVR9TUUAfJX/BOvUv2a/G/xI8W/FD9mLxN4Ts/Dd7oVjpumeHNE8Qw3mp6tFbXFyzeINVCyPKZ7lpwsbzlp2jQPM%2B%2BXyofqbxFq50WyS6343ShP9Tv7E9Ny%2BnrV%2BvLvjF8VpND%2BM3hD4KHSkePxJ4c1vWPtxlIaJ9Pn0yERBcYIcai7E548ocHdwueEJLn2bS%2Bb0R04bCYjGSlGiruMZTf%2BGC5pP5LW276HU/8ACff9Nv8AyQ/%2B3Uf8J9/02/8AJD/7dXL0V2%2Bygcd2dR/wn3/Tb/yQ/wDt1H/Cff8ATb/yQ/8At1cvRR7KAXZ1H/Cff9Nv/JD/AO3Uf8J9/wBNv/JD/wC3Vy9FHsoBdnUf8J9/02/8kP8A7dUtx42MMUEhm/1sRf8A48s/xsv/AD14%2B77/ANByVWtQ/wCPSx/69T/6NkpOlC4XZvf8J9/02/8AJD/7dR/wn3/Tb/yQ/wDt1cvRT9lALs6j/hPv%2Bm3/AJIf/bqP%2BE%2B/6bf%2BSH/26uXoo9lALs6j/hPv%2Bm3/AJIf/bqP%2BE%2B/6bf%2BSH/26uXoo9lALs6j/hPv%2Bm3/AJIf/bqlvfGxtL2a1M3%2BqlZP%2BPLPQ46%2BaM/kK5Kua%2BMH7QXwF%2BEHi2XRfiz8bvCHhe8unkntrTxF4ltbKWaLzGXeqzSKWXIIyBjIIrOp9Xox5qjUV3bSX3tpfidWDweOzCuqOEpSqTd3ywjKcrLd8sIzlp193TrY9N/4T7/pt/5If/bqP%2BE%2B/wCm3/kh/wDbq8I/4bd/Yv8A%2Bju/hf8A%2BF9p3/x6j/ht39i//o7v4X/%2BF9p3/wAern%2BuZZ/z%2Bh/4HD/5I9b/AFT4t/6F2I/8J8R/8oPd/wDhPv8Apt/5If8A26j/AIT7/pt/5If/AG6uQ0vVNM1vTLfWtF1GC8s7yBJ7S7tZlkinidQyujKSGUgggg4IORXj/wAPP28vgH8QLLzFuPEOn3Rh1e6Gn3ng7UxKLHT7q4t5btsW2ERjAQuSCZHWEZlIQ9fJStc8GSnCTjJWa0ae6fZo%2Bj/%2BE%2B/6bf8Akh/9uo/4T7/pt/5If/bq%2BedV/bd%2BAGjqmp6p4xNhp8MGoNq39r6LqdpfWElq9grpJZy2gkTjULZj5nltsmidFkRmZOz%2BHPxr%2BHvxXieXwTd6pMYby5tLuK98O31lJZ3EHlmSG4S5hja3fbNGyrKFMiNuQMoJB7OmTdnrFp42NzKYxN0id/8Ajyx91C3/AD1Pp/8Aq61F/wAJ9/02/wDJD/7dXgHgj9qjUda%2BM1t4Qm%2BHUMPhfV/FWs%2BEtE8SLrZe5uNWsdPu7mdZLTyAsUH%2BhXsayiZmLwDMaiQEc/4%2B/bbtvhv4q1u%2B8S/D5F8C%2BH/EU%2Bgaj4qj1ktdLfw6SdScrZeTtNvgfZ/M88P53HlbP3lLkp3Hdn0//wAJ9/02/wDJD/7dR/wn3/Tb/wAkP/t1fLcX7XvxJtdI1e38W/Bvw1oGs6NpGk65qJ1r4jpb6Rp2jagl75d3d3z2YaJ0l0%2BeF4o4JcO0RDmNmkSj8N/27NS%2BJXxO8NfDyHwP4T0Bte8IaFrrQeLPiCbLUpl1CS8VobGz%2BxOb0xpZlwTJEXEqZEfJD5KYrs%2Bsv%2BE%2B/wCm3/kh/wDbqP8AhPv%2Bm3/kh/8Abq%2BYvhv%2B1n8RvitJptt4W%2BDWiwy%2BL/Ckvif4dNqfjOWOLVdJiuraGWS6aOwkaylEd7ZyrGi3CsJ9pdSpNZupft1av4e%2BCnhT4ma98IraXV/GPiRLTR9E0bxK1zA%2BkHUYrQ619pktYmFsY5oJUzCCxuraMlTLuU5KYXZ9X/8ACff9Nv8AyQ/%2B3Uf8J9/02/8AJD/7dXzt4i/aO%2BKfhf4nP8Pb/wDZ8M7anp2tXPg63sfFcD6hqp04RfNLA0aw2kM5lQRym4cr5kQlSNn2rmL%2B1N8YZ/D3iqSz%2BBGgPq3gbXriw8WTSfEHy9Fs4otLt9RMy3zWQlkYpdRxFPsyhJEl3uqqrOezphdn1CnjYtZSXXnfclRP%2BPL%2B8GPTzf8AZ9fz7Rf8J9/02/8AJD/7dXyh4U/4KEweLfiTp/wq0j4VxLPrT2Elnot34mSHxG6TaE2qrdjTHhC/YVLfY3umuFC3KshXjJ0/h/8AtUfFr4lf8JF4d8JfA/w9qXiDw5rVpp2oHSviKtxo9nJLFLJPFc3wsw8dxbGIJLBFBMytcW/O13aNKFNjuz6c/wCE%2B/6bf%2BSH/wBuo/4T7/pt/wCSH/26vkbwx/wUIh8UQaR4ig%2BGFra6DJZeGpPEV/eeJgk9pJrd/JYWhs4Rblb6ASx7jMZId0bBo1kYFBt6/wDtma14Y8IfE3xR4k%2BEC6U3w98Y6foix6r4kjSGW3vEsHTUryeOKRbG2jS%2BE0pHnGKGFnb5sxq%2BSmF2fT3/AAn3/Tb/AMkP/t1H/Cff9Nv/ACQ/%2B3V8u%2BEf20tZ8XaL8OfEGm/CKG503xz40vvD11r2m%2BKI7jTbYwNdLHdWk3lLJfxT/ZWeNhFEpjJYsDsWS94B/az1v4t/EvxT4A%2BGPhDwnfDQZ9Vs7MXnxCjhv5LuwuxZym6sUtpJbW2a4S4jSdfOJ8kExqJFo5KYrs%2BlP%2BE%2B/wCm3/kh/wDbq1PDev8A9ued8%2BfK2/8ALvs65/22z09q8F/Z7%2BK/jf4u6Drms%2BNPAmlaJ/Zfie80ixl0XxFLqVvqC2pWKeZJJbS2dQtytxBtMfJtywYqymvZvht/y%2B/9s/8A2apnCChdDTdzqKKKK5igooqO6mt7e1kuLu4WKJIy0krvtCKBksT2AHOaAJKK%2BDvhd8Q/hJ/wxH%2B0X8Lv2XfixpOravb6v4wl0Kw8NeK11DVZoXhZhPCySvcTTSBZXWbLO8mW3FsmsEf8MoD46s9xH4K/4ZgHiWTyvkt/%2BEV/4SD/AIR6Plcf6Njy/MAx8v2vcB/pFAH6H1zPiDxlqmk6vNp9vBbske3aXRs8qD2b3rmf2Lh43H7IPwuHxKXUBr//AAr7R/7YGrbvtYuPscW/z9/zedn7%2Bed%2B7NbHi2PS28QXBuLy4R/k3KlsrAfIvcuP5VrSSctRMd/wsPWv%2BfW1/wC%2BG/8AiqP%2BFh61/wA%2Btr/3w3/xVeUeIv2tP2N/B%2Bu3fhfxb%2B1b4G0vU7CdoL7TtR8U6dBPbSqcMkkb3IZGB6ggEVT/AOG1/wBhX/o8v4c/%2BFnpn/yVWbxmWRdnVgn/AIo//Jnt0%2BFuKqsFOGX4hxaTTVCu009U01RaaaaaabTWqbR7H/wsPWv%2BfW1/74b/AOKo/wCFh61/z62v/fDf/FV5R4d/a0/Y38Ya7aeF/CX7VvgbVNTv51gsdO07xTp089zKxwqRxpclnYnoACTWr8evi34H/Z/%2BDniL4zeJU1i9svDumPdzWmm6Q080xGAqKsbM3LEAtjCglmwqk1tSqYSvFunJSS7NP8mzgx2W5pllRQxtCpSk1dKpCcG1tdKcINq%2Bl0mr6Xuehf8ACw9a/wCfW1/74b/4qj/hYetf8%2Btr/wB8N/8AFV44v7Xv7N01pqV3ZeI/F12NI1YaZqEVj8NdXnljvPKkmaARxwM7ukcbNIFB8oFPM2%2BYm7NuP23f2Y9NvLhL/wCIdzdQPJGdGPh3w3qGqT38LaZa6kZBFbQMeLe6SX92ZV8v5iykOiactLscOp73p3jvWLzUILSS3tgssyoxCNkAkD%2B9UP8AwsPWv%2BfW1/74b/4quHT4z/CjS/Al/wDGaDX9QutA0TSRrM1/HpDLFcWi2y3Ylhd2CzKYiDuQsAcqSGVgOQ%2BCHx71Xx/qet%2BFPip8Pz4X13R/Dul%2BIP7P0vUv7Ujk06/%2B1LATIY4Cs6yWN0jxBWUFEKyOH4OWnfYLs9n/AOFh61/z62v/AHw3/wAVR/wsPWv%2BfW1/74b/AOKr5Q8N/wDBQG58Q6Ho0X/CrNOh8Q%2BMLDw9qXgnSx4vD2tzY6xJOsD3tyttmzkQW770jiuFLvGkckpY7ZU/4KD6LcRtqlp4Dtf7N8PWMNx8Qb2bxIi/2cW1y%2B0SRbACEjUhHdabdsSzW2Y/JKgvKIwWpdg1Pqr/AIWHrX/Pra/98N/8VR/wsPWv%2BfW1/wC%2BG/8Aiq%2BYfGn7dMfwz8XeMPC3j74dWUL%2BHNAn1K1g0rxbBeXUbG%2BtrSwt9TjEax6ZJem7jlg/ezgxxzs2PKIPq/wF%2BJcHxg%2BHcPjXVjo8Mkl3PCkvhLxDDrmm3CRuVEsF2giMinGCGijZWVlK8BictPsGp6P/AMLD1r/n1tf%2B%2BG/%2BKo/4WHrX/Pra/wDfDf8AxVZfk6L/ANBC6/8AANf/AI5R5Oi/9BC6/wDANf8A45T5KfYLs2rbx3rE8FxK1vbAwwh1wjcneq/3v9o1D/wsPWv%2BfW1/74b/AOKqpYxaQLa82X1yQbYbibVRgeanT5%2BecVW8nRf%2Bghdf%2BAa//HKShC%2BwXZqf8LD1r/n1tf8Avhv/AIqj/hYetf8APra/98N/8VWX5Oi/9BC6/wDANf8A45R5Oi/9BC6/8A1/%2BOU%2BSn2C7NT/AIWHrX/Pra/98N/8VR/wsPWv%2BfW1/wC%2BG/8Aiqy/J0X/AKCF1/4Br/8AHKPJ0X/oIXX/AIBr/wDHKOSn2C7NT/hYetf8%2Btr/AN8N/wDFUf8ACw9a/wCfW1/74b/4qsvydF/6CF1/4Br/APHKPJ0X/oIXX/gGv/xyjkp9guzaTx3rDafLdm3ttyTRoBsbGGDk/wAX%2ByKh/wCFh61/z62v/fDf/FVUii0j%2ByJwL652/aYsn7KuQdsmON/1qt5Oi/8AQQuv/ANf/jlJQh2C7NT/AIWHrX/Pra/98N/8VR/wsPWv%2BfW1/wC%2BG/8Aiqy/J0X/AKCF1/4Br/8AHKPJ0X/oIXX/AIBr/wDHKfJT7Bdmp/wsPWv%2BfW1/74b/AOKo/wCFh61/z62v/fDf/FVxPjH4sfA34do0nxA%2BL%2Bj6EqjLNrN/bWoH18yda801/wD4KN/8E9vDZYaj%2B134Xk29fsF1Hd/l5Ej5/CuWtjMtwztVqRj6yivzkvyPdy7hjifOIqWAwNesn1hRqzX3xptf%2BTH0D/wsPWv%2BfW1/74b/AOKo/wCFh61/z62v/fDf/FV8p6h/wV%2B/4JqWM32W3/aQur2c/dh0/wAGajMW%2BhWLH61X/wCHtn7HNx8%2Bk2fxNv4v4ZrP4Z3jK30yRXE884fTt9Yg/SV/yufRR8KvE2UeZ5PiYr%2B9SlD/ANLcD66uvHesQQW8q29sTNCXbKNwd7L/AHv9kVD/AMLD1r/n1tf%2B%2BG/%2BKr5Ruv8Agq38AtQgt4/DvwN%2BOermOAqo0z4VTOW%2Bdj/HMvrj8Kh/4ekfCeP/AI/v2W/2iLb/AK7/AAkcfyuTSWeZHb%2BKvun/APIWK/4hX4i9cumn2cqKf3PEp/gfWn/Cw9a/59bX/vhv/iqP%2BFh61/z62v8A3w3/AMVXyX/w9N%2BC0v7rT/2c/j/d3B%2B7aW3wmkMjfQG4A/WmSf8ABQ7x/rgx8Pf%2BCdnx5uyfuf8ACQ%2BF7fSgfqZLh8U/7byV/DO/pGo/ypi/4hZx/H%2BLg/ZrvUrYamvvnil%2BTPrf/hYetf8APra/98N/8VR/wsPWv%2BfW1/74b/4qvkJv2sv%2BChern/il/wDgl3eJGek%2Bs/FjS7Yj6x7Cf1pD%2B0H/AMFQp%2BIv%2BCeXhuDPef4s2jY/75jo/tfAPanUf/cKp/8AIoP%2BIbcQR/iYjBxfZ4/B3/CtI%2Bvv%2BFh61/z62v8A3w3/AMVXTeH9Rn1bSIdQuFRXk3bggIHDEd/pXw3/AMLk/wCCrV1/qP2NPh7a/wDX18Q9%2BP8AvhK%2Btf2Z9T%2BLOs/BHRNS%2BOXhjSdG8Uyi5/tTTdDvmubWHFzKI9kjAFsxCNj6MxHatKeOoYmXLCnOPnKEor7318jyM64UxuRYWNeticNUTfLy0cTSrSWjd3Gnqo6ayva7S6nd0UUVufMhRRRQAUUUUAFFFFABRRRQAUUUUAFFFFABRRRQAUUUUAFFFFABRRRQAV81/tQ6j9i/bv8AgZbbsfbPBnjeHHrhtDk/9kr6Ur5N/bQ1H7F/wUP/AGY7bdj7ZpXjuH64stPk/wDZK4cwnyUoP/p5T/GaX6n2PA9D6zm2Ip/9QuMf/gOFqS/9tPYqKKK94%2BKCiiigAooooAKtah/x6WP/AF6n/wBGyVVq1qH/AB6WP/Xqf/RslJ7oCrRRRTAKKKKACiiigArmvjB%2Bz78Bfi/4tl1r4s/BHwh4ovLV5ILa78ReGrW9lhi8xm2K00bFVyScA4ySa6WvK/2pf28v2Uf2T/iAng/4/wDxV/sDUdSjkvLK3/sO%2BuvMg81037raCRR8ysMEg8dK5MbVwNGi5YtxUP79uW99PiuvQqOcTyJ/XIYl0GtOdTlTavpbnjKDV9rc2u2pL/wxF%2Bxf/wBGifC//wAIHTv/AIzR/wAMRfsX/wDRonwv/wDCB07/AOM15d/w%2Ba/4Jr/9HIf%2BWfrP/wAh0f8AD5r/AIJr/wDRyH/ln6z/APIdeP8AX%2BEf%2BflD/wApf/Imn/EUsV/0PZ/%2BFlX/AOaD6Z0vS9M0TTLfRdF06Czs7OBILS0tYVjigiRQqoiqAFUAAAAYAGBXzva/sEa7B4d8W%2BH2%2BN6xjXvDuraPpdxZ%2BHXieyt7zVp9SHnH7UTcbTcPC4XyfMTp5ZOa%2BgfC/iXRfGfhrTvGHhq9%2B06dqtjDeafceWyebBKgdH2uAy5VgcEAjPIFeP6n%2B3n8JNN8JweLB4b150OgLqmpW00mn2p0nOoDTxbXct1dxQQTfaFuV5l8v/Qp/wB5kIH%2BgTg4prbp6f8ADGXtHV9%2B97633vfW99b3ve99b36nnWnf8EwHsdQ1ia2%2BKugabZateXd5HpHhz4fLp9pZTXKaEsqxRJdlVi/4kaFUxuzcuWdyMt778N/hPq/w68Z%2BLvEVv4rtrqy8X%2BKJdburJ9LZZYHNjYWkcaSiYgqos3diUy3nKBt8smTxnRv%2BCjPg3xH4ztdWsLiK28EXug6NewXz6etzcxTTz%2BJIr1JZIrryRHH/AGGNssPnAneV81ZEZOz%2BB37U3ir4zfGDX/CDfB3W9F0iw8KeG9VsIdXhtY75RqUmrb7iYx3ckZg8uytgqpmVXkkDrwQguXoGpc8M/sp69pXxZXxbYfE61/sLSvEmt%2BLPDWgTeHmaSz1q/wBNu7aaSa4Fyvn2w%2B23sggEcb7p%2BZSEUVh%2BNv2IoviN4l1ex8X/ABFjm8Fa9r82var4Xt9EMc8mpS6SdNk23ZnYLbEE3AiMRcTc%2BcU/d1P8Qv2m/ib4L%2BK%2Buf8ACO2Ggt4T8Ia94b0LxBaXtlO%2BoXs2szxW7TQTrMscCW6XltJtaKUylZFzH8rVD8df2lPib8PfiF4jg8IWWgnw74B0fQdS8Uw6lYzyXmox6jfXEEkdtIkyJbtDBbmUF45hK0gTEYUuT3bsNSXw1%2By/8bvDOoSePbb9pKxk8Ym00jTDqT%2BCiNOu9K0%2BK%2BSK1urQXm%2BV2k1G4naWOeH96sOFCI0b0bD9ibxPp3g3w98LIvjJYv4W06XRrnV7WXwbGL64utP1I6iptLpJ1FpC821RE8c/lRgiJ0J3Vz/wh/a2/aC%2BMfjvWfh94asPCSX7aZqlzpp1PQdRs7XTGtNYiscrdNK0evR%2BTJJK0ll5UaSRRxSPEblGSxdftD/tNeIfgUnxH8AeLfADajceLJ/DvhuW48FXtxZ%2BKpnvvstpe2wXVI3trUjc7tuuMxQyTIzJtye6Gpt%2BFP2K/E3hbw3d%2BG7f42KF0j4b6n4K%2BG1zbeHTFL4dsLtoj5k5%2B0n7bNH9lsVDL9nBW16bnLDR%2BNf7CXwl%2BMXhbTtHi1HW9Cv9K0rSdKstQ0bxJqVpGthY3kdykDW9rdQxPnYwDsCyFlYEmNQK13%2B0r8VfEn7TF78FvhV4X8P3ukQeAfEM%2Bn6vq008K6h4k0250qFrcSR7xHZxnUfKlcJI/nJKg2mBhJyfi/8AbO%2BL3gj4M/ES9tbXwt4r8XeH9ZvtM8G6lpOmXFnpWrNaabHd3tzJC1zNIIbJ/tMMxWfDywCFWjlfap7oanX2/wCzP8fNM8U%2BP/GGiftC%2BHYdV8YWl1aaPr1z4BuLjUtBttjJYW8UsmqGJ47YsJCvkoJpTJI%2BGkOMq/8A2N/izdfC3w38I7X4ueB4NE0LWmv9Q0n/AIVzfyWmvfKXRb5X1oy3LG5Z7mV3lbz5NpkVsPv3tb%2BKvxwsfiv4G0qz8aeCxoXiXT5dY1rTbrwtcpdaZpNraRNd3P206iIs/ap7aNQbcYW4JO7ymZvPW/bm%2BKuqR69qx0zwx4U0B/HGlWGheJ/EtjcSQaTol5p8tzHqWpIJ4eZ3ijSNN8Ai%2B3QLIdyOCPlDU7y6/Y38Z634kvvFWqfG23t7O%2B8Y23ii%2BTSPC5g1CPW10JtJ822u5LqUQ2wRRKsDxSuD8hmaPKnE8W/sZ/Gjxtp%2Bu3fiD9ozRJdY8UR6Jp/iWaPwHPFY6ppGm/bXFpNbxakshkuJbxvPlWdVkhjWDyghNP8ADH7Sfx4%2BJXw%2B%2BHnjL4deKfBKDxp4sj0e60O78IXszymynvV1O9iuRqEXkQiCzneJZIHIkeCN2Jk4s6H8av2ntU%2BK/ij4J/8AFDnW7HQLfUrK5u9C1OwtNO8y9WJ1Dzybtajjt2Mhmtlt4/NjSF2hMwaNLlDUt%2BO/2P8AWfip4p8J658QvFng24tvD39mNPDp/wANooLmN7G9N2iafdPcyS2MEpSCOaFjOGjiIQxGRjVPUv2Q/i34h1XxxqfiP45eHJB4q8YaN4n02Kz8Azxiwv8AS20/7MswfUpBdQFdPQSRgROzSFkkjKqBxP8Aw258e9S8C654o8NWPg%2B7TwV4Q1zxTqmqNpF0tt4q02zvp4bQ6en2vNotzFa3DieR7lB%2B6ZVkSQNXrXhf4qfGbxf8eviB8JE/4RfTLLTfBWha14L1D7Fc3kg%2B3XGqwM96nmwiQZsEYRRlCodgZWJG1%2B6w1Oav/wBkL4vwaN4btfCvx08NWl5pHxCvvGeqz33gCeeG81G5e6YxwxR6nF9mtwLp/kLSuzAMZCS2dzwR%2ByZN4K%2BL1t47tvHFm2h6TrfiDWtD0WHw/wCVdx3%2BszNPeNcXnnkXEXmyTMkYijI3RhnfylNeaaj%2B1R%2B09o0Gm6jqniTwk2han4q12yg8V6V8Ita1JBYadFHGZnsrTUpJEEl2l2Fl8wxmCOOTA3nH1D4V1mz8R%2BF9N8Q6drdnqdvf2ENxBqWnjFvdo6Blli%2BZvkYEMvzNwRyetNcrDUw/gX8Mf%2BFLfBjwr8JX106rL4d0C1sLrV2t/JbUJ44lWW6ZNzbWlkDSEbmwXPJ616n8Nv8Al9/7Z/8As1cvXUfDb/l9/wC2f/s1TV/hsFudRRRRXGWFFFFABRRRQAVwfjP/AJGW5/4B/wCgLXeVwfjP/kZbn/gH/oC1tQ%2BMmWx5R4i/ZG/ZR8Ya7d%2BKPFv7MXw81TU7%2Bdp77UdR8F2M89zKxyzySPEWdiepJJNU/wDhiL9i/wD6NE%2BF/wD4QOnf/Ga4j4i/8FWP2B/hP471b4afED48/wBn63od9JZ6pZf8IvqsvkTocMm%2BO1ZGwe6kj3rF/wCHzX/BNf8A6OQ/8s/Wf/kOvJqY7hWNRqdShzXd7%2Bzvfre6ve97%2BZa8S8Vhl7FZ3OPL7vL9bqq1tLWVdJWtaySta1lax674d/ZG/ZR8H67aeKPCX7MXw80vU7CdZ7HUdO8F2ME9tKpyrxyJEGRgehBBFavx8%2BFjfG/4LeKPhEmvDS38RaLPYxakbXzxau6kLIY96eYFbBKbl3AEblzkeT/Dr/gqx%2BwP8WPHek/DT4f/AB5/tDW9cvo7PS7L/hF9Vi8%2BdzhU3yWqouT3Yge9eyfFb4l6F8HvAV78R/FFneTabprwnUGso0ZreB5kje4YMyjyolcyyHORHG5AYgKfRwFbK69OTwUoON9eTlte3XlSV7fgRLiKrxG/bTxjxPJpzSqyq8vW15TqNd7JrvbqeM%2BLP2FdS8Z6HBpniD4kaHqBfx1qXiTVrHV/BIvNMvGvbcwsn2OS6K%2BZEzGSGWRpVRusb9apfAL/AIJ73vwVu9CvdQ%2BMkWrvoelrYR%2BV4aNsJYk0Cw0aMnNzJhglgsrHozSFQFABre%2BKf/BQz4IfB%2BeeXxdperpp9tr97pUurtdabBA72bQJcyQrcXkct0scszxGOCOSbfbTAREBC%2BP4Q/buI1nU/D3jDwrd6lq6eJtU0nQ9B8MaXGst%2BYvE2q6TbBZrq8WPzDDp/myhxGi7JHD4YRL2e5cWp6p8MfgBBpfwH079mLxz4hi1nRI/CVp4Xe4tdPa0lmtFsY7OZmzLINzkSOMYCB1X5ipdsb4M/AP4g/DfxHeeOPGHxY0/xDrmoaTpGiXV7H4ZazjOlacLtoIxH9qkxctNezyPPkodwUQqAMaX7H3xt8UfHfwna%2BNPE3gubS5G8Va3Zxny0jSOOy129sIYXQzSOLgQ2sbSnHll3bYcfKvE/AL9pT4mfEbx54ag8ZWWgjQfiD4c1vW/CsOmWM8V1psNhfWkKRXUjzOty80N5HIWSOERtE6YcMGBpcDK0L9gu70jSfE81z4v8D3Ws%2BIrbTrSZ2%2BEtmml3lvbXUlxK1/p6zhLu5uWlPnTRvAMxwmNIthDR3//AATz0jUPCXhf4fXPivw7PoukyTz6wl18P7Z7p57nUn1G9bTbgShtLS4klkhePE6rDsVNjKZGj8Eftb/Erx18b7v4LJ4l8G6bqmpal4ksNK0WTQrq4v8Aw8%2BmXnl20%2BoILyMTxXtsrXMYUW2FdNjTrukHO69%2B2T%2B0D4R8H2PiPxP4t%2BHNpYazP4luvD3iy/8AC99bWOp2%2Bm/ZYrSwWH%2B0JCt1fyPeTwSLLJut7ddsDuSAe4Gp2/jr9inxT8WNWuLv4rfG2LWYbDSdRsvCbf8ACLLHc2v2nUbO/ia%2BkM7JfiCSwtVRFjgVlVt4ZiGX0f4GfCPVfhTZeIr3xN4qtdY1nxX4ml1vWrrTtJNhaCdreC3CwW7TTNEgjtoid0rlpDI5Pz4HK/C79oH4gfET472Hhq40PRrXwf4g%2BGVt4o8PtG00molne3DeexKxov79lEaqx/dBzJ8/lp7HTSW6DUKKKKoRa0//AI9L7/r1H/o2OqtWtP8A%2BPS%2B/wCvUf8Ao2Oub8c/Ej4efDDR28Q/Enx3o3h%2BwXOb3W9TitYuOvzSsoqJThTTlJ2S6vRfe7G1ChXxVaNKjBznLRRinJt9koptvySbNqivmfxH/wAFWv2ZJdXl8K/A7TfF3xW1uM7W034deGJ70Kx6FpmCR7fVlZgBVIfF/wD4KlfGMg/DP9mDwR8MdOk%2B5qHxI8SPf3Tp/eFvYgGJv9mTPvXlvPMvk%2BWg3VfanFz/ABVor5zPuqfhlxZSpqrmUKeBg9b4urTw7t3VOblXl5Woa9D6lrm/iD8Y/hH8JrP7f8Ufih4e8OQ7dwk1zWYLUEe3msufwr5%2Bk/Y5/be%2BKg%2Bz/H//AIKIaxZ6ZL/x8aL8MvDVvo7gdwt780uO2CprpPh3/wAEuv2H/h9df2vP8EbPxNqrtvutY8a3EmrT3L/33FyzR5/3UFL63m9f%2BDh1Bd6kkv8AyWnzP75Ir%2BwOAMrV8xzeWIl/Jg6MpL51sV7GC/7dpTMrxD/wVj/ZEh1V/Dfws1DxR8SdXjODpXw78KXOoSE9sOVSJs%2Bzmqf/AA3V%2B1T4rGfhR/wTH%2BIl2G/1Z8X63ZaCf%2BBCbftr6U8PeGPDfhHS00Twn4esdLsov9VZ6daJBEn0RAAPyq9R9TzerrUxXL5QpxX4zc3%2BAPiDgDA%2B7g8kdW32sTiqsm/WGHjQgvRSfq9z5lT4k/8ABXPxvpc0Phr9mv4S%2BB43nj3zeLvGFxqTRna%2BMCxUAnGfbIFQf8M/f8FP/GfzeL/29/DPhVH/ANba%2BD/hrBc/8BWW7cOv1619Vw/8gW4/6%2Bof/QZaq0lk8Z/xq9Wf/cRxX3QUPzF/xEKth/8AcMrwNDzWFjVl/wCBYmpXf/kp8vD/AIJ0/ErxH8/xM/4KMfHK/Y8snh7xDDpEbH3SKNuPbNKf%2BCTnwC1T9347%2BL3xc8Uwn/WW/iD4j3UiSfURhD%2BtfUFFP%2BwMofxUub/FKcv/AEqb/IP%2BIqeIEP4OOdJf9OqeHpW9PZ4aDXyl8z5/8Hf8Esv%2BCf3gd1l0n9mPQbp1OS%2BtyT6juPqRdSSA/lXpmgfs3/s8eFAo8L/AXwXpoX7v2DwtaQ4%2BmyMV2lFddHLctwytSowj6Riv/bf1PCzHjLjDOJc2OzLEVf8AHXrS/B1LfgV9P0nStJi8jStMt7ZP7lvCqD8gBViiiuxJJWR87KUpy5pO789S1qH/AB6WP/Xqf/RslVatah/x6WP/AF6n/wBGyVVoWxIUUUUwCiiigArvPBn/ACLVt/wP/wBDauDrvPBn/ItW3/A//Q2rGv8AAOO5qUUUVylhRRRQAUUUUAFFFFABRRRQAUUUUAFFFFABRRRQAUUUUAFFFFABXi3wc%2BIPxYg%2BMfxr8O/EjxoniCy8MX9jdeHLGz0iK0WxtZ7Jpxart3PK2Au6SR2LOWKiNCsae015z4S/ZW%2BEHgf4mat8XvDjeLI9d1y5SfVprn4i63cW906fc3W0140G1R8qoI9qr8oAXigDzL9jP4xfGTxZ4k8N6b8UviVJ4oTxz8GtJ8cLv020t00a7nkxPa25tooy1qRNEIhMZJR5DlpX3fLx37fcUlv/AMFBv2StYR1ULqfjK0JeQKuZ9KhAySQP4a%2Bi/hB%2Bzd8GfgPdXt58LPCUmnSX1pBaP5%2BrXV2Le0gaVoLO3FxK4tbWIzSlLeEJEnmNtQZr51/4KaL9g/aM/Zd8RdPK%2BKN1Z7v%2BviyZcfjtry840wafadJ/dVgff%2BGfvcVOn/Ph8bH/AMCwWJX6Hvv9j3f/AD2tf/A6L/4qj%2Bx7v/nta/8AgdF/8VVWivo9T88LX9j3f/Pa1/8AA6L/AOKo/se7/wCe1r/4HRf/ABVVaKNQLX9j3f8Az2tf/A6L/wCKo/se7/57Wv8A4HRf/FVVoo1Atf2Pd/8APa1/8Dov/iqs32lXTW1moltvltiDm8iH/LVzx83PXtWZVrUP%2BPSx/wCvU/8Ao2Sk73QB/Y93/wA9rX/wOi/%2BKo/se7/57Wv/AIHRf/FVVop6gWv7Hu/%2Be1r/AOB0X/xVH9j3f/Pa1/8AA6L/AOKqrRRqBa/se7/57Wv/AIHRf/FUf2Pd/wDPa1/8Dov/AIqqtFGoFr%2Bx7v8A57Wv/gdF/wDFVZ1jSrqTV7qRZbYBrlyN15ED949QWyKzKta5/wAhq8/6%2BpP/AEI0tbgH9j3f/Pa1/wDA6L/4qj%2Bx7v8A57Wv/gdF/wDFVVop6gWv7Hu/%2Be1r/wCB0X/xVeK3n/BP/wCG76p4g8Q6H4y1vStU13xna%2BJodSs9V0%2BR9KuoJJplitknhki8lp7u9nZJUlPm3szgqdmz2Cik02B4RoP/AATI%2BDej3Ej6j4y8R6vBLcLI9pquvWLo0YuNauDCzJCsjoz69fZLMXIWL58qxfr/AIPfshwfBvxPeeMdP%2BM3ijWtQ1DSNI0q7m17U9Lk32Wm/bPs8GIraMKP9NkLsMOxjQ7gTIX9Ioo5bDucL4m/ZC8HePPimfiNq3inVbeKebTr7WPDtjqlmLDVrvTJGuNPuJw0bTB4ZhE37qSNXEEYkDqmKoeN/wBjfw58QfFcfizxH8Q9cZ7i20638R2UOp6clv4hhsLyS8s47tRDkLHLNL/qDCZEcpIZFwK9T0f/AI%2B3/wCvWf8A9FPVWlbUDxHVf%2BCdHgfVPDl/4THxd8XW9jNod5omiw2%2Bs6X/AMSLS7y%2Btry8srbdbHzIpzaQRP8AafPYQoUVlySe5039mlIofBq%2BJviXq2uy%2BBvEMmr6NNfT6Tb7nbTrqwWCSOztoIjCkV3KyKqKwdUJYhdtdrRT5QueT%2BMv%2BCfnwC8S%2BO7n4p%2BGPCml%2BDvFNz4c1zSj4l8HW%2BmWd/HJqpgNxqCzGFm%2B2p5LCOYk7Rc3G4N5nEV3/wAE/fg94m%2BD3/Ck/inHZeNNKtNJn03w7ceI9H8P%2Bf4et5YFhZbD7NZQpAcIjBijHcikkhQK9doo5Qucb4e/ZX%2BG/hvVUu7LSrKSwj8DweE4tAmlszp6abG8jMggCgfvA4Vx9xljQbRg55nRv2CPhF4D1PxDr/wPYfDjUvEd5Y3E9/4EGlWTW/2WMxrEkZgeKSJwWLxzJKpZiwCsFI9Yoo5Quch4F/ZV8EeAJ/Cmt6Fqd40vgrQ7/SNNiudWgkjuhfy209zd3BI3PdGSzBDhlH%2Bk3GVO4bOE8Q/8E9vDHijw9qPhzWvjj42niudCbQ9Mmn17S5ZdI0mS8guriwhaS2bz4p/s0EMpuvtDvDHs3jLE%2B6Q/8gW4/wCvqH/0GWqtLluFzyTxf%2Bwxovj7SYtK8Y/GbxReGTQrrQNanjvdGtm1nRZ2Rn024S3s441hGwqrwpFMqyyASjea6Lw9%2BzPfeH/j7q/x/X40eIbq51nSLXS7rw7c3GjDTktLaS7lt4k8u0W4Hlve3DBjMWbcA5YKBXc0U%2BULnndv%2ByYND%2BE3hH4R%2BAvjZ4t8NW/g/RE0q21TR9c043V/AsCwsbpZ4JIJJW2CQyrErq5YoUDMD3PgT4ZaN8NfA%2BjfDnwba2tpo%2BgaVb6bpVqNRjbybaCJYokyzknCKoyeeKt0UWaEWv7Hu/8Anta/%2BB0X/wAVXR%2BALOW0%2B1%2Ba8R3eXjyp0f8AvddpOK5Kuo%2BG3/L7/wBs/wD2aoq35GNbnUUUUVyFhRRXNfGYeMz8H/FY%2BHJk/wCEh/4Rq%2B/sHyvv/bfs7%2BRt9/M24oA6Wivgv4Lp8GNc%2BHfxW8A/s7fESx8LeG9d/Z00i3m1XQI3kktfEv2XWft9x5Fv%2B/m1OG3axe6VR9q4tw2HK15dqX/CMeKLo2sNz8EfCPwwl8cSvol/PB/bvw6tr5PDSrPGiN9hjuZpJHjeORDEsU8V2uJpRIJAD9Ra4Pxn/wAjLc/8A/8AQFqD9kWfUbr9lD4YXOr6ZrNldyfDzRWurPxFdNPqEEhsYS0d1IyoZJwch2KqS4YlRnAv%2BLY9LbxBcG4vLhH%2BTcqWysB8i9y4/lW1H4hS2MOirXk6L/0ELr/wDX/45R5Oi/8AQQuv/ANf/jldNyCrWZ418H6B8QvBur%2BAfFdkLnS9c0y40/UrY9JbeaNo5E/FWI/Gt3ydF/6CF1/4Br/8co8nRf8AoIXX/gGv/wAcouB86a5/wTp%2BFWteBIfAK/E/xzaQP4OvPDuuX9tqFmbvW4bm5e7muLmSS1bFw11JJOzQiJZHkYSI6YQXYf2BfhnaXza/p3xF8X22trqcupWmuxXNibi0vJNYvtVeaNWtDCSZdRuYirxsnksF27hvPv3k6L/0ELr/AMA1/wDjlHk6L/0ELr/wDX/45StHsPU4r9nT4JaX8CNNsfBfh3xnrup2C6teXjLrctvI73N7qVxfzzM8cKMWMl06gZ2hETjduZuX8B/sn%2BEvhx4obxT4b8e%2BJg9rZ31n4btLiWzkh8PWt7exXl3b2gNtkpJLBCP35mZEiVIyijFezaPFpA1e1MV9clvtKbQ1qoBO4dTvOKreTov/AEELr/wDX/45S0uB5ppH7PWl6d8Tbj4o6l8SfFer3Kw6hFoWn6tfwy2%2BhC9kjkuTakQiU5aNAnnSSiFAY4hHGShzdX/ZT8PXfwb8MfA3w78U/Gfh/RfDPhpPD4OialAkupacLaO2aG58yB0LMka4miWOWMljE8e5gfXfJ0X/AKCF1/4Br/8AHKPJ0X/oIXX/AIBr/wDHKegHlem/s12WjfG%2By%2BNWkfFfxRapp2gjRbLwlDBpg0qKwGwiAf6F9pxvjV8%2BfuBGM7Pkr0qvN/2hv2yv2Vf2XrdY/i38WRb6pOB9h8O2FkLrU7tm4VY7aKQv8xwAzALk8sK8ci%2BJn/BRH9rG4J%2BDfgOz%2BBvgqf8A1Pifx5py3viG4jPSSLTg3lQHH8ExPYhq83EZthKFV0YXqVP5ILma9deWP/b0o%2BjPs8p4Dz3MsDHMcRyYTCPaviJeypytv7NNOpWflRpVPOUT6R8ffEj4ffCrw5L4v%2BJnjbStA0uD/W6hrF/HbxA%2Bm5yASewHJ7V86aj/AMFMrX4n30vhv9iH9nnxb8WrxJDEdcgtjpehQuDgh765UDIPOAuGAOG71veAv%2BCXn7N1r4ji%2BIn7Qvi7xT8YfFUfI1b4hyC6t4TnJWGz8zyY48gYRg%2BMcGvovTtI8KaRYQ6XpJktbW3jEcFtb6dGkcaDgKqq4AA9BWNs6xnxNUI9lac/vdoR%2BSn6no%2B28N%2BHtKVOpmdZdZ82GwyflCLliaq/x1KCfZXPlqw/Z3/4KMftBQ3V/wDHz9rOy%2BGWktbhm8KfCGw/0koZEAV9RuMyI4zz5YZSRxWr4H/4JWfsa%2BF9YXxV4z8C3/j/AFzjzda%2BImszatNL/vxynyW5/wCmdfT9jFpAtrzZfXJBthuJtVGB5qdPn55xVbydF/6CF1/4Br/8cpwyTLefnrRdWXeo3N/dL3V8oIwxHiZxe6UqGArRwVFq3JhYRw8bdnKmvbT8%2BevJvqY/hzwx4a8H6TFoHhLw9Y6XYwjENlp1okEMY/2UQBR%2BAq9VrydF/wCghdf%2BAa//AByjydF/6CF1/wCAa/8AxyvXXLFWSsvQ%2BEqVKlWo51JOUnq2222%2B7bbbfm22VaKteTov/QQuv/ANf/jlHk6L/wBBC6/8A1/%2BOU7kFWirXk6L/wBBC6/8A1/%2BOUeTov8A0ELr/wAA1/8AjlFwCH/kC3H/AF9Q/wDoMtVa04otI/sicC%2Budv2mLJ%2ByrkHbJjjf9areTov/AEELr/wDX/45STAq0VHq3iL4f6DIkWu%2BMo7JpCBGt35UZYnoBulGauxjQZo1li1O5ZWGVZbRCCPUfvKFOLdkJSi3ZMrUVa8nRf8AoIXX/gGv/wAcqDUr/wAI6NaPqGseIXtLeMZee5hjjRR6lmlAFNySV2NtJXYyivEviZ/wUx/4J7/Ce%2BOleJ/2oNMubwNs%2ByeH7N9Uff8A3D9jMoVu2GIrlB/wVa/Z81P954H%2BCnxy8Twn/V3Og/CqaRJPoZJkP6V5dTPMnpTcJV43XRPmf3RUjyKmf5JSm4SxMOZdE%2BZ/dFTZ9Rah/wAelj/16n/0bJVWvm67/wCCmcd9BbLpn/BPv9p91SErG9x8KUiWQb2O4E3fTJI/Cq5/4KI%2BPJ%2BdO/4J1fH1x/08%2BFLeE/kbg1ms%2Byq2k2/SFT/5WR/rFk/So36Qq/8Ayo%2BmaK%2BZR/wUM%2BJEfzXH/BOb47he5j8OWzn8vPpW/wCCiHj66/d6N/wTp%2BPkkvQi98K29umf943B/On/AG9lf87/APAKn/ysP9Ycp/nf/gur/wDKj6Zor5lX/goT8ULEY8Qf8E5PjlEew07Qba7Gfqs4qNv24P2sNWb7R4N/4Jj/ABAntupfWvEen6dLj/rm5Y59s0f27lr2cn6U6l//AE2H%2BsOV9JSb7KnVb%2B72Z9PV3ngz/kWrb/gf/obV8TD9t79rO2/5Cf8AwTG8fJ6/ZfEunzfyIr6z/Zq8d%2BIviZ8E9E8b%2BLPhrqvg/UL0XH2jw5rbRtdWmy5ljG8xkr8yqHGD91xnnNXDMsLjHyU%2Ba611hOP4yil%2BNzrwWaYPG1XClzXSvrCcfxlCK%2BV7ndUUUVqemFFFFABRRRQAUUUUAFFFFABRRRQAUUUUAFFFFABRRRQAUUUUAFFFFABXyB/wVoX7Bqn7N/iLp5P7SGg2hb0E8Vyv/stfX9fIP/BZP/RfhB8Jdf8A%2BgT%2B0J4Wu9393Dzrn/x%2BvKzvTK6j7cr%2B6dN/ofoHhZ73H2Ch/O6sP/A8Ni4/nJHt1FFFfSn52FFFFABRRRQAVa1D/j0sf%2BvU/wDo2SqtWtQ/49LH/r1P/o2Sk90BVooopgFFFFABRRRQAVa1z/kNXn/X1J/6Eaq1a1z/AJDV5/19Sf8AoRpdQKtFFFMAooooAKKKKALWj/8AH2//AF6z/wDop6q1a0f/AI%2B3/wCvWf8A9FPVWl1AKKKKYBRRRQAUUUUAWof%2BQLcf9fUP/oMtVatQ/wDIFuP%2BvqH/ANBlqrSXUAooopgFFFFABXUfDb/l9/7Z/wDs1cvXUfDb/l9/7Z/%2BzVnV/hsa3OoooorjLCiiigAooooAK4Pxn/yMtz/wD/0Ba7yuD8Z/8jLc/wDAP/QFrah8ZMtjLooorqJCiiigAooooAtaH/yGrP8A6%2Bo//QhVWrWh/wDIas/%2BvqP/ANCFfLPxt/bO%2BIXxB%2BJN5%2By5%2BwZoNj4l8Z2n7vxR4yviW0TwkpJBMzqCJ7gYOIVzhgchiroOPGY7D4GClUer0ikryk%2B0Vu3%2BCWraWp9Bw7w1mvE%2BLlRwaSjBc9SpOShSpQWjnVqP3YRWy3lKVoQhObUT079pL9r/AOA/7KujQ33xX8W7dRvvl0fw3pkX2nU9TcnaqQW6/M2W%2BXcdqAkAsK8ZisP%2BCiX7Z6C51TUh%2Bz74AuuUs7PFz4rv4D/fc4SwLDB4xIh4IYV6H%2BzH%2Bwv8PfgJrFx8VPGmtXXjz4mar8%2Bt/EHxIgkunYjBjtlORawgcBE524BYgADr/jR%2B1f8As2/s72zT/Gn40%2BH9AkVN4sbu/Vrt19Ut03Sv/wABU15dWlicTTdXMavsaX8kZcun9%2BpdNv8AuwcV05pH0uJ4m4P4HptZLCGIrx%2BLGYmMeRP/AKh8PU9yKT%2BGriFVquyapU9EsP8AZ5/YY/Zq/ZmuG1z4e%2BAUuvEM5LXvi7X5jfardO33na4lyULdxHsU%2BlevV8rj/go946%2BLrfZ/2NP2MvHfj6GT/U%2BJNdjTQNHcH%2BNLi6GZAByV2qenrUsemf8ABX7xyTq1z4n%2BC3gWE/6jSYLG%2B1OcD/prIxCZH%2BxxTw2Y5bQpKngKMpxX/Pum%2BX15nyRfreV%2B7PzLNuOMZxJjpYzE1K%2BMqy3nac9FslObhHlXRQtFLSKSPqOmXNzbWVu93eXCRRRKWkllcKqKOpJPAFfL7/s9f8FO/HTfYfHX7d/hvwxYjiT/AIQj4fRSTzj08y5bMR91zS2//BKH4H%2BLLhNR/aO%2BK/xK%2BK1wHDtF4y8Z3BtVYcjZBbmMIuf4ckVv9fzKrpRwrXnUlGC%2B5c8vwR5n9o5pW0oYOS86k4QX3R9pL8Edp8Rf%2BCnH7B/waubvQvGn7SWhSX0kQiWz0JZtUcSCRDsYWSShDgHhsVxn/D3P9la%2B%2Bbwp4d%2BIuvKfuvpHw%2BvXDfTei1738Gf2fPgZ8DNFvdO%2BD3wj8PeG4/sSq76RpUUMko82P78ijfIfdiTXTUKjntR3lWpw8lTcvxlNX%2B5B7DiGprKvTh5Rpylb5zmr/wDgKPl0/wDBTHUPER8n4W/sH/HnXnP3bi58EixtSfTzpZePypT%2B2v8AtnXo8vQ/%2BCXfjGSRuIxf%2BNdOtlJ7bmYHaPevqGin9QzOXxYyX/btOmvzUg/s7NZfHjZf9u06S/NSPl0fEn/grl41/e%2BGv2bPhH4JVukXjDxhc6k6fU2AAP4Uf8Kl/wCCsvjD5fEX7XHwz8HBvvN4S8BvqBT6fbmGfxr6ioo/shS/i4irL/t/lX3QjH8w/sRT/i4mtL/uJyr7oRj%2BDPl7/hhz9rfWRnxp/wAFPvH05P3zofhqw00H6CPdij/h3x8bP%2BklPxm/8D7b/wCN19Q0Uf2FlvVSfrUqP/3IP/V7K3upP1qVX/7kPmWP/gnD8R9V0uZfFP8AwUh%2BPU1sJ41MGl%2BKIbJmyr9XSInt%2BpqD/h0v%2BzxqPPjb4ofFfxMT98678RruQv8AXy9lfVcP/IFuP%2BvqH/0GWqtJZDlD%2BKlzf4nOX/pU3%2BQf6uZK/ioqX%2BKU5f8ApVRr8D5s0r/gkN/wTv0qNwf2dbe8klBEs%2Bo6/qNw7k98vcHB9xiqT/8ABHv9hq2kZfDfgvxHotu5y9jpPjfUo4WPrhp2P619QUVTyHI2rfVqf/gKX5Wf4jfDmQNW%2BqU//AIr8VZ/ifL3/Dn/APYrT5rbRPF0L95IvHeohj%2Bc1Taf/wAEfv2BIbtdR8QfCK/1%2B6U8XGveLdSuD%2BK%2BeFP4ivpuiksgyNP/AHaH/gKf53X4CXDnD6d/qtP/AMBT/B3X4HI/C/4BfA/4KWYsfhH8I/DnhtNu1m0bR4YHk/33RQzn3Yk111FFepTpUqMFCnFRS6JJL7kkj1qVKlQgoU4qKXRJJfckl%2BBa1D/j0sf%2BvU/%2BjZKq1a1D/j0sf%2BvU/wDo2SqtUtjQKKKKYBRRRQAV3ngz/kWrb/gf/obVwdd54M/5Fq2/4H/6G1Y1/gHHc1KKKK5SwooooAKKKKACiiigAooooAKKKKACiiigAooooAKKKKACiiigAryz4Ufta%2BA/i544HgvSPCfiHTkvbDUr/wANazqlvbraeIbOwvI7S7uLTyp5JQiSzwY8%2BOFnWZHQOuSPU6%2Bbfgt%2Byz8cvhv448KDWL3ww2g/D7w7rvh3wveWGr3H227s9SvrWdbueJ7TZDPbw2UMQiWSRJmlkcvEFVCAd7%2Bzr%2B1v4H/aSuWtvDPg3xFo3neF9N8SaS%2BvRWoGp6PfmcWl5F9muJjGr/Z5P3U/lTLgboxzjxb/AILb/wCifsZWPiDp/ZPxJ8PXe70xeKuf/H6679hj9j3xt%2BzNrV7qfiPRfB2jrP4P0rR9SXwddzynxPqVq9w0%2Bv3/AJtvCVvJ/OG4Znc5bfPLhNvLf8FzYpf%2BHaXjm9t1Bls7/RriPKg4Kapakn24zXl55/yJsQ%2B0JP7lf9D7/wAKWv8AiJuTRf2sTRj/AOBycP8A289poqe21%2Be6t47qGO1KSIHU/YYuQRkfw0/%2B2Lv/AJ42v/gDF/8AE19Hds/PWmnZlWirX9sXf/PG1/8AAGL/AOJo/ti7/wCeNr/4Axf/ABNGoirRVr%2B2Lv8A542v/gDF/wDE0f2xd/8APG1/8AYv/iaNQKtWtQ/49LH/AK9T/wCjZKP7Yu/%2BeNr/AOAMX/xNWb7VbpbazYRW3zWxJzZxH/lq44%2BXjp2pO90BmUVa/ti7/wCeNr/4Axf/ABNH9sXf/PG1/wDAGL/4mnqBVoq1/bF3/wA8bX/wBi/%2BJo/ti7/542v/AIAxf/E0agVaKtf2xd/88bX/AMAYv/iaP7Yu/wDnja/%2BAMX/AMTRqBVq1rn/ACGrz/r6k/8AQjR/bF3/AM8bX/wBi/8Aias6xqt1Hq91GsVsQty4G6ziJ%2B8epK5NLW4GZRVr%2B2Lv/nja/wDgDF/8TR/bF3/zxtf/AABi/wDiaeoFWirX9sXf/PG1/wDAGL/4mj%2B2Lv8A542v/gDF/wDE0agVaKtf2xd/88bX/wAAYv8A4mj%2B2Lv/AJ42v/gDF/8AE0agGj/8fb/9es//AKKeqtaelardSXLK0Vt/x7THiziHSJj2Wq39sXf/ADxtf/AGL/4mlrcCrRVr%2B2Lv/nja/wDgDF/8TR/bF3/zxtf/AABi/wDiaeoFWirX9sXf/PG1/wDAGL/4mj%2B2Lv8A542v/gDF/wDE0agVaKtf2xd/88bX/wAAYv8A4mj%2B2Lv/AJ42v/gDF/8AE0agEP8AyBbj/r6h/wDQZaq1pxardHSJ5PKtsi5iA/0OLHKydtuO3%2Bc1W/ti7/542v8A4Axf/E0lcCrRVr%2B2Lv8A542v/gDF/wDE0f2xd/8APG1/8AYv/iaeoFWirX9sXf8Azxtf/AGL/wCJo/ti7/542v8A4Axf/E0agVa6j4bf8vv/AGz/APZqwf7Yu/8Anja/%2BAMX/wATXR%2BALyW7%2B1%2BakQ2%2BXjyoET%2B912gZrOrfkY1udHRRRXIWFFFc18Zh4zPwf8Vj4cmT/hIf%2BEavv7B8r7/237O/kbffzNuKAOlor4L%2BC6fBjXPh38VvAP7O3xEsfC3hvXf2dNIt5tV0CN5JLXxL9l1n7fceRb/v5tTht2sXulUfauLcNhytecOll4luVO/4H%2BGvgc3xFydu/V/AUWop4ZwB/wAuMVzE02P%2BeUSXuP8AWXEX7wA/TuuD8Z/8jLc/8A/9AWn/ALMfiK78X/s2/D7xXf8Ag258Oz6l4J0q6m0C8uJppdNaS0iY2zyT/vXaMnYWk%2Bclcths1L4tj0tvEFwbi8uEf5NypbKwHyL3Lj%2BVbUfiFLYw6KteTov/AEELr/wDX/45R5Oi/wDQQuv/AADX/wCOV03IKtFWvJ0X/oIXX/gGv/xyjydF/wCghdf%2BAa//AByi4FWkZlRS7sAAMkk8AVD4t8UfD3wF4ZvvGfjTxeNL0nTLZrjUNRvoo44beJRkszNJgCvhLU/jZ8cv%2BCuHi3WPhB%2Bzdquo%2BAvgRYXRs/FfxFksyNS8QKBlrS1jLARq4I3LuyIyDIRv%2Bzv5mYZrRwLjSUXOrO/JBby8%2B0YrrJ6LzdkYyrxhV9moynK3M1BJtRTScndqMVdqKlOSTk1Fcz90zf2xP%2BCmPw8%2BK3xAl/Zx%2BGXx9TwZ4Itbtbfx38R9JD3Go34LbW0/RoYQ0krtyrXIGxc/eA2%2BZ2HwQ/ao8P8Aws%2BHFn8If2Cv%2BCcfxT1WxgH%2Bi3us6MmiWF7MQAZ5r65ZjI7YBZ3XOABwAAPor9lb9gr9kD9lK401fg78NLeHVYJI1bxDqVglxqM7ZALNcO5ZNx5KxhU9FHAr1bydF/6CF1/4Br/8crx8JlWczryxWKrxjUlp7kOblj/LGU3ZLu1G8nq29EvazviPiDOMrpZTg3HA4GDUvZU17SdSpazrYitNRVSruopU1Sox9yjBLmnP5Jk%2BBX/BRr9pYhf2gP2hNK%2BFHhub/W%2BGPhQjSanKh/gl1GbPlOOcmHcp9PT0T4J/8E9v2QvgLMmreDPgxpl5rIfzJfEfiFDqOoSyk5MvnXG4oxPJ2bR7V7l5Oi/9BC6/8A1/%2BOUeTov/AEELr/wDX/45Xr0cowNOoqtROpP%2Bab52vS%2Bkf%2B3YxPlaGR5fSqqrUTq1F9qo%2Bdr0v7sf%2B3Yx9SqAAMAUVa8nRf8AoIXX/gGv/wAco8nRf%2Bghdf8AgGv/AMcr1LnrFWirXk6L/wBBC6/8A1/%2BOUeTov8A0ELr/wAA1/8AjlFwDT/%2BPS%2B/69R/6NjqrWnYxaQLa82X1yQbYbibVRgeanT5%2BecVW8nRf%2Bghdf8AgGv/AMcpJ6sCrRVrydF/6CF1/wCAa/8AxyjydF/6CF1/4Br/APHKdwKtFWvJ0X/oIXX/AIBr/wDHKPJ0X/oIXX/gGv8A8couBVoq15Oi/wDQQuv/AADX/wCOUeTov/QQuv8AwDX/AOOUXAIf%2BQLcf9fUP/oMtVa04otI/sicC%2Budv2mLJ%2ByrkHbJjjf9areTov8A0ELr/wAA1/8AjlJMCrRVrydF/wCghdf%2BAa//AByjydF/6CF1/wCAa/8AxyncCrRVrydF/wCghdf%2BAa//AByjydF/6CF1/wCAa/8Axyi4FWirXk6L/wBBC6/8A1/%2BOUeTov8A0ELr/wAA1/8AjlFwDUP%2BPSx/69T/AOjZKq1p30WkG2s999cgC2O0i1U5Hmv1%2BfjnNVvJ0X/oIXX/AIBr/wDHKSegFWirXk6L/wBBC6/8A1/%2BOUeTov8A0ELr/wAA1/8AjlO4FWirXk6L/wBBC6/8A1/%2BOUeTov8A0ELr/wAA1/8AjlFwKtd54M/5Fq2/4H/6G1cb5Oi/9BC6/wDANf8A45Xa%2BEhAvh%2B3FvI7p8%2B1nQKT87dgT/Osaz90qO5o0UUVzFBRRRQAUUUUAFFFFABRRRQAUUUUAFFFFABRRRQAUUUUAFFFFABRRRQAV8vf8FmdO/tT/gm78SrbbnbpsM2P%2BudxHJ/7LX1DXz5/wVS07%2B1P%2BCf3xTttudvg%2B/mx/wBc7eST/wBlrhzSHPllePeE/wD0iR9d4f1/q3HuU1f5cVh3/wCV6X%2BZrfC/Uf7Y%2BGnh3Vt2ftWhWk2fXdCjf1rdrhP2XNR/tf8AZm%2BHWrbs/avAmkTZ9d1lE39a7uvYw0/aYanLvGL%2B%2BKf6nz%2Bc0PqucYqj/JVqR/8AAalSP6BRRRWx5oUUUUAFWtQ/49LH/r1P/o2SqtWtQ/49LH/r1P8A6NkpPdAVaKKKYBRRRQAUUUUAFWtc/wCQ1ef9fUn/AKEaq1a1z/kNXn/X1J/6EaXUCrRRRTAKKKKACiiigC1o/wDx9v8A9es//op6q1a0f/j7f/r1n/8ART1VpdQCiiimAUUUUAFFFFAFqH/kC3H/AF9Q/wDoMtVatQ/8gW4/6%2Bof/QZaq0l1AKKKKYBRRRQAV1Hw2/5ff%2B2f/s1cvXUfDb/l9/7Z/wDs1Z1f4bGtzqKKKK4ywooooAKKKKACuD8Z/wDIy3P/AAD/ANAWu8rg/Gf/ACMtz/wD/wBAWtqHxky2MuiiiuokK5/4pfFL4f8AwV8Bal8Tvih4ottH0PSbczX1/dvhUHQKAOXdiQqooLMxAAJIFbGq6rpmhaXc63rWoQ2lnZ27z3d1cSBI4YkUszsx4VQASSeABX5cftOfH74l/wDBQ/45%2BHvBvwj0drnQptRlT4V%2BH7%2BEiC/eNmjuPFOoxsDi0gxIsEbgh3Vsq22WJ/EzzOI5Th1yLmqz0hHu9ru2tk2vNtqK3bjvl%2BX5nnubUcpyyMXiKvM05vlp06cFzVa9aX2KNGF5zlu/dhFSnOMXH4r8Y/tB/wDBav8AaQHwi0E6l4O%2BDXhqaK81iE/LKYScxSXGMq93MATFCcrEuW%2BYhi36ZfCr4V%2BAvgn8PdK%2BFnwx8OQaVoejWogsLKAcKo5LMTy7sSWZjkszEkkmuZ/ZX/Zn8D/so/CGy%2BFngx5LqUO11rmt3Qzc6vfyYM11MxJJZj0BJ2qFXJxXo9ZZFlFTBKWKxcufE1NZy7LpCPRRj5aN69j2M4q5Pg1/ZmTNyw8HeVWatUxNRKzr1F9mO6oUE%2BTD0mopSqzrVZ2tD/5DVn/19R/%2BhCqtWtD/AOQ1Z/8AX1H/AOhCqte/1PACiiimAUUUUAFFFFAFrT/%2BPS%2B/69R/6NjqrVrT/wDj0vv%2BvUf%2BjY6q0luwCiiimAUUUUAFFFFAFqH/AJAtx/19Q/8AoMtVatQ/8gW4/wCvqH/0GWqtJdQCiiimAUUUUAFFFFAFrUP%2BPSx/69T/AOjZKq1a1D/j0sf%2BvU/%2BjZKq0lsAUUUUwCiiigArvPBn/ItW3/A//Q2rg67zwZ/yLVt/wP8A9Dasa/wDjualFFFcpYUUUUAFFFFABRRRQAUUUUAFFFFABRRRQAUUUUAFFFFABRRRQAVz3gP4ufCj4p6de6v8Mfid4e8R2mm3LW%2Bo3Wg61BeR2sygM0cjROwRwCCVbBANR/Gbw74j8YfB/wAV%2BEvB159n1fVPDV9aaVceZs8q5lt3SJt38OHZTntivkKPwT8Qvip8Jviz4c%2BF/wAKPFXhe58Rfsv6V4I0Cw1nwreabu120tNa8y2BljjVEiW%2BtYluAwilZyIpH8okAH2L8PPij8Mvi7oLeKvhP8RdC8T6Wlw1u%2BpeHdXhvbdZlALRmSFmUMAykrnI3D1rzf8A4KEacNX/AGLPidpW3P2nwHrMYHudOuAKqfsX3njK8fxs%2Bq2GuS6B/bdn/wAI3rfirwKnh7VL9Bp9usyTWq2tqWjgdRDFK0KkomzdIIg7dZ%2B1fYW%2Brfs9eLdJuYHkF14ev4VVHC8taTLzkHI56VliI8%2BHqR7xkvvjJfqetkFf6rn%2BDrfyVqMv/AatKX6HjX7Bmo/2r%2BxN8Jbstkj4daPET7pZxJ/7LXrNeI/8EwtV0nU/2AfhXcTWlw7p4WjhZlulAPlu8fTYcfd9a9487Rf%2Bgfdf%2BBi//G61yqfPleHl3hD/ANIiehx1Q%2BrccZrS/lxOIX/let/mVaKtedov/QPuv/Axf/jdHnaL/wBA%2B6/8DF/%2BN1338j5Uq0Va87Rf%2Bgfdf%2BBi/wDxujztF/6B91/4GL/8bov5AVatah/x6WP/AF6n/wBGyUedov8A0D7r/wADF/8AjdWb6XSBbWe%2BxuSDbHaBdKMDzX6/Jzzmk3qgMyirXnaL/wBA%2B6/8DF/%2BN0edov8A0D7r/wADF/8AjdO/kBVoq152i/8AQPuv/Axf/jdHnaL/ANA%2B6/8AAxf/AI3RfyAq0Va87Rf%2Bgfdf%2BBi//G6PO0X/AKB91/4GL/8AG6L%2BQFWrWuf8hq8/6%2BpP/QjR52i/9A%2B6/wDAxf8A43VnWJdIGr3Qlsbkt9pfcVulAJ3HtsOKV9QMyirXnaL/ANA%2B6/8AAxf/AI3R52i/9A%2B6/wDAxf8A43Tv5AVaKtedov8A0D7r/wADF/8AjdHnaL/0D7r/AMDF/wDjdF/ICrRVrztF/wCgfdf%2BBi//ABujztF/6B91/wCBi/8Axui/kAaP/wAfb/8AXrP/AOinqrWnpUukG5by7G5B%2BzTctdKePKbP8HpVbztF/wCgfdf%2BBi//ABulfUCrRVrztF/6B91/4GL/APG6PO0X/oH3X/gYv/xunfyAq0Va87Rf%2Bgfdf%2BBi/wDxujztF/6B91/4GL/8bov5AVaKtedov/QPuv8AwMX/AON0edov/QPuv/Axf/jdF/IAh/5Atx/19Q/%2Bgy1VrTil0j%2ByJyLG52/aYsj7UuSdsmOdn1qt52i/9A%2B6/wDAxf8A43STAq0Va87Rf%2Bgfdf8AgYv/AMbo87Rf%2Bgfdf%2BBi/wDxunfyAq0Va87Rf%2Bgfdf8AgYv/AMbo87Rf%2Bgfdf%2BBi/wDxui/kBVrqPht/y%2B/9s/8A2asHztF/6B91/wCBi/8Axuuj8APZP9r%2Bx28sf%2Br3ebMHz97phRis6r9xjW50dFFFchYUUVzXxm8Q%2BJfCPwf8V%2BK/Bln9o1jTPDV9d6Vb%2BXv825jt3eJdv8WXVRjvmgDpaK%2BN/AGtfETTPAPxQ8F/Cf8AaB1G4eb9m7QfFGi%2BL/Gfi2W8h0zXb6DWla/N1dNILaFxaWs5RcQQiMusYVyD5/8AEX9oX41%2BCfhT8Wfg74Y8P/Fnw5YpdrFbeIJrq/8AFmreE4P7BivLuJ76xe%2BaGWV2g8l3nPkrftOHTylhUA/QiuD8Z/8AIy3P/AP/AEBavfAHxM3jP4GeDvFkk1/K%2BoeGLGeSXVbWaC5kdoELNIk6rIrE5J3gE5z3qHxbZ28viC4kk1W3jJ2ZR1kyPkX0Qj9a2o6SFLYw6Ktf2faf9By1/wC%2BJf8A4iud%2BLfxC8B/BL4Z658WviB4ttLXR/D%2BmyXl/Lsk3FUGQigoNzscKq/xMwHet51adKDnN2SV230S1bMak4UqbnN2STbb2SWrf3Hxb/wWt/avj8EeANL/AGTPCN1cS6z44CzeIbfTnP2kaSsgQWyYBIkupgIVwG%2BVZMjBr13/AIJ5/sb3H7OfgeX4jfE%2B3tp/iN4rs7f%2B3JIU/daPZxoq2%2Bk2wydkECKiEAncyDkhUx81f8Ew/gh4o/bn/ac8Tf8ABS/9oRIobGHXHTwRo915jxi4iXZG6gKQY7WPbGhx80xd%2BGQ5/Sz%2Bz7T/AKDlr/3xL/8AEV8hkdGWb46ec4he69KMX0grrnt3lq12Tb3Z9XTrz4c4dngoLlxeOUJ4l7ShQVp4bCd46NYrEx05q1WjTldUHFVaKtf2faf9By1/74l/%2BIo/s%2B0/6Dlr/wB8S/8AxFfY3R8uGh/8hqz/AOvqP/0IVVrT0extU1e1ddYtmIuUIVVlyfmHHKYqt/Z9p/0HLX/viX/4ildXAq0Va/s%2B0/6Dlr/3xL/8RR/Z9p/0HLX/AL4l/wDiKd0BVoq1/Z9p/wBBy1/74l/%2BIo/s%2B0/6Dlr/AN8S/wDxFF0BVoq1/Z9p/wBBy1/74l/%2BIo/s%2B0/6Dlr/AN8S/wDxFF0Aaf8A8el9/wBeo/8ARsdVa07GxtVtrwDWLY5tgCQsvy/vU5Pyfhx61W/s%2B0/6Dlr/AN8S/wDxFJNXYFWirX9n2n/Qctf%2B%2BJf/AIij%2Bz7T/oOWv/fEv/xFO6Aq0Va/s%2B0/6Dlr/wB8S/8AxFH9n2n/AEHLX/viX/4ii6Aq0Va/s%2B0/6Dlr/wB8S/8AxFH9n2n/AEHLX/viX/4ii6AIf%2BQLcf8AX1D/AOgy1VrTisbUaROn9sWxBuYiW2y4Hyycfcz/APqqt/Z9p/0HLX/viX/4ikmgKtFWv7PtP%2Bg5a/8AfEv/AMRR/Z9p/wBBy1/74l/%2BIp3QFWirX9n2n/Qctf8AviX/AOIo/s%2B0/wCg5a/98S//ABFF0BVoq1/Z9p/0HLX/AL4l/wDiKP7PtP8AoOWv/fEv/wARRdAGof8AHpY/9ep/9GyVVrTvrG1a2swdYthi2IBKy/N%2B9fkfJ%2BHPpVb%2Bz7T/AKDlr/3xL/8AEUk1YCrRVr%2Bz7T/oOWv/AHxL/wDEUf2faf8AQctf%2B%2BJf/iKd0BVoq1/Z9p/0HLX/AL4l/wDiKP7PtP8AoOWv/fEv/wARRdAVa7zwZ/yLVt/wP/0Nq43%2Bz7T/AKDlr/3xL/8AEV2vhKNIvD9vHHOkgG/DoDg/O3qAf0rGs04lR3NGiiiuYoKKKKACiiigAooooAKKKKACiiigAooooAKKKKACiiigAooooAKKKKACuV%2BMenDV/A1zpJGftSvDj13ROv8AWuqrB%2BIf/IFi/wCvpf8A0FqqCTlZlRnKnJTjumn9zT/Q%2BOf%2BCQOo/wBp/wDBOb4a3BOSlrqEJ9vL1K7T/wBlr6Ur5f8A%2BCPn%2Bi/sPaR4f6f2T4m1202%2BmNSuGx/4/X1BXNkDbyPC3/59w/BW/Q%2B48VYRh4m50o7PFV2vSVRyX4SQUUUV658CFFFFABVrUP8Aj0sf%2BvU/%2BjZKq1a1D/j0sf8Ar1P/AKNkpPdAVaKKKYBRRRQAUUUUAFWtc/5DV5/19Sf%2BhGqtWtc/5DV5/wBfUn/oRpdQKtFFFMAooooAKKKKALWj/wDH2/8A16z/APop6q1a0f8A4%2B3/AOvWf/0U9VaXUAooopgFFFFABRRRQBah/wCQLcf9fUP/AKDLVWrUP/IFuP8Ar6h/9BlqrSXUAooopgFFFFABXUfDb/l9/wC2f/s1cvXUfDb/AJff%2B2f/ALNWdX%2BGxrc6iiiiuMsKKKKAOT8LfAP4F%2BBoZrfwV8FvCWjx3E081wml%2BHLW3EskyCOZ2EcY3NIihWJ5ZQAcgVa8JfCH4T%2BAPBUvw18CfDDw7onhydZVm0DSNEgtrKQSgiUNBGgjIcE7sj5s85roqKAIrGxstLsodM0yzit7a3iWK3t4IwiRIowqqo4UAAAAcACuI8Z/8jLc/wDAP/QFrvK4Pxn/AMjLc/8AAP8A0Ba2ofGTLYy6/Nf/AIK5fGnxl%2B1B%2B0F4V/4Jr/A29EktxqtrJ4pkjbKtduPMiikwQfKt4d1zJ1GTHkApX3F%2B1j%2B0NoH7LPwB8RfGrXYhO%2Bl2e3StPyd19fSHZb26gcnfIyg4yQu5uxr4x/4Iu/ATX/EnxS%2BIn7XvxXlOo65/as%2BjW%2BoTjPmalIwn1SdeSpxI0cCyJwURwOpFfNcSVamPxFHJqLs6rvUa6U1q16ytb0PX4bwOFx%2BZ1cVjIKeFwMFiKsXrGpNz5MLh5d1WxC5qkftYfD1U9KjPuz4KfCLwh8BfhN4f%2BDngS08nSvDumR2drkANJtHzSvjq7uWdj3Zia6iiivrKdOFGmqcFaKSSXZLRL7jzsXi8Tj8VUxOIm51KknKUnq5Sk3KTb7ttt%2Bv3FFFFWc5a0P8A5DVn/wBfUf8A6EKq1a0P/kNWf/X1H/6EKq0uoBRRRTAKKKKACiiigC1p/wDx6X3/AF6j/wBGx1Vq1p//AB6X3/XqP/RsdVaS3YBRRRTAKKKKACiiigC1D/yBbj/r6h/9BlqrVqH/AJAtx/19Q/8AoMtVaS6gFFFFMAooooAKKKKALWof8elj/wBep/8ARslVatah/wAelj/16n/0bJVWktgCiiimAUUUUAFd54M/5Fq2/wCB/wDobVwdd54M/wCRatv%2BB/8AobVjX%2BAcdzUooorlLCiiigAooooAKKKKACiiigAooooAKKKKACiiigAooooAKKKKACiue%2BLvjW5%2BGvwn8T/EWy04Xk2geHb3UorQ5/ftBA8oTjnkrjj1rwX4T/tHeK/g5H4wuv2kfjHceJ9F8O/B3w948vdcuNLs7eS0e8bU0uraJLSKJWgJsI2gVw8uXkVpZPlIAPpuvP8A4t/FHwloXjfw78H9Su5E1rxJY6hqWlR%2BX%2B7khsWtknBbPDg3sJC9wHP8Neb/APBPH9pPxJ%2B0ZovxGuvGfxZ8LeJ9Q0Tx/wCVa2/hTUbS6ttIsbjTLC6islmtiRcLFLNcw/aGyZWhkPAGxeG/4KaT6h8Nv2gP2av2ikuzHp%2BlfES78J6qpYCMRa3bLCJJCeio9qpyeAcVy4zFSwVFVktFKN/RyUW/kpXPPzTFywOD9uldKUL/AOFzjGT%2BSlc5D/gk/wD6L8DPGugdP7J%2BMPiS02/3cXIbH/j9fUFfM/8AwTB024gj%2BPvh4SW4/s79pLxOiBruNfkb7OykZbkcnkcV9Rf2Pd/89rX/AMDov/iqrIGlk9Fdk1905r9D9N8VdfEPMJ/zyhP/AMDoYaf/ALeyrRVr%2Bx7v/nta/wDgdF/8VR/Y93/z2tf/AAOi/wDiq9e6Pz4q0Va/se7/AOe1r/4HRf8AxVH9j3f/AD2tf/A6L/4qi6Aq1a1D/j0sf%2BvU/wDo2Sj%2Bx7v/AJ7Wv/gdF/8AFVZvtKumtrNRLbfLbEHN5EP%2BWrnj5uevak2roDMoq1/Y93/z2tf/AAOi/wDiqP7Hu/8Anta/%2BB0X/wAVTugKtFWv7Hu/%2Be1r/wCB0X/xVH9j3f8Az2tf/A6L/wCKougKtFWv7Hu/%2Be1r/wCB0X/xVH9j3f8Az2tf/A6L/wCKougKtWtc/wCQ1ef9fUn/AKEaP7Hu/wDnta/%2BB0X/AMVVnWNKupNXupFltgGuXI3XkQP3j1BbIpXVwMyirX9j3f8Az2tf/A6L/wCKo/se7/57Wv8A4HRf/FU7oCrRVr%2Bx7v8A57Wv/gdF/wDFUf2Pd/8APa1/8Dov/iqLoCrRVr%2Bx7v8A57Wv/gdF/wDFUf2Pd/8APa1/8Dov/iqLoA0f/j7f/r1n/wDRT1VrT0rSrqO5Zmltv%2BPaYcXkR6xMOzVW/se7/wCe1r/4HRf/ABVK6uBVoq1/Y93/AM9rX/wOi/8AiqP7Hu/%2Be1r/AOB0X/xVO6Aq0Va/se7/AOe1r/4HRf8AxVH9j3f/AD2tf/A6L/4qi6Aq0Va/se7/AOe1r/4HRf8AxVH9j3f/AD2tf/A6L/4qi6AIf%2BQLcf8AX1D/AOgy1VrTi0q6GkTx%2BbbZNzER/pkWOFk77sd/84qt/Y93/wA9rX/wOi/%2BKpJoCrRVr%2Bx7v/nta/8AgdF/8VR/Y93/AM9rX/wOi/8Aiqd0BVoq1/Y93/z2tf8AwOi/%2BKo/se7/AOe1r/4HRf8AxVF0BVrqPht/y%2B/9s/8A2asH%2Bx7v/nta/wDgdF/8VXR%2BALOW0%2B1%2Ba8R3eXjyp0f%2B912k4rOq1yMa3OjooorkLCiiua%2BM3iHxL4R%2BD/ivxX4Ms/tGsaZ4avrvSrfy9/m3Mdu7xLt/iy6qMd80AdLRXxv4A1r4iaZ4B%2BKHgv4T/tA6jcPN%2BzdoPijRfF/jPxbLeQ6Zrt9BrStfm6umkFtC4tLWcouIIRGXWMK5ByND8Z6hLpnjbwF40/4XBYWWieNtNs/BXgO1%2BKE1xr%2BtardaGszaVJqlteSzLEpYX5xebIo282ZlhUxIAfb9cH4z/wCRluf%2BAf8AoC1q/BTQfiD4V%2BDXhLwx8WvFEeueKtN8M2Fr4m1qFcJf6hHbolxcKMDAeUO44H3ug6VneNk0%2BDWLy/vtbtbaONA8pn3gRqEBJJCkAYGeta0WlLUmWx%2Ba3/BYP46Xc3xq8K/Crw4jXj%2BBdGk8S/YIhu%2B06/dv9h0aIL0MsUrtc7D96NWr7K/ZF%2BAth%2BzL%2Bzf4R%2BCdnsabRdJQanPH0nvZCZbmXPcNM8hGe2B2r8/f2VNOP7aH/BR7TPi1rMqvp2reIdS8fyC4Ryq6TprNpehKRtOyRZxO5GOVKniv1T/s%2B0/6Dlr/AN8S/wDxFfMcN/8AChj8VmktpS5If4Vb81yn07/4SvD7A4daVMxnLH1e/s/fw2Bg/JUKVaul3xCl5lWirX9n2n/Qctf%2B%2BJf/AIij%2Bz7T/oOWv/fEv/xFfY3R8sVaKtf2faf9By1/74l/%2BIo/s%2B0/6Dlr/wB8S/8AxFF0AaH/AMhqz/6%2Bo/8A0IVVrT0extU1e1ddYtmIuUIVVlyfmHHKYqt/Z9p/0HLX/viX/wCIpXVwKtFWv7PtP%2Bg5a/8AfEv/AMRR/Z9p/wBBy1/74l/%2BIp3QFWirX9n2n/Qctf8AviX/AOIo/s%2B0/wCg5a/98S//ABFF0BVoq1/Z9p/0HLX/AL4l/wDiKP7PtP8AoOWv/fEv/wARRdAGn/8AHpff9eo/9Gx1VrTsbG1W2vANYtjm2AJCy/L%2B9Tk/J%2BHHrVb%2Bz7T/AKDlr/3xL/8AEUk1dgVaKtf2faf9By1/74l/%2BIo/s%2B0/6Dlr/wB8S/8AxFO6Aq0Va/s%2B0/6Dlr/3xL/8RR/Z9p/0HLX/AL4l/wDiKLoCrRVr%2Bz7T/oOWv/fEv/xFH9n2n/Qctf8AviX/AOIougCH/kC3H/X1D/6DLVWtOKxtRpE6f2xbEG5iJbbLgfLJx9zP/wCqq39n2n/Qctf%2B%2BJf/AIikmgKtFWv7PtP%2Bg5a/98S//EUf2faf9By1/wC%2BJf8A4indAVaKtf2faf8AQctf%2B%2BJf/iKP7PtP%2Bg5a/wDfEv8A8RRdAVaKtf2faf8AQctf%2B%2BJf/iKP7PtP%2Bg5a/wDfEv8A8RRdAGof8elj/wBep/8ARslVa076xtWtrMHWLYYtiASsvzfvX5Hyfhz6VW/s%2B0/6Dlr/AN8S/wDxFJNWAq0Va/s%2B0/6Dlr/3xL/8RR/Z9p/0HLX/AL4l/wDiKd0BVoq1/Z9p/wBBy1/74l/%2BIo/s%2B0/6Dlr/AN8S/wDxFF0BVrvPBn/ItW3/AAP/ANDauN/s%2B0/6Dlr/AN8S/wDxFdr4SjSLw/bxxzpIBvw6A4Pzt6gH9KxrNOJUdzRooormKCiiigAooooAKKKKACiiigAooooAKKKKACiiigAooooAKKKKAGXNtb3lvJaXcCSxSoUlikUMrqRggg8EEcYrg/hJ%2BzD8F/gbdG8%2BGPh/UbCQwRW5a48Tahd/6NChjgtsXE7j7PCrOIYP9VD5jmNULsT39FAGP4X8BeE/Bepa7q/hrSfs1x4l1j%2B1Nbk8%2BR/tN39mgtvMw7EJ%2B5toF2rhfkzjJYn5%2B/4K%2B/DS9%2BKH7AXjmw0YOup6Lapr2lTRf6yKewb7VlP9opE6j/er6ZrmfixpdhrfhGTRdVtlmtbxjBcwuOJI3jdWU%2BxBIrHE4aOMw08PLacXH701%2BDs/kcmYYWOOwFXDS2nGUfvTV/k7P5H5/fsifE%2B18C/tgxTxSCLwn%2B0z4JtPG/hxc/u4Nfit0Oo2q/7boxlb0Kqtfa9fmh4S8K%2BKpP8Agn/qGj%2BEboT/ABJ/ZH%2BKV/cabG7fv5rS0unmdXA5MMtrJIBgYf7MFGcGv0N%2BEvxO8LfGj4Y6D8WPBN6s%2BleIdKhvrJwwJVZEDbGx0dSSrDqGUg8ivN4axUnSdCfVKov%2B3m1Uj/25VjNeSkj7zOMVLivgrKOKt6sqawuJ8sRhoKMJS86uHUd95UJ9bnRUUUV9QfFBRRRQAVa1D/j0sf8Ar1P/AKNkqrVrUP8Aj0sf%2BvU/%2BjZKT3QFWiiimAUUUUAFFFFABVrXP%2BQ1ef8AX1J/6Eaq1a1z/kNXn/X1J/6EaXUCrRRRTAKKKKACiiigC1o//H2//XrP/wCinqrVrR/%2BPt/%2BvWf/ANFPVWl1AKKKKYBRRRQAUUUUAWof%2BQLcf9fUP/oMtVatQ/8AIFuP%2BvqH/wBBlqrSXUAooopgFFFFABXUfDb/AJff%2B2f/ALNXL11Hw2/5ff8Atn/7NWdX%2BGxrc6iiiiuMsKKKKAOT8LfAP4F%2BBoZrfwV8FvCWjx3E081wml%2BHLW3EskyCOZ2EcY3NIihWJ5ZQAcgVlXX7Jf7Kt94RsPAF7%2BzN8PptB0q8ku9L0SXwZYtaWdxICsksUJi2RuwJDMoBIPJr0GigCn4f8PaB4S0Oz8MeFdDs9M0zT7ZLew07T7ZIYLaFAFSOONAFRVAACgAADivlX/grh8SdU%2BFf7GnxP8SaFctFf3WjQ6VZtH9/feyQ2h2Y53BZmII5GM9q%2Btq/Of8A4OFPiPdeB/2dtF0jS3Q3Wp%2BP7CXynPDxWttLctn1G%2BOL868zO8T9UyXE1b2tCX4%2B7/7ccWY4bFY7CSweF/i1nGlD/HWnCjD/AMmqr5X7FX/gkT8L9JtZ/iR8Y9MgU6eNWtPBfhWXqH03RrdbczofSeYtIx7upPWvtKvKf2G/g7B8BP2R/AHwuSILPY%2BHIJtR2jreTg3Fwff99LJj2xXq1duR4R4LKaNJqztd%2Bsvea%2BV0v%2B3T7jj3HYLHcWYmOB/3ai40KP8A15w0I4el98KPP61H3CiiivWPkAooooAtaH/yGrP/AK%2Bo/wD0IVVq1of/ACGrP/r6j/8AQhVWl1AKKKKYBRRRQAUUUUAWtP8A%2BPS%2B/wCvUf8Ao2OqtWtP/wCPS%2B/69R/6NjqrSW7AKKKKYBRRRQAUUUUAWof%2BQLcf9fUP/oMtVatQ/wDIFuP%2BvqH/ANBlqrSXUAooopgFFFFABRRRQBa1D/j0sf8Ar1P/AKNkqrVrUP8Aj0sf%2BvU/%2BjZKq0lsAUUUUwCiiigArvPBn/ItW3/A/wD0Nq4Ou88Gf8i1bf8AA/8A0Nqxr/AOO5qUUUVylhRRRQAUUUUAFFFFABRRRQAUUUUAFFFFABRRRQAUUUUAFFFFABRWb4z8WaN4B8H6t468RzNHp2i6ZPf38iLuKwwxtI5A7kKp4ryn4RftRfEHx9a%2BIdI8VfAc6d4n0rwLpvizSPDWj%2BJo71tUs79bwW1v508VtHDd%2BbZSxSISYULxsJmViVAPaKwfiH/yBYv%2Bvpf/AEFq5b4A/G3xV8VNW8Y%2BDfH3gLT9B17wVrdvp2qQ6J4gfVLJ2msbe8QJcPbW7eYqXCh42iBU7SCyuprqfiH/AMgWL/r6X/0Fqun8aE9j4i/bO%2BD3jf4H/Edf2/8A9nDw6dQ1TTrEWvxU8GwL8nirRFA3yBehuoFG5WwSVXHIXY/mfwx%2BLnhD9jKe1/aL%2BAGtP4k/Zf8AH96JtasNOUzS/D3U5SN0giXLR2xYgSQ4zG3AGdgk%2B96%2BWPjV%2Bwx40%2BHvjbUvj9%2BwlqGlaFrmrBv%2BEy%2BHOsx58O%2BLYiDvWSEfLbzkEjzFABJOdu52bws0yvEUK31vBrrzWXxRk/ilFXSlGa0qU7rmspRamtenhziDFcGY3Ef7P9ay7FpLFYW/K5W2rUXqoV4P34tJPmT%2BKNSrTn9L%2BFPFnhjx34bsvGHgvxBZ6rpWo26z2Go2FwssNxG3RkdSQRWhX5ifCr43eNP2Y/ipe6P%2Bz94Tm8DaxcT/AGjxX%2BzL8RNRFvbXcrH5rnw7qDfumL87YuN%2BDtWQBFX7f/Zm/bV%2BCP7UUE%2Bk%2BE9UuNH8VaaSmveB/EcP2TVtNlXh1eB%2BWUH%2BNMryASDkDryvP8Lj2qVRqFXa3Rtb8rdnfvCSjOPWL%2BJ/SY7hrC4vLJ53w1iPruXr4pJWrYdv/l3i6Gs6Mk9OezoVLXhUV%2BReuUUUV758eFWtQ/49LH/r1P8A6NkqrVrUP%2BPSx/69T/6NkpPdAVaKKKYBRRRQAUUUUAFWtc/5DV5/19Sf%2BhGqtWtc/wCQ1ef9fUn/AKEaXUCrRRRTAKKKKACiiigC1o//AB9v/wBes/8A6KeqtWtH/wCPt/8Ar1n/APRT1VpdQCiiimAUUUUAFFFFAFqH/kC3H/X1D/6DLVWrUP8AyBbj/r6h/wDQZaq0l1AKKKKYBRRRQAV1Hw2/5ff%2B2f8A7NXL11Hw2/5ff%2B2f/s1Z1f4bGtzqKKKK4ywoormvjN4h8S%2BEfg/4r8V%2BDLP7RrGmeGr670q38vf5tzHbu8S7f4suqjHfNAHS0V8b%2BANa%2BImmeAfih4L%2BE/7QOo3Dzfs3aD4o0Xxf4z8Wy3kOma7fQa0rX5urppBbQuLS1nKLiCERl1jCuQeY%2BH3ivx341/aGX9mjxlrHxG8H%2BAo/ENxL5WqfFG4m1iO8Tw7b3X9ny6ta3ssuz97LfiIXT/KFLYjzCgB931%2BTH/BwxNP8Q/j38JfgXYXJVppJrq4iU8yfarixs4v/AGr%2BZr9Hf2NfG/i74l/sj/DH4h%2BPb57rWtc8A6RfapeSxBGuZ5bOJ3mKgAKXLF9oAxuxjivzW/4KBQQ/GP8A4Ll%2BBfC324Y8Lax4SsZ4SWK7M3GqybgAf4QmfbFfMcXPnyj6v/z9nTh8nNN/gj3uEIKpxzk6e0cTCq%2BumGhXxbv5f7NC/qfpDFFHBEsMKBURQqqo4AHQU6rX9n2n/Qctf%2B%2BJf/iKP7PtP%2Bg5a/8AfEv/AMRX210fPO7ZVoq1/Z9p/wBBy1/74l/%2BIo/s%2B0/6Dlr/AN8S/wDxFF0Iq0Va/s%2B0/wCg5a/98S//ABFH9n2n/Qctf%2B%2BJf/iKLoA0P/kNWf8A19R/%2BhCqtaej2Nqmr2rrrFsxFyhCqsuT8w45TFVv7PtP%2Bg5a/wDfEv8A8RSurgVaKtf2faf9By1/74l/%2BIo/s%2B0/6Dlr/wB8S/8AxFO6Aq0Va/s%2B0/6Dlr/3xL/8RR/Z9p/0HLX/AL4l/wDiKLoCrRVr%2Bz7T/oOWv/fEv/xFH9n2n/Qctf8AviX/AOIougDT/wDj0vv%2BvUf%2BjY6q1p2NjarbXgGsWxzbAEhZfl/epyfk/Dj1qt/Z9p/0HLX/AL4l/wDiKSauwKtFWv7PtP8AoOWv/fEv/wARR/Z9p/0HLX/viX/4indAVaKtf2faf9By1/74l/8AiKP7PtP%2Bg5a/98S//EUXQFWirX9n2n/Qctf%2B%2BJf/AIij%2Bz7T/oOWv/fEv/xFF0AQ/wDIFuP%2BvqH/ANBlqrWnFY2o0idP7YtiDcxEttlwPlk4%2B5n/APVVb%2Bz7T/oOWv8A3xL/APEUk0BVoq1/Z9p/0HLX/viX/wCIo/s%2B0/6Dlr/3xL/8RTugKtFWv7PtP%2Bg5a/8AfEv/AMRR/Z9p/wBBy1/74l/%2BIougKtFWv7PtP%2Bg5a/8AfEv/AMRR/Z9p/wBBy1/74l/%2BIougDUP%2BPSx/69T/AOjZKq1p31jatbWYOsWwxbEAlZfm/evyPk/Dn0qt/Z9p/wBBy1/74l/%2BIpJqwFWirX9n2n/Qctf%2B%2BJf/AIij%2Bz7T/oOWv/fEv/xFO6Aq0Va/s%2B0/6Dlr/wB8S/8AxFH9n2n/AEHLX/viX/4ii6Aq13ngz/kWrb/gf/obVxv9n2n/AEHLX/viX/4iu18JRpF4ft4450kA34dAcH529QD%2BlY1mnEqO5o0UUVzFBRRRQAUUUUAFFFFABRRRQAUUUUAFFFFABRRRQAUUUUAFFFFAGb4y8J6N498Iar4G8RwNLp2tabPYX8SttLwzRtG4B7Eqx5rxj4ffsq/G/wABW2v65F%2B0fpVz4r1L4f2fhPSPER8CMq6db2EV39guWtzfMs04uL2aac5RJgsaKkAXJ95ooA84/Zg%2BCvir4BfDpfh54i8U%2BH9WjhmaWG80Tw3dWE1xLIS89xdvc39491cyyM0jzFlLMxJBJzXW%2BO7q6s9IjltLmSJjcgFo3KnG1uOK2qwfiH/yBYv%2Bvpf/AEFqun8aE9jl/wC3Na/6DF1/4EN/jR/bmtf9Bi6/8CG/xqrRXZZdiDkfjv8AAb4Q/tOeE/8AhCvj14DsfE%2BnruNuupKWltmIwXhlBEkLY/iRlPvXxL%2B0V/wR7%2BLkF1beK/2aPjxcanNo21vD9j4yvZItV0gJ9xLHWIMTIqDIjhlDRJnJyea/QiivIzLIcrzVfv6fvfzL3ZeWq3t0ve3SwYSeJyzM45ll1aeHxMVZVaM3TqWe8W46Ti9nCpGpCS0lBp2PzX8Ff8FRf%2BCiP7EF3B4P/b3%2BBvinW/D0LrEvilUC3UYyQALqEm0vSAAOTG7E5Zq%2B0P2bv%2BCin7Nf7VkEUPwh%2BOUU2qSJlvD2pXTWuoIcZI8iQgyAd2j3r/tV6pdWtrfW0lne20c0MqFJYpUDK6nggg8EH0rwD41f8EtP2Gfjk8t/4g%2BBenaPqUmSureFGbTJkc/8tNsGI5G75kRq8%2Bhl2f5X7uHrqvTX2aqtJeSqRTv/ANvRfqduY53mOY%2B/icPRnU61Kcfq0pec4U1PDSfdxpUG/wCW7Po3%2B3Na/wCgxdf%2BBDf41ZvtY1dLazZNVuQWtiWInbk%2Ba4yefQD8q%2BHtT/YR/b2%2BBELyfscft/6xf6dEEW18K/FS2TUUSNRgRrdGOTYOwVIowOPm71xnjD/goP8A8FXv2ZYIf%2BGmf2ENN8QaXaQkDXfCEk6xSxB3PmPLC10keTu%2B8kfb5RWlXP44L/fsNUpruo%2B0h/4FTv8AjFHHgcNnWYS5aGDqTfam6dSXyhGpGo/%2B3acm%2Bi7/AKF/25rX/QYuv/Ahv8aP7c1r/oMXX/gQ3%2BNfAvww/wCC93wL8ZzQaf4m%2BAfjmyvJxxBoItdV2Y6llSSOUD/tn%2BFes6J/wV3/AGC9RuxpXiH4u3fhu/8A4rDxN4Zv7SRPqzQlB/31W%2BH4k4exMeaGIh83y/8ApSX5nJmGMo5Pifq2ZKWGqfy14VKEv/Aa1Ok38rrzPqH%2B3Na/6DF1/wCBDf40f25rX/QYuv8AwIb/ABrybwp%2B2v8Asf8AjcKPC/7UHgK6d/uwDxXaJL/37aQMPyr0LRfE3hzxJB9q8O%2BILG/jxnzLK7SVcfVSa9WliMLXV6U4y9HF/k2XRxeFxKvRqRl6Si/ybNf%2B3Na/6DF1/wCBDf40f25rX/QYuv8AwIb/ABqrRW9l2Ny1/bmtf9Bi6/8AAhv8as6xrGrxavdRRarcqq3LhVWdgANx461mVa1z/kNXn/X1J/6EaVlfYA/tzWv%2Bgxdf%2BBDf40f25rX/AEGLr/wIb/GqtFOy7AWv7c1r/oMXX/gQ3%2BNH9ua1/wBBi6/8CG/xqrRRZdgLX9ua1/0GLr/wIb/Gj%2B3Na/6DF1/4EN/jVWiiy7Aaelaxq8lyyyarcsBbTHDTseRExB6%2BtVv7c1r/AKDF1/4EN/jRo/8Ax9v/ANes/wD6KeqtKyvsBa/tzWv%2Bgxdf%2BBDf40f25rX/AEGLr/wIb/GqtFOy7AWv7c1r/oMXX/gQ3%2BNH9ua1/wBBi6/8CG/xqrRRZdgLX9ua1/0GLr/wIb/Gj%2B3Na/6DF1/4EN/jVWiiy7AacWsaudInlOq3O4XMQDee2QCsmR19h%2BVVv7c1r/oMXX/gQ3%2BNEP8AyBbj/r6h/wDQZaq0kl2Atf25rX/QYuv/AAIb/Gj%2B3Na/6DF1/wCBDf41Vop2XYC1/bmtf9Bi6/8AAhv8aP7c1r/oMXX/AIEN/jVWiiy7AWv7c1r/AKDF1/4EN/jXR%2BAL69vftf2y8ll2%2BXt82QtjO7pmuSrqPht/y%2B/9s/8A2as6qXIxrc6iiiiuQsKKKKAOT8LfAP4F%2BBoZrfwV8FvCWjx3E081wml%2BHLW3EskyCOZ2EcY3NIihWJ5ZQAcgVUP7M37N5%2BHsfwjP7Pvgg%2BFIrz7XF4Y/4RSz/s5Ljn98Lby/LD8n5tueTzzXb0UANgggtYEtraFI440CxxooCqoGAAB0AFfkB8MT/wALg/4Lm6349lDMdM%2BI3iy3ulYfej0vTINNgb6K7tg/Wv2Br83fgN8Bx8MP%2BCw/xKhl1aK/MHg/VdcuJIYiqw3OteIJL6NOerLamOMnuUJHGK%2BezzDzxGMwKXwqsm/krr/0ln1nBGFqvO8RmC%2BHC4LHzb/vVMPDDQ%2B94mdj7Sooor7E%2BPCiiigAooooAtaH/wAhqz/6%2Bo//AEIVVq1of/Ias/8Ar6j/APQhVWl1AKKKKYBRRRQAUUUUAWtP/wCPS%2B/69R/6NjqrVrT/APj0vv8Ar1H/AKNjqrSW7AKKKKYBRRRQAUUUUAWof%2BQLcf8AX1D/AOgy1Vq1D/yBbj/r6h/9BlqrSXUAooopgFFFFABRRRQBa1D/AI9LH/r1P/o2SqtWtQ/49LH/AK9T/wCjZKq0lsAUUUUwCiiigArvPBn/ACLVt/wP/wBDauDrvPBn/ItW3/A//Q2rGv8AAOO5qUUUVylhRRRQAUUUUAFFFFABRRRQAUUUUAFFFFABRRRQAUUUUAFFFFABRRXOeCfjF8I/iXpN/r3w4%2BKfhzxBY6VO8OqXuia5b3cVnKq7mSV4nYRsFIJDEEDmgDo6wfiH/wAgWL/r6X/0Fqd8Pvid8Nvi14f/AOEt%2BFXxC0PxNpRnaEan4e1aG9t/MXG5PMhZl3DIyM5GRTfiH/yBYv8Ar6X/ANBarp/GhPY42iiiu0gKKKKACiiigAq1qH/HpY/9ep/9GyVVq1qH/HpY/wDXqf8A0bJSe6A8s%2BL/AOx5%2By38e/Mk%2BLvwH8Na1cy536hNpiR3f4XEe2Ufg1eMa3/wSa%2BHui2htfgD%2B0L8R/Aduv8AqdDj13%2B1NIX03Wl4H34936V9YUV52JyfK8XNzq0Y83dLll/4FHlf3tn1%2BWcfcZ5RhPqmHx1R0P8An1NqrS/8FVo1qf3Qj5WPgjxV/wAE4v2odDLuPB37N/xXhH%2Bsm8V/DJNC1GZfRZdPULu92bFcBrX7KXgnwvP9p%2BM3/BFfxBbNEc/2z8JviRNflvVo7WKdGX2Vua/TaivIq8J5fN3hJr/FGFRf%2BTwv/wCTfMK3EHDGav8A4WeHMBiG95QovCz9ebDThC/n7H5H5fW97/wTV8LTpZ%2BKfih%2B058FJy21LbW7zVrNo2/u5VLgD8TivRvBPg/9mDxcEX4U/wDBbb4lo7/6m0134q2skn0EVzHG5%2BmK%2B%2BJ7eC6ha2uoEkjdcPHIoKsPQg9a878a/se/so/EYvJ43/Zu8D6lK/3rm48MWvnfhIEDj8DWP%2Brlel/DVKXyq03/AOU6rX/kpz/2V4JYz48sxeFf/TnEwqxXpGtGjK3/AG%2B2eNaN%2Bx9%2B1BqNmNQ%2BHf8AwVZ8X3Vuf9XPP4e03UUP/AsgGtLVf2V/%2BClelapcx2P/AAVKjvStw4I1H4L6WNx3HJLLJnmpNZ/4JE/sE394dV0H4QXfh6%2BP3b3w54n1C0dfoqzbB/3zTNV/4Jhp4X1S5j%2BFn7cfx78PCKd1itT48%2B12wAY4zFLFyfq1L%2BzcZTeuHb/wYmovwnb8w/1F8J8T/u2dYqj5VaFf/wBKw%2BLqL58vyK5%2BCP8AwVVsP%2BPT9uDwNf46fbvhqkWf%2B/b0f8IF/wAFeLL/AI9fj58GL3HT7Z4Wvos/9%2BzR/wAMjft/eGufAn/BTnUZol6Wnib4a6de7/Yy7g4%2BoFL/AMIX/wAFfPDX/IG%2BNXwS8Shen/CQ%2BHNQsy/1%2Byk4p%2BynD4qOKj6VFP8AKb/IX/ELMgrf7nxLQf8Ajr4ui/n7XCyS/wDAn6if2d/wWXs/%2BPfxH%2BzfeY6farTXY8/98Uf2t/wWUtf%2BPjwl%2BzndY/59r/W0z/33S/8ACyP%2BCt/h7/kMfs2/CPxDt6/2B4wurTd9PtKnH40f8NZ/8FCtE%2BXxV/wS%2Bu5UHW40P4raZc7vpHsDD8TR7TDR%2BKri4%2Bqm/wAqcvzD/iDmcz/3bNaNT/DmWG/KqqT/AAE/4Tf/AIK%2BW3%2Bu%2BB/wSucf8%2B/iXUEz/wB9Cj/han/BWi3/ANd%2Byr8Lbj18jxxMmf8AvpaX/h4R8ZtJ48Xf8E2vjRDj7/8AY2m2%2BoY%2BmyRc0f8AD0vwRY8eKv2RP2gNDI%2B9/avwwkUD/viVqPrOXLfHVo%2BvMvzw/wCof8QU8Qpfwfa1P8GJwdT/ANJrNv7ifTfjf/wVbtrhiP2HfAly3kSgiL4lonHltk/MnYZNV/8AhoP/AIKiw/6z/gnl4an/AOuPxZtF/wDQo6s6b/wWA/Y30y4Z/Fdx420QfZ5VP9qeAdQXaTGwGdkTdzS6f/wWD/4Jz6i3lr%2B0bDC44ZLvw1qcJU%2B%2B%2B2AoWMyzmt/arXrOkv8A0qmiZeCfivCPMsFj2u8aKmvvhSmvxKv/AA0v/wAFN4vv/wDBMrTZf%2Bufxn01f5x0f8NTf8FLE%2B9/wStjf/c%2BOOkD%2BcVdRp//AAU//YC1PH2b9qTwyuen2iSWH/0YgrbsP2/v2INSx9n/AGs/h8uenn%2BK7WL/ANDcV0RqYWfw5o//AAKh/wDInmVvC7xHw38XD4%2BPrhpf/MrPPP8Ahq//AIKQL/rP%2BCUsg/3fjfo5/wDaVH/DWv8AwUSX/Wf8Eqbwf7vxl0k/%2B069csf2vv2TNTwdN/ah%2BHdxnp5HjawfP5S1r2fx/wDgPqOP7P8AjZ4Rnz08nxJat/KSt40XP4cxk/nQf/tp5dXgri/D/wAV4uP%2BKhb88Kjwz/hrn/goYen/AASqv/x%2BMGk//G6P%2BGsP%2BCjsv/Ht/wAEp5jnoZfjZpCf%2B06%2BiLT4jfD3UMfYPHejT56eTqkTfyatK11TTL3/AI89Rgmz08qZW/ka3jgcVLbHTfoqX/yDPOqZFnFH%2BJiq0fWFNfnRR82x/tOf8FOZ9LmSD/gmBp8CG4jLPP8AGrTG2kLJgYWPnOT%2BXvVf/hff/BUy84t/2BPCVn73fxTt5Mf98JX1XD/yBbj/AK%2Bof/QZaq01lmKe%2BMq/%2BU1%2BVMx/snFvfG1f/KS/KkfL3/C2P%2BCss3Mf7Jfwxh9pvHkjf%2BgrR/wuD/gq/B/rf2O/hzP/ANcPiCU/9CWvqGin/Zdf/oLq/fD/AOVh/ZGI/wCgyt98P/lZ8vf8Lv8A%2BCqmNv8Aww54Hz/e/wCFlx4/LZR/wuP/AIKuzf6r9jb4dwf9dviHu/8AQUr6hoo/svEf9BdX74f/ACsP7IxP/QbW%2B%2Bn/APKj5e/4WX/wVun/ANV%2BzN8JYP8Art4zuW/9BWvef2Jde/a91v8A4SZv2q/AfgvQxH9i/sFfCGqT3Jmz5/n%2Bd5oG3GIduOu5s9BXUV1Hw2/5ff8Atn/7NVRy%2BpQlzvEVJW6ScbP1SgvzN8LltShXVSWJqzt0lKLT9UoL8zqKKKK1PXCiiue%2BLvjW5%2BGvwn8T/EWy04Xk2geHb3UorQ5/ftBA8oTjnkrjj1oA6Givki0%2BPvx5%2BGfwy%2BKVt4m%2BNkHiDVtE%2BAOleOtD8R67olvHFp%2Bp3kWrI0JisIE8y0EthC8SFJZiGlUvL8tcDfftO/thf2hd/CjT9U%2BJb%2BILXxJfMnhhNK8KN40Swi0GzukkmbZ/YrWou7ggmFjOVmgQEyCWMAH3rXxD%2Bzy6%2BLv%2BCkn7UfxC%2B9Fa6h4Z0Gyb%2B59m00%2Bev/fwg19ZfATxrefEr4F%2BC/iLqOt6dqdxr/hPTtSn1LSIpEtLt57WOVpYFkAdYmLFlDgMFIyAc18r/wDBPvwzqdz4q/aG8bX7wedqv7R3ieGJ5LlEJt7WWO3jGGYHgo4rzsSnPM8JHopTl/4DTaX/AKUfe8LzjhuEOIK9/edLD0l/3FxcW/woa%2BTPoSirX9j3f/Pa1/8AA6L/AOKo/se7/wCe1r/4HRf/ABVfQXR%2BfFWirX9j3f8Az2tf/A6L/wCKo/se7/57Wv8A4HRf/FUXQFWirX9j3f8Az2tf/A6L/wCKo/se7/57Wv8A4HRf/FUXQBof/Ias/wDr6j/9CFVa09H0q6j1e1kaW2IW5QnbeRE/eHYNk1W/se7/AOe1r/4HRf8AxVK6uBVoq1/Y93/z2tf/AAOi/wDiqP7Hu/8Anta/%2BB0X/wAVTugKtFWv7Hu/%2Be1r/wCB0X/xVH9j3f8Az2tf/A6L/wCKougKtFWv7Hu/%2Be1r/wCB0X/xVH9j3f8Az2tf/A6L/wCKougDT/8Aj0vv%2BvUf%2BjY6q1p2OlXS214pltvmtgBi8iP/AC1Q8/Nx071W/se7/wCe1r/4HRf/ABVJNXYFWirX9j3f/Pa1/wDA6L/4qj%2Bx7v8A57Wv/gdF/wDFU7oCrRVr%2Bx7v/nta/wDgdF/8VR/Y93/z2tf/AAOi/wDiqLoCrRVr%2Bx7v/nta/wDgdF/8VR/Y93/z2tf/AAOi/wDiqLoAh/5Atx/19Q/%2Bgy1VrTi0q6GkTx%2BbbZNzER/pkWOFk77sd/8AOKrf2Pd/89rX/wADov8A4qkmgKtFWv7Hu/8Anta/%2BB0X/wAVR/Y93/z2tf8AwOi/%2BKp3QFWirX9j3f8Az2tf/A6L/wCKo/se7/57Wv8A4HRf/FUXQFWirX9j3f8Az2tf/A6L/wCKo/se7/57Wv8A4HRf/FUXQBqH/HpY/wDXqf8A0bJVWtO%2B0q6a2s1Ett8tsQc3kQ/5auePm569qrf2Pd/89rX/AMDov/iqSasBVoq1/Y93/wA9rX/wOi/%2BKo/se7/57Wv/AIHRf/FU7oCrRVr%2Bx7v/AJ7Wv/gdF/8AFUf2Pd/89rX/AMDov/iqLoCrXeeDP%2BRatv8Agf8A6G1cb/Y93/z2tf8AwOi/%2BKrtfCUL2/h%2B3hkKEjfko4YffbuCQaxrNOJUdzRooormKCiiigAooooAKKKKACiiigAooooAKKKKACiiigAooooAKKKKAOa%2BM3h3xH4w%2BD/ivwl4OvPs%2Br6p4avrTSrjzNnlXMtu6RNu/hw7Kc9sV8fSeCvHPxQ%2BE/xT0P4e/BjxZof9t/s06J4O0vQtX8KXenG81axg1h7mwXzo0RVWK8t7dZ93kytKVjkcRHH3NRQB4r%2By99v8TfFb4o/FzTvB2uaH4c8R6lpCaPbeINAudKuLuW202KKe6%2By3MccqLzFbhnRd32QlcoEY%2BoeO2tV0iM3cMjr9pGBHIFOdrdyDW1VDxFon9vWS2f2rytsofds3ZwCMdR61UGlJNiexxHnaL/0D7r/wMX/43R52i/8AQPuv/Axf/jdb3/Ctv%2Bo1/wCS3/2VH/Ctv%2Bo1/wCS3/2VdPtKfcmzMHztF/6B91/4GL/8bo87Rf8AoH3X/gYv/wAbre/4Vt/1Gv8AyW/%2Byo/4Vt/1Gv8AyW/%2Byo9pT7hZmD52i/8AQPuv/Axf/jdHnaL/ANA%2B6/8AAxf/AI3W9/wrb/qNf%2BS3/wBlR/wrb/qNf%2BS3/wBlR7Sn3CzMHztF/wCgfdf%2BBi//ABurN9LpAtrPfY3JBtjtAulGB5r9fk55zWr/AMK2/wCo1/5Lf/ZVLceAPPigi/tbHkxFM%2BR1%2Bdmz97j72PwpOpTvuFmc552i/wDQPuv/AAMX/wCN0edov/QPuv8AwMX/AON1vf8ACtv%2Bo1/5Lf8A2VH/AArb/qNf%2BS3/ANlT9pT7hZmD52i/9A%2B6/wDAxf8A43R52i/9A%2B6/8DF/%2BN1vf8K2/wCo1/5Lf/ZUf8K2/wCo1/5Lf/ZUe0p9wszB87Rf%2Bgfdf%2BBi/wDxujztF/6B91/4GL/8bre/4Vt/1Gv/ACW/%2Byo/4Vt/1Gv/ACW/%2Byo9pT7hZmD52i/9A%2B6/8DF/%2BN1Z1iXSBq90JbG5LfaX3FbpQCdx7bDitX/hW3/Ua/8AJb/7Kpb7wB9tvZrz%2B1tvmys%2B3yM4yc4%2B9S9pTvuFmc552i/9A%2B6/8DF/%2BN0edov/AED7r/wMX/43W9/wrb/qNf8Akt/9lR/wrb/qNf8Akt/9lT9pT7hZmD52i/8AQPuv/Axf/jdHnaL/ANA%2B6/8AAxf/AI3W9/wrb/qNf%2BS3/wBlR/wrb/qNf%2BS3/wBlR7Sn3CzMHztF/wCgfdf%2BBi//ABujztF/6B91/wCBi/8Axut7/hW3/Ua/8lv/ALKj/hW3/Ua/8lv/ALKj2lPuFmZWlS6QblvLsbkH7NNy10p48ps/welZuoaX4N1Zdmq%2BGjcjGMXEsb/zirrLPwB9klMv9rbsxOmPIx95Cufve%2Bai/wCFbf8AUa/8lv8A7Kk50nuyoynB3i7Py0/Kx51qPwZ%2BAGr5OrfBXQrrPX7Rplo%2BfzgNYl/%2Byb%2Bxxquf7U/ZU8D3Oev2jwvpz5/O2r2D/hW3/Ua/8lv/ALKj/hW3/Ua/8lv/ALKsJUMBP4oRfrFP84s9OjnufYb%2BDi6sf8NWrH8qqPBr39gz9gjUM%2Bf%2Bx34FXPXyPDllF/6Bbisi8/4Jr/8ABPC/z5/7I/hxc/8APFBH/wCgKK%2BkP%2BFbf9Rr/wAlv/sqP%2BFbf9Rr/wAlv/sqwll2Tz%2BKhB/9uR/%2BRPVpcc8cUP4eaYlemIr/APy5ny1d/wDBKb/gmze5879lOxXP/PLWrmP/ANBYVnXP/BHz/gmNd/639l2Rc/8APLxnqaf%2BgzCvrb/hW3/Ua/8AJb/7Kj/hW3/Ua/8AJb/7KsZZNkEt8NT/APAI/wDyJ6FPxP8AEyj8GdYtf9zNb/5Yz5IT/gjh/wAE300%2BW50/4H63aFJo1H2fx/qgIyHPGZj/AHfT8u8H/Doj9heL/jw8N%2BOrT0%2Bz/Ee/GPzJr7DTwBsspLP%2B1v8AWSo%2B7yOm0MMfe/2v0qL/AIVt/wBRr/yW/wDsqhZHw/8A9A8P/AbflY3/AOIr%2BJ/XOcS/WtKX/pXMfIP/AA6b/ZQh/wCQd4r%2BLNn6fZvifdDH5oaP%2BHVvwHi/48Pjv8drT0%2Bz/FeUY/OE19ff8K2/6jX/AJLf/ZUf8K2/6jX/AJLf/ZUf2JkP/PmP/ky/KSD/AIir4kPfNKr9fZy/9KoyPkEf8Eu/hnHxafta/tHW/oIfi6wx%2BdqaP%2BHY3hVP%2BPb9uT9qGH08r4xAY/Ozr6%2B/4Vt/1Gv/ACW/%2Byo/4Vt/1Gv/ACW/%2Byo/sTI/%2BfX/AJNU/wDlgf8AEU/ELrj2/Wlhn%2BeEZ8g/8O0bFP8AUft%2B/tRj/rp8XEf/ANs69z/Yu/Zsb9nr/hJc/tA/E3x0NX%2Bx4/4WN4oXUvsPlef/AMe%2B2GPy9/mfP13eWnTbz6X/AMK2/wCo1/5Lf/ZVqeG/Df8Awj3nf6b53nbf%2BWe3GM%2B59a0p5XleGmqlGFpLb3pv8HNr8Dz80494vzrAzweOxKnSna69lh43s0170MNTmtUtprs7q6epRRRXSfIhTLm2t7y3ktLuBJYpUKSxSKGV1IwQQeCCOMU%2BigDy3wv%2Bxh%2Bzf4Q8Nar4O0jwHdSaXrekHSdWsNS8R6hexXOneQ8CWLLcTv8A6NHHJIsUH%2Brh81zGqF2JrzfsPfs33GmGxm8Ma61y2oSXsuu/8J3rP9ryyyWyWrh9R%2B1/a5I2gijjMTSmPbGg2/KMetUUAUvDnh3QvCHh6w8J%2BF9Jt7DTNLsorTTrC0jCRW0EaBI40UcKqqoUAdABXk3hb4P%2BFfgvda9oXhKW6kj1nxVqfiC9kvJFZ2u9QupLyYDaqgIrzFEGMhFUEscsfZqwda8E/wBr6nLqP9p%2BX5m35PJzjCgddw9KqnGn7VTktVez7Xtf77G8cViaeGqYeE2oTcXJdJcjbjf/AAuTa82zjaK6j/hW3/Ua/wDJb/7Kj/hW3/Ua/wDJb/7Kur2tPuctmcvRXUf8K2/6jX/kt/8AZUf8K2/6jX/kt/8AZUe1p9wszl6K6j/hW3/Ua/8AJb/7Kj/hW3/Ua/8AJb/7Kj2tPuFmYOh/8hqz/wCvqP8A9CFVa62x8AfYr2G8/tbd5Uqvt8jGcHOPvVF/wrb/AKjX/kt/9lS9rC%2B4WZy9FdR/wrb/AKjX/kt/9lR/wrb/AKjX/kt/9lT9rT7hZnL0V1H/AArb/qNf%2BS3/ANlR/wAK2/6jX/kt/wDZUe1p9wszl6K6j/hW3/Ua/wDJb/7Kj/hW3/Ua/wDJb/7Kj2tPuFmYOn/8el9/16j/ANGx1VrrbfwB5EU8X9rZ86IJnyOnzq2fvc/dx%2BNRf8K2/wCo1/5Lf/ZUlVhfcLM5eiuo/wCFbf8AUa/8lv8A7Kj/AIVt/wBRr/yW/wDsqftafcLM5eiuo/4Vt/1Gv/Jb/wCyo/4Vt/1Gv/Jb/wCyo9rT7hZnL0V1H/Ctv%2Bo1/wCS3/2VH/Ctv%2Bo1/wCS3/2VHtafcLMwYf8AkC3H/X1D/wCgy1VrrU8AbLKSz/tb/WSo%2B7yOm0MMfe/2v0qL/hW3/Ua/8lv/ALKkqsO4WZy9FdR/wrb/AKjX/kt/9lR/wrb/AKjX/kt/9lT9rT7hZnL0V1H/AArb/qNf%2BS3/ANlR/wAK2/6jX/kt/wDZUe1p9wszl6K6j/hW3/Ua/wDJb/7Kj/hW3/Ua/wDJb/7Kj2tPuFmYOof8elj/ANep/wDRslVa6248AefFBF/a2PJiKZ8jr87Nn73H3sfhUX/Ctv8AqNf%2BS3/2VJVYW3CzOXorqP8AhW3/AFGv/Jb/AOyo/wCFbf8AUa/8lv8A7Kn7Wn3CzOXorqP%2BFbf9Rr/yW/8AsqP%2BFbf9Rr/yW/8AsqPa0%2B4WZy9d54M/5Fq2/wCB/wDobVl/8K2/6jX/AJLf/ZVvaLpv9kaZFp3neZ5e759uM5Ynpk%2BtZ1ZxlGyGk0y1RRRXOUFFFFABRRRQAUUUUAFFFFABRRRQAUUUUAFFFFABRRRQAUUUUAFFFFABXz38WP2o/ip4O%2BLOux%2BG7Hw8fB/gvxP4T0HxHaX1hO%2Bo38%2BtXdvA01vOs6x26W6XltJtaGUzFZUzH8rV9CV5b47/AGTPAfj/AOKY%2BJ2peKfEFrFcX2j32t%2BGrK4t107WLvSrj7Rp9xcB4WmDwyiNv3UsayeREsgkVAKAPUqKKKACiiigAooooA4n9pDxl8Rvh58CPFfjv4T6fotzr%2BjaLPe2MfiGSUWa%2BUpd3kEPzybUDMIwU8xgE8yMMZF8V8Oftk/GTXNcg8XSaX4Yj8JaZ408K%2BEPEWnDTrg6hcahrOm6ZdC7t7j7R5cUMcms2SeS8UjMscx81flFe9fGP4at8Yfhpq/wzbxzrPh2HWrJ7S71PQEtDdLBIpWRF%2B1wTxDcpKkmMkA5UqcEeZeBP2DPAvgnWdJ1O6%2BLnjbW7fTtRsNTvdK1WbTltdX1Kxt1trK%2BuVtrKJjLDBFaxqImjjb7FbtIjuhdgD3OiiigAooooAKKKKAPGP2zPi98cfgd4Em%2BJHwtbwg1npunTONJ16zurm/8R6qzxJY6NZJDLEsMty7PGJ2MxV2j/cMu4jD/AGUf2o/ip8YNc8ISfEix8PLpvxO%2BFy%2BPPB0WiWE8E%2Bl2fm2oNndvLPKtzKItRsz50awqWWYeXjaa7b4y/s0p8X/iT4Z%2BKUHxp8XeGdR8JWt5Fo8OhQaTPbpJchFkuTHqFjcgXAjQxLKu1ljlmQYEr7ovgZ%2ByZ4D%2BAmuJrXh7xV4g1VNP0BdB8MWOt3Fu8Ph7SFl80WFoIYI28rIiXdM0sm23hXfhAKAPUqKKKACiiigAooooA%2BUv2t/2xP2if2bfjD4c8DWOn%2BELy18eeKbHQPC9td%2BHNTRLA300dnbXk%2BpNMlteSrdvuk0u3RbgW%2B6YSBI2c%2Bz/ALOfxP8AGvxAsvFnhj4kjS5PEHgjxjPoOqX2iWcltaXuLa2vIZ44ZZZnhzb3kIZDLJh1fDEYrk/iv%2BwX8PPjN4j/ALY8afFTx09ja%2BJv%2BEm0DQYtVtvsuh68ITFFqdqz2zTrJEWeRIpJZLZZHLeT0x6L8HPg/ovwa8PX2kad4g1TWb3V9YuNV1zXdbeE3epXk20NLJ5EUUS4RI41WONFVIkULxQB1tFFFABRRRQAVFfX1lpllNqWpXkVvbW8TS3FxPIESJFGWZmPCgAEkngAVLVbWdG0fxHo934e8Q6VbX9hf20lvfWN7AssNxC6lXjkRgVdGUkFSCCCQaAPj/wx%2B3d%2B038Y/jhr3wf%2BF/hXwfoKtomoeKPCF54n0m8uXudCtbbTfLFxHHcwmOe7l1OCZW48iAlXikkBr6l%2BDfxHsvjH8IPCnxd02we1tvFXhux1i3tZG3NClzbpMqE4GSA4GfavG7j/AIJjfs1aP431r4jfBu3vvhnrOvWbWF/d/Dux03T82D26QzWaobN1EUnlxSk4Miyxq8bxnOfefC3hnQvBXhjTvBvhbTY7PTNIsIbLTrOLO2CCJAkcYzzhVUAfSgC/RRRQAUUUUAFFFFABRRRQAUUUUAFFFFAGJ8SvG9j8M/hzr/xI1O1kntvD%2BiXepXEMRw0iQQtKyj3IQgV5j%2BzN8bPjF4y8bah8NfjfH4bk1RPAugeK7K68L6fcW0MUOpPfRPZOs88xkeCSyP78FBKsy/uoypz6/rmi6V4k0W88O67Yx3Vjf2slteW0oys0TqVdD7FSQfrXA/AX9mbwx8BLq91Wx8b%2BJPEmo3mjaboyan4nubeWe30uwE/2OyQwQQgpGbm4be4eZ2mYySOcYAPSKKKKACiiigAooooA%2Bff2vf2rvid%2By/4yi1weFNCv/BVt8OPE3iC%2BVppjqd1d6VYveeTGRiKCLYqruIlZzKeIhHmXrfgJ8Tfi3qnxF8XfBT44z%2BHLzX/DOm6Rqi6p4V0yeztJrXUFuVWMwzzzuJI5rK5BfzMOhjO1DkVX%2BPn7H/h39ovxtpvijxx8WPFlvpdhpV7pk/hLT49L/s6/tL2Lyb2GYzWUlyRPD%2B7YpMhVeYyjfNXQ/BX4BaT8GbnWNal8e%2BIvFet679lTUvEPiqe2e7kgtovKt7f/AEaCGMRxhpGHybmeaRmZmYmgDvKKKKACiiigAooooA%2BUPiJ%2B1Z%2B1b4O/ap8J/st2cvw5uNQ8f31/HbX1not/dReC44Y7m8s11A/a4jfy3tjY3zRqgtNktq/%2BsTDH3T9mr4q6z8Zvg5p3jjxNp1ra6st7qGmaxFYbvs5vbC%2Bnsbh4g5LCJpbaRkDEkKygkkZPn2m/sC6Npd9darbftIfEX7ZJ4wufFVjfNFoX2iw1ifzEe7SX%2By98xFrNNZLHcGaNbWTygnyRFPWfhL8L/DXwZ%2BHemfDTwk91JZaZEwFzfTCS4upXdpZriVwAGllld5HIABZ2IAHFAHR0UUUAFFFFABWV43PjYeEdRHw3XSjrxtWGknW2kFos5GFaYRDeyA8lVwWxjcudw1axPiR4E0/4m%2BBtT8B6nq%2Bp6fFqVsYv7Q0a9Nvd2r5DJLDIM7XVgrDIKkjDBgSCAfHnhr/gol%2B0Rrdz8VZ4rHwhLp3wP0%2Bz1nxXNe%2BDtT0u%2B1/Trh5z5cVhc3nn6LcRx2N7gXQnMwNrKsaxzA19vV89/wDDub4ZXPiXxB4w1v4ueO9R1PxvcWrfEi5ubvTkHi%2BC2EK21reJFZIkcMUcPlKLVbdmSWUOzmRifoSgAooooAKKKKACvKv2w/j9r/7P/wAG9Q134e6LZ6t4yvbS5TwppN%2BX8iSaK3kuJbi42EN9nghikmkwylggjVhJLHn1WuH%2BO37N3wQ/aV8Jy%2BEfjT8MdC8QRGyuraxutV0W2u59O8%2BPZJLbNPG4hkwFO4Dqi5zgUAeNfs5fti/GL4raz4H8WeMNM8MxeFPiH4n8Q%2BGdI07TdOuI9QsL/SBeCS4lne4eOaGZtLviI1iRow8ALyHdX07Xi/wU/YX%2BEnwF1/RL3wPr%2BvnRfC4vJPCng%2B5ltRpei3N2gW6ubdIrdJBJLmYlXkaNDcz%2BWiB8D2igAooooAKKKKACiiigAooooAKKKKACiiigAooooAKKKKACiiigAooooAKKKKACiiigAooooAKKKKACiiigAooooAKKKKACiiigAooooAKKKKACiiigAooooAKKKKACiiigAooooAKKKKACiiigAooooAKKKKACiiigAooooAKKKKACiiigAooooAKKKKACiiigAooooAKKKKACiiigAooooAKKKKACiiigAooooAKKKKACiiigAooooAKKKKACiiigAooooAKKKKACiiigAooooAKKKKACiiigAooooAKKKKACiiigAooooAKKKKACiiigAooooAKKKKAP/9k%3D\">"
            ]
          },
          "metadata": {
            "tags": []
          }
        }
      ]
    },
    {
      "metadata": {
        "id": "yoVsY5opHquN",
        "colab_type": "text"
      },
      "cell_type": "markdown",
      "source": [
        "# Submit the MLP with 2 hidden layers\n",
        "Run these cells after training the MLP with 2 hidden layers"
      ]
    },
    {
      "metadata": {
        "id": "GKDGIQVzHquP",
        "colab_type": "code",
        "colab": {}
      },
      "cell_type": "code",
      "source": [
        "## GRADED PART, DO NOT CHANGE!\n",
        "# Validation loss for MLP\n",
        "grader.set_answer(\"i8bgs\", s.run(loss, {input_X: X_val_flat, input_y: y_val_oh}))\n",
        "# Validation accuracy for MLP\n",
        "grader.set_answer(\"rE763\", accuracy_score(y_val, s.run(classes, {input_X: X_val_flat})))"
      ],
      "execution_count": 0,
      "outputs": []
    },
    {
      "metadata": {
        "id": "E4RPytqNHquS",
        "colab_type": "code",
        "colab": {
          "base_uri": "https://localhost:8080/",
          "height": 34
        },
        "outputId": "1d2a1c8a-ab0c-4c29-bbab-6ac15fa386a0"
      },
      "cell_type": "code",
      "source": [
        "# you can make submission with answers so far to check yourself at this stage\n",
        "grader.submit(COURSERA_EMAIL, \"jTB2ZYv5txibRvlm\")"
      ],
      "execution_count": 98,
      "outputs": [
        {
          "output_type": "stream",
          "text": [
            "Submitted to Coursera platform. See results on assignment page!\n"
          ],
          "name": "stdout"
        }
      ]
    },
    {
      "metadata": {
        "id": "P8_7CNfRHquW",
        "colab_type": "code",
        "colab": {}
      },
      "cell_type": "code",
      "source": [
        ""
      ],
      "execution_count": 0,
      "outputs": []
    }
  ]
}