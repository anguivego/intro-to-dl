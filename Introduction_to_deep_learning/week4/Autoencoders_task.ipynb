{
  "nbformat": 4,
  "nbformat_minor": 0,
  "metadata": {
    "colab": {
      "name": "Autoencoders-task.ipynb",
      "version": "0.3.2",
      "provenance": [],
      "include_colab_link": true
    },
    "kernelspec": {
      "display_name": "Python 3",
      "language": "python",
      "name": "python3"
    }
  },
  "cells": [
    {
      "cell_type": "markdown",
      "metadata": {
        "id": "view-in-github",
        "colab_type": "text"
      },
      "source": [
        "<a href=\"https://colab.research.google.com/github/anguivego/intro-to-dl/blob/master/Introduction_to_deep_learning/week4/Autoencoders_task.ipynb\" target=\"_parent\"><img src=\"https://colab.research.google.com/assets/colab-badge.svg\" alt=\"Open In Colab\"/></a>"
      ]
    },
    {
      "metadata": {
        "id": "Wx3GTKidALmW",
        "colab_type": "text"
      },
      "cell_type": "markdown",
      "source": [
        "# Denoising Autoencoders And Where To Find Them\n",
        "\n",
        "Today we're going to train deep autoencoders and apply them to faces and similar images search.\n",
        "\n",
        "Our new test subjects are human faces from the [lfw dataset](http://vis-www.cs.umass.edu/lfw/)."
      ]
    },
    {
      "metadata": {
        "id": "Iv6_0vO_ALmZ",
        "colab_type": "text"
      },
      "cell_type": "markdown",
      "source": [
        "# Import stuff"
      ]
    },
    {
      "metadata": {
        "id": "b2TAy1CyAfrX",
        "colab_type": "code",
        "colab": {
          "base_uri": "https://localhost:8080/",
          "height": 306
        },
        "outputId": "36df6a4d-43cc-48e8-e4c9-559fbed1b13c"
      },
      "cell_type": "code",
      "source": [
        "! shred -u setup_google_colab.py\n",
        "! wget https://raw.githubusercontent.com/hse-aml/intro-to-dl/master/setup_google_colab.py -O setup_google_colab.py\n",
        "import setup_google_colab\n",
        "setup_google_colab.setup_week4()"
      ],
      "execution_count": 16,
      "outputs": [
        {
          "output_type": "stream",
          "text": [
            "--2018-11-02 02:29:52--  https://raw.githubusercontent.com/hse-aml/intro-to-dl/master/setup_google_colab.py\n",
            "Resolving raw.githubusercontent.com (raw.githubusercontent.com)... 151.101.0.133, 151.101.64.133, 151.101.128.133, ...\n",
            "Connecting to raw.githubusercontent.com (raw.githubusercontent.com)|151.101.0.133|:443... connected.\n",
            "HTTP request sent, awaiting response... 200 OK\n",
            "Length: 3595 (3.5K) [text/plain]\n",
            "Saving to: ‘setup_google_colab.py’\n",
            "\n",
            "\rsetup_google_colab.   0%[                    ]       0  --.-KB/s               \rsetup_google_colab. 100%[===================>]   3.51K  --.-KB/s    in 0s      \n",
            "\n",
            "2018-11-02 02:29:52 (54.4 MB/s) - ‘setup_google_colab.py’ saved [3595/3595]\n",
            "\n",
            "**************************************************\n",
            "lfw-deepfunneled.tgz\n",
            "**************************************************\n",
            "lfw.tgz\n",
            "**************************************************\n",
            "lfw_attributes.txt\n"
          ],
          "name": "stdout"
        }
      ]
    },
    {
      "metadata": {
        "ExecuteTime": {
          "end_time": "2018-01-04T16:38:45.815533Z",
          "start_time": "2018-01-04T16:38:45.767828Z"
        },
        "id": "B1oC8q0nALmb",
        "colab_type": "code",
        "colab": {}
      },
      "cell_type": "code",
      "source": [
        "import sys\n",
        "sys.path.append(\"..\")\n",
        "import grading"
      ],
      "execution_count": 0,
      "outputs": []
    },
    {
      "metadata": {
        "ExecuteTime": {
          "end_time": "2018-01-04T16:38:56.825485Z",
          "start_time": "2018-01-04T16:38:46.131894Z"
        },
        "id": "gi7Al07lALmj",
        "colab_type": "code",
        "colab": {}
      },
      "cell_type": "code",
      "source": [
        "import tensorflow as tf\n",
        "import keras, keras.layers as L, keras.backend as K\n",
        "import numpy as np\n",
        "from sklearn.model_selection import train_test_split\n",
        "from lfw_dataset import load_lfw_dataset\n",
        "%matplotlib inline\n",
        "import matplotlib.pyplot as plt\n",
        "import download_utils\n",
        "import keras_utils\n",
        "import numpy as np\n",
        "from keras_utils import reset_tf_session"
      ],
      "execution_count": 0,
      "outputs": []
    },
    {
      "metadata": {
        "ExecuteTime": {
          "end_time": "2018-01-04T16:38:56.830804Z",
          "start_time": "2018-01-04T16:38:56.827147Z"
        },
        "id": "4i3OXkXNALmn",
        "colab_type": "code",
        "colab": {}
      },
      "cell_type": "code",
      "source": [
        "# !!! remember to clear session/graph if you rebuild your graph to avoid out-of-memory errors !!!"
      ],
      "execution_count": 0,
      "outputs": []
    },
    {
      "metadata": {
        "id": "K-g6DumoALmr",
        "colab_type": "text"
      },
      "cell_type": "markdown",
      "source": [
        "# Load dataset\n",
        "Dataset was downloaded for you. Relevant links (just in case):\n",
        "- http://www.cs.columbia.edu/CAVE/databases/pubfig/download/lfw_attributes.txt\n",
        "- http://vis-www.cs.umass.edu/lfw/lfw-deepfunneled.tgz\n",
        "- http://vis-www.cs.umass.edu/lfw/lfw.tgz"
      ]
    },
    {
      "metadata": {
        "ExecuteTime": {
          "end_time": "2018-01-04T16:38:56.917476Z",
          "start_time": "2018-01-04T16:38:56.832132Z"
        },
        "id": "R3WW24hOALms",
        "colab_type": "code",
        "colab": {}
      },
      "cell_type": "code",
      "source": [
        "# we downloaded them for you, just link them here\n",
        "download_utils.link_week_4_resources()"
      ],
      "execution_count": 0,
      "outputs": []
    },
    {
      "metadata": {
        "ExecuteTime": {
          "end_time": "2018-01-04T16:39:21.680162Z",
          "start_time": "2018-01-04T16:39:01.554782Z"
        },
        "id": "p_jopbbWALmv",
        "colab_type": "code",
        "colab": {
          "base_uri": "https://localhost:8080/",
          "height": 51
        },
        "outputId": "e5b917b1-895e-4711-9f17-798b3d323e05"
      },
      "cell_type": "code",
      "source": [
        "# load images\n",
        "X, attr = load_lfw_dataset(use_raw=True, dimx=32, dimy=32)\n",
        "IMG_SHAPE = X.shape[1:]\n",
        "\n",
        "# center images\n",
        "X = X.astype('float32') / 255.0 - 0.5\n",
        "\n",
        "# split\n",
        "X_train, X_test = train_test_split(X, test_size=0.1, random_state=42)"
      ],
      "execution_count": 21,
      "outputs": [
        {
          "output_type": "stream",
          "text": [
            "**************************************************\n",
            "\n"
          ],
          "name": "stdout"
        }
      ]
    },
    {
      "metadata": {
        "ExecuteTime": {
          "end_time": "2018-01-04T16:39:36.649891Z",
          "start_time": "2018-01-04T16:39:36.646605Z"
        },
        "id": "eeLkHW3DALmz",
        "colab_type": "code",
        "colab": {}
      },
      "cell_type": "code",
      "source": [
        "def show_image(x):\n",
        "    plt.imshow(np.clip(x + 0.5, 0, 1))"
      ],
      "execution_count": 0,
      "outputs": []
    },
    {
      "metadata": {
        "ExecuteTime": {
          "end_time": "2018-01-04T16:39:39.028360Z",
          "start_time": "2018-01-04T16:39:38.258425Z"
        },
        "id": "lTICYzmrALm2",
        "colab_type": "code",
        "colab": {
          "base_uri": "https://localhost:8080/",
          "height": 318
        },
        "outputId": "9a818ff9-baca-438d-b472-c191a09c825d"
      },
      "cell_type": "code",
      "source": [
        "plt.title('sample images')\n",
        "\n",
        "for i in range(6):\n",
        "    plt.subplot(2,3,i+1)\n",
        "    show_image(X[i])\n",
        "\n",
        "print(\"X shape:\", X.shape)\n",
        "print(\"attr shape:\", attr.shape)\n",
        "\n",
        "# try to free memory\n",
        "del X\n",
        "import gc\n",
        "gc.collect()"
      ],
      "execution_count": 23,
      "outputs": [
        {
          "output_type": "stream",
          "text": [
            "X shape: (13143, 32, 32, 3)\n",
            "attr shape: (13143, 73)\n"
          ],
          "name": "stdout"
        },
        {
          "output_type": "execute_result",
          "data": {
            "text/plain": [
              "123"
            ]
          },
          "metadata": {
            "tags": []
          },
          "execution_count": 23
        },
        {
          "output_type": "display_data",
          "data": {
            "image/png": "[encoded data removed]",
            "text/plain": [
              "<matplotlib.figure.Figure at 0x7f090d0de908>"
            ]
          },
          "metadata": {
            "tags": []
          }
        }
      ]
    },
    {
      "metadata": {
        "id": "7I_Opl9hALm5",
        "colab_type": "text"
      },
      "cell_type": "markdown",
      "source": [
        "# Autoencoder architecture\n",
        "\n",
        "Let's design autoencoder as two sequential keras models: the encoder and decoder respectively.\n",
        "\n",
        "We will then use symbolic API to apply and train these models.\n",
        "\n",
        "<img src=\"images/autoencoder.png\" style=\"width:50%\">"
      ]
    },
    {
      "metadata": {
        "id": "yQIjDzWyALm8",
        "colab_type": "text"
      },
      "cell_type": "markdown",
      "source": [
        "# First step: PCA\n",
        "\n",
        "Principial Component Analysis is a popular dimensionality reduction method. \n",
        "\n",
        "Under the hood, PCA attempts to decompose object-feature matrix $X$ into two smaller matrices: $W$ and $\\hat W$ minimizing _mean squared error_:\n",
        "\n",
        "$$\\|(X W) \\hat{W} - X\\|^2_2 \\to_{W, \\hat{W}} \\min$$\n",
        "- $X \\in \\mathbb{R}^{n \\times m}$ - object matrix (**centered**);\n",
        "- $W \\in \\mathbb{R}^{m \\times d}$ - matrix of direct transformation;\n",
        "- $\\hat{W} \\in \\mathbb{R}^{d \\times m}$ - matrix of reverse transformation;\n",
        "- $n$ samples, $m$ original dimensions and $d$ target dimensions;\n",
        "\n",
        "In geometric terms, we want to find d axes along which most of variance occurs. The \"natural\" axes, if you wish.\n",
        "\n",
        "<img src=\"images/pca.png\" style=\"width:30%\">\n",
        "\n",
        "\n",
        "PCA can also be seen as a special case of an autoencoder.\n",
        "\n",
        "* __Encoder__: X -> Dense(d units) -> code\n",
        "* __Decoder__: code -> Dense(m units) -> X\n",
        "\n",
        "Where Dense is a fully-connected layer with linear activaton:   $f(X) = W \\cdot X + \\vec b $\n",
        "\n",
        "\n",
        "Note: the bias term in those layers is responsible for \"centering\" the matrix i.e. substracting mean."
      ]
    },
    {
      "metadata": {
        "ExecuteTime": {
          "end_time": "2018-01-04T16:39:42.058684Z",
          "start_time": "2018-01-04T16:39:42.046303Z"
        },
        "id": "apRLISkSALm9",
        "colab_type": "code",
        "colab": {}
      },
      "cell_type": "code",
      "source": [
        "def build_pca_autoencoder(img_shape, code_size):\n",
        "    \"\"\"\n",
        "    Here we define a simple linear autoencoder as described above.\n",
        "    We also flatten and un-flatten data to be compatible with image shapes\n",
        "    \"\"\"\n",
        "    \n",
        "    encoder = keras.models.Sequential()\n",
        "    encoder.add(L.InputLayer(img_shape))\n",
        "    encoder.add(L.Flatten())                  #flatten image to vector\n",
        "    encoder.add(L.Dense(code_size))           #actual encoder\n",
        "\n",
        "    decoder = keras.models.Sequential()\n",
        "    decoder.add(L.InputLayer((code_size,)))\n",
        "    decoder.add(L.Dense(np.prod(img_shape)))  #actual decoder, height*width*3 units\n",
        "    decoder.add(L.Reshape(img_shape))         #un-flatten\n",
        "    \n",
        "    return encoder,decoder"
      ],
      "execution_count": 0,
      "outputs": []
    },
    {
      "metadata": {
        "id": "vHDEPbd-ALnB",
        "colab_type": "text"
      },
      "cell_type": "markdown",
      "source": [
        "Meld them together into one model:"
      ]
    },
    {
      "metadata": {
        "ExecuteTime": {
          "end_time": "2018-01-04T16:41:04.366409Z",
          "start_time": "2018-01-04T16:40:45.919042Z"
        },
        "scrolled": true,
        "id": "ELP8LwBIALnC",
        "colab_type": "code",
        "colab": {
          "base_uri": "https://localhost:8080/",
          "height": 1054
        },
        "outputId": "c6dfa9f3-2395-44c5-db73-f6fa2a58f37c"
      },
      "cell_type": "code",
      "source": [
        "s = reset_tf_session()\n",
        "\n",
        "encoder, decoder = build_pca_autoencoder(IMG_SHAPE, code_size=32)\n",
        "\n",
        "inp = L.Input(IMG_SHAPE)\n",
        "code = encoder(inp)\n",
        "reconstruction = decoder(code)\n",
        "\n",
        "autoencoder = keras.models.Model(inputs=inp, outputs=reconstruction)\n",
        "autoencoder.compile(optimizer='adamax', loss='mse')\n",
        "\n",
        "autoencoder.fit(x=X_train, y=X_train, epochs=15,\n",
        "                validation_data=[X_test, X_test],\n",
        "                callbacks=[keras_utils.TqdmProgressCallback()],\n",
        "                verbose=0)"
      ],
      "execution_count": 52,
      "outputs": [
        {
          "output_type": "stream",
          "text": [
            "\n",
            "Epoch 1/15\n",
            "**************************************************\n",
            "loss: 0.0125; val_loss: 0.0086\n",
            "\n",
            "Epoch 2/15\n",
            "**************************************************\n",
            "loss: 0.0077; val_loss: 0.0071\n",
            "\n",
            "Epoch 3/15\n",
            "**************************************************\n",
            "loss: 0.0069; val_loss: 0.0067\n",
            "\n",
            "Epoch 4/15\n",
            "**************************************************\n",
            "loss: 0.0068; val_loss: 0.0067\n",
            "\n",
            "Epoch 5/15\n",
            "**************************************************\n",
            "loss: 0.0067; val_loss: 0.0066\n",
            "\n",
            "Epoch 6/15\n",
            "**************************************************\n",
            "loss: 0.0067; val_loss: 0.0066\n",
            "\n",
            "Epoch 7/15\n",
            "**************************************************\n",
            "loss: 0.0067; val_loss: 0.0066\n",
            "\n",
            "Epoch 8/15\n",
            "**************************************************\n",
            "loss: 0.0067; val_loss: 0.0066\n",
            "\n",
            "Epoch 9/15\n",
            "**************************************************\n",
            "loss: 0.0067; val_loss: 0.0066\n",
            "\n",
            "Epoch 10/15\n",
            "**************************************************\n",
            "loss: 0.0067; val_loss: 0.0066\n",
            "\n",
            "Epoch 11/15\n",
            "**************************************************\n",
            "loss: 0.0067; val_loss: 0.0066\n",
            "\n",
            "Epoch 12/15\n",
            "**************************************************\n",
            "loss: 0.0067; val_loss: 0.0066\n",
            "\n",
            "Epoch 13/15\n",
            "**************************************************\n",
            "loss: 0.0067; val_loss: 0.0066\n",
            "\n",
            "Epoch 14/15\n",
            "**************************************************\n",
            "loss: 0.0067; val_loss: 0.0066\n",
            "\n",
            "Epoch 15/15\n",
            "**************************************************\n",
            "loss: 0.0067; val_loss: 0.0067\n"
          ],
          "name": "stdout"
        },
        {
          "output_type": "execute_result",
          "data": {
            "text/plain": [
              "<keras.callbacks.History at 0x7f0905b32c18>"
            ]
          },
          "metadata": {
            "tags": []
          },
          "execution_count": 52
        }
      ]
    },
    {
      "metadata": {
        "ExecuteTime": {
          "end_time": "2018-01-04T16:41:11.747674Z",
          "start_time": "2018-01-04T16:41:11.730725Z"
        },
        "id": "PV8pSnynALnF",
        "colab_type": "code",
        "colab": {}
      },
      "cell_type": "code",
      "source": [
        "def visualize(img,encoder,decoder):\n",
        "    \"\"\"Draws original, encoded and decoded images\"\"\"\n",
        "    code = encoder.predict(img[None])[0]  # img[None] is the same as img[np.newaxis, :]\n",
        "    reco = decoder.predict(code[None])[0]\n",
        "\n",
        "    plt.subplot(1,3,1)\n",
        "    plt.title(\"Original\")\n",
        "    show_image(img)\n",
        "\n",
        "    plt.subplot(1,3,2)\n",
        "    plt.title(\"Code\")\n",
        "    plt.imshow(code.reshape([code.shape[-1]//2,-1]))\n",
        "\n",
        "    plt.subplot(1,3,3)\n",
        "    plt.title(\"Reconstructed\")\n",
        "    show_image(reco)\n",
        "    plt.show()\n"
      ],
      "execution_count": 0,
      "outputs": []
    },
    {
      "metadata": {
        "ExecuteTime": {
          "end_time": "2018-01-04T16:41:18.700138Z",
          "start_time": "2018-01-04T16:41:17.026047Z"
        },
        "scrolled": true,
        "id": "trPfw5kkALnJ",
        "colab_type": "code",
        "colab": {
          "base_uri": "https://localhost:8080/",
          "height": 1349
        },
        "outputId": "f5b84e38-f777-48a7-d232-f829a6337f1b"
      },
      "cell_type": "code",
      "source": [
        "score = autoencoder.evaluate(X_test,X_test,verbose=0)\n",
        "print(\"PCA MSE:\", score)\n",
        "\n",
        "for i in range(5):\n",
        "    img = X_test[i]\n",
        "    visualize(img,encoder,decoder)"
      ],
      "execution_count": 27,
      "outputs": [
        {
          "output_type": "stream",
          "text": [
            "PCA MSE: 0.006639402536427454\n"
          ],
          "name": "stdout"
        },
        {
          "output_type": "display_data",
          "data": {
            "image/png": "[encoded data removed]",
            "text/plain": [
              "<matplotlib.figure.Figure at 0x7f090d197a20>"
            ]
          },
          "metadata": {
            "tags": []
          }
        },
        {
          "output_type": "display_data",
          "data": {
            "image/png": "[encoded data removed]",
            "text/plain": [
              "<matplotlib.figure.Figure at 0x7f090d4e95f8>"
            ]
          },
          "metadata": {
            "tags": []
          }
        },
        {
          "output_type": "display_data",
          "data": {
            "image/png": "[encoded data removed]",
            "text/plain": [
              "<matplotlib.figure.Figure at 0x7f09057161d0>"
            ]
          },
          "metadata": {
            "tags": []
          }
        },
        {
          "output_type": "display_data",
          "data": {
            "image/png": "[encoded data removed]",
            "text/plain": [
              "<matplotlib.figure.Figure at 0x7f0905baafd0>"
            ]
          },
          "metadata": {
            "tags": []
          }
        },
        {
          "output_type": "display_data",
          "data": {
            "image/png": "[encoded data removed]",
            "text/plain": [
              "<matplotlib.figure.Figure at 0x7f0905999eb8>"
            ]
          },
          "metadata": {
            "tags": []
          }
        }
      ]
    },
    {
      "metadata": {
        "id": "DOfBtUnhALnN",
        "colab_type": "text"
      },
      "cell_type": "markdown",
      "source": [
        "# Going deeper: convolutional autoencoder\n",
        "\n",
        "PCA is neat but surely we can do better. This time we want you to build a deep convolutional autoencoder by... stacking more layers.\n",
        "\n",
        "## Encoder\n",
        "\n",
        "The **encoder** part is pretty standard, we stack convolutional and pooling layers and finish with a dense layer to get the representation of desirable size (`code_size`).\n",
        "\n",
        "We recommend to use `activation='elu'` for all convolutional and dense layers.\n",
        "\n",
        "We recommend to repeat (conv, pool) 4 times with kernel size (3, 3), `padding='same'` and the following numbers of output channels: `32, 64, 128, 256`.\n",
        "\n",
        "Remember to flatten (`L.Flatten()`) output before adding the last dense layer!\n",
        "\n",
        "## Decoder\n",
        "\n",
        "For **decoder** we will use so-called \"transpose convolution\". \n",
        "\n",
        "Traditional convolutional layer takes a patch of an image and produces a number (patch -> number). In \"transpose convolution\" we want to take a number and produce a patch of an image (number -> patch). We need this layer to \"undo\" convolutions in encoder. We had a glimpse of it during week 3 (watch [this video](https://www.coursera.org/learn/intro-to-deep-learning/lecture/auRqf/a-glimpse-of-other-computer-vision-tasks) starting at 5:41).\n",
        "\n",
        "Here's how \"transpose convolution\" works:\n",
        "<img src=\"images/transpose_conv.jpg\" style=\"width:60%\">\n",
        "In this example we use a stride of 2 to produce 4x4 output, this way we \"undo\" pooling as well. Another way to think about it: we \"undo\" convolution with stride 2 (which is similar to conv + pool).\n",
        "\n",
        "You can add \"transpose convolution\" layer in Keras like this:\n",
        "```python\n",
        "L.Conv2DTranspose(filters=?, kernel_size=(3, 3), strides=2, activation='elu', padding='same')\n",
        "```\n",
        "\n",
        "Our decoder starts with a dense layer to \"undo\" the last layer of encoder. Remember to reshape its output to \"undo\" `L.Flatten()` in encoder.\n",
        "\n",
        "Now we're ready to undo (conv, pool) pairs. For this we need to stack 4 `L.Conv2DTranspose` layers with the following numbers of output channels: `128, 64, 32, 3`. Each of these layers will learn to \"undo\" (conv, pool) pair in encoder. For the last `L.Conv2DTranspose` layer use `activation=None` because that is our final image."
      ]
    },
    {
      "metadata": {
        "ExecuteTime": {
          "end_time": "2018-01-04T16:43:33.562406Z",
          "start_time": "2018-01-04T16:43:33.426581Z"
        },
        "scrolled": true,
        "id": "xlrgeHxKALnQ",
        "colab_type": "code",
        "colab": {}
      },
      "cell_type": "code",
      "source": [
        "# Let's play around with transpose convolution on examples first\n",
        "def test_conv2d_transpose(img_size, filter_size):\n",
        "    print(\"Transpose convolution test for img_size={}, filter_size={}:\".format(img_size, filter_size))\n",
        "    \n",
        "    x = (np.arange(img_size ** 2, dtype=np.float32) + 1).reshape((1, img_size, img_size, 1))\n",
        "    f = (np.ones(filter_size ** 2, dtype=np.float32)).reshape((filter_size, filter_size, 1, 1))\n",
        "\n",
        "    s = reset_tf_session()\n",
        "    \n",
        "    conv = tf.nn.conv2d_transpose(x, f, \n",
        "                                  output_shape=(1, img_size * 2, img_size * 2, 1), \n",
        "                                  strides=[1, 2, 2, 1], \n",
        "                                  padding='SAME')\n",
        "\n",
        "    result = s.run(conv)\n",
        "    print(\"input:\")\n",
        "    print(x[0, :, :, 0])\n",
        "    print(\"filter:\")\n",
        "    print(f[:, :, 0, 0])\n",
        "    print(\"output:\")\n",
        "    print(result[0, :, :, 0])\n",
        "    s.close()\n",
        "        \n",
        "test_conv2d_transpose(img_size=2, filter_size=2)\n",
        "test_conv2d_transpose(img_size=2, filter_size=3)\n",
        "test_conv2d_transpose(img_size=4, filter_size=2)\n",
        "test_conv2d_transpose(img_size=4, filter_size=3)"
      ],
      "execution_count": 0,
      "outputs": []
    },
    {
      "metadata": {
        "ExecuteTime": {
          "end_time": "2018-01-04T16:44:43.582011Z",
          "start_time": "2018-01-04T16:44:43.516283Z"
        },
        "id": "xnCkCDj8ALnZ",
        "colab_type": "code",
        "colab": {}
      },
      "cell_type": "code",
      "source": [
        "def build_deep_autoencoder(img_shape, code_size):\n",
        "    \"\"\"PCA's deeper brother. See instructions above. Use `code_size` in layer definitions.\"\"\"\n",
        "    H,W,C = img_shape\n",
        "    \n",
        "    # encoder\n",
        "    encoder = keras.models.Sequential()\n",
        "    \n",
        "    encoder.add(L.InputLayer(img_shape))\n",
        "    \n",
        "    encoder.add(L.Conv2D(32, (3,3), padding='same', activation='elu'))\n",
        "    encoder.add(L.MaxPooling2D(pool_size=(2, 2), padding='same'))\n",
        "\n",
        "    encoder.add(L.Conv2D(64, (3,3), padding='same', activation='elu'))\n",
        "    encoder.add(L.MaxPooling2D(pool_size=(2, 2), padding='same'))\n",
        "\n",
        "    encoder.add(L.Conv2D(128, (3,3), padding='same', activation='elu'))\n",
        "    encoder.add(L.MaxPooling2D(pool_size=(2, 2), padding='same'))\n",
        "\n",
        "    encoder.add(L.Conv2D(256, (3,3), padding='same', activation='elu'))\n",
        "    encoder.add(L.MaxPooling2D(pool_size=(2, 2), padding='same'))\n",
        "    \n",
        "    encoder.add(L.Flatten())             #flatten image to vector\n",
        "    encoder.add(L.Dense(code_size,))\n",
        "   \n",
        "    decoder = keras.models.Sequential()\n",
        "    decoder.add(L.InputLayer((code_size,)))\n",
        "    print(img_shape,code_size)\n",
        "    decoder.add(L.Dense(2*2*256))\n",
        "\n",
        "    decoder.add(L.Reshape((2,2,256)))\n",
        "    decoder.add(L.Conv2DTranspose(128, kernel_size=(3, 3), strides=2, activation='elu', padding='same'))\n",
        "    decoder.add(L.Conv2DTranspose(64 , kernel_size=(3, 3), strides=2, activation='elu', padding='same'))\n",
        "    decoder.add(L.Conv2DTranspose(32 , kernel_size=(3, 3), strides=2, activation='elu', padding='same'))\n",
        "    decoder.add(L.Conv2DTranspose(3  , kernel_size=(3, 3), strides=2, activation=None, padding='same'))\n",
        "    ### YOUR CODE HERE: define decoder as per instructions above ###\n",
        "    \n",
        "    return encoder, decoder"
      ],
      "execution_count": 0,
      "outputs": []
    },
    {
      "metadata": {
        "ExecuteTime": {
          "end_time": "2018-01-04T16:44:53.805124Z",
          "start_time": "2018-01-04T16:44:52.846510Z"
        },
        "id": "u5xrthKaALnc",
        "colab_type": "code",
        "colab": {
          "base_uri": "https://localhost:8080/",
          "height": 289
        },
        "outputId": "a43e187f-afbe-4192-97db-4c4ad776a4b1"
      },
      "cell_type": "code",
      "source": [
        "# Check autoencoder shapes along different code_sizes\n",
        "get_dim = lambda layer: np.prod(layer.output_shape[1:])\n",
        "for code_size in [1,8,32,128,512]:\n",
        "    s = reset_tf_session()\n",
        "    encoder, decoder = build_deep_autoencoder(IMG_SHAPE, code_size=code_size)\n",
        "    print(\"Testing code size %i\" % code_size)\n",
        "    print(\"encoder.output_shape[1:]>\" ,encoder.output_shape[1:])\n",
        "    assert encoder.output_shape[1:]==(code_size,),\"encoder must output a code of required size\"\n",
        "    assert decoder.output_shape[1:]==IMG_SHAPE,   \"decoder must output an image of valid shape\"\n",
        "    assert len(encoder.trainable_weights)>=6,     \"encoder must contain at least 3 layers\"\n",
        "    assert len(decoder.trainable_weights)>=6,     \"decoder must contain at least 3 layers\"\n",
        "    \n",
        "    for layer in encoder.layers + decoder.layers:\n",
        "        assert get_dim(layer) >= code_size, \"Encoder layer %s is smaller than bottleneck (%i units)\"%(layer.name,get_dim(layer))\n",
        "\n",
        "print(\"All tests passed!\")\n",
        "s = reset_tf_session()"
      ],
      "execution_count": 62,
      "outputs": [
        {
          "output_type": "stream",
          "text": [
            "(32, 32, 3) 1\n",
            "Testing code size 1\n",
            "encoder.output_shape[1:]> (1,)\n",
            "(32, 32, 3) 8\n",
            "Testing code size 8\n",
            "encoder.output_shape[1:]> (8,)\n",
            "(32, 32, 3) 32\n",
            "Testing code size 32\n",
            "encoder.output_shape[1:]> (32,)\n",
            "(32, 32, 3) 128\n",
            "Testing code size 128\n",
            "encoder.output_shape[1:]> (128,)\n",
            "(32, 32, 3) 512\n",
            "Testing code size 512\n",
            "encoder.output_shape[1:]> (512,)\n",
            "All tests passed!\n"
          ],
          "name": "stdout"
        }
      ]
    },
    {
      "metadata": {
        "ExecuteTime": {
          "end_time": "2018-01-04T16:45:16.966538Z",
          "start_time": "2018-01-04T16:45:16.804252Z"
        },
        "scrolled": true,
        "id": "p0cTCJwBALnf",
        "colab_type": "code",
        "colab": {
          "base_uri": "https://localhost:8080/",
          "height": 884
        },
        "outputId": "4a46684c-5617-47e3-b00b-ac2c34711d62"
      },
      "cell_type": "code",
      "source": [
        "# Look at encoder and decoder shapes.\n",
        "# Total number of trainable parameters of encoder and decoder should be close.\n",
        "s = reset_tf_session()\n",
        "encoder, decoder = build_deep_autoencoder(IMG_SHAPE, code_size=32)\n",
        "encoder.summary()\n",
        "decoder.summary()"
      ],
      "execution_count": 63,
      "outputs": [
        {
          "output_type": "stream",
          "text": [
            "(32, 32, 3) 32\n",
            "_________________________________________________________________\n",
            "Layer (type)                 Output Shape              Param #   \n",
            "=================================================================\n",
            "input_1 (InputLayer)         (None, 32, 32, 3)         0         \n",
            "_________________________________________________________________\n",
            "conv2d_1 (Conv2D)            (None, 32, 32, 32)        896       \n",
            "_________________________________________________________________\n",
            "max_pooling2d_1 (MaxPooling2 (None, 16, 16, 32)        0         \n",
            "_________________________________________________________________\n",
            "conv2d_2 (Conv2D)            (None, 16, 16, 64)        18496     \n",
            "_________________________________________________________________\n",
            "max_pooling2d_2 (MaxPooling2 (None, 8, 8, 64)          0         \n",
            "_________________________________________________________________\n",
            "conv2d_3 (Conv2D)            (None, 8, 8, 128)         73856     \n",
            "_________________________________________________________________\n",
            "max_pooling2d_3 (MaxPooling2 (None, 4, 4, 128)         0         \n",
            "_________________________________________________________________\n",
            "conv2d_4 (Conv2D)            (None, 4, 4, 256)         295168    \n",
            "_________________________________________________________________\n",
            "max_pooling2d_4 (MaxPooling2 (None, 2, 2, 256)         0         \n",
            "_________________________________________________________________\n",
            "flatten_1 (Flatten)          (None, 1024)              0         \n",
            "_________________________________________________________________\n",
            "dense_1 (Dense)              (None, 32)                32800     \n",
            "=================================================================\n",
            "Total params: 421,216\n",
            "Trainable params: 421,216\n",
            "Non-trainable params: 0\n",
            "_________________________________________________________________\n",
            "_________________________________________________________________\n",
            "Layer (type)                 Output Shape              Param #   \n",
            "=================================================================\n",
            "input_2 (InputLayer)         (None, 32)                0         \n",
            "_________________________________________________________________\n",
            "dense_2 (Dense)              (None, 1024)              33792     \n",
            "_________________________________________________________________\n",
            "reshape_1 (Reshape)          (None, 2, 2, 256)         0         \n",
            "_________________________________________________________________\n",
            "conv2d_transpose_1 (Conv2DTr (None, 4, 4, 128)         295040    \n",
            "_________________________________________________________________\n",
            "conv2d_transpose_2 (Conv2DTr (None, 8, 8, 64)          73792     \n",
            "_________________________________________________________________\n",
            "conv2d_transpose_3 (Conv2DTr (None, 16, 16, 32)        18464     \n",
            "_________________________________________________________________\n",
            "conv2d_transpose_4 (Conv2DTr (None, 32, 32, 3)         867       \n",
            "=================================================================\n",
            "Total params: 421,955\n",
            "Trainable params: 421,955\n",
            "Non-trainable params: 0\n",
            "_________________________________________________________________\n"
          ],
          "name": "stdout"
        }
      ]
    },
    {
      "metadata": {
        "id": "x3oE3BEIALnj",
        "colab_type": "text"
      },
      "cell_type": "markdown",
      "source": [
        "Convolutional autoencoder training. This will take **1 hour**. You're aiming at ~0.0056 validation MSE and ~0.0054 training MSE."
      ]
    },
    {
      "metadata": {
        "ExecuteTime": {
          "end_time": "2018-01-04T16:48:32.365157Z",
          "start_time": "2018-01-04T16:46:03.202875Z"
        },
        "id": "0Ul95WAGALnj",
        "colab_type": "code",
        "colab": {
          "base_uri": "https://localhost:8080/",
          "height": 34
        },
        "outputId": "af6f4310-44c9-4b07-da87-70af76d68b37"
      },
      "cell_type": "code",
      "source": [
        "s = reset_tf_session()\n",
        "\n",
        "encoder, decoder = build_deep_autoencoder(IMG_SHAPE, code_size=32)\n",
        "\n",
        "inp = L.Input(IMG_SHAPE)\n",
        "code = encoder(inp)\n",
        "reconstruction = decoder(code)\n",
        "\n",
        "autoencoder = keras.models.Model(inputs=inp, outputs=reconstruction)\n",
        "autoencoder.compile(optimizer=\"adamax\", loss='mse')"
      ],
      "execution_count": 64,
      "outputs": [
        {
          "output_type": "stream",
          "text": [
            "(32, 32, 3) 32\n"
          ],
          "name": "stdout"
        }
      ]
    },
    {
      "metadata": {
        "ExecuteTime": {
          "end_time": "2018-01-04T16:48:32.365157Z",
          "start_time": "2018-01-04T16:46:03.202875Z"
        },
        "id": "WIS2EGR5ALnm",
        "colab_type": "code",
        "colab": {}
      },
      "cell_type": "code",
      "source": [
        "# we will save model checkpoints here to continue training in case of kernel death\n",
        "model_filename = 'autoencoder.{0:03d}.hdf5'\n",
        "last_finished_epoch = None\n",
        "\n",
        "#### uncomment below to continue training from model checkpoint\n",
        "#### fill `last_finished_epoch` with your latest finished epoch\n",
        "# from keras.models import load_model\n",
        "# s = reset_tf_session()\n",
        "# last_finished_epoch = 4\n",
        "# autoencoder = load_model(model_filename.format(last_finished_epoch))\n",
        "# encoder = autoencoder.layers[1]\n",
        "# decoder = autoencoder.layers[2]"
      ],
      "execution_count": 0,
      "outputs": []
    },
    {
      "metadata": {
        "ExecuteTime": {
          "end_time": "2018-01-04T16:48:32.365157Z",
          "start_time": "2018-01-04T16:46:03.202875Z"
        },
        "scrolled": true,
        "id": "kUXP2ftlALnr",
        "colab_type": "code",
        "colab": {
          "base_uri": "https://localhost:8080/",
          "height": 2159
        },
        "outputId": "ee08aa84-1111-4d31-d438-7109cbf45287"
      },
      "cell_type": "code",
      "source": [
        "autoencoder.fit(x=X_train, y=X_train, epochs=25,\n",
        "                validation_data=[X_test, X_test],\n",
        "                callbacks=[keras_utils.ModelSaveCallback(model_filename),\n",
        "                           keras_utils.TqdmProgressCallback()],\n",
        "                verbose=0,\n",
        "                initial_epoch=last_finished_epoch or 0)"
      ],
      "execution_count": 66,
      "outputs": [
        {
          "output_type": "stream",
          "text": [
            "\n",
            "Epoch 1/25\n",
            "**************************************************Model saved in autoencoder.000.hdf5\n",
            "\n",
            "loss: 0.0118; val_loss: 0.0083\n",
            "\n",
            "Epoch 2/25\n",
            "**************************************************Model saved in autoencoder.001.hdf5\n",
            "\n",
            "loss: 0.0078; val_loss: 0.0073\n",
            "\n",
            "Epoch 3/25\n",
            "**************************************************Model saved in autoencoder.002.hdf5\n",
            "\n",
            "loss: 0.0072; val_loss: 0.0072\n",
            "\n",
            "Epoch 4/25\n",
            "**************************************************Model saved in autoencoder.003.hdf5\n",
            "\n",
            "loss: 0.0070; val_loss: 0.0069\n",
            "\n",
            "Epoch 5/25\n",
            "**************************************************Model saved in autoencoder.004.hdf5\n",
            "\n",
            "loss: 0.0068; val_loss: 0.0068\n",
            "\n",
            "Epoch 6/25\n",
            "**************************************************Model saved in autoencoder.005.hdf5\n",
            "\n",
            "loss: 0.0066; val_loss: 0.0066\n",
            "\n",
            "Epoch 7/25\n",
            "**************************************************Model saved in autoencoder.006.hdf5\n",
            "\n",
            "loss: 0.0064; val_loss: 0.0063\n",
            "\n",
            "Epoch 8/25\n",
            "**************************************************Model saved in autoencoder.007.hdf5\n",
            "\n",
            "loss: 0.0063; val_loss: 0.0062\n",
            "\n",
            "Epoch 9/25\n",
            "**************************************************Model saved in autoencoder.008.hdf5\n",
            "\n",
            "loss: 0.0061; val_loss: 0.0061\n",
            "\n",
            "Epoch 10/25\n",
            "**************************************************Model saved in autoencoder.009.hdf5\n",
            "\n",
            "loss: 0.0060; val_loss: 0.0060\n",
            "\n",
            "Epoch 11/25\n",
            "**************************************************Model saved in autoencoder.010.hdf5\n",
            "\n",
            "loss: 0.0059; val_loss: 0.0059\n",
            "\n",
            "Epoch 12/25\n",
            "**************************************************Model saved in autoencoder.011.hdf5\n",
            "\n",
            "loss: 0.0058; val_loss: 0.0060\n",
            "\n",
            "Epoch 13/25\n",
            "**************************************************Model saved in autoencoder.012.hdf5\n",
            "\n",
            "loss: 0.0057; val_loss: 0.0058\n",
            "\n",
            "Epoch 14/25\n",
            "**************************************************Model saved in autoencoder.013.hdf5\n",
            "\n",
            "loss: 0.0057; val_loss: 0.0058\n",
            "\n",
            "Epoch 15/25\n",
            "**************************************************Model saved in autoencoder.014.hdf5\n",
            "\n",
            "loss: 0.0056; val_loss: 0.0057\n",
            "\n",
            "Epoch 16/25\n",
            "**************************************************Model saved in autoencoder.015.hdf5\n",
            "\n",
            "loss: 0.0055; val_loss: 0.0058\n",
            "\n",
            "Epoch 17/25\n",
            "**************************************************Model saved in autoencoder.016.hdf5\n",
            "\n",
            "loss: 0.0055; val_loss: 0.0056\n",
            "\n",
            "Epoch 18/25\n",
            "**************************************************Model saved in autoencoder.017.hdf5\n",
            "\n",
            "loss: 0.0054; val_loss: 0.0057\n",
            "\n",
            "Epoch 19/25\n",
            "**************************************************Model saved in autoencoder.018.hdf5\n",
            "\n",
            "loss: 0.0054; val_loss: 0.0056\n",
            "\n",
            "Epoch 20/25\n",
            "**************************************************Model saved in autoencoder.019.hdf5\n",
            "\n",
            "loss: 0.0053; val_loss: 0.0056\n",
            "\n",
            "Epoch 21/25\n",
            "**************************************************Model saved in autoencoder.020.hdf5\n",
            "\n",
            "loss: 0.0053; val_loss: 0.0056\n",
            "\n",
            "Epoch 22/25\n",
            "**************************************************Model saved in autoencoder.021.hdf5\n",
            "\n",
            "loss: 0.0052; val_loss: 0.0056\n",
            "\n",
            "Epoch 23/25\n",
            "**************************************************Model saved in autoencoder.022.hdf5\n",
            "\n",
            "loss: 0.0052; val_loss: 0.0055\n",
            "\n",
            "Epoch 24/25\n",
            "**************************************************Model saved in autoencoder.023.hdf5\n",
            "\n",
            "loss: 0.0052; val_loss: 0.0055\n",
            "\n",
            "Epoch 25/25\n",
            "**************************************************Model saved in autoencoder.024.hdf5\n",
            "\n",
            "loss: 0.0051; val_loss: 0.0055\n"
          ],
          "name": "stdout"
        },
        {
          "output_type": "execute_result",
          "data": {
            "text/plain": [
              "<keras.callbacks.History at 0x7f090683b8d0>"
            ]
          },
          "metadata": {
            "tags": []
          },
          "execution_count": 66
        }
      ]
    },
    {
      "metadata": {
        "ExecuteTime": {
          "end_time": "2018-01-04T16:49:25.084704Z",
          "start_time": "2018-01-04T16:49:23.236568Z"
        },
        "scrolled": true,
        "id": "n0W92Zx_ALnt",
        "colab_type": "code",
        "colab": {
          "base_uri": "https://localhost:8080/",
          "height": 1349
        },
        "outputId": "103978fd-09f0-4b7f-9512-32321b8ee9b0"
      },
      "cell_type": "code",
      "source": [
        "reconstruction_mse = autoencoder.evaluate(X_test, X_test, verbose=0)\n",
        "print(\"Convolutional autoencoder MSE:\", reconstruction_mse)\n",
        "for i in range(5):\n",
        "    img = X_test[i]\n",
        "    visualize(img,encoder,decoder)"
      ],
      "execution_count": 67,
      "outputs": [
        {
          "output_type": "stream",
          "text": [
            "Convolutional autoencoder MSE: 0.005489058761960143\n"
          ],
          "name": "stdout"
        },
        {
          "output_type": "display_data",
          "data": {
            "image/png": "[encoded data removed]",
            "text/plain": [
              "<matplotlib.figure.Figure at 0x7f0909b03ef0>"
            ]
          },
          "metadata": {
            "tags": []
          }
        },
        {
          "output_type": "display_data",
          "data": {
            "image/png": "[encoded data removed]",
            "text/plain": [
              "<matplotlib.figure.Figure at 0x7f090d5168d0>"
            ]
          },
          "metadata": {
            "tags": []
          }
        },
        {
          "output_type": "display_data",
          "data": {
            "image/png": "[encoded data removed]",
            "text/plain": [
              "<matplotlib.figure.Figure at 0x7f090cedf7f0>"
            ]
          },
          "metadata": {
            "tags": []
          }
        },
        {
          "output_type": "display_data",
          "data": {
            "image/png": "[encoded data removed]",
            "text/plain": [
              "<matplotlib.figure.Figure at 0x7f0905b3e710>"
            ]
          },
          "metadata": {
            "tags": []
          }
        },
        {
          "output_type": "display_data",
          "data": {
            "image/png": "[encoded data removed]",
            "text/plain": [
              "<matplotlib.figure.Figure at 0x7f0905b2eb70>"
            ]
          },
          "metadata": {
            "tags": []
          }
        }
      ]
    },
    {
      "metadata": {
        "ExecuteTime": {
          "end_time": "2018-01-04T16:49:54.273061Z",
          "start_time": "2018-01-04T16:49:54.230656Z"
        },
        "id": "XP-dxJqJALnx",
        "colab_type": "code",
        "colab": {}
      },
      "cell_type": "code",
      "source": [
        "# save trained weights\n",
        "encoder.save_weights(\"encoder.h5\")\n",
        "decoder.save_weights(\"decoder.h5\")\n",
        "from google.colab import files\n",
        "files.download('encoder.h5')\n",
        "files.download('decoder.h5') \n",
        "\n"
      ],
      "execution_count": 0,
      "outputs": []
    },
    {
      "metadata": {
        "ExecuteTime": {
          "end_time": "2018-01-04T16:50:01.657093Z",
          "start_time": "2018-01-04T16:50:01.067976Z"
        },
        "id": "H1kF2zmPALn3",
        "colab_type": "code",
        "colab": {
          "base_uri": "https://localhost:8080/",
          "height": 68
        },
        "outputId": "e0018416-098e-4e0a-a9f7-2a7e57d0d014"
      },
      "cell_type": "code",
      "source": [
        "# restore trained weights\n",
        "s = reset_tf_session()\n",
        "\n",
        "encoder, decoder = build_deep_autoencoder(IMG_SHAPE, code_size=32)\n",
        "encoder.load_weights(\"encoder.h5\")\n",
        "decoder.load_weights(\"decoder.h5\")\n",
        "\n",
        "inp = L.Input(IMG_SHAPE)\n",
        "code = encoder(inp)\n",
        "reconstruction = decoder(code)\n",
        "\n",
        "autoencoder = keras.models.Model(inputs=inp, outputs=reconstruction)\n",
        "autoencoder.compile(optimizer=\"adamax\", loss='mse')\n",
        "\n",
        "print(autoencoder.evaluate(X_test, X_test, verbose=0))\n",
        "print(reconstruction_mse)"
      ],
      "execution_count": 71,
      "outputs": [
        {
          "output_type": "stream",
          "text": [
            "(32, 32, 3) 32\n",
            "0.005489058761960143\n",
            "0.005489058761960143\n"
          ],
          "name": "stdout"
        }
      ]
    },
    {
      "metadata": {
        "id": "Ts8hPtq1ALn5",
        "colab_type": "text"
      },
      "cell_type": "markdown",
      "source": [
        "# Submit to Coursera"
      ]
    },
    {
      "metadata": {
        "id": "2-40eptGALn7",
        "colab_type": "code",
        "colab": {
          "base_uri": "https://localhost:8080/",
          "height": 51
        },
        "outputId": "2ee7a9d4-8596-4742-cc2e-53250bceda32"
      },
      "cell_type": "code",
      "source": [
        "from submit import submit_autoencoder\n",
        "submission = build_deep_autoencoder(IMG_SHAPE, code_size=71)\n",
        "\n",
        "# token expires every 30 min\n",
        "COURSERA_TOKEN = 'N6MAJyW4et4la611'\n",
        "COURSERA_EMAIL = 'andres@sirius.utp.edu.co'\n",
        "\n",
        "submit_autoencoder(submission, reconstruction_mse, COURSERA_EMAIL, COURSERA_TOKEN)"
      ],
      "execution_count": 72,
      "outputs": [
        {
          "output_type": "stream",
          "text": [
            "(32, 32, 3) 71\n",
            "Submitted to Coursera platform. See results on assignment page!\n"
          ],
          "name": "stdout"
        }
      ]
    },
    {
      "metadata": {
        "id": "syerqYeSALn-",
        "colab_type": "text"
      },
      "cell_type": "markdown",
      "source": [
        "# Optional: Denoising Autoencoder\n",
        "\n",
        "This part is **optional**, it shows you one useful application of autoencoders: denoising. You can run this code and make sure denoising works :) \n",
        "\n",
        "Let's now turn our model into a denoising autoencoder:\n",
        "<img src=\"images/denoising.jpg\" style=\"width:40%\">\n",
        "\n",
        "We'll keep the model architecture, but change the way it is trained. In particular, we'll corrupt its input data randomly with noise before each epoch.\n",
        "\n",
        "There are many strategies to introduce noise: adding gaussian white noise, occluding with random black rectangles, etc. We will add gaussian white noise."
      ]
    },
    {
      "metadata": {
        "ExecuteTime": {
          "end_time": "2018-01-04T16:52:04.861818Z",
          "start_time": "2018-01-04T16:52:04.856134Z"
        },
        "id": "D5cdXaeHALn_",
        "colab_type": "code",
        "colab": {}
      },
      "cell_type": "code",
      "source": [
        "def apply_gaussian_noise(X,sigma=0.1):\n",
        "    \"\"\"\n",
        "    adds noise from standard normal distribution with standard deviation sigma\n",
        "    :param X: image tensor of shape [batch,height,width,3]\n",
        "    Returns X + noise.\n",
        "    \"\"\"\n",
        "    noise = ### YOUR CODE HERE ###\n",
        "    return X + noise"
      ],
      "execution_count": 0,
      "outputs": []
    },
    {
      "metadata": {
        "ExecuteTime": {
          "end_time": "2018-01-04T16:52:06.264119Z",
          "start_time": "2018-01-04T16:52:06.223714Z"
        },
        "id": "kTbZOfXzALoD",
        "colab_type": "code",
        "colab": {}
      },
      "cell_type": "code",
      "source": [
        "# noise tests\n",
        "theoretical_std = (X_train[:100].std()**2 + 0.5**2)**.5\n",
        "our_std = apply_gaussian_noise(X_train[:100],sigma=0.5).std()\n",
        "assert abs(theoretical_std - our_std) < 0.01, \"Standard deviation does not match it's required value. Make sure you use sigma as std.\"\n",
        "assert abs(apply_gaussian_noise(X_train[:100],sigma=0.5).mean() - X_train[:100].mean()) < 0.01, \"Mean has changed. Please add zero-mean noise\""
      ],
      "execution_count": 0,
      "outputs": []
    },
    {
      "metadata": {
        "ExecuteTime": {
          "end_time": "2018-01-04T16:52:08.220681Z",
          "start_time": "2018-01-04T16:52:07.737460Z"
        },
        "id": "-CYLaVrkALoI",
        "colab_type": "code",
        "colab": {}
      },
      "cell_type": "code",
      "source": [
        "# test different noise scales\n",
        "plt.subplot(1,4,1)\n",
        "show_image(X_train[0])\n",
        "plt.subplot(1,4,2)\n",
        "show_image(apply_gaussian_noise(X_train[:1],sigma=0.01)[0])\n",
        "plt.subplot(1,4,3)\n",
        "show_image(apply_gaussian_noise(X_train[:1],sigma=0.1)[0])\n",
        "plt.subplot(1,4,4)\n",
        "show_image(apply_gaussian_noise(X_train[:1],sigma=0.5)[0])"
      ],
      "execution_count": 0,
      "outputs": []
    },
    {
      "metadata": {
        "id": "46KSKBDAALoN",
        "colab_type": "text"
      },
      "cell_type": "markdown",
      "source": [
        "Training will take **1 hour**."
      ]
    },
    {
      "metadata": {
        "ExecuteTime": {
          "end_time": "2018-01-04T16:56:02.667408Z",
          "start_time": "2018-01-04T16:52:31.853874Z"
        },
        "scrolled": true,
        "id": "ghtZN0cDALoP",
        "colab_type": "code",
        "colab": {}
      },
      "cell_type": "code",
      "source": [
        "s = reset_tf_session()\n",
        "\n",
        "# we use bigger code size here for better quality\n",
        "encoder, decoder = build_deep_autoencoder(IMG_SHAPE, code_size=512)\n",
        "assert encoder.output_shape[1:]==(512,), \"encoder must output a code of required size\"\n",
        "\n",
        "inp = L.Input(IMG_SHAPE)\n",
        "code = encoder(inp)\n",
        "reconstruction = decoder(code)\n",
        "\n",
        "autoencoder = keras.models.Model(inp, reconstruction)\n",
        "autoencoder.compile('adamax', 'mse')\n",
        "\n",
        "for i in range(25):\n",
        "    print(\"Epoch %i/25, Generating corrupted samples...\"%(i+1))\n",
        "    X_train_noise = apply_gaussian_noise(X_train)\n",
        "    X_test_noise = apply_gaussian_noise(X_test)\n",
        "    \n",
        "    # we continue to train our model with new noise-augmented data\n",
        "    autoencoder.fit(x=X_train_noise, y=X_train, epochs=1,\n",
        "                    validation_data=[X_test_noise, X_test],\n",
        "                    callbacks=[keras_utils.TqdmProgressCallback()],\n",
        "                    verbose=0)"
      ],
      "execution_count": 0,
      "outputs": []
    },
    {
      "metadata": {
        "ExecuteTime": {
          "end_time": "2018-01-04T16:56:09.059164Z",
          "start_time": "2018-01-04T16:56:06.987995Z"
        },
        "scrolled": true,
        "id": "a4JQalPmALoR",
        "colab_type": "code",
        "colab": {}
      },
      "cell_type": "code",
      "source": [
        "X_test_noise = apply_gaussian_noise(X_test)\n",
        "denoising_mse = autoencoder.evaluate(X_test_noise, X_test, verbose=0)\n",
        "print(\"Denoising MSE:\", denoising_mse)\n",
        "for i in range(5):\n",
        "    img = X_test_noise[i]\n",
        "    visualize(img,encoder,decoder)"
      ],
      "execution_count": 0,
      "outputs": []
    },
    {
      "metadata": {
        "id": "81PU14nuALoX",
        "colab_type": "text"
      },
      "cell_type": "markdown",
      "source": [
        "# Optional: Image retrieval with autoencoders\n",
        "\n",
        "So we've just trained a network that converts image into itself imperfectly. This task is not that useful in and of itself, but it has a number of awesome side-effects. Let's see them in action.\n",
        "\n",
        "First thing we can do is image retrieval aka image search. We will give it an image and find similar images in latent space:\n",
        "\n",
        "<img src=\"images/similar_images.jpg\" style=\"width:60%\">\n",
        "\n",
        "To speed up retrieval process, one should use Locality Sensitive Hashing on top of encoded vectors. This [technique](https://erikbern.com/2015/07/04/benchmark-of-approximate-nearest-neighbor-libraries.html) can narrow down the potential nearest neighbours of our image in latent space (encoder code). We will caclulate nearest neighbours in brute force way for simplicity."
      ]
    },
    {
      "metadata": {
        "ExecuteTime": {
          "end_time": "2018-01-04T16:56:25.988163Z",
          "start_time": "2018-01-04T16:56:25.784071Z"
        },
        "id": "Gmv3JHuRALoY",
        "colab_type": "code",
        "colab": {}
      },
      "cell_type": "code",
      "source": [
        "# restore trained encoder weights\n",
        "s = reset_tf_session()\n",
        "encoder, decoder = build_deep_autoencoder(IMG_SHAPE, code_size=32)\n",
        "encoder.load_weights(\"encoder.h5\")"
      ],
      "execution_count": 0,
      "outputs": []
    },
    {
      "metadata": {
        "ExecuteTime": {
          "end_time": "2018-01-04T16:56:30.368727Z",
          "start_time": "2018-01-04T16:56:29.246409Z"
        },
        "id": "rEE9-qQLALob",
        "colab_type": "code",
        "colab": {}
      },
      "cell_type": "code",
      "source": [
        "images = X_train\n",
        "codes = ### YOUR CODE HERE: encode all images ###\n",
        "assert len(codes) == len(images)"
      ],
      "execution_count": 0,
      "outputs": []
    },
    {
      "metadata": {
        "ExecuteTime": {
          "end_time": "2018-01-04T16:56:39.396176Z",
          "start_time": "2018-01-04T16:56:39.370156Z"
        },
        "id": "BA28dqwZALoe",
        "colab_type": "code",
        "colab": {}
      },
      "cell_type": "code",
      "source": [
        "from sklearn.neighbors.unsupervised import NearestNeighbors\n",
        "nei_clf = NearestNeighbors(metric=\"euclidean\")\n",
        "nei_clf.fit(codes)"
      ],
      "execution_count": 0,
      "outputs": []
    },
    {
      "metadata": {
        "ExecuteTime": {
          "end_time": "2018-01-04T16:56:42.213214Z",
          "start_time": "2018-01-04T16:56:42.206902Z"
        },
        "id": "U5q5D28LALoi",
        "colab_type": "code",
        "colab": {}
      },
      "cell_type": "code",
      "source": [
        "def get_similar(image, n_neighbors=5):\n",
        "    assert image.ndim==3,\"image must be [batch,height,width,3]\"\n",
        "\n",
        "    code = encoder.predict(image[None])\n",
        "    \n",
        "    (distances,),(idx,) = nei_clf.kneighbors(code,n_neighbors=n_neighbors)\n",
        "    \n",
        "    return distances,images[idx]"
      ],
      "execution_count": 0,
      "outputs": []
    },
    {
      "metadata": {
        "ExecuteTime": {
          "end_time": "2018-01-04T16:56:44.008658Z",
          "start_time": "2018-01-04T16:56:43.997658Z"
        },
        "id": "QC4w9142ALol",
        "colab_type": "code",
        "colab": {}
      },
      "cell_type": "code",
      "source": [
        "def show_similar(image):\n",
        "    \n",
        "    distances,neighbors = get_similar(image,n_neighbors=3)\n",
        "    \n",
        "    plt.figure(figsize=[8,7])\n",
        "    plt.subplot(1,4,1)\n",
        "    show_image(image)\n",
        "    plt.title(\"Original image\")\n",
        "    \n",
        "    for i in range(3):\n",
        "        plt.subplot(1,4,i+2)\n",
        "        show_image(neighbors[i])\n",
        "        plt.title(\"Dist=%.3f\"%distances[i])\n",
        "    plt.show()"
      ],
      "execution_count": 0,
      "outputs": []
    },
    {
      "metadata": {
        "id": "OJcHiyxeALoq",
        "colab_type": "text"
      },
      "cell_type": "markdown",
      "source": [
        "Cherry-picked examples:"
      ]
    },
    {
      "metadata": {
        "ExecuteTime": {
          "end_time": "2018-01-04T16:57:31.768260Z",
          "start_time": "2018-01-04T16:57:31.240174Z"
        },
        "id": "2ZqcQxaIALor",
        "colab_type": "code",
        "colab": {}
      },
      "cell_type": "code",
      "source": [
        "# smiles\n",
        "show_similar(X_test[247])"
      ],
      "execution_count": 0,
      "outputs": []
    },
    {
      "metadata": {
        "ExecuteTime": {
          "end_time": "2018-01-04T16:56:50.828404Z",
          "start_time": "2018-01-04T16:56:50.462822Z"
        },
        "id": "jzOOvmWUALot",
        "colab_type": "code",
        "colab": {}
      },
      "cell_type": "code",
      "source": [
        "# ethnicity\n",
        "show_similar(X_test[56])"
      ],
      "execution_count": 0,
      "outputs": []
    },
    {
      "metadata": {
        "ExecuteTime": {
          "end_time": "2018-01-04T16:56:52.939288Z",
          "start_time": "2018-01-04T16:56:52.576097Z"
        },
        "scrolled": false,
        "id": "DCSUglfRALo3",
        "colab_type": "code",
        "colab": {}
      },
      "cell_type": "code",
      "source": [
        "# glasses\n",
        "show_similar(X_test[63])"
      ],
      "execution_count": 0,
      "outputs": []
    },
    {
      "metadata": {
        "collapsed": true,
        "id": "ToyeuR19ALo6",
        "colab_type": "text"
      },
      "cell_type": "markdown",
      "source": [
        "# Optional: Cheap image morphing\n"
      ]
    },
    {
      "metadata": {
        "id": "sdrhbrW2ALo8",
        "colab_type": "text"
      },
      "cell_type": "markdown",
      "source": [
        "We can take linear combinations of image codes to produce new images with decoder."
      ]
    },
    {
      "metadata": {
        "ExecuteTime": {
          "end_time": "2018-01-04T16:57:58.378044Z",
          "start_time": "2018-01-04T16:57:58.145544Z"
        },
        "id": "ztK-eRCYALo9",
        "colab_type": "code",
        "colab": {}
      },
      "cell_type": "code",
      "source": [
        "# restore trained encoder weights\n",
        "s = reset_tf_session()\n",
        "encoder, decoder = build_deep_autoencoder(IMG_SHAPE, code_size=32)\n",
        "encoder.load_weights(\"encoder.h5\")\n",
        "decoder.load_weights(\"decoder.h5\")"
      ],
      "execution_count": 0,
      "outputs": []
    },
    {
      "metadata": {
        "ExecuteTime": {
          "end_time": "2018-01-04T16:58:03.396368Z",
          "start_time": "2018-01-04T16:58:00.359973Z"
        },
        "id": "1kt_1a5-ALpB",
        "colab_type": "code",
        "colab": {}
      },
      "cell_type": "code",
      "source": [
        "for _ in range(5):\n",
        "    image1,image2 = X_test[np.random.randint(0,len(X_test),size=2)]\n",
        "\n",
        "    code1, code2 = encoder.predict(np.stack([image1, image2]))\n",
        "\n",
        "    plt.figure(figsize=[10,4])\n",
        "    for i,a in enumerate(np.linspace(0,1,num=7)):\n",
        "\n",
        "        output_code = code1*(1-a) + code2*(a)\n",
        "        output_image = decoder.predict(output_code[None])[0]\n",
        "\n",
        "        plt.subplot(1,7,i+1)\n",
        "        show_image(output_image)\n",
        "        plt.title(\"a=%.2f\"%a)\n",
        "        \n",
        "    plt.show()"
      ],
      "execution_count": 0,
      "outputs": []
    },
    {
      "metadata": {
        "collapsed": true,
        "id": "iHQElbqzALpE",
        "colab_type": "text"
      },
      "cell_type": "markdown",
      "source": [
        "That's it!\n",
        "\n",
        "Of course there's a lot more you can do with autoencoders.\n",
        "\n",
        "If you want to generate images from scratch, however, we recommend you our honor track on Generative Adversarial Networks or GANs."
      ]
    }
  ]
}