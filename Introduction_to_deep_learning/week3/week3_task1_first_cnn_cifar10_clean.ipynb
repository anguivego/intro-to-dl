{
  "nbformat": 4,
  "nbformat_minor": 0,
  "metadata": {
    "colab": {
      "name": "week3_task1_first_cnn_cifar10_clean.ipynb",
      "version": "0.3.2",
      "provenance": [],
      "include_colab_link": true
    },
    "kernelspec": {
      "name": "python3",
      "display_name": "Python 3"
    }
  },
  "cells": [
    {
      "cell_type": "markdown",
      "metadata": {
        "id": "view-in-github",
        "colab_type": "text"
      },
      "source": [
        "<a href=\"https://colab.research.google.com/github/anguivego/intro-to-dl/blob/master/Introduction_to_deep_learning/week3/week3_task1_first_cnn_cifar10_clean.ipynb\" target=\"_parent\"><img src=\"https://colab.research.google.com/assets/colab-badge.svg\" alt=\"Open In Colab\"/></a>"
      ]
    },
    {
      "metadata": {
        "id": "59uiyPwC9DTH",
        "colab_type": "code",
        "outputId": "97f34150-c72d-4059-f615-397532fac7e1",
        "colab": {
          "base_uri": "https://localhost:8080/",
          "height": 374
        }
      },
      "cell_type": "code",
      "source": [
        "! wget https://raw.githubusercontent.com/hse-aml/intro-to-dl/master/setup_google_colab.py -O setup_google_colab.py\n",
        "import setup_google_colab\n",
        "# please, uncomment the week you're working on\n",
        "# setup_google_colab.setup_week1()\n",
        "# setup_google_colab.setup_week2()\n",
        "setup_google_colab.setup_week3()\n",
        "!pip install -q pydot\n"
      ],
      "execution_count": 1,
      "outputs": [
        {
          "output_type": "stream",
          "text": [
            "--2018-10-30 03:27:27--  https://raw.githubusercontent.com/hse-aml/intro-to-dl/master/setup_google_colab.py\n",
            "Resolving raw.githubusercontent.com (raw.githubusercontent.com)... 151.101.0.133, 151.101.64.133, 151.101.128.133, ...\n",
            "Connecting to raw.githubusercontent.com (raw.githubusercontent.com)|151.101.0.133|:443... connected.\n",
            "HTTP request sent, awaiting response... 200 OK\n",
            "Length: 3595 (3.5K) [text/plain]\n",
            "Saving to: ‘setup_google_colab.py’\n",
            "\n",
            "setup_google_colab. 100%[===================>]   3.51K  --.-KB/s    in 0s      \n",
            "\n",
            "2018-10-30 03:27:32 (57.5 MB/s) - ‘setup_google_colab.py’ saved [3595/3595]\n",
            "\n",
            "**************************************************\n",
            "102flowers.tgz\n",
            "**************************************************\n",
            "imagelabels.mat\n",
            "**************************************************\n",
            "inception_v3_weights_tf_dim_ordering_tf_kernels_notop.h5\n",
            "**************************************************\n",
            "cifar-10-batches-py.tar.gz\n",
            "**************************************************\n",
            "mnist.npz\n"
          ],
          "name": "stdout"
        }
      ]
    },
    {
      "metadata": {
        "id": "SriKpcegyM2E",
        "colab_type": "code",
        "colab": {
          "base_uri": "https://localhost:8080/",
          "height": 2992
        },
        "outputId": "3e2411cf-81c9-4e4d-ce43-f197b9608b39"
      },
      "cell_type": "code",
      "source": [
        "!pip install -q pydot\n",
        "!apt-get install graphviz"
      ],
      "execution_count": 2,
      "outputs": [
        {
          "output_type": "stream",
          "text": [
            "Reading package lists... Done\n",
            "Building dependency tree       \n",
            "Reading state information... Done\n",
            "The following additional packages will be installed:\n",
            "  fontconfig libann0 libcairo2 libcdt5 libcgraph6 libdatrie1 libgd3\n",
            "  libgts-0.7-5 libgts-bin libgvc6 libgvpr2 libjbig0 liblab-gamut1 libltdl7\n",
            "  libpango-1.0-0 libpangocairo-1.0-0 libpangoft2-1.0-0 libpathplan4\n",
            "  libpixman-1-0 libthai-data libthai0 libtiff5 libwebp6 libxaw7 libxcb-render0\n",
            "  libxcb-shm0 libxmu6 libxpm4 libxt6\n",
            "Suggested packages:\n",
            "  gsfonts graphviz-doc libgd-tools\n",
            "The following NEW packages will be installed:\n",
            "  fontconfig graphviz libann0 libcairo2 libcdt5 libcgraph6 libdatrie1 libgd3\n",
            "  libgts-0.7-5 libgts-bin libgvc6 libgvpr2 libjbig0 liblab-gamut1 libltdl7\n",
            "  libpango-1.0-0 libpangocairo-1.0-0 libpangoft2-1.0-0 libpathplan4\n",
            "  libpixman-1-0 libthai-data libthai0 libtiff5 libwebp6 libxaw7 libxcb-render0\n",
            "  libxcb-shm0 libxmu6 libxpm4 libxt6\n",
            "0 upgraded, 30 newly installed, 0 to remove and 2 not upgraded.\n",
            "Need to get 4,154 kB of archives.\n",
            "After this operation, 16.1 MB of additional disk space will be used.\n",
            "Get:1 http://archive.ubuntu.com/ubuntu bionic/main amd64 fontconfig amd64 2.12.6-0ubuntu2 [169 kB]\n",
            "Get:2 http://archive.ubuntu.com/ubuntu bionic/universe amd64 libann0 amd64 1.1.2+doc-6 [24.8 kB]\n",
            "Get:3 http://archive.ubuntu.com/ubuntu bionic/universe amd64 libcdt5 amd64 2.40.1-2 [19.6 kB]\n",
            "Get:4 http://archive.ubuntu.com/ubuntu bionic/universe amd64 libcgraph6 amd64 2.40.1-2 [40.8 kB]\n",
            "Get:5 http://archive.ubuntu.com/ubuntu bionic/main amd64 libjbig0 amd64 2.1-3.1build1 [26.7 kB]\n",
            "Get:6 http://archive.ubuntu.com/ubuntu bionic/main amd64 libtiff5 amd64 4.0.9-5 [152 kB]\n",
            "Get:7 http://archive.ubuntu.com/ubuntu bionic/main amd64 libwebp6 amd64 0.6.1-2 [185 kB]\n",
            "Get:8 http://archive.ubuntu.com/ubuntu bionic/main amd64 libxpm4 amd64 1:3.5.12-1 [34.0 kB]\n",
            "Get:9 http://archive.ubuntu.com/ubuntu bionic-updates/main amd64 libgd3 amd64 2.2.5-4ubuntu0.2 [119 kB]\n",
            "Get:10 http://archive.ubuntu.com/ubuntu bionic/universe amd64 libgts-0.7-5 amd64 0.7.6+darcs121130-4 [150 kB]\n",
            "Get:11 http://archive.ubuntu.com/ubuntu bionic/main amd64 libpixman-1-0 amd64 0.34.0-2 [229 kB]\n",
            "Get:12 http://archive.ubuntu.com/ubuntu bionic/main amd64 libxcb-render0 amd64 1.13-1 [14.7 kB]\n",
            "Get:13 http://archive.ubuntu.com/ubuntu bionic/main amd64 libxcb-shm0 amd64 1.13-1 [5,572 B]\n",
            "Get:14 http://archive.ubuntu.com/ubuntu bionic/main amd64 libcairo2 amd64 1.15.10-2 [580 kB]\n",
            "Get:15 http://archive.ubuntu.com/ubuntu bionic/main amd64 libltdl7 amd64 2.4.6-2 [38.8 kB]\n",
            "Get:16 http://archive.ubuntu.com/ubuntu bionic/main amd64 libthai-data all 0.1.27-2 [133 kB]\n",
            "Get:17 http://archive.ubuntu.com/ubuntu bionic/main amd64 libdatrie1 amd64 0.2.10-7 [17.8 kB]\n",
            "Get:18 http://archive.ubuntu.com/ubuntu bionic/main amd64 libthai0 amd64 0.1.27-2 [18.0 kB]\n",
            "Get:19 http://archive.ubuntu.com/ubuntu bionic-updates/main amd64 libpango-1.0-0 amd64 1.40.14-1ubuntu0.1 [153 kB]\n",
            "Get:20 http://archive.ubuntu.com/ubuntu bionic-updates/main amd64 libpangoft2-1.0-0 amd64 1.40.14-1ubuntu0.1 [33.2 kB]\n",
            "Get:21 http://archive.ubuntu.com/ubuntu bionic-updates/main amd64 libpangocairo-1.0-0 amd64 1.40.14-1ubuntu0.1 [20.8 kB]\n",
            "Get:22 http://archive.ubuntu.com/ubuntu bionic/universe amd64 libpathplan4 amd64 2.40.1-2 [22.6 kB]\n",
            "Get:23 http://archive.ubuntu.com/ubuntu bionic/universe amd64 libgvc6 amd64 2.40.1-2 [601 kB]\n",
            "Get:24 http://archive.ubuntu.com/ubuntu bionic/universe amd64 libgvpr2 amd64 2.40.1-2 [169 kB]\n",
            "Get:25 http://archive.ubuntu.com/ubuntu bionic/universe amd64 liblab-gamut1 amd64 2.40.1-2 [178 kB]\n",
            "Get:26 http://archive.ubuntu.com/ubuntu bionic/main amd64 libxt6 amd64 1:1.1.5-1 [160 kB]\n",
            "Get:27 http://archive.ubuntu.com/ubuntu bionic/main amd64 libxmu6 amd64 2:1.1.2-2 [46.0 kB]\n",
            "Get:28 http://archive.ubuntu.com/ubuntu bionic/main amd64 libxaw7 amd64 2:1.0.13-1 [173 kB]\n",
            "Get:29 http://archive.ubuntu.com/ubuntu bionic/universe amd64 graphviz amd64 2.40.1-2 [601 kB]\n",
            "Get:30 http://archive.ubuntu.com/ubuntu bionic/universe amd64 libgts-bin amd64 0.7.6+darcs121130-4 [41.3 kB]\n",
            "Fetched 4,154 kB in 0s (12.5 MB/s)\n",
            "Selecting previously unselected package fontconfig.\n",
            "(Reading database ... 22280 files and directories currently installed.)\n",
            "Preparing to unpack .../00-fontconfig_2.12.6-0ubuntu2_amd64.deb ...\n",
            "Unpacking fontconfig (2.12.6-0ubuntu2) ...\n",
            "Selecting previously unselected package libann0.\n",
            "Preparing to unpack .../01-libann0_1.1.2+doc-6_amd64.deb ...\n",
            "Unpacking libann0 (1.1.2+doc-6) ...\n",
            "Selecting previously unselected package libcdt5.\n",
            "Preparing to unpack .../02-libcdt5_2.40.1-2_amd64.deb ...\n",
            "Unpacking libcdt5 (2.40.1-2) ...\n",
            "Selecting previously unselected package libcgraph6.\n",
            "Preparing to unpack .../03-libcgraph6_2.40.1-2_amd64.deb ...\n",
            "Unpacking libcgraph6 (2.40.1-2) ...\n",
            "Selecting previously unselected package libjbig0:amd64.\n",
            "Preparing to unpack .../04-libjbig0_2.1-3.1build1_amd64.deb ...\n",
            "Unpacking libjbig0:amd64 (2.1-3.1build1) ...\n",
            "Selecting previously unselected package libtiff5:amd64.\n",
            "Preparing to unpack .../05-libtiff5_4.0.9-5_amd64.deb ...\n",
            "Unpacking libtiff5:amd64 (4.0.9-5) ...\n",
            "Selecting previously unselected package libwebp6:amd64.\n",
            "Preparing to unpack .../06-libwebp6_0.6.1-2_amd64.deb ...\n",
            "Unpacking libwebp6:amd64 (0.6.1-2) ...\n",
            "Selecting previously unselected package libxpm4:amd64.\n",
            "Preparing to unpack .../07-libxpm4_1%3a3.5.12-1_amd64.deb ...\n",
            "Unpacking libxpm4:amd64 (1:3.5.12-1) ...\n",
            "Selecting previously unselected package libgd3:amd64.\n",
            "Preparing to unpack .../08-libgd3_2.2.5-4ubuntu0.2_amd64.deb ...\n",
            "Unpacking libgd3:amd64 (2.2.5-4ubuntu0.2) ...\n",
            "Selecting previously unselected package libgts-0.7-5:amd64.\n",
            "Preparing to unpack .../09-libgts-0.7-5_0.7.6+darcs121130-4_amd64.deb ...\n",
            "Unpacking libgts-0.7-5:amd64 (0.7.6+darcs121130-4) ...\n",
            "Selecting previously unselected package libpixman-1-0:amd64.\n",
            "Preparing to unpack .../10-libpixman-1-0_0.34.0-2_amd64.deb ...\n",
            "Unpacking libpixman-1-0:amd64 (0.34.0-2) ...\n",
            "Selecting previously unselected package libxcb-render0:amd64.\n",
            "Preparing to unpack .../11-libxcb-render0_1.13-1_amd64.deb ...\n",
            "Unpacking libxcb-render0:amd64 (1.13-1) ...\n",
            "Selecting previously unselected package libxcb-shm0:amd64.\n",
            "Preparing to unpack .../12-libxcb-shm0_1.13-1_amd64.deb ...\n",
            "Unpacking libxcb-shm0:amd64 (1.13-1) ...\n",
            "Selecting previously unselected package libcairo2:amd64.\n",
            "Preparing to unpack .../13-libcairo2_1.15.10-2_amd64.deb ...\n",
            "Unpacking libcairo2:amd64 (1.15.10-2) ...\n",
            "Selecting previously unselected package libltdl7:amd64.\n",
            "Preparing to unpack .../14-libltdl7_2.4.6-2_amd64.deb ...\n",
            "Unpacking libltdl7:amd64 (2.4.6-2) ...\n",
            "Selecting previously unselected package libthai-data.\n",
            "Preparing to unpack .../15-libthai-data_0.1.27-2_all.deb ...\n",
            "Unpacking libthai-data (0.1.27-2) ...\n",
            "Selecting previously unselected package libdatrie1:amd64.\n",
            "Preparing to unpack .../16-libdatrie1_0.2.10-7_amd64.deb ...\n",
            "Unpacking libdatrie1:amd64 (0.2.10-7) ...\n",
            "Selecting previously unselected package libthai0:amd64.\n",
            "Preparing to unpack .../17-libthai0_0.1.27-2_amd64.deb ...\n",
            "Unpacking libthai0:amd64 (0.1.27-2) ...\n",
            "Selecting previously unselected package libpango-1.0-0:amd64.\n",
            "Preparing to unpack .../18-libpango-1.0-0_1.40.14-1ubuntu0.1_amd64.deb ...\n",
            "Unpacking libpango-1.0-0:amd64 (1.40.14-1ubuntu0.1) ...\n",
            "Selecting previously unselected package libpangoft2-1.0-0:amd64.\n",
            "Preparing to unpack .../19-libpangoft2-1.0-0_1.40.14-1ubuntu0.1_amd64.deb ...\n",
            "Unpacking libpangoft2-1.0-0:amd64 (1.40.14-1ubuntu0.1) ...\n",
            "Selecting previously unselected package libpangocairo-1.0-0:amd64.\n",
            "Preparing to unpack .../20-libpangocairo-1.0-0_1.40.14-1ubuntu0.1_amd64.deb ...\n",
            "Unpacking libpangocairo-1.0-0:amd64 (1.40.14-1ubuntu0.1) ...\n",
            "Selecting previously unselected package libpathplan4.\n",
            "Preparing to unpack .../21-libpathplan4_2.40.1-2_amd64.deb ...\n",
            "Unpacking libpathplan4 (2.40.1-2) ...\n",
            "Selecting previously unselected package libgvc6.\n",
            "Preparing to unpack .../22-libgvc6_2.40.1-2_amd64.deb ...\n",
            "Unpacking libgvc6 (2.40.1-2) ...\n",
            "Selecting previously unselected package libgvpr2.\n",
            "Preparing to unpack .../23-libgvpr2_2.40.1-2_amd64.deb ...\n",
            "Unpacking libgvpr2 (2.40.1-2) ...\n",
            "Selecting previously unselected package liblab-gamut1.\n",
            "Preparing to unpack .../24-liblab-gamut1_2.40.1-2_amd64.deb ...\n",
            "Unpacking liblab-gamut1 (2.40.1-2) ...\n",
            "Selecting previously unselected package libxt6:amd64.\n",
            "Preparing to unpack .../25-libxt6_1%3a1.1.5-1_amd64.deb ...\n",
            "Unpacking libxt6:amd64 (1:1.1.5-1) ...\n",
            "Selecting previously unselected package libxmu6:amd64.\n",
            "Preparing to unpack .../26-libxmu6_2%3a1.1.2-2_amd64.deb ...\n",
            "Unpacking libxmu6:amd64 (2:1.1.2-2) ...\n",
            "Selecting previously unselected package libxaw7:amd64.\n",
            "Preparing to unpack .../27-libxaw7_2%3a1.0.13-1_amd64.deb ...\n",
            "Unpacking libxaw7:amd64 (2:1.0.13-1) ...\n",
            "Selecting previously unselected package graphviz.\n",
            "Preparing to unpack .../28-graphviz_2.40.1-2_amd64.deb ...\n",
            "Unpacking graphviz (2.40.1-2) ...\n",
            "Selecting previously unselected package libgts-bin.\n",
            "Preparing to unpack .../29-libgts-bin_0.7.6+darcs121130-4_amd64.deb ...\n",
            "Unpacking libgts-bin (0.7.6+darcs121130-4) ...\n",
            "Setting up libgts-0.7-5:amd64 (0.7.6+darcs121130-4) ...\n",
            "Setting up libpathplan4 (2.40.1-2) ...\n",
            "Setting up liblab-gamut1 (2.40.1-2) ...\n",
            "Setting up libxcb-render0:amd64 (1.13-1) ...\n",
            "Setting up libjbig0:amd64 (2.1-3.1build1) ...\n",
            "Setting up libdatrie1:amd64 (0.2.10-7) ...\n",
            "Setting up libtiff5:amd64 (4.0.9-5) ...\n",
            "Setting up libpixman-1-0:amd64 (0.34.0-2) ...\n",
            "Processing triggers for libc-bin (2.27-3ubuntu1) ...\n",
            "Setting up libltdl7:amd64 (2.4.6-2) ...\n",
            "Setting up libann0 (1.1.2+doc-6) ...\n",
            "Setting up libxcb-shm0:amd64 (1.13-1) ...\n",
            "Setting up libxpm4:amd64 (1:3.5.12-1) ...\n",
            "Setting up libxt6:amd64 (1:1.1.5-1) ...\n",
            "Setting up libgts-bin (0.7.6+darcs121130-4) ...\n",
            "Setting up libthai-data (0.1.27-2) ...\n",
            "Setting up libcdt5 (2.40.1-2) ...\n",
            "Setting up fontconfig (2.12.6-0ubuntu2) ...\n",
            "Regenerating fonts cache... done.\n",
            "Setting up libcgraph6 (2.40.1-2) ...\n",
            "Setting up libwebp6:amd64 (0.6.1-2) ...\n",
            "Setting up libcairo2:amd64 (1.15.10-2) ...\n",
            "Setting up libgvpr2 (2.40.1-2) ...\n",
            "Setting up libgd3:amd64 (2.2.5-4ubuntu0.2) ...\n",
            "Setting up libthai0:amd64 (0.1.27-2) ...\n",
            "Setting up libxmu6:amd64 (2:1.1.2-2) ...\n",
            "Setting up libpango-1.0-0:amd64 (1.40.14-1ubuntu0.1) ...\n",
            "Setting up libxaw7:amd64 (2:1.0.13-1) ...\n",
            "Setting up libpangoft2-1.0-0:amd64 (1.40.14-1ubuntu0.1) ...\n",
            "Setting up libpangocairo-1.0-0:amd64 (1.40.14-1ubuntu0.1) ...\n",
            "Setting up libgvc6 (2.40.1-2) ...\n",
            "Setting up graphviz (2.40.1-2) ...\n",
            "Processing triggers for libc-bin (2.27-3ubuntu1) ...\n"
          ],
          "name": "stdout"
        }
      ]
    },
    {
      "metadata": {
        "ExecuteTime": {
          "end_time": "2017-09-03T21:05:26.096298Z",
          "start_time": "2017-09-03T21:05:26.092498Z"
        },
        "id": "Jq8dnXCr83VK",
        "colab_type": "text"
      },
      "cell_type": "markdown",
      "source": [
        "# Your first CNN on CIFAR-10\n",
        "\n",
        "In this task you will: \n",
        "* define your first CNN architecture for CIFAR-10 dataset\n",
        "* train it from scratch\n",
        "* visualize learnt filters\n",
        "\n",
        "CIFAR-10 dataset contains 32x32 color images from 10 classes: __airplane, automobile, bird, cat, deer, dog, frog, horse, ship, truck__:\n",
        "<img src=\"https://github.com/anguivego/intro-to-dl/blob/master/Introduction_to_deep_learning/week3/images/cifar10.jpg?raw=1\" style=\"width:80%\">"
      ]
    },
    {
      "metadata": {
        "id": "v8y4C3Ik83VL",
        "colab_type": "text"
      },
      "cell_type": "markdown",
      "source": [
        "# Import stuff"
      ]
    },
    {
      "metadata": {
        "ExecuteTime": {
          "end_time": "2017-10-29T18:51:38.014629Z",
          "start_time": "2017-10-29T18:51:37.876670Z"
        },
        "id": "peuqF0of83VN",
        "colab_type": "code",
        "colab": {}
      },
      "cell_type": "code",
      "source": [
        "import sys\n",
        "sys.path.append(\"..\")\n",
        "import grading\n",
        "import download_utils"
      ],
      "execution_count": 0,
      "outputs": []
    },
    {
      "metadata": {
        "id": "_qcgd4z383VP",
        "colab_type": "code",
        "colab": {}
      },
      "cell_type": "code",
      "source": [
        "# !!! remember to clear session/graph if you rebuild your graph to avoid out-of-memory errors !!!"
      ],
      "execution_count": 0,
      "outputs": []
    },
    {
      "metadata": {
        "ExecuteTime": {
          "end_time": "2017-10-29T18:51:39.175876Z",
          "start_time": "2017-10-29T18:51:39.170539Z"
        },
        "id": "iyn0c6z083VS",
        "colab_type": "code",
        "colab": {}
      },
      "cell_type": "code",
      "source": [
        "download_utils.link_all_keras_resources()"
      ],
      "execution_count": 0,
      "outputs": []
    },
    {
      "metadata": {
        "ExecuteTime": {
          "end_time": "2017-10-29T18:51:58.907479Z",
          "start_time": "2017-10-29T18:51:42.206537Z"
        },
        "scrolled": true,
        "id": "POaaG3VW83VU",
        "colab_type": "code",
        "outputId": "1a11e653-308d-487a-807a-462071151a54",
        "colab": {
          "base_uri": "https://localhost:8080/",
          "height": 68
        }
      },
      "cell_type": "code",
      "source": [
        "import tensorflow as tf\n",
        "import keras\n",
        "from keras import backend as K\n",
        "import numpy as np\n",
        "%matplotlib inline\n",
        "import matplotlib.pyplot as plt\n",
        "print(tf.__version__)\n",
        "print(keras.__version__)\n",
        "import grading_utils\n",
        "import keras_utils\n",
        "from keras_utils import reset_tf_session"
      ],
      "execution_count": 6,
      "outputs": [
        {
          "output_type": "stream",
          "text": [
            "Using TensorFlow backend.\n"
          ],
          "name": "stderr"
        },
        {
          "output_type": "stream",
          "text": [
            "1.12.0-rc1\n",
            "2.0.6\n"
          ],
          "name": "stdout"
        }
      ]
    },
    {
      "metadata": {
        "id": "kSEp4Kpi83VX",
        "colab_type": "text"
      },
      "cell_type": "markdown",
      "source": [
        "# Fill in your Coursera token and email\n",
        "To successfully submit your answers to our grader, please fill in your Coursera submission token and email"
      ]
    },
    {
      "metadata": {
        "id": "_Qug32Qc83VY",
        "colab_type": "code",
        "colab": {}
      },
      "cell_type": "code",
      "source": [
        "grader = grading.Grader(assignment_key=\"s1B1I5DuEeeyLAqI7dCYkg\", \n",
        "                        all_parts=[\"7W4tu\", \"nQOsg\", \"96eco\"])"
      ],
      "execution_count": 0,
      "outputs": []
    },
    {
      "metadata": {
        "id": "5yGAbA3E83Vb",
        "colab_type": "code",
        "colab": {}
      },
      "cell_type": "code",
      "source": [
        "# token expires every 30 min\n",
        "COURSERA_TOKEN = \"GodygW6u2tPfrlMy\"\n",
        "COURSERA_EMAIL = \"andres@sirius.utp.edu.co\""
      ],
      "execution_count": 0,
      "outputs": []
    },
    {
      "metadata": {
        "id": "wOejUee683Ve",
        "colab_type": "text"
      },
      "cell_type": "markdown",
      "source": [
        "# Load dataset"
      ]
    },
    {
      "metadata": {
        "ExecuteTime": {
          "end_time": "2017-09-03T23:44:40.870302Z",
          "start_time": "2017-09-03T23:44:39.221603Z"
        },
        "id": "r6bI5H0P83Ve",
        "colab_type": "code",
        "colab": {}
      },
      "cell_type": "code",
      "source": [
        "from keras.datasets import cifar10\n",
        "(x_train, y_train), (x_test, y_test) = cifar10.load_data()"
      ],
      "execution_count": 0,
      "outputs": []
    },
    {
      "metadata": {
        "ExecuteTime": {
          "end_time": "2017-09-04T00:27:41.648291Z",
          "start_time": "2017-09-04T00:27:41.644322Z"
        },
        "id": "u4DsyPSZ83Vg",
        "colab_type": "code",
        "outputId": "9ae19733-41c0-4aa9-d773-f532013c5ee2",
        "colab": {
          "base_uri": "https://localhost:8080/",
          "height": 51
        }
      },
      "cell_type": "code",
      "source": [
        "print(\"Train samples:\", x_train.shape, y_train.shape)\n",
        "print(\"Test samples:\", x_test.shape, y_test.shape)"
      ],
      "execution_count": 10,
      "outputs": [
        {
          "output_type": "stream",
          "text": [
            "Train samples: (50000, 32, 32, 3) (50000, 1)\n",
            "Test samples: (10000, 32, 32, 3) (10000, 1)\n"
          ],
          "name": "stdout"
        }
      ]
    },
    {
      "metadata": {
        "ExecuteTime": {
          "end_time": "2017-09-03T23:44:41.009639Z",
          "start_time": "2017-09-03T23:44:40.877013Z"
        },
        "id": "Wp-Pxr0p83Vk",
        "colab_type": "code",
        "colab": {}
      },
      "cell_type": "code",
      "source": [
        "NUM_CLASSES = 10\n",
        "cifar10_classes = [\"airplane\", \"automobile\", \"bird\", \"cat\", \"deer\", \n",
        "                   \"dog\", \"frog\", \"horse\", \"ship\", \"truck\"]"
      ],
      "execution_count": 0,
      "outputs": []
    },
    {
      "metadata": {
        "ExecuteTime": {
          "end_time": "2017-09-03T23:44:42.285830Z",
          "start_time": "2017-09-03T23:44:41.011216Z"
        },
        "id": "PCSt84dB83Vn",
        "colab_type": "code",
        "outputId": "266b3c24-64ac-47c5-b207-cf7592cc1168",
        "colab": {
          "base_uri": "https://localhost:8080/",
          "height": 271
        }
      },
      "cell_type": "code",
      "source": [
        "# show random images from train\n",
        "cols = 8\n",
        "rows = 2\n",
        "fig = plt.figure(figsize=(2 * cols - 1, 2.5 * rows - 1))\n",
        "for i in range(cols):\n",
        "    for j in range(rows):\n",
        "        random_index = np.random.randint(0, len(y_train))\n",
        "        ax = fig.add_subplot(rows, cols, i * rows + j + 1)\n",
        "        ax.grid('off')\n",
        "        ax.axis('off')\n",
        "        ax.imshow(x_train[random_index, :])\n",
        "        ax.set_title(cifar10_classes[y_train[random_index, 0]])\n",
        "plt.show()"
      ],
      "execution_count": 12,
      "outputs": [
        {
          "output_type": "display_data",
          "data": {
            "image/png": "[encoded data removed]",
            "text/plain": [
              "<matplotlib.figure.Figure at 0x7fd5377a7fd0>"
            ]
          },
          "metadata": {
            "tags": []
          }
        }
      ]
    },
    {
      "metadata": {
        "id": "CghBKWzO83Vq",
        "colab_type": "text"
      },
      "cell_type": "markdown",
      "source": [
        "# Prepare data"
      ]
    },
    {
      "metadata": {
        "id": "BfRiNeb_83Vq",
        "colab_type": "text"
      },
      "cell_type": "markdown",
      "source": [
        "We need to normalize inputs like this: $$x_{norm} = \\frac{x}{255} - 0.5$$\n",
        "\n",
        "We need to convert class labels to one-hot encoded vectors. Use __keras.utils.to_categorical__."
      ]
    },
    {
      "metadata": {
        "ExecuteTime": {
          "end_time": "2017-09-04T00:25:55.504781Z",
          "start_time": "2017-09-04T00:25:55.500823Z"
        },
        "id": "KTsFCORk83Vr",
        "colab_type": "code",
        "colab": {}
      },
      "cell_type": "code",
      "source": [
        "# normalize inputs\n",
        "x_train2 = (x_train/255)-0.5\n",
        "x_test2 = (x_test/255)-0.5\n",
        "\n",
        "# convert class labels to one-hot encoded, should have shape (?, NUM_CLASSES)\n",
        "y_train2 = keras.utils.to_categorical(y_train,NUM_CLASSES)\n",
        "y_test2 = keras.utils.to_categorical(y_test,NUM_CLASSES)"
      ],
      "execution_count": 0,
      "outputs": []
    },
    {
      "metadata": {
        "id": "Ip6ORRp583Vy",
        "colab_type": "text"
      },
      "cell_type": "markdown",
      "source": [
        "# Define CNN architecture"
      ]
    },
    {
      "metadata": {
        "ExecuteTime": {
          "end_time": "2017-08-24T11:39:23.631230Z",
          "start_time": "2017-08-24T11:39:23.627975Z"
        },
        "id": "uR7BMwl783Vz",
        "colab_type": "code",
        "colab": {}
      },
      "cell_type": "code",
      "source": [
        "# import necessary building blocks\n",
        "from keras.models import Sequential\n",
        "from keras.layers import Conv2D, MaxPooling2D, Flatten, Dense, Activation, Dropout\n",
        "from keras.layers.advanced_activations import LeakyReLU"
      ],
      "execution_count": 0,
      "outputs": []
    },
    {
      "metadata": {
        "id": "WAaKiqn083V4",
        "colab_type": "text"
      },
      "cell_type": "markdown",
      "source": [
        "Convolutional networks are built from several types of layers:\n",
        "- [Conv2D](https://keras.io/layers/convolutional/#conv2d) - performs convolution:\n",
        "    - **filters**: number of output channels; \n",
        "    - **kernel_size**: an integer or tuple/list of 2 integers, specifying the width and height of the 2D convolution window;\n",
        "    - **padding**: padding=\"same\" adds zero padding to the input, so that the output has the same width and height, padding='valid' performs convolution only in locations where kernel and the input fully overlap;\n",
        "    - **activation**: \"relu\", \"tanh\", etc.\n",
        "    - **input_shape**: shape of input.\n",
        "- [MaxPooling2D](https://keras.io/layers/pooling/#maxpooling2d) - performs 2D max pooling.\n",
        "- [Flatten](https://keras.io/layers/core/#flatten) - flattens the input, does not affect the batch size.\n",
        "- [Dense](https://keras.io/layers/core/#dense) - fully-connected layer.\n",
        "- [Activation](https://keras.io/layers/core/#activation) - applies an activation function.\n",
        "- [LeakyReLU](https://keras.io/layers/advanced-activations/#leakyrelu) - applies leaky relu activation.\n",
        "- [Dropout](https://keras.io/layers/core/#dropout) - applies dropout."
      ]
    },
    {
      "metadata": {
        "ExecuteTime": {
          "end_time": "2017-09-03T23:48:59.567910Z",
          "start_time": "2017-09-03T23:48:59.564449Z"
        },
        "id": "8VGgzxgK83V6",
        "colab_type": "text"
      },
      "cell_type": "markdown",
      "source": [
        "You need to define a model which takes __(None, 32, 32, 3)__ input and predicts __(None, 10)__ output with probabilities for all classes. __None__ in shapes stands for batch dimension.\n",
        "\n",
        "Simple feed-forward networks in Keras can be defined in the following way:\n",
        "\n",
        "```python\n",
        "model = Sequential()  # start feed-forward model definition\n",
        "model.add(Conv2D(..., input_shape=(32, 32, 3)))  # first layer needs to define \"input_shape\"\n",
        "\n",
        "...  # here comes a bunch of convolutional, pooling and dropout layers\n",
        "\n",
        "model.add(Dense(NUM_CLASSES))  # the last layer with neuron for each class\n",
        "model.add(Activation(\"softmax\"))  # output probabilities\n",
        "```\n",
        "\n",
        "Stack __4__ convolutional layers with kernel size __(3, 3)__ with growing number of filters __(16, 32, 32, 64)__, use \"same\" padding.\n",
        "\n",
        "Add __2x2__ pooling layer after every 2 convolutional layers (conv-conv-pool scheme).\n",
        "\n",
        "Use __LeakyReLU__ activation with recommended parameter __0.1__ for all layers that need it (after convolutional and dense layers):\n",
        "```python\n",
        "model.add(LeakyReLU(0.1))\n",
        "```\n",
        "\n",
        "Add a dense layer with __256__ neurons and a second dense layer with __10__ neurons for classes. Remember to use __Flatten__ layer before first dense layer to reshape input volume into a flat vector!\n",
        "\n",
        "Add __Dropout__ after every pooling layer (__0.25__) and between dense layers (__0.5__)."
      ]
    },
    {
      "metadata": {
        "ExecuteTime": {
          "end_time": "2017-08-24T11:39:23.739649Z",
          "start_time": "2017-08-24T11:39:23.632558Z"
        },
        "id": "mU1hkFw_83V8",
        "colab_type": "code",
        "colab": {}
      },
      "cell_type": "code",
      "source": [
        "def make_model():\n",
        "    \"\"\"\n",
        "    Define your model architecture here.\n",
        "    Returns `Sequential` model.\n",
        "    \"\"\"\n",
        "    model = Sequential()\n",
        "    \n",
        "    model.add(Conv2D(16, (3,3), strides=(1, 1), padding='same', input_shape=(32, 32, 3)))\n",
        "    model.add(LeakyReLU(0.1))\n",
        "    \n",
        "    model.add(Conv2D(32, (3,3), strides=(1, 1), padding='same'))\n",
        "    model.add(LeakyReLU(0.1))\n",
        "    \n",
        "    model.add(keras.layers.MaxPooling2D(pool_size=(2, 2)))\n",
        "    model.add(Dropout(0.25))\n",
        "    \n",
        "    model.add(Conv2D(32, (3,3), strides=(1, 1), padding='same'))\n",
        "    model.add(LeakyReLU(0.1))\n",
        "    \n",
        "    model.add(Conv2D(64, (3,3), strides=(1, 1), padding='same'))\n",
        "    model.add(LeakyReLU(0.1))\n",
        "    \n",
        "    model.add(keras.layers.MaxPooling2D(pool_size=(2, 2)))\n",
        "    model.add(Dropout(0.25))\n",
        "\n",
        "    model.add(Flatten())\n",
        "    model.add(Dense(256))\n",
        "    model.add(Dropout(0.5))\n",
        "    model.add(LeakyReLU(0.1))\n",
        "    \n",
        "    model.add(Dense(NUM_CLASSES))\n",
        "    model.add(Dropout(0.5))\n",
        "    model.add(LeakyReLU(0.1))\n",
        "    \n",
        "    model.add(Activation(\"softmax\")) \n",
        "\n",
        "    return model"
      ],
      "execution_count": 0,
      "outputs": []
    },
    {
      "metadata": {
        "ExecuteTime": {
          "end_time": "2017-08-24T11:39:23.948546Z",
          "start_time": "2017-08-24T11:39:23.741012Z"
        },
        "id": "wyqthTC583WA",
        "colab_type": "code",
        "colab": {
          "base_uri": "https://localhost:8080/",
          "height": 887
        },
        "outputId": "bfa28679-4a42-45bc-8fb2-715803624049"
      },
      "cell_type": "code",
      "source": [
        "# describe model\n",
        "from keras.utils import plot_model\n",
        "from IPython.display import Image\n",
        "\n",
        "\n",
        "s = reset_tf_session()  # clear default graph\n",
        "model = make_model()\n",
        "model.summary()\n"
      ],
      "execution_count": 16,
      "outputs": [
        {
          "output_type": "stream",
          "text": [
            "WARNING:tensorflow:From /usr/local/lib/python3.6/dist-packages/keras/backend/tensorflow_backend.py:1210: calling reduce_prod (from tensorflow.python.ops.math_ops) with keep_dims is deprecated and will be removed in a future version.\n",
            "Instructions for updating:\n",
            "keep_dims is deprecated, use keepdims instead\n",
            "_________________________________________________________________\n",
            "Layer (type)                 Output Shape              Param #   \n",
            "=================================================================\n",
            "conv2d_1 (Conv2D)            (None, 32, 32, 16)        448       \n",
            "_________________________________________________________________\n",
            "leaky_re_lu_1 (LeakyReLU)    (None, 32, 32, 16)        0         \n",
            "_________________________________________________________________\n",
            "conv2d_2 (Conv2D)            (None, 32, 32, 32)        4640      \n",
            "_________________________________________________________________\n",
            "leaky_re_lu_2 (LeakyReLU)    (None, 32, 32, 32)        0         \n",
            "_________________________________________________________________\n",
            "max_pooling2d_1 (MaxPooling2 (None, 16, 16, 32)        0         \n",
            "_________________________________________________________________\n",
            "dropout_1 (Dropout)          (None, 16, 16, 32)        0         \n",
            "_________________________________________________________________\n",
            "conv2d_3 (Conv2D)            (None, 16, 16, 32)        9248      \n",
            "_________________________________________________________________\n",
            "leaky_re_lu_3 (LeakyReLU)    (None, 16, 16, 32)        0         \n",
            "_________________________________________________________________\n",
            "conv2d_4 (Conv2D)            (None, 16, 16, 64)        18496     \n",
            "_________________________________________________________________\n",
            "leaky_re_lu_4 (LeakyReLU)    (None, 16, 16, 64)        0         \n",
            "_________________________________________________________________\n",
            "max_pooling2d_2 (MaxPooling2 (None, 8, 8, 64)          0         \n",
            "_________________________________________________________________\n",
            "dropout_2 (Dropout)          (None, 8, 8, 64)          0         \n",
            "_________________________________________________________________\n",
            "flatten_1 (Flatten)          (None, 4096)              0         \n",
            "_________________________________________________________________\n",
            "dense_1 (Dense)              (None, 256)               1048832   \n",
            "_________________________________________________________________\n",
            "dropout_3 (Dropout)          (None, 256)               0         \n",
            "_________________________________________________________________\n",
            "leaky_re_lu_5 (LeakyReLU)    (None, 256)               0         \n",
            "_________________________________________________________________\n",
            "dense_2 (Dense)              (None, 10)                2570      \n",
            "_________________________________________________________________\n",
            "dropout_4 (Dropout)          (None, 10)                0         \n",
            "_________________________________________________________________\n",
            "leaky_re_lu_6 (LeakyReLU)    (None, 10)                0         \n",
            "_________________________________________________________________\n",
            "activation_1 (Activation)    (None, 10)                0         \n",
            "=================================================================\n",
            "Total params: 1,084,234\n",
            "Trainable params: 1,084,234\n",
            "Non-trainable params: 0\n",
            "_________________________________________________________________\n"
          ],
          "name": "stdout"
        }
      ]
    },
    {
      "metadata": {
        "id": "Dydxz7oj83WB",
        "colab_type": "code",
        "colab": {}
      },
      "cell_type": "code",
      "source": [
        "## GRADED PART, DO NOT CHANGE!\n",
        "# Number of model parameters\n",
        "grader.set_answer(\"7W4tu\", grading_utils.model_total_params(model))"
      ],
      "execution_count": 0,
      "outputs": []
    },
    {
      "metadata": {
        "id": "QK9KykAm83WE",
        "colab_type": "code",
        "outputId": "7ba00b91-bf7e-47f4-f4dc-82b3e5f978f7",
        "colab": {
          "base_uri": "https://localhost:8080/",
          "height": 54
        }
      },
      "cell_type": "code",
      "source": [
        "# you can make submission with answers so far to check yourself at this stage\n",
        "grader.submit(COURSERA_EMAIL, COURSERA_TOKEN)"
      ],
      "execution_count": 18,
      "outputs": [
        {
          "output_type": "stream",
          "text": [
            "You used an invalid email or your token may have expired. Please make sure you have entered all fields correctly. Try generating a new token if the issue still persists.\n"
          ],
          "name": "stdout"
        }
      ]
    },
    {
      "metadata": {
        "id": "Z6D-p4Nk83WG",
        "colab_type": "text"
      },
      "cell_type": "markdown",
      "source": [
        "# Train model"
      ]
    },
    {
      "metadata": {
        "id": "iJp5vOnj83WH",
        "colab_type": "text"
      },
      "cell_type": "markdown",
      "source": [
        "Training of your model can take approx. 4-8 minutes per epoch.\n",
        "\n",
        "During training you should observe the decrease in reported loss on training and validation.\n",
        "\n",
        "If the loss on training is not decreasing with epochs you should revise your model definition and learning rate."
      ]
    },
    {
      "metadata": {
        "id": "HmpMCMbnErrA",
        "colab_type": "code",
        "colab": {}
      },
      "cell_type": "code",
      "source": [
        "from google.colab import files\n",
        "\n",
        "##files.upload()"
      ],
      "execution_count": 0,
      "outputs": []
    },
    {
      "metadata": {
        "ExecuteTime": {
          "end_time": "2017-08-24T12:18:39.059726Z",
          "start_time": "2017-08-24T11:39:23.949926Z"
        },
        "id": "1Yq1CbiC83WH",
        "colab_type": "code",
        "outputId": "c11b70e6-fd2d-49fc-d412-1b679aaff580",
        "colab": {
          "base_uri": "https://localhost:8080/",
          "height": 139
        }
      },
      "cell_type": "code",
      "source": [
        "INIT_LR = 0.01  # initial learning rate\n",
        "BATCH_SIZE = 50\n",
        "EPOCHS = 20\n",
        "\n",
        "s = reset_tf_session()  # clear default graph\n",
        "# don't call K.set_learning_phase() !!! (otherwise will enable dropout in train/test simultaneously)\n",
        "model = make_model()  # define our model\n",
        "\n",
        "# prepare model for fitting (loss, optimizer, etc)\n",
        "model.compile(\n",
        "    loss='categorical_crossentropy',  # we train 10-way classification\n",
        "    optimizer=keras.optimizers.adamax(lr=INIT_LR),  # for SGD\n",
        "    metrics=['accuracy']  # report accuracy during training\n",
        ")\n",
        "\n",
        "# scheduler of learning rate (decay with epochs)\n",
        "def lr_scheduler(epoch):\n",
        "    return INIT_LR * 0.9 ** epoch\n",
        "\n",
        "# callback for printing of actual learning rate used by optimizer\n",
        "class LrHistory(keras.callbacks.Callback):\n",
        "    def on_epoch_begin(self, epoch, logs={}):\n",
        "        print(\"Learning rate:\", K.get_value(model.optimizer.lr))"
      ],
      "execution_count": 17,
      "outputs": [
        {
          "output_type": "stream",
          "text": [
            "WARNING:tensorflow:From /usr/local/lib/python3.6/dist-packages/keras/backend/tensorflow_backend.py:2745: calling reduce_sum (from tensorflow.python.ops.math_ops) with keep_dims is deprecated and will be removed in a future version.\n",
            "Instructions for updating:\n",
            "keep_dims is deprecated, use keepdims instead\n",
            "WARNING:tensorflow:From /usr/local/lib/python3.6/dist-packages/keras/backend/tensorflow_backend.py:1299: calling reduce_mean (from tensorflow.python.ops.math_ops) with keep_dims is deprecated and will be removed in a future version.\n",
            "Instructions for updating:\n",
            "keep_dims is deprecated, use keepdims instead\n"
          ],
          "name": "stdout"
        }
      ]
    },
    {
      "metadata": {
        "id": "ekk7sqqA83WM",
        "colab_type": "text"
      },
      "cell_type": "markdown",
      "source": [
        "Training takes approximately **1.5 hours**. You're aiming for ~0.80 validation accuracy."
      ]
    },
    {
      "metadata": {
        "id": "REwGJC_exwbM",
        "colab_type": "code",
        "colab": {}
      },
      "cell_type": "code",
      "source": [
        ""
      ],
      "execution_count": 0,
      "outputs": []
    },
    {
      "metadata": {
        "id": "7x6YFv1O83WO",
        "colab_type": "code",
        "colab": {}
      },
      "cell_type": "code",
      "source": [
        "# we will save model checkpoints to continue training in case of kernel death\n",
        "model_filename = 'cifar.{0:03d}.hdf5'\n",
        "last_finished_epoch = None\n",
        "EPOCHS = 200\n",
        "\n",
        "#### uncomment below to continue training from model checkpoint\n",
        "#### fill `last_finished_epoch` with your latest finished epoch\n",
        "from keras.models import load_model\n",
        "#s = reset_tf_session()\n",
        "#last_finished_epoch = 0\n",
        "#model = load_model(model_filename.format(last_finished_epoch))"
      ],
      "execution_count": 0,
      "outputs": []
    },
    {
      "metadata": {
        "ExecuteTime": {
          "end_time": "2017-08-24T12:18:39.059726Z",
          "start_time": "2017-08-24T11:39:23.949926Z"
        },
        "scrolled": false,
        "id": "6FjhQFJj83WQ",
        "colab_type": "code",
        "colab": {}
      },
      "cell_type": "code",
      "source": [
        "# fit model\n",
        "model.fit(\n",
        "    x_train2, y_train2,  # prepared data\n",
        "    batch_size=BATCH_SIZE,\n",
        "    epochs=EPOCHS,\n",
        "    callbacks=[keras.callbacks.LearningRateScheduler(lr_scheduler), \n",
        "               LrHistory(), \n",
        "               keras_utils.TqdmProgressCallback(),\n",
        "               keras_utils.ModelSaveCallback(model_filename)],\n",
        "    validation_data=(x_test2, y_test2),\n",
        "    shuffle=True,\n",
        "    verbose=0,\n",
        "    initial_epoch=last_finished_epoch or 0\n",
        ")"
      ],
      "execution_count": 0,
      "outputs": []
    },
    {
      "metadata": {
        "id": "gqcpLhtGphiX",
        "colab_type": "code",
        "colab": {}
      },
      "cell_type": "code",
      "source": [
        "files.download('cifar.180.hdf5')"
      ],
      "execution_count": 0,
      "outputs": []
    },
    {
      "metadata": {
        "ExecuteTime": {
          "end_time": "2017-08-24T12:18:39.103672Z",
          "start_time": "2017-08-24T12:18:39.061508Z"
        },
        "id": "Vr5wcAb583WS",
        "colab_type": "code",
        "colab": {}
      },
      "cell_type": "code",
      "source": [
        "# save weights to file\n",
        "model.save_weights(\"weights.h5\")"
      ],
      "execution_count": 0,
      "outputs": []
    },
    {
      "metadata": {
        "ExecuteTime": {
          "end_time": "2017-08-24T12:18:39.298255Z",
          "start_time": "2017-08-24T12:18:39.105314Z"
        },
        "id": "RqYzGLwq83WX",
        "colab_type": "code",
        "colab": {}
      },
      "cell_type": "code",
      "source": [
        "# load weights from file (can call without model.fit)\n",
        "model.load_weights(\"weights.h5\")"
      ],
      "execution_count": 0,
      "outputs": []
    },
    {
      "metadata": {
        "id": "7xRr9dej83WY",
        "colab_type": "text"
      },
      "cell_type": "markdown",
      "source": [
        "# Evaluate model"
      ]
    },
    {
      "metadata": {
        "ExecuteTime": {
          "end_time": "2017-08-24T12:18:53.381943Z",
          "start_time": "2017-08-24T12:18:39.299830Z"
        },
        "id": "onP9Azkv83WZ",
        "colab_type": "code",
        "outputId": "41c37c9a-5f3f-4c0e-fae3-cfab711257ca",
        "colab": {
          "base_uri": "https://localhost:8080/",
          "height": 34
        }
      },
      "cell_type": "code",
      "source": [
        "# make test predictions\n",
        "y_pred_test = model.predict_proba(x_test2)\n",
        "y_pred_test_classes = np.argmax(y_pred_test, axis=1)\n",
        "y_pred_test_max_probas = np.max(y_pred_test, axis=1)"
      ],
      "execution_count": 0,
      "outputs": [
        {
          "output_type": "stream",
          "text": [
            "10000/10000 [==============================] - 15s    \n"
          ],
          "name": "stdout"
        }
      ]
    },
    {
      "metadata": {
        "ExecuteTime": {
          "end_time": "2017-08-24T12:18:54.293970Z",
          "start_time": "2017-08-24T12:18:53.383809Z"
        },
        "id": "Z7nmcl-K83Wb",
        "colab_type": "code",
        "colab": {}
      },
      "cell_type": "code",
      "source": [
        "# confusion matrix and accuracy\n",
        "from sklearn.metrics import confusion_matrix, accuracy_score\n",
        "plt.figure(figsize=(7, 6))\n",
        "plt.title('Confusion matrix', fontsize=16)\n",
        "plt.imshow(confusion_matrix(y_test, y_pred_test_classes))\n",
        "plt.xticks(np.arange(10), cifar10_classes, rotation=45, fontsize=12)\n",
        "plt.yticks(np.arange(10), cifar10_classes, fontsize=12)\n",
        "plt.colorbar()\n",
        "plt.show()\n",
        "print(\"Test accuracy:\", accuracy_score(y_test, y_pred_test_classes))"
      ],
      "execution_count": 0,
      "outputs": []
    },
    {
      "metadata": {
        "id": "m79r_6mS83We",
        "colab_type": "code",
        "colab": {}
      },
      "cell_type": "code",
      "source": [
        "## GRADED PART, DO NOT CHANGE!\n",
        "# Accuracy on validation data\n",
        "grader.set_answer(\"nQOsg\", accuracy_score(y_test, y_pred_test_classes))"
      ],
      "execution_count": 0,
      "outputs": []
    },
    {
      "metadata": {
        "id": "jLE0s2VM83Wh",
        "colab_type": "code",
        "colab": {}
      },
      "cell_type": "code",
      "source": [
        "# you can make submission with answers so far to check yourself at this stage\n",
        "grader.submit(COURSERA_EMAIL, COURSERA_TOKEN)"
      ],
      "execution_count": 0,
      "outputs": []
    },
    {
      "metadata": {
        "ExecuteTime": {
          "end_time": "2017-08-24T12:18:55.568152Z",
          "start_time": "2017-08-24T12:18:54.295958Z"
        },
        "id": "ZO6fVYpg83Wj",
        "colab_type": "code",
        "colab": {}
      },
      "cell_type": "code",
      "source": [
        "# inspect preditions\n",
        "cols = 8\n",
        "rows = 2\n",
        "fig = plt.figure(figsize=(2 * cols - 1, 3 * rows - 1))\n",
        "for i in range(cols):\n",
        "    for j in range(rows):\n",
        "        random_index = np.random.randint(0, len(y_test))\n",
        "        ax = fig.add_subplot(rows, cols, i * rows + j + 1)\n",
        "        ax.grid('off')\n",
        "        ax.axis('off')\n",
        "        ax.imshow(x_test[random_index, :])\n",
        "        pred_label = cifar10_classes[y_pred_test_classes[random_index]]\n",
        "        pred_proba = y_pred_test_max_probas[random_index]\n",
        "        true_label = cifar10_classes[y_test[random_index, 0]]\n",
        "        ax.set_title(\"pred: {}\\nscore: {:.3}\\ntrue: {}\".format(\n",
        "               pred_label, pred_proba, true_label\n",
        "        ))\n",
        "plt.show()"
      ],
      "execution_count": 0,
      "outputs": []
    },
    {
      "metadata": {
        "id": "EZMmzbOu83Wl",
        "colab_type": "text"
      },
      "cell_type": "markdown",
      "source": [
        "# Visualize maximum stimuli"
      ]
    },
    {
      "metadata": {
        "id": "4Thcz1wm83Wm",
        "colab_type": "text"
      },
      "cell_type": "markdown",
      "source": [
        "We want to find input images that provide maximum activations for particular layers of our network. \n",
        "\n",
        "We will find those maximum stimuli via gradient ascent in image space.\n",
        "\n",
        "For that task we load our model weights, calculate the layer output gradient with respect to image input and shift input image in that direction."
      ]
    },
    {
      "metadata": {
        "ExecuteTime": {
          "end_time": "2017-08-24T13:23:59.462081Z",
          "start_time": "2017-08-24T13:23:58.896876Z"
        },
        "id": "ag-aJL9183Wn",
        "colab_type": "code",
        "colab": {}
      },
      "cell_type": "code",
      "source": [
        "s = reset_tf_session()  # clear default graph\n",
        "K.set_learning_phase(0)  # disable dropout\n",
        "model = make_model()\n",
        "model.load_weights(\"weights.h5\")  # that were saved after model.fit"
      ],
      "execution_count": 0,
      "outputs": []
    },
    {
      "metadata": {
        "ExecuteTime": {
          "end_time": "2017-08-24T13:24:00.360163Z",
          "start_time": "2017-08-24T13:24:00.351539Z"
        },
        "id": "qv0eOoZn83Wp",
        "colab_type": "code",
        "colab": {}
      },
      "cell_type": "code",
      "source": [
        "# all weights we have\n",
        "model.summary()"
      ],
      "execution_count": 0,
      "outputs": []
    },
    {
      "metadata": {
        "ExecuteTime": {
          "end_time": "2017-09-09T19:26:28.647877Z",
          "start_time": "2017-09-09T19:26:28.587968Z"
        },
        "id": "TERJXCXk83Wr",
        "colab_type": "code",
        "colab": {}
      },
      "cell_type": "code",
      "source": [
        "def find_maximum_stimuli(layer_name, is_conv, filter_index, model, iterations=20, step=1., verbose=True):\n",
        "    \n",
        "    def image_values_to_rgb(x):\n",
        "        # normalize x: center on 0 (np.mean(x_train2)), ensure std is 0.25 (np.std(x_train2))\n",
        "        # so that it looks like a normalized image input for our network\n",
        "        x = ### YOUR CODE HERE\n",
        "\n",
        "        # do reverse normalization to RGB values: x = (x_norm + 0.5) * 255\n",
        "        x = ### YOUR CODE HERE\n",
        "    \n",
        "        # clip values to [0, 255] and convert to bytes\n",
        "        x = np.clip(x, 0, 255).astype('uint8')\n",
        "        return x\n",
        "\n",
        "    # this is the placeholder for the input image\n",
        "    input_img = model.input\n",
        "    img_width, img_height = input_img.shape.as_list()[1:3]\n",
        "    \n",
        "    # find the layer output by name\n",
        "    layer_output = list(filter(lambda x: x.name == layer_name, model.layers))[0].output\n",
        "\n",
        "    # we build a loss function that maximizes the activation\n",
        "    # of the filter_index filter of the layer considered\n",
        "    if is_conv:\n",
        "        # mean over feature map values for convolutional layer\n",
        "        loss = K.mean(layer_output[:, :, :, filter_index])\n",
        "    else:\n",
        "        loss = K.mean(layer_output[:, filter_index])\n",
        "\n",
        "    # we compute the gradient of the loss wrt input image\n",
        "    grads = K.gradients(loss, input_img)[0]  # [0] because of the batch dimension!\n",
        "\n",
        "    # normalization trick: we normalize the gradient\n",
        "    grads = grads / (K.sqrt(K.sum(K.square(grads))) + 1e-10)\n",
        "\n",
        "    # this function returns the loss and grads given the input picture\n",
        "    iterate = K.function([input_img], [loss, grads])\n",
        "\n",
        "    # we start from a gray image with some random noise\n",
        "    input_img_data = np.random.random((1, img_width, img_height, 3))\n",
        "    input_img_data = (input_img_data - 0.5) * (0.1 if is_conv else 0.001)\n",
        "\n",
        "    # we run gradient ascent\n",
        "    for i in range(iterations):\n",
        "        loss_value, grads_value = iterate([input_img_data])\n",
        "        input_img_data += grads_value * step\n",
        "        if verbose:\n",
        "            print('Current loss value:', loss_value)\n",
        "\n",
        "    # decode the resulting input image\n",
        "    img = image_values_to_rgb(input_img_data[0])\n",
        "    \n",
        "    return img, loss_value"
      ],
      "execution_count": 0,
      "outputs": []
    },
    {
      "metadata": {
        "ExecuteTime": {
          "end_time": "2017-08-24T13:32:09.846317Z",
          "start_time": "2017-08-24T13:32:09.815734Z"
        },
        "id": "EtN9arep83Wt",
        "colab_type": "code",
        "colab": {}
      },
      "cell_type": "code",
      "source": [
        "# sample maximum stimuli\n",
        "def plot_filters_stimuli(layer_name, is_conv, model, iterations=20, step=1., verbose=False):\n",
        "    cols = 8\n",
        "    rows = 2\n",
        "    filter_index = 0\n",
        "    max_filter_index = list(filter(lambda x: x.name == layer_name, model.layers))[0].output.shape.as_list()[-1] - 1\n",
        "    fig = plt.figure(figsize=(2 * cols - 1, 3 * rows - 1))\n",
        "    for i in range(cols):\n",
        "        for j in range(rows):\n",
        "            if filter_index <= max_filter_index:\n",
        "                ax = fig.add_subplot(rows, cols, i * rows + j + 1)\n",
        "                ax.grid('off')\n",
        "                ax.axis('off')\n",
        "                loss = -1e20\n",
        "                while loss < 0 and filter_index <= max_filter_index:\n",
        "                    stimuli, loss = find_maximum_stimuli(layer_name, is_conv, filter_index, model,\n",
        "                                                         iterations, step, verbose=verbose)\n",
        "                    filter_index += 1\n",
        "                if loss > 0:\n",
        "                    ax.imshow(stimuli)\n",
        "                    ax.set_title(\"Filter #{}\".format(filter_index))\n",
        "    plt.show()"
      ],
      "execution_count": 0,
      "outputs": []
    },
    {
      "metadata": {
        "ExecuteTime": {
          "end_time": "2017-09-09T22:11:24.717347Z",
          "start_time": "2017-09-09T22:11:24.652428Z"
        },
        "id": "e8_Q7PCt83Ww",
        "colab_type": "code",
        "colab": {}
      },
      "cell_type": "code",
      "source": [
        "# maximum stimuli for convolutional neurons\n",
        "conv_activation_layers = []\n",
        "for layer in model.layers:\n",
        "    if isinstance(layer, LeakyReLU):\n",
        "        prev_layer = layer.inbound_nodes[0].inbound_layers[0]\n",
        "        if isinstance(prev_layer, Conv2D):\n",
        "            conv_activation_layers.append(layer)\n",
        "\n",
        "for layer in conv_activation_layers:\n",
        "    print(layer.name)\n",
        "    plot_filters_stimuli(layer_name=layer.name, is_conv=True, model=model)"
      ],
      "execution_count": 0,
      "outputs": []
    },
    {
      "metadata": {
        "id": "vsjM2oAN83Wy",
        "colab_type": "code",
        "colab": {}
      },
      "cell_type": "code",
      "source": [
        "# maximum stimuli for last dense layer\n",
        "last_dense_layer = list(filter(lambda x: isinstance(x, Dense), model.layers))[-1]\n",
        "plot_filters_stimuli(layer_name=last_dense_layer.name, is_conv=False, \n",
        "                     iterations=200, step=0.1, model=model)"
      ],
      "execution_count": 0,
      "outputs": []
    },
    {
      "metadata": {
        "id": "pGv2O7jn83W0",
        "colab_type": "code",
        "colab": {}
      },
      "cell_type": "code",
      "source": [
        "def maximum_stimuli_test_for_grader():\n",
        "    layer = list(filter(lambda x: isinstance(x, Dense), model.layers))[-1]\n",
        "    output_index = 7\n",
        "    stimuli, loss = find_maximum_stimuli(\n",
        "        layer_name=layer.name, \n",
        "        is_conv=False, \n",
        "        filter_index=output_index,\n",
        "        model=model,\n",
        "        verbose=False\n",
        "    )\n",
        "    return model.predict_proba(stimuli[np.newaxis, :])[0, output_index]"
      ],
      "execution_count": 0,
      "outputs": []
    },
    {
      "metadata": {
        "ExecuteTime": {
          "end_time": "2017-09-09T22:26:46.387162Z",
          "start_time": "2017-09-09T22:26:46.376735Z"
        },
        "id": "11WA9il_83W2",
        "colab_type": "code",
        "colab": {}
      },
      "cell_type": "code",
      "source": [
        "## GRADED PART, DO NOT CHANGE!\n",
        "# Maximum stimuli test\n",
        "grader.set_answer(\"96eco\", maximum_stimuli_test_for_grader())"
      ],
      "execution_count": 0,
      "outputs": []
    },
    {
      "metadata": {
        "id": "SYJyZNJo83W4",
        "colab_type": "code",
        "colab": {}
      },
      "cell_type": "code",
      "source": [
        "# you can make submission with answers so far to check yourself at this stage\n",
        "grader.submit(COURSERA_EMAIL, COURSERA_TOKEN)"
      ],
      "execution_count": 0,
      "outputs": []
    },
    {
      "metadata": {
        "id": "CSFoIAeu83W5",
        "colab_type": "text"
      },
      "cell_type": "markdown",
      "source": [
        "That's it! Congratulations!\n",
        "\n",
        "What you've done:\n",
        "- defined CNN architecture\n",
        "- trained your model\n",
        "- evaluated your model\n",
        "- visualised learnt filters"
      ]
    }
  ]
}