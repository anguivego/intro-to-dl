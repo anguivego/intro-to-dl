{
  "nbformat": 4,
  "nbformat_minor": 0,
  "metadata": {
    "colab": {
      "name": "digits_classification.ipynb",
      "version": "0.3.2",
      "provenance": [],
      "include_colab_link": true
    },
    "kernelspec": {
      "display_name": "Python 3",
      "language": "python",
      "name": "python3"
    }
  },
  "cells": [
    {
      "cell_type": "markdown",
      "metadata": {
        "id": "view-in-github",
        "colab_type": "text"
      },
      "source": [
        "[View in Colaboratory](https://colab.research.google.com/github/anguivego/intro-to-dl/blob/master/Introduction_to_deep_learning/week2/digits_classification.ipynb)"
      ]
    },
    {
      "metadata": {
        "id": "qjt5nXpBHqtD",
        "colab_type": "text"
      },
      "cell_type": "markdown",
      "source": [
        "\n",
        "# MNIST digits classification with TensorFlow"
      ]
    },
    {
      "metadata": {
        "id": "I7UlQljtHqtG",
        "colab_type": "text"
      },
      "cell_type": "markdown",
      "source": [
        "<img src=\"images/mnist_sample.png\" style=\"width:30%\">"
      ]
    },
    {
      "metadata": {
        "id": "mTvzCx5qIOTw",
        "colab_type": "code",
        "colab": {
          "base_uri": "https://localhost:8080/",
          "height": 306
        },
        "outputId": "2166790e-d829-4f6f-916c-73ed83fb01f8"
      },
      "cell_type": "code",
      "source": [
        "! wget https://raw.githubusercontent.com/hse-aml/intro-to-dl/master/setup_google_colab.py -O setup_google_colab.py\n",
        "import setup_google_colab\n",
        "# please, uncomment the week you're working on\n",
        "setup_google_colab.setup_week2()"
      ],
      "execution_count": 1,
      "outputs": [
        {
          "output_type": "stream",
          "text": [
            "--2018-10-20 01:40:10--  https://raw.githubusercontent.com/hse-aml/intro-to-dl/master/setup_google_colab.py\n",
            "Resolving raw.githubusercontent.com (raw.githubusercontent.com)... 151.101.0.133, 151.101.64.133, 151.101.128.133, ...\n",
            "Connecting to raw.githubusercontent.com (raw.githubusercontent.com)|151.101.0.133|:443... connected.\n",
            "HTTP request sent, awaiting response... 200 OK\n",
            "Length: 3595 (3.5K) [text/plain]\n",
            "Saving to: ‘setup_google_colab.py’\n",
            "\n",
            "\rsetup_google_colab.   0%[                    ]       0  --.-KB/s               \rsetup_google_colab. 100%[===================>]   3.51K  --.-KB/s    in 0s      \n",
            "\n",
            "2018-10-20 01:40:10 (28.0 MB/s) - ‘setup_google_colab.py’ saved [3595/3595]\n",
            "\n",
            "**************************************************\n",
            "inception_v3_weights_tf_dim_ordering_tf_kernels_notop.h5\n",
            "**************************************************\n",
            "cifar-10-batches-py.tar.gz\n",
            "**************************************************\n",
            "mnist.npz\n"
          ],
          "name": "stdout"
        }
      ]
    },
    {
      "metadata": {
        "colab_type": "code",
        "id": "dJ5iYP_0IMwn",
        "colab": {
          "base_uri": "https://localhost:8080/",
          "height": 51
        },
        "outputId": "66d46b65-4553-4829-f39a-fbe22494f496"
      },
      "cell_type": "code",
      "source": [
        "import numpy as np\n",
        "from sklearn.metrics import accuracy_score\n",
        "from matplotlib import pyplot as plt\n",
        "%matplotlib inline\n",
        "import tensorflow as tf\n",
        "print(\"We're using TF\", tf.__version__)\n",
        "\n",
        "import sys\n",
        "sys.path.append(\"../..\")\n",
        "import grading\n",
        "\n",
        "import matplotlib_utils\n",
        "from importlib import reload\n",
        "reload(matplotlib_utils)\n",
        "\n",
        "import grading_utils\n",
        "reload(grading_utils)\n",
        "\n",
        "import keras_utils\n",
        "from keras_utils import reset_tf_session"
      ],
      "execution_count": 2,
      "outputs": [
        {
          "output_type": "stream",
          "text": [
            "We're using TF 1.12.0-rc1\n"
          ],
          "name": "stdout"
        },
        {
          "output_type": "stream",
          "text": [
            "Using TensorFlow backend.\n"
          ],
          "name": "stderr"
        }
      ]
    },
    {
      "metadata": {
        "id": "2VFB9wE-HqtL",
        "colab_type": "text"
      },
      "cell_type": "markdown",
      "source": [
        "# Fill in your Coursera token and email\n",
        "To successfully submit your answers to our grader, please fill in your Coursera submission token and email"
      ]
    },
    {
      "metadata": {
        "id": "Gm5wOHjHHqtM",
        "colab_type": "code",
        "colab": {}
      },
      "cell_type": "code",
      "source": [
        "grader = grading.Grader(assignment_key=\"XtD7ho3TEeiHQBLWejjYAA\", \n",
        "                        all_parts=[\"9XaAS\", \"vmogZ\", \"RMv95\", \"i8bgs\", \"rE763\"])"
      ],
      "execution_count": 0,
      "outputs": []
    },
    {
      "metadata": {
        "id": "a7BTVSngHqtS",
        "colab_type": "code",
        "colab": {}
      },
      "cell_type": "code",
      "source": [
        "# token expires every 30 min\n",
        "COURSERA_TOKEN = \"p2ARXV81v2Jdxc9s\"\n",
        "COURSERA_EMAIL = \"andres@sirius.utp.edu.co\""
      ],
      "execution_count": 0,
      "outputs": []
    },
    {
      "metadata": {
        "id": "A9WTG0QGHqtZ",
        "colab_type": "text"
      },
      "cell_type": "markdown",
      "source": [
        "# Look at the data\n",
        "\n",
        "In this task we have 50000 28x28 images of digits from 0 to 9.\n",
        "We will train a classifier on this data."
      ]
    },
    {
      "metadata": {
        "id": "lbjpUai0Hqtb",
        "colab_type": "code",
        "colab": {
          "base_uri": "https://localhost:8080/",
          "height": 51
        },
        "outputId": "c64a358c-8cd1-41c3-feb8-4204a7c33a99"
      },
      "cell_type": "code",
      "source": [
        "import preprocessed_mnist\n",
        "X_train, y_train, X_val, y_val, X_test, y_test = preprocessed_mnist.load_dataset()"
      ],
      "execution_count": 3,
      "outputs": [
        {
          "output_type": "stream",
          "text": [
            "Downloading data from https://s3.amazonaws.com/img-datasets/mnist.npz\n",
            " 9560064/11490434 [=======================>......] - ETA: 0s"
          ],
          "name": "stdout"
        }
      ]
    },
    {
      "metadata": {
        "id": "6u9t0j3AHqtf",
        "colab_type": "code",
        "colab": {
          "base_uri": "https://localhost:8080/",
          "height": 683
        },
        "outputId": "dea5f9e0-8e1d-4d45-f542-4f1fdda4b957"
      },
      "cell_type": "code",
      "source": [
        "# X contains rgb values divided by 255\n",
        "print(\"X_train [shape %s] sample patch:\\n\" % (str(X_train.shape)), X_train[1, 15:20, 5:10])\n",
        "print(\"A closeup of a sample patch:\")\n",
        "plt.imshow(X_train[1, 15:20, 5:10], cmap=\"Greys\")\n",
        "plt.show()\n",
        "print(\"And the whole sample:\")\n",
        "plt.imshow(X_train[1], cmap=\"Greys\")\n",
        "plt.show()\n",
        "print(\"y_train [shape %s] 10 samples:\\n\" % (str(y_train.shape)), y_train[:10])"
      ],
      "execution_count": 4,
      "outputs": [
        {
          "output_type": "stream",
          "text": [
            "X_train [shape (50000, 28, 28)] sample patch:\n",
            " [[0.         0.29803922 0.96470588 0.98823529 0.43921569]\n",
            " [0.         0.33333333 0.98823529 0.90196078 0.09803922]\n",
            " [0.         0.33333333 0.98823529 0.8745098  0.        ]\n",
            " [0.         0.33333333 0.98823529 0.56862745 0.        ]\n",
            " [0.         0.3372549  0.99215686 0.88235294 0.        ]]\n",
            "A closeup of a sample patch:\n"
          ],
          "name": "stdout"
        },
        {
          "output_type": "display_data",
          "data": {
            "image/png": "[encoded data removed]",
            "text/plain": [
              "<matplotlib.figure.Figure at 0x7fc6ea757dd8>"
            ]
          },
          "metadata": {
            "tags": []
          }
        },
        {
          "output_type": "stream",
          "text": [
            "And the whole sample:\n"
          ],
          "name": "stdout"
        },
        {
          "output_type": "display_data",
          "data": {
            "image/png": "[encoded data removed]",
            "text/plain": [
              "<matplotlib.figure.Figure at 0x7fc6d9b913c8>"
            ]
          },
          "metadata": {
            "tags": []
          }
        },
        {
          "output_type": "stream",
          "text": [
            "y_train [shape (50000,)] 10 samples:\n",
            " [5 0 4 1 9 2 1 3 1 4]\n"
          ],
          "name": "stdout"
        }
      ]
    },
    {
      "metadata": {
        "id": "j20iRABTHqti",
        "colab_type": "text"
      },
      "cell_type": "markdown",
      "source": [
        "# Linear model\n",
        "\n",
        "Your task is to train a linear classifier $\\vec{x} \\rightarrow y$ with SGD using TensorFlow.\n",
        "\n",
        "You will need to calculate a logit (a linear transformation) $z_k$ for each class: \n",
        "$$z_k = \\vec{x} \\cdot \\vec{w_k} + b_k \\quad k = 0..9$$\n",
        "\n",
        "And transform logits $z_k$ to valid probabilities $p_k$ with softmax: \n",
        "$$p_k = \\frac{e^{z_k}}{\\sum_{i=0}^{9}{e^{z_i}}} \\quad k = 0..9$$\n",
        "\n",
        "We will use a cross-entropy loss to train our multi-class classifier:\n",
        "$$\\text{cross-entropy}(y, p) = -\\sum_{k=0}^{9}{\\log(p_k)[y = k]}$$ \n",
        "\n",
        "where \n",
        "$$\n",
        "[x]=\\begin{cases}\n",
        "       1, \\quad \\text{if $x$ is true} \\\\\n",
        "       0, \\quad \\text{otherwise}\n",
        "    \\end{cases}\n",
        "$$\n",
        "\n",
        "Cross-entropy minimization pushes $p_k$ close to 1 when $y = k$, which is what we want.\n",
        "\n",
        "Here's the plan:\n",
        "* Flatten the images (28x28 -> 784) with `X_train.reshape((X_train.shape[0], -1))` to simplify our linear model implementation\n",
        "* Use a matrix placeholder for flattened `X_train`\n",
        "* Convert `y_train` to one-hot encoded vectors that are needed for cross-entropy\n",
        "* Use a shared variable `W` for all weights (a column $\\vec{w_k}$ per class) and `b` for all biases.\n",
        "* Aim for ~0.93 validation accuracy"
      ]
    },
    {
      "metadata": {
        "id": "rP25RbmLHqtj",
        "colab_type": "code",
        "colab": {
          "base_uri": "https://localhost:8080/",
          "height": 51
        },
        "outputId": "29f807d3-f970-4f1f-844a-b78b9e623f21"
      },
      "cell_type": "code",
      "source": [
        "X_train_flat = X_train.reshape((X_train.shape[0], -1))\n",
        "print(X_train_flat.shape)\n",
        "\n",
        "X_val_flat = X_val.reshape((X_val.shape[0], -1))\n",
        "print(X_val_flat.shape)"
      ],
      "execution_count": 5,
      "outputs": [
        {
          "output_type": "stream",
          "text": [
            "(50000, 784)\n",
            "(10000, 784)\n"
          ],
          "name": "stdout"
        }
      ]
    },
    {
      "metadata": {
        "id": "F979kyOkHqtn",
        "colab_type": "code",
        "colab": {
          "base_uri": "https://localhost:8080/",
          "height": 85
        },
        "outputId": "0225061a-1d0d-4590-cd0a-992ba8165b62"
      },
      "cell_type": "code",
      "source": [
        "import keras\n",
        "\n",
        "y_train_oh = keras.utils.to_categorical(y_train, 10)\n",
        "y_val_oh = keras.utils.to_categorical(y_val, 10)\n",
        "\n",
        "print(y_train_oh.shape)\n",
        "print(y_train_oh[:3], y_train[:3])"
      ],
      "execution_count": 6,
      "outputs": [
        {
          "output_type": "stream",
          "text": [
            "(50000, 10)\n",
            "[[0. 0. 0. 0. 0. 1. 0. 0. 0. 0.]\n",
            " [1. 0. 0. 0. 0. 0. 0. 0. 0. 0.]\n",
            " [0. 0. 0. 0. 1. 0. 0. 0. 0. 0.]] [5 0 4]\n"
          ],
          "name": "stdout"
        }
      ]
    },
    {
      "metadata": {
        "id": "SK06Tc9THqtq",
        "colab_type": "code",
        "colab": {}
      },
      "cell_type": "code",
      "source": [
        "# run this again if you remake your graph\n",
        "s = reset_tf_session()"
      ],
      "execution_count": 0,
      "outputs": []
    },
    {
      "metadata": {
        "id": "36AZe3I5Hqtu",
        "colab_type": "code",
        "colab": {}
      },
      "cell_type": "code",
      "source": [
        "# Model parameters: W and b\n",
        "W = tf.get_variable(\"W\",[784,10]) ### tf.get_variable(...) with shape[0] = 784\n",
        "b = tf.get_variable(\"b\",[1,10]) ### tf.get_variable(...)"
      ],
      "execution_count": 0,
      "outputs": []
    },
    {
      "metadata": {
        "id": "AREXtEbMHqtz",
        "colab_type": "code",
        "colab": {}
      },
      "cell_type": "code",
      "source": [
        "# Placeholders for the input data\n",
        "input_X = tf.placeholder(tf.float32,shape=(None,784)) ### tf.placeholder(...) for flat X with shape[0] = None for any batch size\n",
        "input_y = tf.placeholder(tf.float32,shape=(None,10))### tf.placeholder(...) for one-hot encoded true labels"
      ],
      "execution_count": 0,
      "outputs": []
    },
    {
      "metadata": {
        "id": "RuM4kV7lHqt3",
        "colab_type": "code",
        "colab": {}
      },
      "cell_type": "code",
      "source": [
        "# Compute predictions\n",
        "logits = input_X @ W + b ### logits for input_X, resulting shape should be [input_X.shape[0], 10]\n",
        "probas = tf.nn.softmax(logits) ### apply tf.nn.softmax to logits\n",
        "classes =tf.argmax(probas,1) ### apply tf.argmax to find a class index with highest probability\n",
        "\n",
        "# Loss should be a scalar number: average loss over all the objects with tf.reduce_mean().\n",
        "# Use tf.nn.softmax_cross_entropy_with_logits on top of one-hot encoded input_y and logits.\n",
        "# It is identical to calculating cross-entropy on top of probas, but is more numerically friendly (read the docs).\n",
        "loss = tf.reduce_mean(tf.nn.softmax_cross_entropy_with_logits(labels=input_y,logits=logits))### cross-entropy loss\n",
        "\n",
        "# Use a default tf.train.AdamOptimizer to get an SGD step\n",
        "step = tf.train.AdamOptimizer().minimize(loss)### optimizer step that minimizes the loss"
      ],
      "execution_count": 0,
      "outputs": []
    },
    {
      "metadata": {
        "id": "0EhI2NDSXY58",
        "colab_type": "code",
        "colab": {}
      },
      "cell_type": "code",
      "source": [
        "s.run(classes, {input_X: X_train_flat})"
      ],
      "execution_count": 0,
      "outputs": []
    },
    {
      "metadata": {
        "scrolled": false,
        "id": "X16xJtTAHqt6",
        "colab_type": "code",
        "colab": {
          "base_uri": "https://localhost:8080/",
          "height": 309
        },
        "outputId": "c3542944-4c45-423d-8ecc-fe6230ec63b2"
      },
      "cell_type": "code",
      "source": [
        "s.run(tf.global_variables_initializer())\n",
        "\n",
        "BATCH_SIZE = 512\n",
        "EPOCHS = 40\n",
        "\n",
        "# for logging the progress right here in Jupyter (for those who don't have TensorBoard)\n",
        "simpleTrainingCurves = matplotlib_utils.SimpleTrainingCurves(\"cross-entropy\", \"accuracy\")\n",
        "\n",
        "for epoch in range(EPOCHS):  # we finish an epoch when we've looked at all training samples\n",
        "    \n",
        "    batch_losses = []\n",
        "    for batch_start in range(0, X_train_flat.shape[0], BATCH_SIZE):  # data is already shuffled\n",
        "        _, batch_loss = s.run([step, loss], {input_X: X_train_flat[batch_start:batch_start+BATCH_SIZE], \n",
        "                                             input_y: y_train_oh[batch_start:batch_start+BATCH_SIZE]})\n",
        "        # collect batch losses, this is almost free as we need a forward pass for backprop anyway\n",
        "        batch_losses.append(batch_loss)\n",
        "\n",
        "    train_loss = np.mean(batch_losses)\n",
        "    val_loss = s.run(loss, {input_X: X_val_flat, input_y: y_val_oh})  # this part is usually small\n",
        "    train_accuracy = accuracy_score(y_train, s.run(classes, {input_X: X_train_flat}))  # this is slow and usually skipped\n",
        "    valid_accuracy = accuracy_score(y_val, s.run(classes, {input_X: X_val_flat}))  \n",
        "    simpleTrainingCurves.add(train_loss, val_loss, train_accuracy, valid_accuracy)"
      ],
      "execution_count": 37,
      "outputs": [
        {
          "output_type": "display_data",
          "data": {
            "text/html": [
              "<img src=\"data:image/jpeg;base64,/9j/4AAQSkZJRgABAQEASABIAAD/2wBDAAIBAQEBAQIBAQECAgICAgQDAgICAgUEBAMEBgUGBgYFBgYGBwkIBgcJBwYGCAsICQoKCgoKBggLDAsKDAkKCgr/2wBDAQICAgICAgUDAwUKBwYHCgoKCgoKCgoKCgoKCgoKCgoKCgoKCgoKCgoKCgoKCgoKCgoKCgoKCgoKCgoKCgoKCgr/wAARCAEgA2ADASIAAhEBAxEB/8QAHwAAAQUBAQEBAQEAAAAAAAAAAAECAwQFBgcICQoL/8QAtRAAAgEDAwIEAwUFBAQAAAF9AQIDAAQRBRIhMUEGE1FhByJxFDKBkaEII0KxwRVS0fAkM2JyggkKFhcYGRolJicoKSo0NTY3ODk6Q0RFRkdISUpTVFVWV1hZWmNkZWZnaGlqc3R1dnd4eXqDhIWGh4iJipKTlJWWl5iZmqKjpKWmp6ipqrKztLW2t7i5usLDxMXGx8jJytLT1NXW19jZ2uHi4%2BTl5ufo6erx8vP09fb3%2BPn6/8QAHwEAAwEBAQEBAQEBAQAAAAAAAAECAwQFBgcICQoL/8QAtREAAgECBAQDBAcFBAQAAQJ3AAECAxEEBSExBhJBUQdhcRMiMoEIFEKRobHBCSMzUvAVYnLRChYkNOEl8RcYGRomJygpKjU2Nzg5OkNERUZHSElKU1RVVldYWVpjZGVmZ2hpanN0dXZ3eHl6goOEhYaHiImKkpOUlZaXmJmaoqOkpaanqKmqsrO0tba3uLm6wsPExcbHyMnK0tPU1dbX2Nna4uPk5ebn6Onq8vP09fb3%2BPn6/9oADAMBAAIRAxEAPwD9/KKKKACiiigAooooAKKKKACiiigAooooAKKKKACiiigAooooAKKKKACiiigAooooAKKKKACiiigAooooAKKKKACiiigAooooAKKKKACiiigAooooAKKKKACiiigAooooAKKKKACiiigAooooAKKKKACiiigAooooAKKKKACiiigAooooAKKKKACiiigAooooAKKKKACiiigAooooAKKKKACiiigAooooAKKKKACiiigAooooAKKKKACiiigAooooAKKKKACiiigAooooAKKKKACiiigAooooAKKKKACiiigAooooAKKKKACiiigAooooAKKKKACiiigAooooAKKKKACiiigAooooAKKKKACiiigDxPxd/wAFFP2PvAmoXmn%2BK/ipc2gs9UbTReHwpqj2l5eLfw6fJb2lwlsYb2SO7nigkW3eQxOxD7drY2j%2B2f8As6R%2BObL4c3XjHUbfVLy6sLNlu/Cmpw29le3sUctpY3dw9sIbG8lSWIraXDxzkzRjy8uoPiVz%2Bxn%2B1bH4C8N/s66Zqfw9HgXwn8W9N8V22tXOo3r6rqtnb%2BLrXWxbyQC1EVrLHAlxFvEswuJFiJ%2Bzqzbeh8cfsffGzXfGPi3wPoup%2BFv%2BEA8c/F7QfHuq61dalcrrOnvp8mlTyWEVqtu0Mwll0mLbcNcRmJLhh5TmNSwB6Fa/t1fsv3cGr3w8f30Nno2n3N7LqV54U1OC0vYLedLeZ7G4ktli1HbNJHHi1aYlpEAB3rns/hT8ZfAXxp0m91fwJc6njTdQNlqVnrfh690q8tJxGkuyW1voYZ48xyxupZAGVwQSDmvmbTf2IPj5a6t4mtbTwl8ONN8MazoOp22reBV8Za1feHfFN5cXcEsdw2mTwCPQGCJcEvZyTnzLkMRL5Q3egfs4/sm%2BOvDGmXP/AAu3xl4hhgsfFa6n4L8M6H8ZPEOpQaLbC3tla2mvpmtZtTheeGSUQXUbxRLKY1BQnIB0kX7eP7Kk0fiC6HxNlW18N6Jqur32oy%2BHdQS0urLTSRfzWVw1uItSFuRiQWjTFSQCMkZ5vx3/AMFL/wBmXwh4Vl8TaPd%2BJtceDxF4b0yXTdP8Dav9qeLW78WdnfwxNaB7m1crO0c8IeOZoTFEzyvGjeKaH/wSx%2BI%2BjfBrXPgl5eiXX9m/DfxR4c8C%2BK9W%2BK/ia/LzajZT2VtI%2Bkz5sdLUQzFZjALjJGY0j4A7z4//ALEPxs8d%2BOH%2BIfw%2B1Pwo9zp/hz4cxaTp2r6nc20dzfeG/FE2szxSyRW0phhlidIklVJGDliYsAbgD1V/25/2ZFtteu4/G%2BpzJ4b8Sf8ACPakLbwfqsrPq/nPCdOt1S1JvLsOhJggEkgQrIV2MrGpqn/BQX9lDSbTRp5PH%2Bq3U%2Bv2Wq3WmaXpfgnWLy/ZNMuIrfUFks4LR7iGW3lmRZIpI1kT5iVwjleFtv2OvjToXha08QaFfeFZvFegftCaz8R9G0y61O5j0%2B%2Bgvl1C3NnPcrbNJDILbUZSJFhlCyxJ8rCvMNI%2BEf7S3wX/AG5vCGqeD9N8Dav478U%2BA/iX4l1jSNT128tdItftmt%2BFwlvBdpZyzN5Srb5kNuvnFZfli8wbQD6jsf2yP2adU8Gaz8QtK%2BKVvd6PoNxpMGoXtpY3MoLapDaTaeYVWMtcrcJfWvlvCHVmkKZ3I6r6bXwN8Nv2Q7XwR%2B1Z8Ff2dvBXxLsNdsPh58M9Ff432dmnD3ugLu8PPKqki2klutRnuUjf52i06PGVQGvvmgAooooAKKKKACiiigAooooAKKKKACiiigAooooAKKKKACiiigAooooAKKKKACiiigAooooAKKKKACiiigAooooAKKKKACiiigArzb4q/tdfs/fBPxlH4D%2BJPje4stR%2By2l1efZ9Bvru3023urh7a2nvbi3geGwilmjkRJLl41YxvgnY2PSa%2BQ/28f2Kv2o/2pNZ8Z6N4R%2BIWn/8I5rvhC0s/DFtqHxB1rSoNGvoXnkm8/TtPi8jU47ljApluZG8hVJWCXbscA9gh/br/ZUku9btpviqtrFoGn6hfXeoahot7bWVzb2EywXslndSwrDqAhldI3%2ByvKVd1U8sAdDwJ%2B2B%2Bz78R/EmneC/DXjC%2Bj1vVNTutPt9D1fwzqOnX0Vzb2kd5LHPb3dvHLbH7NLHMvnKgkSRShbIrwzQ/wBjX9rW8/ZXP7IXiDWvh5pWgaLpEn9ga1ZX99qF3qF9FqUN9YC5R7e3W2hjMRinKNO1xuDqIOYz1/jH4S/tp%2BNfiB4H%2BPWqaH8ME1/wZ4l1CS08HQeJtQWzGmXel/ZHLambAyTXAnHnAfY408s%2BVnK%2BawB2uh/t0/steJddsPDmh/EuW4utR0KfWotnh7UBFDpsM9zbzXk8pg8u1gSa0njaSZkUMEBP72Le3w9%2B3Z%2By74m8J6741sviFe21l4dsdPvdSj1fwrqdhctbX8jRWM0Ftc20c13Hcyq0UDQJIJpAUjLN8teO/s%2BfsI/tK/Bjw3q7xfFHwvY%2BKLj4J3fhXR/EWlxzSrY61Jq2rX0V6IZYgDAn263baWJ3RuuCAGbkrH/gnN%2B1HceNNR%2BImoa74div59G8Iz2dvrXxT1/xIw1jw7r39rQrLc6hbB/st3vlR/JSJbU7WjgmJY0AfUHw9/bC/Z2%2BJ%2Buy%2BF/Cnj%2BRdTttLvdQvdN1fRL3Tbizgs5Yorrz47uGJoHia4ty8UgWRVnicrskRj2nw98e%2BFvip4C0T4m%2BBr%2BS70XxFpNvqWkXU1nLbtNazxrLE5imVJIyUZTtdVYZwQDxXxx%2B3H8PfjP8Ybb4c/D3xh4x8IaH8UvFXjTUNFj8PeD724unh8D6lZNaa0vnSpDLMYoUS7N2YYIxPDbRBdxQyfbOnadYaRp8Gk6XZx29rawrDbW8KBUijUAKqgcAAAAD2oAmooooAKKKKACiiigAooooAKKKKACiiigAooooAKKKKACiiigAooooAKKKKACiiigAooooAKKKKACiiigAooooAKKKKACiiigAooooAKzPFWs3eh6el3aJGzNMEIkUkYwT2I9K068t%2BMnxZbQvjP4P%2BCTaUjR%2BJvDut6uL4ykNE%2BnzabEIguMEOuoOxOePJAwd3C54QlHn2bS%2Bb0R04XB4jGylGiruMZTf%2BGEeaT%2BS1tu%2Bh0H/AAsPWv8An1tf%2B%2BG/%2BKo/4WHrX/Pra/8AfDf/ABVYNFd3s4djjuze/wCFh61/z62v/fDf/FUf8LD1r/n1tf8Avhv/AIqsGij2cOwXZ0j%2BO9YXT4rsW9tueaRCNjYwoQj%2BL/aNQ/8ACw9a/wCfW1/74b/4qsub/kC2/wD19Tf%2BgxVVpKnDsF2b3/Cw9a/59bX/AL4b/wCKo/4WHrX/AD62v/fDf/FVg0U/Zw7Bdm9/wsPWv%2BfW1/74b/4qprrx3rEEFvKtvbEzQl2yjcHey/3v9kVzdWtQ/wCPSx/69T/6NkpOnC%2BwXZqf8LD1r/n1tf8Avhv/AIqj/hYetf8APra/98N/8VWDRT9nDsF2b3/Cw9a/59bX/vhv/iqP%2BFh61/z62v8A3w3/AMVWDRR7OHYLs6S%2B8d6xazrElvbEGGN%2BUbqyKx/i96h/4WHrX/Pra/8AfDf/ABVZesf8faf9esH/AKKSqtJU4W2C7N7/AIWHrX/Pra/98N/8VR/wsPWv%2BfW1/wC%2BG/8Aiq88%2BI/xm%2BD/AMHbe1uvi58V/DXhaK%2Bd0sZPEeu29itwygFghmdQ5AIyBnGR61yv/Dbv7F//AEd38L//AAvtO/8Aj1c9TEYCjPlqVIRfZyin9zkn%2BB6%2BE4f4hx9BV8Lg61SD2lCjVnF20dpQpSi7PR2k7PR2Pbf%2BFh61/wA%2Btr/3w3/xVTaj471iz1Ce0jt7YrFMyKSjZIBI/vV4Z/w27%2Bxf/wBHd/C//wAL7Tv/AI9Xo%2Bl%2BM/B/xCtD4z8A%2BK9N1zR9QmkksNW0e%2Bjuba5Tew3Ryxko4yCMgnkGnSrYKvPlpTjJ%2BUov8pMzx2S55llJVMbhatKLdk6lKrBN72TnTgm7a2Tbt0Om/wCFh61/z62v/fDf/FUf8LD1r/n1tf8Avhv/AIqvBtE/bS%2BDGqfEjVPhXfNrtjq1l4zl8NWMU3hbUGXUbmK2t7iaSJ0gKeVGJ8tIW2KiGVmEZDUTftq/Ah4be7s/E80EZvo4r2LXNA1TT7iOCSxvbyO4igms98yPHY3BR8LE4hlCyF0Ebb8lLseZdnvP/Cw9a/59bX/vhv8A4qptO8d6xeahBaSW9sFlmVGIRsgEgf3q8g%2BGX7Sfwg%2BMLvF8PNb1K%2BeOS2DpL4a1C2IjuIXmt7jE8Cf6NKkblLn/AFLldoctgVh65%2B1RqPhH42HwvafDqG88NaH4u8O%2BH/EviF9bMVxa6jq88EVqkNp5DCeNWu7IyO00ZUXBKq%2BxhScKajewXZ7r/wALD1r/AJ9bX/vhv/iqP%2BFh61/z62v/AHw3/wAVXiXxx%2BO/jr4N67YXMfwlg1DwvLqOj2N/rs3iNYLhrnUdQWxjhs7RYZGuZI2eOSQSPANki%2BWZWDqvnPhn/goRDqvwr8TfFfV/D3geODQ7%2BPTrbRdM%2BJYutQS9n1UaZaJfxPZRLp0cszITIXk2KScNtNPlproGp9Z/8LD1r/n1tf8Avhv/AIqj/hYetf8APra/98N/8VXynqP7dmt2mr%2BCPDy%2BH/hhBP4x0zV7yHVdS%2BMiR6TN9jvrS0jjsruKwl%2B2PN9rDqpSF18tlK5FS%2BOf2/8AT/hzL4k1/wAUfDiMeG9HuvEdhplzaeIFfUr%2B%2B0WxmvbqN7JoVWCJ4ra4McvnPkCJmVBKppctLsGp9W2PjvWLqdont7YAQyPwjdVRmH8XtUP/AAsPWv8An1tf%2B%2BG/%2BKr5Z1v9v%2BX4f3tx4J8Y%2BE/Bel%2BNLfWG065tNT%2BJQt9Dt7eTSTfrdyanJZhkUoywqht9zTOgH7thLW14d/bDbxT8eLT4J6X4S0GGaOKyTXYb/wAd2sWp291cWAvmjtLNUYX8UMUtsZJY5lH7/KLIENHLTvsGp9Gf8LD1r/n1tf8Avhv/AIqj/hYetf8APra/98N/8VXynr3/AAUP8O6dceMRYeCbRbLQ9c0jS/DGs614kSxsdba8kuY5LuSZom%2ByWkLWd05mxL5kUPmIrB0DN8U/t/zeEfEXhHw3qnw%2B8PfaPE2m6XdwxQ/ECKV9W%2B26i9l5eieXbsusNEEW4k%2BaApDcW7MFLsqHLS7BqfV3/Cw9a/59bX/vhv8A4qprbx3rE8FxK1vbAwwh1wjcneq/3v8AaNfLPwr/AG4dX%2BLXjfxH4A8KfCWy1DVdGsdQni0nSvGEU19ZTW2oLZJbatFJDGulzTFjNGu%2BbdFBcMMmNQ%2B5on7YGvaj8HPhB8WdN%2BDMstl8XLTQ21Fjr0ax%2BHhqKW0qKWMe%2B7cNNtULGissUjM8Z2I4407bBqfQn/Cw9a/59bX/AL4b/wCKo/4WHrX/AD62v/fDf/FV84r%2B114pufGD6bpHwXF/o2o%2BItd8N%2BEL628SIt5q%2Bt6XBdSzWr28sSRW0btYX0aTGdubcFkQOCOOv/8AgopfWFnapceEvh5A8vjq58NzeIbz4rmLw2Gh0v7e8kWpnTiZWVs2zx%2BSu2ZWXeSpFPlpdg1Pr/8A4WHrX/Pra/8AfDf/ABVbPhLxFe699o%2B2RRL5Wzb5SkZzu65J9K8%2B0K9utS0Sz1G%2BS1We4tY5JlsLs3EAdlBIjlKIZEyeHKruGDtGcDsvht/y%2B/8AbP8A9mqakIKDaQ03c6iiiiuUoKKKKACiiigArmfEHjLVNJ1ebT7eC3ZI9u0ujZ5UHs3vXTVwfjP/AJGW5/4B/wCgLWtKKlLUT2LX/Cw9a/59bX/vhv8A4qj/AIWHrX/Pra/98N/8VWDRXR7OHYm7N7/hYetf8%2Btr/wB8N/8AFUf8LD1r/n1tf%2B%2BG/wDiqwaKPZw7BdnSaj471iz1Ce0jt7YrFMyKSjZIBI/vVD/wsPWv%2BfW1/wC%2BG/8Aiqy9c/5DV5/19Sf%2BhGqtJU4W2C7N7/hYetf8%2Btr/AN8N/wDFUf8ACw9a/wCfW1/74b/4qsGin7OHYLs6TTvHesXmoQWklvbBZZlRiEbIBIH96of%2BFh61/wA%2Btr/3w3/xVZeh/wDIas/%2BvqP/ANCFVaXs4X2C7N7/AIWHrX/Pra/98N/8VR/wsPWv%2BfW1/wC%2BG/8AiqwaKfs4dguze/4WHrX/AD62v/fDf/FVNY%2BO9Yup2ie3tgBDI/CN1VGYfxe1c3VrR/8Aj7f/AK9Z/wD0U9J04W2C7NT/AIWHrX/Pra/98N/8VR/wsPWv%2BfW1/wC%2BG/8AiqwaKfs4dguze/4WHrX/AD62v/fDf/FUf8LD1r/n1tf%2B%2BG/%2BKrBoo9nDsF2dJbeO9YnguJWt7YGGEOuEbk71X%2B9/tGof%2BFh61/z62v8A3w3/AMVWXp//AB6X3/XqP/RsdVaSpwvsF2b3/Cw9a/59bX/vhv8A4qj/AIWHrX/Pra/98N/8VWDRT9nDsF2b3/Cw9a/59bX/AL4b/wCKqZPHesNp8t2be23JNGgGxsYYOT/F/siuA174mfDfwtcG08T/ABB0TTpR1iv9Whhb8nYGqdv%2B0R%2Bz%2B%2Bmz2afHPwcZmuYisQ8TWm4gLJnjzM9x%2BdYzqYSDs5RT9V/mYyxWHg7SqRT85Jfqei/8LD1r/n1tf%2B%2BG/wDiqP8AhYetf8%2Btr/3w3/xVcBJ8W/hVFaG/l%2BJvh5YB1mbWoAn578Vz2pftbfsp6NKYdX/ab%2BHtq46pc%2BNLGMj8GlFKdbBU1704r1lFfnJEzxmFpq86sV6yivzkj2D/AIWHrX/Pra/98N/8VR/wsPWv%2BfW1/wC%2BG/8Aiq8H1P8Ab2/Yj0iIy3f7W3w5YDqLbxjZzH8o5GNcrq3/AAVZ/wCCeujMVvP2n9Dcr1%2ByW11OP/IUTZrmnmWTUvjr01/2/H/5I5KmdZRS%2BPE01/2/D/5Jn1Q/jvWF0%2BK7FvbbnmkQjY2MKEI/i/2jUP8AwsPWv%2BfW1/74b/4qvkq5/wCCzn/BNpNPis1/aMLvHcSM/l%2BENXYAFUA5Fpg9DVU/8Fif2FdR/c%2BCPHPiLxPc/wDPloPgfU5JfykgQfrXP/bnD/8A0E0//A0/wTb/AAMP9ZeH%2BmLpv0nF/grv8D6//wCFh61/z62v/fDf/FUf8LD1r/n1tf8Avhv/AIqvkBf%2BCoWlXQ87Rf2Ef2ldRtj/AKu8sfhSWikHqpa4B/Skb/gol8WvFDfY/hR/wTa%2BOF5d9Nni/Q4NBhz2/ezSOMe%2BKf8AbWTP4Z39IVH91qYv9Y8nfw1W/SFRv5Wpa/efYH/Cw9a/59bX/vhv/iqmuvHesQQW8q29sTNCXbKNwd7L/e/2RXxyv7RP/BUNh/aH/Dunw%2BIZOUsD8W7ITxj0Z9mwn6U3xB%2B13/wUesbK1/tX/gmto2jKluQt3qvxy0ny5B5jncAqAgZJGD6VLzjAR1dOov8AuFU/%2BR/yLhnmHqS5Y0qzb2SoVW390GfYX/Cw9a/59bX/AL4b/wCKo/4WHrX/AD62v/fDf/FV8D6//wAFB/2w/D4ZvEPw1%2BA2hAdV1n45WSlfrhhXBeJ/%2BCwvxy8Jhm1W4/Z%2BkC9Rpvj27vj/AOS0b5/CuSrxPklD%2BJzL1jb85L8j6HA5XxTmjSweT46rf%2BXBYl/j7JL8T9Nf%2BFh61/z62v8A3w3/AMVXTeH9Rn1bSIdQuFRXk3bggIHDEd/pX5D6d/wW/wD2iNXbHhb4F%2BEfEYJ%2BX%2BwY9cfd9N1mK/Sn9hf4w%2BN/j7%2Byv4V%2BLfxG%2BHkvhTWdXF6bzQZkmVrby72eFDiZEf50jWQZUcOMZGCdMDn%2BU5tUdPCttpX1i0rbb7ddrnXjch4nyiKlmmW4nCp6J16M6Sb7Lnd72u7cuyZ63RRRXpnnBRRRQAUUUUAFFFFABRRRQAUUUUAFFFFABRRRQAUUUUAFFFFABRRXif7Oa%2BKNM/aT%2BNvhrXPiLr%2BvWtvrWk3enxa3qHmx6etxZGRoLaNQscES/KoVFBbZucvIzuwB7ZXzF%2B1hq/8AZv7fP7P9nux/aHhXxxb49cJo8v8A7TrZ/Y70rX7r4heKPGPhL4i%2BMvEPw9bS7TTdP1rxp4hnv5PEWswT3P23VLRJDstbVg8USi3SG3maNmiiWJIpJeF/bpuXsf8Agor%2ByfPJOsVvcN44tJpXzgM%2Bl2zIOATy0Yrz8yn7OhCX/Tyl%2BNSK/U%2B24Bw6xWdV6T64TGv7sJVl/wC2nt1FWv7PtP8AoOWv/fEv/wARR/Z9p/0HLX/viX/4ivfuj4Uq0Va/s%2B0/6Dlr/wB8S/8AxFH9n2n/AEHLX/viX/4ii6AJv%2BQLb/8AX1N/6DFVWtOWxtTpECf2xbAC5lIbbLg/LHx9zP8A%2Buq39n2n/Qctf%2B%2BJf/iKSaAq0Va/s%2B0/6Dlr/wB8S/8AxFH9n2n/AEHLX/viX/4indAVatah/wAelj/16n/0bJR/Z9p/0HLX/viX/wCIqzfWNq1tZg6xbDFsQCVl%2Bb96/I%2BT8OfSk2roDMoq1/Z9p/0HLX/viX/4ij%2Bz7T/oOWv/AHxL/wDEU7oCrRVr%2Bz7T/oOWv/fEv/xFH9n2n/Qctf8AviX/AOIougDWP%2BPtP%2BvWD/0UlVa09VsbVrlS2sWy/wCjQjDLL/zyXnhO/Wq39n2n/Qctf%2B%2BJf/iKSasByHxH%2BDPwf%2BMVva2vxc%2BFHhrxTFYu72MfiPQre%2BW3ZgAxQTIwQkAZIxnA9K5X/hiL9i//AKNE%2BF//AIQOnf8Axmr/AO0d%2B1f%2BzX%2ByTYaVqf7QfxftfD8GtzSxaY/9jajd%2Bc8YUuMW1tIVwHX72M54zXlP/D4r/gmZ/wBHWWv/AIRmvf8AyBXj4zGcO0sQ44qdJT0vzcnN5X5k3tsaR47xGSL6nHNZ0FH7CxNSmlfX4I1oJX3%2BFX313PR/%2BGIv2L/%2BjRPhf/4QOnf/ABmvR9L8GeD/AIe2h8GeAfCmm6Ho%2BnzSR2Gk6PYx21tbJvY7Y4owEQZJOAByTXzj/wAPiv8AgmZ/0dZa/wDhGa9/8gV9CfDf4o/DL4/eDLP4xfCjxzban4e14y3Gl3zWV1AZUEjISY5YVdcMrDBUdPSrwGKyOtWawUqblbXk5L2v15Unb8AlxjX4jX1eeZSxPL73K686tunNyyqzS3teyetrnkMf7H%2Brp8Z9X%2BKC/FkwWd/rGqajYWNlopiu7KW/0u1sJSLozlWKG1WVCIlI3FTuwGrzHw3/AMEsLrQbsXEXxe8O2iTaVYW2ow6D8OhZLdT2mna1YJdsReuXlkXWXkleQyPI8Awyq21favEn7YHws8Mi9tbmx1ea/wBN1TXbTUNLit4lmtU0qDz5bqQySrGkEqSWZjcuP%2BQhbGQRAyGPzdv%2BCjHg/wAV6vol/wDD64tU0O4s9Yi13zYINSubXULXVPDtpDHHJZXptZYni1tnZo5pMfIc7o3hf03yEanqPwx%2BAOrfC/xzN4w0vxxbXMd54W8P6Fe2k%2BjsC0OmR3w8xHE/yNI92jcqwQQsuGLhkp65%2Bytf%2BLvjZ/wlNr8RY7Pw1rni3w94g8S%2BHW0XzLi71HSJ4JbWSG685RBGzWll5iGKQsLbCsm9qxfA/wC19e/E7476L4E8FfDnVf8AhGdU8Ia7q1pqt/bwJJq5stU0uxiuLNhc4W3K3lzIyzpHKVSJlUZCvb/aT/aE%2BJfwi8U6wvwtl8MzxeBPh1deOPEMOtWN1K%2BpwwSv5dhbNHJELaSRbe5zO4lVD5f7tgWwNx5Q1uWPGHwF%2BMviz41%2BHfi1dfFzwrNa%2BHNNSKy0HU/At1PFbXrPILm/tyupxiOeSB0gRpElMKrJsOJ5Vbm/Fv7EniP4kav/AG18Rvi3pV9Po9g9v4ONl4JjtVtn/trT9Yilv0W4KXxS50uzysa2ysvn8Ay7k7L9qn4j/Er4X/Cyb4p/DHxf4KtNP07R7m9u28S6bf3c%2BoXO2MWOnWtvA0JMtzI5jD72ZX8tFhmMvyeby/tXfGOz8TePrDxDq3h7RbvRY9STwX4Pvvh1rLTa1cW%2Bhx6gsKasJxaXEokM26CKMSNHbuQAAXA3ENTT1z9i74iax8P/ABD4IT436HGfHQ1xPHMknw%2BSSKZdTMaymwRrvfZOsceB5klzG7nzHjdq0NS/YvfV/i/cfFO78caNFJbW13/wjt5aeBbRdWtbmbTm0%2BOS7vXZhqMcEMtx5cUkI/12JGk2Cqfhb48fFrxT8HL7xXpfxg8IT63os9vN4nt/%2BFL%2BJo7zSbWW1Miomjee13evJKUCSo8cZj8xxv8ALIOB8Kv24PF3xM8d%2BFNF1LX/AAX4etbnRfDD%2BIba40rU7%2BK61HVrbzzb2%2Bp2u60tNm%2BFIRN5n2uRmjRl2hyXgGpt/D79ge58DX0XjfwV4u8F6T40tNWur%2B1u9O%2BGwg0OC2fSpLB7SPTI71WRWRnmLi53GZ2JzGTDVPw1/wAE7tE8I2Oh%2BCNE%2BI3/ABSdi3h651mzm0YjVL%2B80fT4bC3ljv4p0%2Byo8Ntbh0WJj8sgR4xIccboH/BQf4x6r4XhXRNS8G3fijVdL0O/udJ0rwbq2ozeD0vNWg0/UtO1C0guPOuryziug58owktGxMIUpv7rx/8Atg654f8Ah94Mk%2BGXizwv4013V/FGn2/inUovD2oaZa6Vpsmuw6XcNJZTyNPb3QllNukEsm7zYbhypEDxUk4XHqMtv%2BCdHgTwj4gvPE3wt8a6lps9u/h%2BXwnZ%2BINQ1HW7PR5dKafywYbu%2BPmxNHOYwitE0Sg%2BW6luKtn/AME%2BNT063udOsvjLai18RR2w8bI/hTL3Dxa/f65nTmF0BpwNxqVwgDi52RpBtIeMu0nxZ/bV8aeFPin4j0DwNoeg33hrT/Cl%2Bmg6reC5D6j4gt9U0zTnAK4Aso59SELnb5hltbgAqEUvc8UfHn4/eG/B/j86h4%2B%2BGWn3nww1uW21/wASX/h/UzbanG%2BlWV9Zx2tglz5iSyyXotyDcu2%2BEbI5DMqo7wFqaHw3/ZG8ffCzXLbxB4a%2BMWjSzeHvD%2Bq6N4LF94NkYW9vqGo217O%2BoFL5Dfyg2sao6G2wXldg7OaqaH%2Bx78eNJ/Z2%2BG/wM0j9oTwiv/Cr00dotUufhrdP/aKab9nitVMS6uvlEhGMjbmD7htEeOcnR/2zfiIfjXp3w98YReEtEutS8QWeiReAL6K7GtRtcaEmoLqTXKsyG0F2WsTttyA0bN5pceRW94Z%2BM37TN1bePvDdx4p%2BH95P4Nj0s654q8P%2BCdb1G1tJJUmlvNNg0%2B3me51G7t2jsslJIspqAYxh4WidNxsGotz%2Bxt4qm1%2BaWy%2BOcum6RZa5rviHwpbaX4fVL3R9c1W3uYp7v7RJNIk0aNfX8kcJhXBucM7hADZ039mn41aRqus/ECx%2BOPhf/hLfEGtx3mq3E3w4MmlPDHp62SIlo1/58cu1QxmF18w%2BRkKBVXjfhd%2B2H8UPGvjXwmvj3xd4R8JeH9Z8JeGL%2BW5bwHq%2BpQX2o6ldXsEtmupwXAtNPbdBbRxpOJCJbkJmVgFLfg1%2B3f4q8RT63e/EO20m5it/DovtL0jSPD9/Y3EuoSai1jbaZaXF07w60JpCiLfWoS2Vim4gSrtfNANT374MfDHS/gr8IfC3we0PUbi7s/Cvh6z0m1urrb5k0dvCkSuwUBQSEBwoAGcAAYFem/Db/l9/7Z/%2BzV47%2Byn498ZfF/4FaT48%2BKF1oFn4gnu9QtdUt9EjuRaLLbX9xbfuvMDOVIhByxyc5wvQez%2BALeKD7X5V9FNny8%2BUHGPvddyilUadPQFudHRRRXIWFFFMubm2sraS8vLhIYYULyyyuFVFAyWJPAAHOaAH0V5z4J/a0/Z%2B%2BIHg3XviDoHj0w6P4Z0dNX1u81nSLvTRb6a8Uk0d%2BFu4omktXjilZLhA0TiJ9rNsbFJ/2zv2fY/DUfiVvEGu5l1k6UmijwPq51c3gtfthj/swWv20YtiJ93k7fLIfO0g0Aep1wfjP/kZbn/gH/oC11nhLxZ4b8eeFNM8c%2BDdat9S0fWtPhv9K1G0fdFdW00ayRSoe6sjKwPcEVyfjP8A5GW5/wCAf%2BgLW1D4yZbGXRRRXUSFFFFAFrXP%2BQ1ef9fUn/oRqrVrXP8AkNXn/X1J/wChGqtJbIAooopgWtD/AOQ1Z/8AX1H/AOhCqtWtD/5DVn/19R/%2BhCqtLqAUV5x8Zf2vP2Yv2e1dfjJ8cvDuhXCDJ0%2B41BXuyPUW8e6Vh9FNeRf8PW/hJ4vby/2ffgN8WviWGP7q88K%2BBZxaY9WluDHtHvtrz8Rm%2BWYWp7OpWipfyp3l/wCAxUpfgeZic6ynCVPZ1a8VL%2BVPml/4DFSl%2BB9SVa0f/j7f/r1n/wDRT18pSftkft0%2BKEMHw3/4Jj6%2BjS8RXfivx3YaekWf43jILMB1Kg5PanaV%2Bzv/AMFIvjzdG6%2BOn7X2mfDbTnglc%2BG/hFpGZ9vlsQrX91mRGxwdgZTk47VzyziFVWw1GpUf%2BFwXzlU5V9yZz/23Cq7YWhUqP/A4R%2BcqnIvuUvQ%2Bnp54LWF7m5mSONFLPJIwCqB1JJ6CvLfHv7cv7HfwxuTY%2BN/2mPBdnchsPaLr8M0yH/ajiZmX8QK8xX/gkt%2BzBq5GofHHxr8RviQ8fzyTePPH93OpI5yRC0Qx7Hitaw8Lf8Eqf2bIjZLbfBTw3Mg2s2oXOm/a2HoXmYyt9Mmoq4vN4x5pxpUV3nUcv/SVBf8Akx24LBcZ5zV9ngcGm%2By9rWl/4DRp2/Et3P8AwVT/AOCfFpnzf2odBOP%2BeUNy/wD6DEay9U/4K%2Bf8E9rGE/2f8exql0SFg0/SfDuoTT3DnoiAQYJPuQPeq2uft9f8Eq/BETyzfFXwEfL/AIdH0I3bH6C3gfP4VQsP%2BClnwc1SQN%2Bz7%2ByR8WfGpP8Aqb7wz8OGhtcepmmMZQH1215084rRfL9doX7RjOb%2B6M5P8D66h4V%2BM2Jp%2B0%2BounD%2BapQnSj/4FiK1CH4/I0LD9uz9qn4qQXX/AAzF/wAE7PGV/YS24H9u/EbVbfw7CqeYmJUhl3yTITgDaQcHPaohov8AwV8%2BIXzah41%2BDHw8tX%2B4ul6de6texj/a84iEn6cVZtP2sf8AgoZ4xt7qP4Z/8E1p9Pt5bcA6l40%2BItlaeUPMTBa2RTIeccA96r/2N/wV98ecah4y%2BCfgK2f7p0rT7/VLyP6%2BdiFj9OKhVZV371TE1f8ABD2Ufyg7f9vM2/4hHnENc3zvD0e6eMoL/wAkwsMTP5c9/MB%2Bw7%2B1x4vO/wCLn/BTfx5cb/vxeC/D1loQUeitFvP49aP%2BHTPwF1zn4qfGL4u%2BOd3%2BtHiv4jXMok9c%2BSI6B%2Bwx%2B1Z4y/efGL/gpn8Qrkv9%2BLwRo1noCqPRTEHPHr1pR/wSX/Z21nn4n/E34reNyf8AWHxX8RbuXzPr5Xl0/wCznV/5gHL/AK%2B1r/euap%2BQf8Q58LMP/v2de2fVU8Ni63/k1etQg/nBfcRX3/BPr/glF8HbNk8WfC3wNpUcf%2Bsk8TeJZGI9y11cE/rXC%2BLbv/ggV4M0u4s9dj%2BEs0izJtOj27X7bcPuw1oJCedvQ16/4T/4JXf8E%2BvBjrLpP7MOhTsnT%2B1prm/B%2BouZZAfxr1/wX8BPgZ8P9DlTwH8GPCeiCO5hCDSfDttbbflk6eWgrVZPiGrRw2Gpr/A5/wDtsEbxyHwOwMbLD4rEelLBYeP4rEz/ADPgBPFP/BDbUbz7b8Pf2Y9W8Wvn5B4d8D6xMj/RZdin8q6HTfFH7HNzGLX4X/8ABE3x7rB/5Z3Gr/B%2B0toH/wC21w7fqK/QAAAYAwB0AoqocPVE781KP%2BHD0/8A25yHCp4RYR3w3DSm%2B9XFSf3qjhqaf3o%2BGNL034oyyC6%2BG/8AwQb8CafGfuXmr674espB9Yhb7/1rqtJf/gozGoj8HfsH/BHwsB9z7d4iEoT8LWMfpX17RXTDIeT/AJiJr/DGlD/0mkdVPirhnC/7pw3gIescRUfz5sRFP7l6HzINL/4LIappEEb6x%2BzpoFr58nlJY2ms3EqHbHnO/wCT0xj3qI/BH/gqnr/y6t%2B3B4H8Pg9W0H4ax3ZX6C5cZ/Gvqqb/AJAtv/19Tf8AoMVVa2WTUn8daq/%2B4sl/6SonT/xETGU/93y3AU/TBUpf%2BnZ1fxTPl8fsXftsaj8/iX/gqL4rlkb750vwFp1kp%2BiqTig/8E7viprnyeOP%2BCj/AMcLmM9V0PXoNMJ/GOJq%2BoKKf9hZa/iUn61Kr/8Acgf8RQ4xj/CnRp/4MJg4W9LYV2Pl/wD4dM/s9alz44%2BKXxY8Tk/fbX/iNdyF/r5eytK3/wCCPf8AwTq0dLW9P7PKXlxLAXmn1LxLqdwZG8xxkh7kr0A6Cvo6rWof8elj/wBep/8ARslH9gZImn9Wg/WPN/6U5Ez8VfEqUXFZxiIrtCo6a%2B6lGkvwPDvD/wDwTr/YW8NEHTv2UfA8m3p9v0GK7/8AR4eu98MfAn4IeCSp8GfBvwppBT7v9meHra3x9NiCuqortpYDAUP4VKEfSMV%2BUT53HcU8UZmmsZj69VP%2BetWkvulVa/ARVVVCqAABgAdq73wZ/wAi1bf8D/8AQ2rg67zwZ/yLVt/wP/0Nq1r/AAHiR3NSiiiuUoKKKKACiiigAooooAKKKKACiiigAooooAKKKKACiiigAooooAK4XQf2X/2afC3jS4%2BJHhj9njwLpviK7nae71%2Bw8JWcN7NKW3l3nSISMxb5iSc55613VFAHHfDD9nb9n74IzS3PwX%2BBfg7whJPbLbzyeF/DFpp7SQqcrGxgjXKjsp4FfNv/AAUzT%2By/2kf2XPFvTyPifeafv9PtViUx%2BOyvsOvkD/grso02y/Z78WDj%2Bz/2lPDccrf3YpUulc/oK8vOdMulLs4P7qlM/QPC/wB7jahS/wCfkMTD/wADwmLX6I9vooor6Q/OwooooAtTf8gW3/6%2Bpv8A0GKqtWpv%2BQLb/wDX1N/6DFVWkgCiiimAVa1D/j0sf%2BvU/wDo2SqtWtQ/49LH/r1P/o2Sk90BVooopgFFFFAFrWP%2BPtP%2BvWD/ANFJVWrWsf8AH2n/AF6wf%2BikqrSWwBRRRTAKta5/yGrz/r6k/wDQjVWrWuf8hq8/6%2BpP/QjS6geKfEL9iX4RfEjxl4z8dazqmuQX/jXRYNPvfsl1CI7J42t2N3bo8TATyfYtPWTzPMjdbCBTHgOHw2/4J5/DG98Uah4w8QfFLxvql9ql1NdXkl9e2OGuJptFmmlAjtF27n0Gz%2BQfIgeZUVAUCe%2B0UcqC7PIPh9%2Bxx4V%2BGfjiz8ceGfip4xD6TouoaRoGm3M9i9rpVheX9rey28K/ZNzAPaRxq0rSOI2ZdxIjZN34t/sseBvj/wCJbe48S%2BJte0uO%2B0ibw/4httEuII01vSLiRGmsbnzYZCI22sA8RilUSyBZF3mvQqtaH/yGrP8A6%2Bo//QhSaXKx9Tyn4q/s2t8VfE/hzxbcfGzxdo9z4Vvry80ePS7bSJIY5p0SNXMd3YTKXhjEiRSYEirczAs24Yh1v9ljS/FXi2HxN4t%2BM3jzUoLO5nvNM0ibV4IoNPvptPlsHvIJIYEuI5PJnnKoJvJjkmZ440Kps9Sop2Qjx%2BD9kC1g1Cbxev7QPxCPi6a7tpG8Z/atNF4YILeeCK0aBbIWckAW5nba9uzeZIZN25VKw6P%2Bw38KPDraFYeH/EniSz0fR/7FkvNAjvIGttZudJmWexurtnhaYzRzJHIWikiEhiQSB1ULXs1FFkFzy/w7%2ByXZWd/qmrL8eviJJrdzp0dtpfiObWLV73SLO3kluUtYWNtsmjZ2IkN0lw8yhRI77Fxz/iD/AIJ4/sueM/BkXhn4g/D2w8R6kNYj1O78Xa9o9hc6vdzDVDqciPM1vtWGWd5Q8MaJGI5pERUB4960f/j7f/r1n/8ART1VpWVx3PF/GH/BPz9lLxb4uuvHEHwl0fRNTvPD%2Bo6XPd%2BHNHtLKUteSwTPe%2BZHCJPtaPACku7jzJMht3EWqfsR6Hqd3p%2BuH47eOotatPFU3iS91vZo8sup6m1nDZRXE8M2nPbBoLaCOKHyoowgy3L/AD17bRT5UK55lqv7M9vr/jS18aeIPjR43vnsG%2B1adp1zeWZtbTU/7Paw/tGJBagpN5TyMIg32USyNKIA53VnfDz9jKDwH8NLX4e%2BH/2jviJFF4ckhvPD2oIdHiuLKYeZFMziLTljvDOt1K0v2tJy0m2UbZR5levVa0//AI9L7/r1H/o2Ok0rDPE7b9i7wVZ6PovhC2%2BJ/jUeG9KawmvPDEmp28lnq1zaXhvUubjfbmVJHuSJJRbyQpKVCupX5TF4T/YQ%2BBOiLa6d4zsp/G%2Bj6Too0fwx4e8b2djfWOhaeJUlFtbx/ZlLgGKAB5zLKFgQB%2BufZ6KfKhXZx3wJ%2BBHw3/Zx%2BHsfwx%2BFehw2Gkx6hd3ghitoYsyXE7zPkQoi4UvsX5chEQEnGa9Z%2BG3/AC%2B/9s//AGauXrqPht/y%2B/8AbP8A9mqKulNjW51FFFFcZYVz3xc8FXHxK%2BFHif4c2moizl1/w9e6bFdkE%2BQ08DxB%2BOeC2fwroaKAPlHwb8F/i94%2B03xwnxe/ZuvLG08SfAvS/Acnh2bxRYxpfXFlFqr3DG5tZpWgtpm1FIYJQhmTZLI8Ufyg4GlfD39tHwZofivxH4d8B/Ee81L4keKbCz1TUNR1zwzL4j0HRbTTBFJeIsd1b6cLqWbdbxCJnEaFbmRXkDRN9m0UAc78IfDGheCfhT4a8F%2BFvA9z4Z0zR9BtLHTfDl5LE8umW8MKxx2ztFLLGzRoqoSsjqdvDN1Ob4tvLeLxBcRyaVbyEbMu7SZPyL6OB%2BldpXB%2BM/8AkZbn/gH/AKAtbUdZClsVf7QtP%2BgHa/8Afcv/AMXR/aFp/wBAO1/77l/%2BLqrRXTZEFr%2B0LT/oB2v/AH3L/wDF0f2haf8AQDtf%2B%2B5f/i6q0UWQGnrF9apq90jaPbMRcuCzNLk/MeTh8VW/tC0/6Adr/wB9y/8AxdVvGms6P4dl1XXvEGq21jY2ck013e3k6xRQRqSWd3YgKoAySTgV8n%2BI/wBun4s/tK67dfDP/gnL8PYteSCY2%2BrfFjxLE8Hh/TG6N5GRvvZR6KNo%2BU4dTmuHF4/C4KMVUbcpfDFXcpekVr6vRLq0cGOzLC4CyqNuUvhjFc05f4YrX1btFdZI9/8Aj5%2B1J8Bv2YvB58b/ABt8SaRolmxK2kUskz3F5IP%2BWcEKOXlbkcKDjOTgc14Z/wANbftt/tLf6N%2ByX%2ByDaeC9Bn4Tx58YJZ7Yuh/jg06KQytkco7EocjIFdF8Af8Agn14B%2BG/jJfjh8b/ABXf/FH4nS4aXxj4pUMtkw52WNtzHaICTt25ZcnDAHbXvWpanpui6fNq2sahBaWttGZLi5uZRHHEgGSzMxAUD1NcfsMzxy5q8/Yw/li052/vTd1H0gtP5jihhs6zOS9rN0YvaELOo/8AFOzSb/lpxfbmbPmzTf2SP%2BCgHjzVrcfEn/gpTe6XDLOgNh4G8AWVl5RLDlbh2aQ/iO1QD/gmDpuuZPxL/bX%2BPviRHGJrO6%2BIbQ2rjuPKiiGAf96tLxF/wU6%2BGd544X4d/slfDvXvjZ4sguUDWPgyMLptu%2B75ftGoyDyYkJGN6719SKxh8Nf%2BCoP7QhEvxK%2BNHhb4L6HKcnRfAtj/AGpqzJ/clu5z5cT/AO3D6dK8qVPJKs3CjTniZLtOco385yqRp/JOXofoVLwYnQoxr8QVIYKnJXX1utV9rJPZxw0ZTxEk%2Bl6VKL6O2p6L8Nf2M/2Ev2WNOPijw98BvBmkva/PN4k8RSvc3CN1Lm6u5WZCTydrKPasr4h/8FVf2Evh5e/2FB8UdK8Saqx2W2keC7e61aad/wC4hti0efq4rntB/wCCT/7LU%2BqReJPjVeeMPilq8Z3LqXxE8WXN6Q3fEaFIyP8AZZWGK92%2BHnwe%2BE3wksP7L%2BFnwx8P%2BHLfbtaLQ9HhtQw9/LUbvqa9DD4bNIU%2BTD0qWHj2V5v7oqEL%2BrZ6uGy/wj4ep%2BzpPE4trpThSwdJ/Oft67XnyRfo9TwVf2wP25vjcwX9mn9gS38NabJzD4l%2BMurTaeMds2EEhuMd8hiKltP2dv8Agpb8U7pj8Sv26dA8E2zwSmfS/hp4HWTI8tiVS6vW81OMjIBPNfTFWtH/AOPt/wDr1n/9FPWzyd1FfE4ipN9lLkj/AOA07fjJnQ%2BP6eCfLk%2BVYTDJbSlS%2Bs1fV1MU6mvpRir7JHyzY/8ABKL9nXxDMt7%2B0L43%2BInxXuM7m/4Trx1ePEG/2Y7V4QqjsuSPrXofg79gX9hTwIir4e/Y8%2BH5ZB8suo6L9tkHuHuGds%2B%2Ba9ZoralkmT0Zc0aEL92lJ/fLmf4nDjvEfj/Mafsq2aV%2BT%2BSNSVOC9IUfYwXygvmZPhz4a/CDwdIkvhH4L%2BFdKaM5jbTdIWAr9NhGK6D%2B0LT/AKAdr/33L/8AF1Vor0YUqdNWgkl5aflY%2BRr4rE4qpz16kpy7yk5P75OT/E07G%2BtWtrwjR7YYtgSA0vzfvU4Pz/jx6VW/tC0/6Adr/wB9y/8AxdGn/wDHpff9eo/9Gx1VppK7MC1/aFp/0A7X/vuX/wCLo/tC0/6Adr/33L/8XVWinZAWv7QtP%2BgHa/8Afcv/AMXVmK%2BtTpE7/wBj2wAuYgV3S4Pyyc/fz/8ArrMq1D/yBbj/AK%2Bof/QZaTSAP7QtP%2BgHa/8Afcv/AMXR/aFp/wBAO1/77l/%2BLqrRTsgLX9oWn/QDtf8AvuX/AOLo/tC0/wCgHa/99y//ABdVaKLIDTlvrUaRA/8AY9sQbmUBd0uB8sfP38//AKqrf2haf9AO1/77l/8Ai6Jv%2BQLb/wDX1N/6DFVWkkgLX9oWn/QDtf8AvuX/AOLo/tC0/wCgHa/99y//ABdVaKdkBa/tC0/6Adr/AN9y/wDxdWb6%2BtVtrMnR7Y5tiQC0vy/vX4Hz/jz61mVa1D/j0sf%2BvU/%2BjZKTSugD%2B0LT/oB2v/fcv/xdH9oWn/QDtf8AvuX/AOLqrRTsgLX9oWn/AEA7X/vuX/4uu18JSJL4ft5I4EjB34RCcD529ST%2BtcBXeeDP%2BRatv%2BB/%2BhtWNZJRKjualFFFcxQUUUUAFFFFABRRRQAUUUUAFFFFABRRRQAUUUUAFFFFABRRRQAUUVl6J438F%2BJtZ1bw54b8X6XqGoaDcJb65YWOoRyzadK8YkSOdFYtCzIyuFcAlWBHBzQBqV8g/wDBan/Qf2XPCnirp/YXxg8N3%2B7%2B7tuWTP8A4/X094H%2BLHws%2BJtxqdp8NviV4f8AEMui3ZtdYi0PWYLtrCcEgxTCJ2MT5VhtbB%2BU8cV8y/8ABcy2mb/gm34y1W1XM2mapo15D9U1K3yfyJry88/5E%2BIfaDf3Wl/7aff%2BFTX/ABEvJ4PaeIpw/wDBjlT/APch7VRUdrcxXtrHeQNlJYw6H1BGRUlfSbn56007MKKKKBFqb/kC2/8A19Tf%2BgxVVq1N/wAgW3/6%2Bpv/AEGKqtJAFFFFMAq1qH/HpY/9ep/9GyVVq1qH/HpY/wDXqf8A0bJSe6Aq0UUUwCiiigC1rH/H2n/XrB/6KSqtWtY/4%2B0/69YP/RSVVpLYAooopgFWtc/5DV5/19Sf%2BhGqtWtc/wCQ1ef9fUn/AKEaXUCrRRRTAKtaH/yGrP8A6%2Bo//QhVWrWh/wDIas/%2BvqP/ANCFJ7MCrRRRTAKKKKALWj/8fb/9es//AKKeqtWtH/4%2B3/69Z/8A0U9VaXUAooopgFWtP/49L7/r1H/o2OqtWtP/AOPS%2B/69R/6NjpPYCrRRRTAK6j4bf8vv/bP/ANmrl66j4bf8vv8A2z/9mrOr/DY1udRRRRXGWFFFFABRRRQAVwfjP/kZbn/gH/oC13lcH4z/AORluf8AgH/oC1tQ%2BMmWxl0UUV1EhXmn7S/7WnwW/ZS8LReIPin4hf7bfv5Wh%2BHdMi%2B0alq8%2BQBFbwKdzksQNxwoLDLDIrB/bc/aku/2bvhzaab4A0Ya38Q/GN8NI%2BH3hxRua8vnwPNdc/6mIMHdjgfdUld2RlfstfsLeHvhFro%2BOnxs8R3Hj/4uanbq2seMtbYSizYr81vYRkBbaFcso2gMQSPlU7B5OKxmJq4h4TBpc6ScpP4YX203lJrVRulbWTSsn42Lx2Kq4p4PApc6Scpy1jTT20WsptaqN0ktZNJpPh4f2dv2iP2/vFA%2BI/7cdrc%2BDPh6t8brQvgjp14yy3OG3JJrE67WdhwfIXG04yEIYN9R6VpPg/4c%2BFI9K0XTtO0PQ9ItMRW9vFHbWtnAgycAYWNFAJ7AVn/tFfHL4Xfs6%2BFNa%2BKnxg8WW%2Bj6NYXEm%2BeY5eaQs22KJB80kjYOEUEnnsCR8u6d8Mfj9/wUrv4PFv7Qun6p8Pfgmsqz6N8OI5zDqvihAQyT6k6nMMJwCIFOT17LK3GnQyufsqEXWxM0m237zXecrWhBdEkl0hGTuz7rg/w/pVsJUzfMa/sMJF8tTE1FzTqSSv7KhDR1altqcOWlSTUqs4R1n0PjH/goT4g%2BLXia6%2BFH/BPj4Xn4k63bS%2BTqPjK8drfwxo7esl1wblh18uI/MOVZsYqPTf8AgnP4n%2BNeoQ%2BK/wBv39oDWPiROkgmi8F6S76X4ctHByAIISr3BU4xI5UkcMDX0p4M8E%2BDvhz4ZtPBngHwvYaNpNhEI7PTdMtEhhhX0VEAA9fc81qV0LKXinz5hP2j/lV1TX/bt/e9ZuX%2BFH01Tj2nkkXQ4Tw/1OO3t5ctTGT83WcbUb/yYaNNK9vay3dL4V%2BAPA3wyttM8H/DrwfpmhaVa3MYt9O0ixjt4U%2BYchEAGT3PU1dq1of/ACGrP/r6j/8AQhVWvXhGMEoxVklstEfntavWxNWVWtJynJttybbbe7bbbbfVttvuFFFFWZBVrR/%2BPt/%2BvWf/ANFPVWrWj/8AH2//AF6z/wDop6T2Aq0UUUwCiiigC1p//Hpff9eo/wDRsdVataf/AMel9/16j/0bHVWkt2AUUUUwCrUP/IFuP%2BvqH/0GWqtWof8AkC3H/X1D/wCgy0mBVooopgFFFFAFqb/kC2//AF9Tf%2BgxVVq1N/yBbf8A6%2Bpv/QYqq0kAUUUUwCrWof8AHpY/9ep/9GyVVq1qH/HpY/8AXqf/AEbJSe6Aq0UUUwCu88Gf8i1bf8D/APQ2rg67zwZ/yLVt/wAD/wDQ2rGv8A47mpRRRXKWFFFFABRRRQAUUUUAFFFFABRRRQAUUUUAFFFFABRRRQAUUUUAFfMnwK1jw7ov7S3xr8N%2BD/hx4u8OReJtQsX0bU3%2BF%2BsWOn3F4LZ0urkXL2aQMTcyM7S78SFmkBYEtX03RQB8p/sF%2BEvFln4m8Ky3Xww1/wALweDfgLoPhDxJHrehz2Kz6xbyuWghaVFF2lvtmP2iIvC32wFJGy%2BNX/gsHpUWs/8ABOX4nWckTOU0Pz02tjBikWXJ4OR8ntX0vXhv/BSjSP7c/YW%2BKemhNzP4E1do19XWwndf1UVx5jD2uXV4d4T/APSJH1PA2J%2Bp8b5XX/lxOHf/AJXo/wCZP8F9c0bX/g74T11rK6Y3vhmwuCwvF5326Nn/AFfvXS%2Bdov8A0D7r/wADF/8AjdeUfsWav/b37Hnwq1ctlp/h1orSH/b%2Bwwhv1Br02vTwcva4OnPvGL%2B%2BMX%2Bp5PEGG%2BpcQYzD/wAlatH/AMBq1Y/%2B2lrztF/6B91/4GL/APG6PO0X/oH3X/gYv/xuqtFdFjyDTll0j%2ByICbG52/aZcD7UuQdseedn0qt52i/9A%2B6/8DF/%2BN0Tf8gW3/6%2Bpv8A0GKqtJIC152i/wDQPuv/AAMX/wCN0edov/QPuv8AwMX/AON1Vop2Atedov8A0D7r/wADF/8AjdWb6XSBbWe%2BxuSDbHaBdKMDzX6/JzzmsyrWof8AHpY/9ep/9GyUmtUAedov/QPuv/Axf/jdHnaL/wBA%2B6/8DF/%2BN1Vop2Atedov/QPuv/Axf/jdHnaL/wBA%2B6/8DF/%2BN1VoosBp6rLpAuV8yxuSfs0PIulHHlLj%2BD0qt52i/wDQPuv/AAMX/wCN0ax/x9p/16wf%2BikqrSS0Atedov8A0D7r/wADF/8AjdHnaL/0D7r/AMDF/wDjdVaKdgLXnaL/ANA%2B6/8AAxf/AI3VnWJdIGr3Qlsbkt9pfcVulAJ3HtsOKzKta5/yGrz/AK%2BpP/QjStqAedov/QPuv/Axf/jdHnaL/wBA%2B6/8DF/%2BN1Vop2Atedov/QPuv/Axf/jdWdHl0g6vaiKxuQ32lNpa6UgHcOo2DNZlWtD/AOQ1Z/8AX1H/AOhCk1owDztF/wCgfdf%2BBi//ABujztF/6B91/wCBi/8AxuqtFOwFrztF/wCgfdf%2BBi//ABujztF/6B91/wCBi/8AxuqtFFgNPSpdINy3l2NyD9mm5a6U8eU2f4PSq3naL/0D7r/wMX/43Ro//H2//XrP/wCinqrStqBa87Rf%2Bgfdf%2BBi/wDxujztF/6B91/4GL/8bqrRTsBa87Rf%2Bgfdf%2BBi/wDxurNjLpBtrzZY3IAthuBulOR5qdPk45xWZVrT/wDj0vv%2BvUf%2BjY6TWgB52i/9A%2B6/8DF/%2BN0edov/AED7r/wMX/43VWinYC152i/9A%2B6/8DF/%2BN10fgB7J/tf2O3lj/1e7zZg%2BfvdMKMVyVdR8Nv%2BX3/tn/7NWdVe4xrc6iiiiuQsKq67rek%2BGdEvPEmvX8drY6fayXN7cynCwxRqWdz7BQSfpVqsX4k%2BCbD4mfDrX/hxqlzJDa%2BINFutNuZoh80cc8LRMw9wHJFAHmvhb9t34Zaz4A8W/EPxZ4P8UeE7bwb4Mt/F2p2XiKxg%2B0y6HPDcywXsSWs82RILO5URMVmV4irxoSuYJf22vD8UqeF/%2BFG%2BPG8atrD2DfDxI9LOqoFsRfG5L/bvsfkeQy/OLg5dhEB5mUHNeAP2avj7PD4pvPjDo3w7vrrX/hPp/gUWKX15e6dNFZRagRc3EL28LSJdS6gyyWoceVFCAs0rSErynw6/Yj%2BOvwp8fJ%2B0d4M0zwl/wmZ1aaOTwxq/xA1jUbL%2By30uG0VW1e6tZLuadZ4EmBeDaIiLcYCLLQB9Q/Djx/4X%2BK/w90L4o%2BB783Wi%2BJNHttU0m5aMoZba4iWWJircqSjqcHkdDXO%2BM/8AkZbn/gH/AKAtWv2dfhOfgP8AAPwX8FX1n%2B0pPCnhaw0mbURF5Yu5IIEjebZk7A7KW25OM47U3xbqVxb%2BILiGOO3IGzBe1jY/cXuVJNbUfiFLYw6wfif8TPBPwb%2BH%2BrfFH4j69FpmiaJZPdaheTHhEXsB1ZmOFVRyzMAASQK6g6zdAZMVqAOpNjF/8TXxleajef8ABUj9oVbXZFJ8AfhdrYaVo7ZFh8b69F/DwoEtlATyDlZCf4g4MfPmGNqYWEadKPNVnpBefWT7RitZP0S1kjyczx08JTjTormrVHaEel%2BspdoQXvSfpFayRs/sUfDfxp8f/iZe/wDBRL4/6FLZ6lrto1n8LPDN4Mnw7oJJ2ykdBcXAJdmHO1zg4k2r7T%2B03%2B0l8PP2VfhPe/Fb4hzySJEy2%2Bl6VaDddarevkRWsCdWkcj/AICAzHhTXY%2BP/in4a%2BE/gPVfiJ441Cw03RdC0%2BS71C6ksYgsUMaknAC8nAwFHJJAAyRXzB%2BzJ4F8e/tm/F/T/wBv79o3w6LHRrBG/wCFK%2BA7y2j2abaNyNWuYwNrXUwCshIOwbWBOIyvA/aZdSjgsL71epeTk%2Bl/iqz8r6Rj1ajBaRbX3nAfCOWUMvq5tnMpfUaEr1Gny1MTXkuZUKb1tKpa85pONCgnLf2UZ3vg9%2Byt8VP2gfinb/tdft92kEmuwTtceCPhdG/mab4RRm3BpVPFxe9NzsMKw9VQR/UNaesardR6vdRrFbELcuBus4ifvHqSuTVb%2B2Lv/nja/wDgDF/8TXp4HA0sDS5Yat6yk3eUn3k/yWiS0SSRhxJxNmPE%2BMjVxHLCnTXJSpQXLSo073UKcL6LrKTvOpK86k5zk2qtFWv7Yu/%2BeNr/AOAMX/xNH9sXf/PG1/8AAGL/AOJrt1PnQ0P/AJDVn/19R/8AoQqrWno%2Bq3Umr2sbRWwDXKA7bOIH7w7hciq39sXf/PG1/wDAGL/4mlrcCrRVr%2B2Lv/nja/8AgDF/8TR/bF3/AM8bX/wBi/8AiaeoFWrWj/8AH2//AF6z/wDop6P7Yu/%2BeNr/AOAMX/xNWdK1W6kuWVorb/j2mPFnEOkTHstJ3sBmUVa/ti7/AOeNr/4Axf8AxNH9sXf/ADxtf/AGL/4mnqBVoq1/bF3/AM8bX/wBi/8AiaP7Yu/%2BeNr/AOAMX/xNGoBp/wDx6X3/AF6j/wBGx1VrTsdVumtrxjFbfLbAjFnEP%2BWqDn5eeveq39sXf/PG1/8AAGL/AOJpK92BVoq1/bF3/wA8bX/wBi/%2BJo/ti7/542v/AIAxf/E09QKtWof%2BQLcf9fUP/oMtH9sXf/PG1/8AAGL/AOJqzFqt0dInk8q2yLmID/Q4scrJ2247f5zSdwMyirX9sXf/ADxtf/AGL/4mj%2B2Lv/nja/8AgDF/8TT1Aq0Va/ti7/542v8A4Axf/E0f2xd/88bX/wAAYv8A4mjUAm/5Atv/ANfU3/oMVVa05dVuhpEEnlW2Tcyg/wChxY4WPttx3/ziq39sXf8Azxtf/AGL/wCJpK4FWirX9sXf/PG1/wDAGL/4mj%2B2Lv8A542v/gDF/wDE09QKtWtQ/wCPSx/69T/6Nko/ti7/AOeNr/4Axf8AxNWb7VbpbazYRW3zWxJzZxH/AJauOPl46dqTvdAZlFWv7Yu/%2BeNr/wCAMX/xNH9sXf8Azxtf/AGL/wCJp6gVa7zwZ/yLVt/wP/0Nq43%2B2Lv/AJ42v/gDF/8AE12vhKZ7jw/bzSBATvyEQKPvt2AAFY1r8pUdzRooormKCiiigAooooAKKKKACiiigAooooAKKKKACiiigAooooAKKKKACiiigArzX9rzSP7f/Zy8X6Ft3fbfDuoW%2B3132cy/1r0qua%2BLFhFqvhKTS5/uXLmJ8%2BjRuD/Ok4e0i4d0196a/U6sDiHg8dSxC%2BxOEv8AwGUZf%2B2nzB/wTM1f%2B2v2CPhZebs7PCkNvn/rkzRf%2ByV7pXzN/wAEer%2BW9/4J2fD6C54msv7UtZl/umPVLtQP%2B%2BQtfTNRkk/aZLhpd6cP/SV/kfUeJeHWE8Rs5or7OLxC/wDK1R/%2B3BRRRXqHxJam/wCQLb/9fU3/AKDFVWrU3/IFt/8Ar6m/9BiqrSQBRRRTAKtah/x6WP8A16n/ANGyVVq1qH/HpY/9ep/9GyUnugKtFFFMAooooAtax/x9p/16wf8AopKq1a1j/j7T/r1g/wDRSVVpLYAooopgFWtc/wCQ1ef9fUn/AKEaq1a1z/kNXn/X1J/6EaXUCrRRRTAKtaH/AMhqz/6%2Bo/8A0IVVq1of/Ias/wDr6j/9CFJ7MCrRRRTAKKKKALWj/wDH2/8A16z/APop6q1a0f8A4%2B3/AOvWf/0U9VaXUAooopgFWtP/AOPS%2B/69R/6NjqrVrT/%2BPS%2B/69R/6NjpPYCrRRRTAK6j4bf8vv8A2z/9mrl66j4bf8vv/bP/ANmrOr/DY1udRRRRXGWFFFFABRRRQAVwfjP/AJGW5/4B/wCgLXeVwfjP/kZbn/gH/oC1tQ%2BMmWx8%2Bf8ABRj4y3/wQ/Y78ZeJPD7Odc1SwGieHYof9bJfXrC2j8sd2XzGkA/6Zmu0/Zh%2BC%2Bnfs7/s%2BeD/AIK6bHGB4e0G3tbp4hgTXO3dPL/wOVpH/wCBV4h%2B1N/xfr9vr4M/szQnztL8HLcfETxXCOQDbk2%2BnZ7f8fDPkH%2BFwa9a/bN/aCt/2YP2avFPxiVVl1CwsDDoNqV3G51GYiK2jC9W/eupIHO1WPavLhXpLHYrHVXaFGPIn6LnqP73GPyscPDmV43ibi14fBx5qkpU8NTXecpRcvRc04JvooSb0TPFf2jrif8Abr/amsv2K/D07v8AD3wFNba38Yr2Fj5d9cA77PRtw67ivmSD0XqGjwfre3t7e0t0tbWBIookCRxxqFVFAwAAOAAO1eP/ALCv7OLfs1fs%2B6b4c8Qu9z4t1x21rx3qtw%2B%2Ba91e5Aednf8Ai2k%2BWD3CA9Sc%2Bx105Vh6sYSxWIVqtWza/lX2Yf8AbqeveTk%2Bx%2BjccZtgauIpZLlUr4LBKVOnLb2tRv8AfYlrvWnH3L35aEKMP5r2tc/5DV5/19Sf%2BhGqtWtc/wCQ1ef9fUn/AKEaq16i2R8KFFFFMC1of/Ias/8Ar6j/APQhVWrWh/8AIas/%2BvqP/wBCFVaXUAooopgFWtH/AOPt/wDr1n/9FPVWrWj/APH2/wD16z/%2BinpPYCrRRRTAKKKKALWn/wDHpff9eo/9Gx1Vq1p//Hpff9eo/wDRsdVaS3YBRRRTAKtQ/wDIFuP%2BvqH/ANBlqrVqH/kC3H/X1D/6DLSYFWiiimAUUUUAWpv%2BQLb/APX1N/6DFVWrU3/IFt/%2Bvqb/ANBiqrSQBRRRTAKtah/x6WP/AF6n/wBGyVVq1qH/AB6WP/Xqf/RslJ7oCrRRRTAK7zwZ/wAi1bf8D/8AQ2rg67zwZ/yLVt/wP/0Nqxr/AADjualFFFcpYUUUUAFFFFABRRRQAUUUUAFFFFABRRRQAUUUUAFFFFABRRRQAVwvw/8A2lPgx8UfGWoeAfBPi2W51LTkundZ9Iu7aG6S2uPs1zJazzRJFeJDORFI8DyLG7KrEFlz3VfKn7P/AMFvj54E8e%2BBNL8QfCu7s7H4a%2BEPEvhqLxCdSsJodafUdRsZba9jjW584QLBp%2B%2BdZUSXzZ0WNJArOAD3D4OftLfBj4%2BXFxbfC3xRc3z2%2BnW2oqLzQ72xF1Y3JkFveW5uoYxdW0hik2Tw74m28MeK3fiH/wAgWL/r6X/0Fq%2BdP%2BCeP7OHxS%2BB2tz3XjP4eax4egT4caDomqjX/E0GqfbdXtJLtp5NN8q4m%2Bw6YBMPKtVFtEm8bLWDDbvo/wAdzRwaRG8trHMDcgbZCwA%2BVuflINXT%2BNCex8U/8EkP9B/Zd1Xwt0/sL4keIbDb/d23rvj/AMfr6gr5m/4Je3lvpen/AB18Jy6Vbv8A2X%2B0Z4njhVmk%2BWFjbumMOOOT/jX1H/aFp/0A7X/vuX/4uuTIG1k1Bdk1/wCAynH9D77xV97xFzKp/PUjP/wZSw9T/wByFWirX9oWn/QDtf8AvuX/AOLo/tC0/wCgHa/99y//ABdevd9j8%2BCb/kC2/wD19Tf%2BgxVVrTlvrUaRA/8AY9sQbmUBd0uB8sfP38//AKqrf2haf9AO1/77l/8Ai6Sb7AVaKtf2haf9AO1/77l/%2BLo/tC0/6Adr/wB9y/8AxdO77AVatah/x6WP/Xqf/RslH9oWn/QDtf8AvuX/AOLqzfX1qttZk6PbHNsSAWl%2BX96/A%2Bf8efWk27rQDMoq1/aFp/0A7X/vuX/4uj%2B0LT/oB2v/AH3L/wDF07vsBVoq1/aFp/0A7X/vuX/4uj%2B0LT/oB2v/AH3L/wDF0XfYA1j/AI%2B0/wCvWD/0UlVa09VvrVblQ2j2zf6NCcs0v/PJeOH7dKrf2haf9AO1/wC%2B5f8A4ukm7bAVaKtf2haf9AO1/wC%2B5f8A4uj%2B0LT/AKAdr/33L/8AF07vsBVq1rn/ACGrz/r6k/8AQjR/aFp/0A7X/vuX/wCLqzrF9apq90jaPbMRcuCzNLk/MeTh8Uru%2BwGZRVr%2B0LT/AKAdr/33L/8AF0f2haf9AO1/77l/%2BLp3fYCrVrQ/%2BQ1Z/wDX1H/6EKP7QtP%2BgHa/99y//F1Z0e%2BtX1e1RdHtlJuUAZWlyPmHPL4pNuz0AzKKtf2haf8AQDtf%2B%2B5f/i6P7QtP%2BgHa/wDfcv8A8XTu%2BwFWirX9oWn/AEA7X/vuX/4uj%2B0LT/oB2v8A33L/APF0XfYA0f8A4%2B3/AOvWf/0U9Va09KvrVrlguj2y/wCjTHIaX/nk3HL9%2BlVv7QtP%2BgHa/wDfcv8A8XSu77AVaKtf2haf9AO1/wC%2B5f8A4uj%2B0LT/AKAdr/33L/8AF07vsBVq1p//AB6X3/XqP/RsdH9oWn/QDtf%2B%2B5f/AIurNjfWrW14Ro9sMWwJAaX5v3qcH5/x49KTbtsBmUVa/tC0/wCgHa/99y//ABdH9oWn/QDtf%2B%2B5f/i6d32Aq11Hw2/5ff8Atn/7NWD/AGhaf9AO1/77l/8Ai66PwBcRT/a/KsYoceXnyi5z97ruY1nVb5GNbnR0UUVyFhRRWb4z8WaN4B8H6t468RzNHp2i6ZPf38iLuKwwxtI5A7kKp4oA0qK8E8L/ALZvi%2BTwL421/wCIfwGm0/W/Cfw1s/HNn4b0DXTqcup6ddRXrQ26ubeHZeCSwmjeJVkRS0ZWSQNx59ff8FUtLsvATeND4d%2BHbWaeJrnSF8YD4tD/AIRC5MOlxahtg1j%2Bz/3twwlaFYPs4zLBMu/KYIB9eVwfjP8A5GW5/wCAf%2BgLXS/D/wAVyeO/AeieOJfD99pLazpFtfNpWpxbLmyM0SyeTMv8MibtrDswNeY/tTeMv%2BFc/Djxz8QfN2f2F4WvdQ35xt8mzaTP/jtXGpGlGU5bJN/cr/oZVqkaNKVSW0U2/RJt/kfNf/BPfPxp%2BMfxo/bQu/3tt4p8X/8ACO%2BEZm5B0fS18lZY/RZZCWI/vRmovj5/xlN/wUC8Cfs22/7/AMMfCi3Xxv44Qcxyaifk0y1f/aXcZipBDI59K6P/AIJ422j/AAK/4JqeAdc8Qt9nsNO8Dya/fSYxthm82%2Bd/%2B%2BZCaof8Eu/B%2Bt6n8G9Z/ap8fQAeKfjN4gm8R6hnk29juaOxtVPeNIRuX0EuO1fPYenKvg8Jg5b1P31T0uptf9vVJQj6RPr/AAspy4f4OxfE9TSrGmqVLv8AWcbGbnNf9ecO600%2Bkp0%2Btj6aooor64%2BRLWuf8hq8/wCvqT/0I1Vq1rn/ACGrz/r6k/8AQjVWktkAUUUUwLWh/wDIas/%2BvqP/ANCFVataH/yGrP8A6%2Bo//QhVWl1AKKKKYBVrR/8Aj7f/AK9Z/wD0U9VataP/AMfb/wDXrP8A%2BinpPYCrRRRTAKKKKALWn/8AHpff9eo/9Gx1Vq1p/wDx6X3/AF6j/wBGx1VpLdgFFFFMAq1D/wAgW4/6%2Bof/AEGWqtWof%2BQLcf8AX1D/AOgy0mBVooopgFFFFAFqb/kC2/8A19Tf%2BgxVVq1N/wAgW3/6%2Bpv/AEGKqtJAFFFFMAq1qH/HpY/9ep/9GyVVq1qH/HpY/wDXqf8A0bJSe6Aq0UUUwCu88Gf8i1bf8D/9DauDrvPBn/ItW3/A/wD0Nqxr/AOO5qUUUVylhRRRQAUUUUAFFFFABRRRQAUUUUAFFFFABRRRQAUUUUAFFFFABRRRQAVg/EP/AJAsX/X0v/oLVvV4Z%2B0T8cdU8EftQfCr4HNLCNM8d6F4mndGjHmG9sBp0kJVuwEM13le%2BVP8NTKtToOMp7NpfOTsvxMMRiKeGpqU9m4x%2Bcnyr8WeBfsDf8Sr9oX9pfwr08n4sLf7f%2Bvq0R8/jtr6gr5f/ZO/4lP/AAUQ/aj8OnhJbnwjfwD183S5N5/76Ar6grHItMv5e06q%2B6rP/M/RPE73uK1W/wCfmHwU/wDwLBYb/wCRCiiivYPz4tTf8gW3/wCvqb/0GKqtWpv%2BQLb/APX1N/6DFVWkgCiiimAVa1D/AI9LH/r1P/o2SqtWtQ/49LH/AK9T/wCjZKT3QFWiiimAUUUUAWtY/wCPtP8Ar1g/9FJVWrWsf8faf9esH/opKq0lsAUUUUwCrWuf8hq8/wCvqT/0I1Vq1rn/ACGrz/r6k/8AQjS6gVaKKKYBVrQ/%2BQ1Z/wDX1H/6EKq1a0P/AJDVn/19R/8AoQpPZgVaKKKYBRRRQBa0f/j7f/r1n/8ART1Vq1o//H2//XrP/wCinqrS6gFFFFMAq1p//Hpff9eo/wDRsdVataf/AMel9/16j/0bHSewFWiiimAV1Hw2/wCX3/tn/wCzVy9dR8Nv%2BX3/ALZ/%2BzVnV/hsa3OoooorjLCs3xl4T0bx74Q1XwN4jgaXTta02ewv4lbaXhmjaNwD2JVjzWlRQB85Wn7C3jLWfBHjDwf8T/jzb6zL4w%2BGlt4FudTsPCZs5YNLtYbxbaQK13KjXJkvriSdyvlzDy0WKJVO6Gb9hv4nyeO7r43J8dvDY8dX99dNeTP8OnfQzaz6Za6eyJpzaj5gnCWkR89rlshnjKGMhB9J0UAc78Ifhxpfwc%2BE/hf4RaJqN1eWXhXw7ZaPZ3d9JvnnitoEhR5GHVyqAk9yTXzV/wAFgPiDqXgT9hn4sXUGpTol1oEWmrCkpw32yWG1Kgd8iY8fWvreviH/AILGf8VD4M8CfCFfmPjr4z%2BGtGliH8UJkMzk/wCyPKXP4VwZtJwynEW3cGl6ytFfjI8biKcqeRYnl3cHFesrQX4zRh/t9av4q%2BEf/BOTSP2b/COpzx6x4tttC%2BHuh2wmbazziOCSPaDyDBFMuPevp34f6Kvw18B6J8OvDOoXMOm6BpFtp2nxLMwCQQRLEgwDgYVRXzN%2B0D/xej/gpT8HvgrH%2B90/4faDqHjvXYhyplYi0sc9gyTZcDrhvxr6mq8upwqZhiKqXuw5aUfSCvL/AMmkl/26fqvEMI5NwNkuTw0dSNTFzX/X2SoUE/Shh215VNNy1/bmtf8AQYuv/Ahv8aP7c1r/AKDF1/4EN/jVWivbsux%2BfmnrGsavFq91FFqtyqrcuFVZ2AA3HjrVb%2B3Na/6DF1/4EN/jRrn/ACGrz/r6k/8AQjVWkkrLQC1/bmtf9Bi6/wDAhv8AGj%2B3Na/6DF1/4EN/jVWinZdgNPR9Y1eXV7WKXVblla5QMrTsQRuHB5qt/bmtf9Bi6/8AAhv8aND/AOQ1Z/8AX1H/AOhCqtKyvsBa/tzWv%2Bgxdf8AgQ3%2BNH9ua1/0GLr/AMCG/wAaq0U7LsBa/tzWv%2Bgxdf8AgQ3%2BNWdK1jV5Lllk1W5YC2mOGnY8iJiD19azKtaP/wAfb/8AXrP/AOinpNK2wB/bmtf9Bi6/8CG/xo/tzWv%2Bgxdf%2BBDf41Vop2XYC1/bmtf9Bi6/8CG/xo/tzWv%2Bgxdf%2BBDf41VoosuwGnY6xq7214z6rckrbAqTO3B81Bkc%2BhP51W/tzWv%2Bgxdf%2BBDf40af/wAel9/16j/0bHVWkkrvQC1/bmtf9Bi6/wDAhv8AGj%2B3Na/6DF1/4EN/jVWinZdgLX9ua1/0GLr/AMCG/wAasxaxq50ieU6rc7hcxAN57ZAKyZHX2H5VmVah/wCQLcf9fUP/AKDLSaXYA/tzWv8AoMXX/gQ3%2BNH9ua1/0GLr/wACG/xqrRTsuwFr%2B3Na/wCgxdf%2BBDf40f25rX/QYuv/AAIb/GqtFFl2A05dY1caRBKNVudxuZQW89skBY8Dr7n86rf25rX/AEGLr/wIb/Gib/kC2/8A19Tf%2BgxVVpJLsBa/tzWv%2Bgxdf%2BBDf40f25rX/QYuv/Ahv8aq0U7LsBa/tzWv%2Bgxdf%2BBDf41ZvtY1dLazZNVuQWtiWInbk%2Ba4yefQD8qzKtah/wAelj/16n/0bJSaV1oAf25rX/QYuv8AwIb/ABo/tzWv%2Bgxdf%2BBDf41Vop2XYC1/bmtf9Bi6/wDAhv8AGu18JTz3Ph%2B3muJnkdt%2B53Ykn527muArvPBn/ItW3/A//Q2rGskolR3NSiiiuYoKKKKACiiigAooooAKKKKACiiigAooooAKKKKACiiigAooooAKKzfGfizRvAPg/VvHXiOZo9O0XTJ7%2B/kRdxWGGNpHIHchVPFeK%2BGf23LvTvAnjfxl8dPhSPC8vgv4aWnj2aw0nXf7Ta40e5ivXRNzQQbbtWsJ0eEB0BaPbK4fgA98r46/4KqQ/wDCC/E79m/9otPlHhz4vJoN5MP%2BWNprFu0Ezk/3R5KA/UV9Afs0/G3Wfjv4KvfFOtaN4WtZLTVGs1fwd46h8Q2MuIYnYfaYooikqPI0TxNGCrR5BdWVj47/AMFnfBd74w/4J5%2BNrnR9y6h4fNprunzoPmheynW4Zx9I0kH415ucRlLLKso7xXOvWDU1/wCkv7zxuIYSlkteUVrBc69abjNf%2BkP7zzb4Q/8AEn/4KvfGDTun9sfDjw/f4/veUzwZ/XFfUFfH%2BpeN7Xw3/wAFAvgx%2B0paOF0H44fC5/D00mcxw3SBNRtWz6yCQRKO%2BD9a%2BwK6MlnFwrwXSpN/KfLUi/mpXP1Tj2UcXDKMypu9OvgcNZ93RVShNesZU4r0cX1QUUUV7R8AWpv%2BQLb/APX1N/6DFVWrU3/IFt/%2Bvqb/ANBiqrSQBRRRTAKtah/x6WP/AF6n/wBGyVVq1qH/AB6WP/Xqf/RslJ7oCrRRRTAKKKKALWsf8faf9esH/opKq1a1j/j7T/r1g/8ARSVVpLYAooopgFWtc/5DV5/19Sf%2BhGqtWtc/5DV5/wBfUn/oRpdQKtFFFMAq1of/ACGrP/r6j/8AQhVWrWh/8hqz/wCvqP8A9CFJ7MCrRRRTAKKKKALWj/8AH2//AF6z/wDop6q1a0f/AI%2B3/wCvWf8A9FPVWl1AKKKKYBVrT/8Aj0vv%2BvUf%2BjY6q1a0/wD49L7/AK9R/wCjY6T2Aq0UUUwCuo%2BG3/L7/wBs/wD2auXrqPht/wAvv/bP/wBmrOr/AA2NbnUUUUVxlhRRRQAUUUUAFfEP7fX/ABWH/BQ39m74XL88Uev614ivF7R/YtOQwsfq7sB719vV8GfHvxFHP/wVz1LxHKQ1n8NP2eLrVHZukd3PdYI9swrmvMzWS9hCD2lUpr5KXO/wgePnNKeKp4fCwV5Va1GCXe9RO3/kq%2B8Z%2Bwp/xdz9pr4/ftTz/vba88YxeD/Dsp6Cz0qIJK8Z/uSyuHz3KmvqavnL/gkt4abw1/wT8%2BHn2hSbnU7S71K7mbl5nuL2eUOx7nayjPoBX0bXZkUWsppTl8U1zv1m3N/dzJfI/UvFCtTlx5jsNSf7vDSWGh/gw0Y4eP3%2BynL1m/VlFFFeufAlrXP%2BQ1ef9fUn/oRqrVrXP%2BQ1ef8AX1J/6Eaq0lsgCiiimBa0P/kNWf8A19R/%2BhCqtWtD/wCQ1Z/9fUf/AKEKq0uoBRRRTAKtaP8A8fb/APXrP/6KeqtWtH/4%2B3/69Z//AEU9J7AVaKKKYBRRRQBa0/8A49L7/r1H/o2OqtWtP/49L7/r1H/o2OqtJbsAooopgFWof%2BQLcf8AX1D/AOgy1Vq1D/yBbj/r6h/9BlpMCrRRRTAKKKKALU3/ACBbf/r6m/8AQYqq1am/5Atv/wBfU3/oMVVaSAKKKKYBVrUP%2BPSx/wCvU/8Ao2SqtWtQ/wCPSx/69T/6NkpPdAVaKKKYBXeeDP8AkWrb/gf/AKG1cHXeeDP%2BRatv%2BB/%2BhtWNf4Bx3NSiiiuUsKKKKACiiigAooooAKKKKACiiigAooooAKKKKACiiigAooooAzfGXhPRvHvhDVfA3iOBpdO1rTZ7C/iVtpeGaNo3APYlWPNeFaN%2Bwx4g1bwj4v8AB3xo%2BMlp4mg8Z/DO38A6pcWfhU2Mq6NbwXkcLLuuplF0Xv7iSWXbskIiCxRBPm%2Bh6KAPNvgF8DfE3wr1nxZ428e%2BOtO17xB4vv7SfUZ9E8OtpVlElrZxWsKpbtcXDb9seWcyndlQAqoqjS/aL8Iw/EP4Oa98OruYpb%2BItLutLuuThori3liYH1GG6V29YPxD/wCQLF/19L/6C1NQjUfJJXT0fo01%2BpFSEalNwkrppp%2BjVn%2BDPy7g1Hxx8TP%2BCLvgj4m6LcT/APCX/AvVINW06FpWzaT6JeyQspIPygWgZsD0FfoL8P8A4oj4leA9E%2BIvhrXrqTTte0m31Gwk%2B0t80M0SyIev91hXy3%2Bwl4e0ix8bftLfsn%2BI7RZbCx%2BJl3fmxfouna1aiVIgP7u1Xx/vGtf/AIJV%2BItXsP2e9U/Z58W3bS638I/GOpeFbxpOGlgimMltKB/cMUgVT3EdfP5JJ0K1FS/5eU3B/wCOhJx%2B9w/I%2Bq4cnLO/BenTk71csr8r7%2BxxF6UvlHE4aL8nW8z6k/tzWv8AoMXX/gQ3%2BNH9ua1/0GLr/wACG/xqrRX11l2PlDTl1jVxpEEo1W53G5lBbz2yQFjwOvufzqt/bmtf9Bi6/wDAhv8AGib/AJAtv/19Tf8AoMVVaSS7AWv7c1r/AKDF1/4EN/jR/bmtf9Bi6/8AAhv8aq0U7LsBa/tzWv8AoMXX/gQ3%2BNWb7WNXS2s2TVbkFrYliJ25PmuMnn0A/KsyrWof8elj/wBep/8ARslJpXWgB/bmtf8AQYuv/Ahv8aP7c1r/AKDF1/4EN/jVWinZdgLX9ua1/wBBi6/8CG/xo/tzWv8AoMXX/gQ3%2BNVaKLLsBp6rrGrx3KrHqtyoNtCcCdhyYlJPX1qt/bmtf9Bi6/8AAhv8aNY/4%2B0/69YP/RSVVpJK2wFr%2B3Na/wCgxdf%2BBDf40f25rX/QYuv/AAIb/GqtFOy7AWv7c1r/AKDF1/4EN/jVnWNY1eLV7qKLVblVW5cKqzsABuPHWsyrWuf8hq8/6%2BpP/QjSsr7AH9ua1/0GLr/wIb/Gj%2B3Na/6DF1/4EN/jVWinZdgLX9ua1/0GLr/wIb/GrOj6xq8ur2sUuq3LK1ygZWnYgjcODzWZVrQ/%2BQ1Z/wDX1H/6EKTSs9AD%2B3Na/wCgxdf%2BBDf40f25rX/QYuv/AAIb/GqtFOy7AWv7c1r/AKDF1/4EN/jR/bmtf9Bi6/8AAhv8aq0UWXYDT0rWNXkuWWTVblgLaY4adjyImIPX1qt/bmtf9Bi6/wDAhv8AGjR/%2BPt/%2BvWf/wBFPVWlZX2Atf25rX/QYuv/AAIb/Gj%2B3Na/6DF1/wCBDf41Vop2XYC1/bmtf9Bi6/8AAhv8as2Osau9teM%2Bq3JK2wKkztwfNQZHPoT%2BdZlWtP8A%2BPS%2B/wCvUf8Ao2Ok0rbAH9ua1/0GLr/wIb/Gj%2B3Na/6DF1/4EN/jVWinZdgLX9ua1/0GLr/wIb/Guj8AX17e/a/tl5LLt8vb5shbGd3TNclXUfDb/l9/7Z/%2BzVnVS5GNbnUUUUVyFhWJ8SvG9j8M/hzr/wASNTtZJ7bw/ol3qVxDEcNIkELSso9yEIFbdVdc0XSvEmi3nh3XbGO6sb%2B1ktry2lGVmidSrofYqSD9aAPnHSP2sPj14U%2BHnxFvPidpHg3UfEfhf4M2Pj/RV0pZdMsG%2B1Q6l/xL7iS5uJceVLp%2BDdbo1dJwfLi2HPAr/wAFGfi3Nbr4LivdFi1i48W3dlbeI774ReIYWWwttFtdQleTw5551KKXzbuOIF5FUwh7kAooD%2BzaH%2Bwd8OtP8I%2BIvBXiP4l%2BM/ENp4n8Hw%2BFdUk1q9szOdGt4Z47S0SWC1jZfIN1cyJLnzmkmZpZJcKFkH7EegLdz%2BL1%2BOfjxfG1xq5v5fiEsmljVMGxWxNsIxYfYxB5KL8ot871Em7eA1AHqvw/8TQ%2BNfAeieMrfUtNvI9W0i2vUvNGujPZziWJXEkEhAMkTbsoxALKQcDNfnH8bfEFzd/F79vL42QRyNb6H4F07wxplyqEiKVdGlWUE9sTuhxX6M/DX4feFvhJ8OtA%2BFXgawa10TwzolrpOj2rSlzDa20KwxIWblsIijJ5OK/K39oC31XQ/wBiD9rjxFIS%2Bp%2BM/wBo/V9MsGPHmQprNrZon4LHMK%2Be4gnKFKLX2Y1pf%2BA0ZJfjPTzPV4Qy/wDtfxQ4cwLXuzxlNvtaLg9fLVv5M%2B3P2NPh9rHg79kb4YeGRotyGs/AOkJLi3bmT7HEXPTuxJ/GvSv7D1r/AKA91/4Dt/hWV4f0e28PaDZaBZjENjaR28Qx/CihR%2Bgq3X1WGpOhhoUl9mKX3JL9DnzjHPNM4xONe9WpUn/4HUnP/wBvLX9h61/0B7r/AMB2/wAKP7D1r/oD3X/gO3%2BFVaK21PONPWNH1eXV7qWLSrlla5cqywMQRuPPSq39h61/0B7r/wAB2/wo1z/kNXn/AF9Sf%2BhGqtJXsgLX9h61/wBAe6/8B2/wo/sPWv8AoD3X/gO3%2BFVaKeoGno%2Bj6vFq9rLLpVyqrcoWZoGAA3Dk8VW/sPWv%2BgPdf%2BA7f4UaH/yGrP8A6%2Bo//QhVWlrcC1/Yetf9Ae6/8B2/wo/sPWv%2BgPdf%2BA7f4VVop6gWv7D1r/oD3X/gO3%2BFWdK0fV47lmk0q5UG2mGWgYcmJgB09azKtaP/AMfb/wDXrP8A%2BinpO9gD%2Bw9a/wCgPdf%2BA7f4Uf2HrX/QHuv/AAHb/CqtFPUC1/Yetf8AQHuv/Adv8KP7D1r/AKA91/4Dt/hVWijUDTsdH1dLa8V9KuQWtgFBgbk%2BahwOPQH8qrf2HrX/AEB7r/wHb/CjT/8Aj0vv%2BvUf%2BjY6q0le7Atf2HrX/QHuv/Adv8KP7D1r/oD3X/gO3%2BFVaKeoFr%2Bw9a/6A91/4Dt/hVmLR9XGkTxHSrncbmIhfIbJAWTJ6e4/OsyrUP8AyBbj/r6h/wDQZaTuAf2HrX/QHuv/AAHb/Cj%2Bw9a/6A91/wCA7f4VVop6gWv7D1r/AKA91/4Dt/hR/Yetf9Ae6/8AAdv8Kq0Uagacuj6udIgiGlXO4XMpK%2BQ2QCseD09j%2BVVv7D1r/oD3X/gO3%2BFE3/IFt/8Ar6m/9BiqrSVwLX9h61/0B7r/AMB2/wAKP7D1r/oD3X/gO3%2BFVaKeoFr%2Bw9a/6A91/wCA7f4VZvtH1d7azVNKuSVtiGAgbg%2Ba5wePQj86zKtah/x6WP8A16n/ANGyUne6AP7D1r/oD3X/AIDt/hR/Yetf9Ae6/wDAdv8ACqtFPUC1/Yetf9Ae6/8AAdv8K7XwlBPbeH7eG4heN137kdSCPnbsa4Cu88Gf8i1bf8D/APQ2rGtflKjualFFFcxQUUUUAFFFFABRRRQAUUUUAFFFFABRRRQAUUUUAFFFFABRRRQAUUUUAFYPxD/5AsX/AF9L/wCgtW9WD8Q/%2BQLF/wBfS/8AoLVdP40J7HxB4p1E/sz/APBUOz8a%2BIYvJ8MfHXwvb6HHqIOEh1%2BwJ8iKXsPMgYIndnbA4Umq/jnVZf2J/wBv%2BT4t%2BIIlj%2BHXx3Sx0nWNTB2x6N4ito2jtnl7LHPHld3HzbmYgJk%2Bv/tp/s32/wC1N%2Bz3rPwytrv7HrcWzUfCeqq%2B19P1W3Je2mVhynzfIxHOyRsVwnwW8QeDP%2BClf7D934H%2BNWi%2BTq00M3h/x5phjCz6VrdqQryKv/LN1kCToOcblBzgivBr4WtTxc8PTdpczrUW9ubapB%2BTv68s7/ZO7w/z3BcL8TYjLczi5YHHQnGol8ShOUHUcOntKFWNPE00/iSnB6SbX0jRXzX%2BwV8ffFwk1f8AYy/aN1iP/hZ3w3YWpuJnwfEekgD7LqUO45kzHtEnUhsFsFyB9KV9BgcZSx%2BGjWhpfRp7xktHF9mndP79mjt4l4exvC%2Bc1MvxDUrWlCcfgq05Lmp1ab6wqQcZRfS7i7ShJK1N/wAgW3/6%2Bpv/AEGKqtWpv%2BQLb/8AX1N/6DFVWupHghRRRTAKtah/x6WP/Xqf/RslVatah/x6WP8A16n/ANGyUnugKtFFFMAooooAtax/x9p/16wf%2BikqrVrWP%2BPtP%2BvWD/0UlVaS2AKKKKYBVrXP%2BQ1ef9fUn/oRqrVrXP8AkNXn/X1J/wChGl1Aq0UUUwCrWh/8hqz/AOvqP/0IVVq1of8AyGrP/r6j/wDQhSezAq0UUUwCiiigC1o//H2//XrP/wCinqrVrR/%2BPt/%2BvWf/ANFPVWl1AKKKKYBVrT/%2BPS%2B/69R/6NjqrVrT/wDj0vv%2BvUf%2BjY6T2Aq0UUUwCuo%2BG3/L7/2z/wDZq5euo%2BG3/L7/ANs//Zqzq/w2NbnUUUUVxlhRRRQAUUUUAFfB3/BVLwT4T8OeGvhz8IfBmgwWMHjf9orRDf29uuBNLdXM17dztnqWmLOx9W4wAAPvGviL/god/wAVJ%2B3T%2BzT8OPvC48a6prTJ/wBg/TVlDfh5leZnEYyy%2BcbaycY/%2BBVKaf3o%2B%2B8MIxhxzhsU1/AhiK1%2B3ssLiZ/LVQfyR9G0UUV9GfnoUUUUAWtc/wCQ1ef9fUn/AKEaq1a1z/kNXn/X1J/6Eaq0lsgCiiimBa0P/kNWf/X1H/6EKq1a0P8A5DVn/wBfUf8A6EKq0uoBRRRTAKtaP/x9v/16z/8Aop6q1a0f/j7f/r1n/wDRT0nsBVooopgFFFFAFrT/APj0vv8Ar1H/AKNjqrVrT/8Aj0vv%2BvUf%2BjY6q0luwCiiimAVah/5Atx/19Q/%2Bgy1Vq1D/wAgW4/6%2Bof/AEGWkwKtFFFMAooooAtTf8gW3/6%2Bpv8A0GKqtWpv%2BQLb/wDX1N/6DFVWkgCiiimAVa1D/j0sf%2BvU/wDo2SqtWtQ/49LH/r1P/o2Sk90BVooopgFd54M/5Fq2/wCB/wDobVwdd54M/wCRatv%2BB/8AobVjX%2BAcdzUooorlLCiiigAooooAKKKKACiiigAooooAKKKKACiiigAooooAKKKKAOe%2BLvjW5%2BGvwn8T/EWy04Xk2geHb3UorQ5/ftBA8oTjnkrjj1rwX4T/ALR3iv4OR%2BMLr9pH4x3HifRfDvwd8PePL3XLjS7O3ktHvG1NLq2iS0iiVoCbCNoFcPLl5FaWT5SPpi5tre8t5LS7gSWKVCksUihldSMEEHggjjFcH8JP2Yfgv8Dbo3nwx8P6jYSGCK3LXHibULv/AEaFDHBbYuJ3H2eFWcQwf6qHzHMaoXYkA82/4J4/tJ%2BJP2jNF%2BI114z%2BLPhbxPqGieP/ACrW38KajaXVtpFjcaZYXUVks1sSLhYpZrmH7Q2TK0Mh4A2L7d47tpLrSI44mjBFyD%2B8lVB91u7ECneF/AXhPwXqWu6v4a0n7NceJdY/tTW5PPkf7Td/ZoLbzMOxCfubaBdq4X5M4yWJh%2BIf/IFi/wCvpf8A0Fqun8aE9jl/7Hu/%2Be1r/wCB0X/xVfIv7QfgL4rfsJ/HHXv23fg74eXxF4A8UiB/jD4L02aN7u1aIFRrNmqt8zKpJlTHPzMxwS8X1hSMqupR1BBGCCOCKWOwX12mkpcs4u8ZLeMtr%2BaadpJ6NNrs15uYYCOOpJKThOL5oSW8ZWte2zTTalF6Si2uzXhHxj/Zz%2BD/APwUD%2BF3hv46/B34kW2l%2BI7OAX/w9%2BJWgX0a3VhJyfLkG4M8W7cskD4KneMK2awPgJ%2B2/q/hzxvF%2By5%2B3TZ6f4H%2BJlu3k2GrSzrHoniqMYC3NndMRErtkZiYghjgANmNMfxb%2Byd8f/2T/Gur/GH/AIJ96hp11omr3hvvEvwW1xxDp93MR882nTf8uczAfcOI84z8qpGNDw7%2B0t%2Bxf%2B3poFz%2Bzz%2B0H4Pt9E8ULJ5OqfDf4hQC01G1ucY3WzttLtySskLB9pyQucV8%2B6lali%2BZtUcS9GpX9lWts0/5uz0qR%2BGUZxSPseHfEHL6mX0%2BG%2BMaMpUot%2BxnBpVKLbvJ4apP3J05v3p4Sq4q/vQdOpec/rKXS7k6RBGJbbIuZTn7ZFjlY%2B%2B7Hb/Oarf2Pd/89rX/AMDov/iq%2BSYf2ef27v2OdIiX9lL4o2XxP8B29zL9k%2BG3xEufK1CxjCpmKy1IcEY2qqzYRFXABOSdXwZ/wVJ%2BA0OtReA/2k/D3iH4O%2BKWO19K8eaa8NtIw6tDeqphkj54kYoD6V6lPOaNN8mMToy/vfC3/dqL3H83F%2BR9DiPDnNMZTlieHascxorX9xf20V/09wsrV4NdXGNan2qWsfUP9j3f/Pa1/wDA6L/4qj%2Bx7v8A57Wv/gdF/wDFVj%2BG/FHhrxlo0PiLwh4isdV0%2B5Xdb3%2Bm3aTwyj1V0JVh9DV6vYT5ldO6Pz%2BpTqUajhUi4yTs00001ummk012aT8i1/Y93/z2tf8AwOi/%2BKqzfaVdNbWaiW2%2BW2IObyIf8tXPHzc9e1ZlWtQ/49LH/r1P/o2Sh3uiA/se7/57Wv8A4HRf/FUf2Pd/89rX/wADov8A4qqtFPUC1/Y93/z2tf8AwOi/%2BKo/se7/AOe1r/4HRf8AxVVaKNQNPVdKupLlWWW2/wCPaEfNeRDpEo7tVb%2Bx7v8A57Wv/gdF/wDFUax/x9p/16wf%2BikqrSV7AWv7Hu/%2Be1r/AOB0X/xVH9j3f/Pa1/8AA6L/AOKqrRT1Atf2Pd/89rX/AMDov/iqs6xpV1Jq91IstsA1y5G68iB%2B8eoLZFZlWtc/5DV5/wBfUn/oRpa3AP7Hu/8Anta/%2BB0X/wAVR/Y93/z2tf8AwOi/%2BKqrRT1Atf2Pd/8APa1/8Dov/iqs6PpV1Hq9rI0tsQtyhO28iJ%2B8OwbJrMq1of8AyGrP/r6j/wDQhSd7MA/se7/57Wv/AIHRf/FUf2Pd/wDPa1/8Dov/AIqqtFPUC1/Y93/z2tf/AAOi/wDiqP7Hu/8Anta/%2BB0X/wAVVWijUDT0rSrqO5Zmltv%2BPaYcXkR6xMOzVW/se7/57Wv/AIHRf/FUaP8A8fb/APXrP/6KeqtLW4Fr%2Bx7v/nta/wDgdF/8VR/Y93/z2tf/AAOi/wDiqq0U9QLX9j3f/Pa1/wDA6L/4qrNjpV0tteKZbb5rYAYvIj/y1Q8/Nx071mVa0/8A49L7/r1H/o2Ok72AP7Hu/wDnta/%2BB0X/AMVR/Y93/wA9rX/wOi/%2BKqrRT1Atf2Pd/wDPa1/8Dov/AIquj8AWctp9r814ju8vHlTo/wDe67ScVyVdR8Nv%2BX3/ALZ/%2BzVnVvyMa3OoooorkLCiiue%2BLvjW5%2BGvwn8T/EWy04Xk2geHb3UorQ5/ftBA8oTjnkrjj1oA6Givki0%2BPvx5%2BGfwy%2BKVt4m%2BNkHiDVtE%2BAOleOtD8R67olvHFp%2Bp3kWrI0JisIE8y0EthC8SFJZiGlUvL8tedfFD9v8A%2BLXwX%2BBnxG8EeM/itP4T%2BIf9pXUPgub4sf2FBquj2cWh2t9Nc3A0/Gm3UhkkaO1jh80tJcQLKp2TKgB9%2BV8RftCf8VV/wWO%2BG2g/e/4RX4V6xrW3%2B59peOz3fjjFfX3wq8XWPj/4ZeHvG%2Bm69a6pBq2i2t3HqVjMkkNyJIlbzEaP5SpJyCvHpXyNpFnL4z/4LM/E3XY2iP8Awinwd0bRt0k6Ls%2B1XP2zb8xHXbnFebmPvSw9P%2BarD/yXmn/7aj7/AIA/cvNsX/z6wGKt61FRoL7/AGskfRFFfPfxJ/4KpfsFfCLx9q/ww%2BIXx5Ww1zQb%2BSy1WyXwzqk4hnQ4ZfMitmR8HurEHsaxP%2BHzH/BNn/o4/wD8s/WP/kOuyefZHTk4yxVNNaNc8dGvmc9Dwu8S8VQhWo5Ji5QmlKMlh6rTi0mmmoWaaaaa0aafU%2Bn6K%2Be/ht/wVS/YK%2BLvj7SPhh8Pfjyt/rmvX8dlpVk3hnVIBNO5wq%2BZLbKiZPdmAHc16T%2B1x438ffBf9mjxr8U/h3aaRda3oehTXOnRajqaJCJBgbmKBydoJYLt%2BYqFJUEsOvDY/BY2Dnh6sZpbuLTs/kfP55w1xHwzXhRzjB1cNOa5oxq05U3JXtdKaTavpdaX0PRdc/5DV5/19Sf%2BhGqtfP8A44/bW%2BJOhr4g1C4%2BCOhteWnxBvPDOmabb%2BML28n1Ge1gmnu5kgstKnufKTbGqkQtnc7SeSqAvz3g39vTxn8RdTto/hP8I4dYk8SWsGoaRbeI/GkGnw2lu3hrTdZ2s0NnK6kre%2BXg%2BafNGdyo22LoU42R4tmfUNFedXXxr1y6/ZS1T9qHR/DNitp/wr0%2BKdAsJNWWSaeI6YLxY5kAXy33kx7VZ8gBsgttXA/Z4134xwfEPxL8JPHHxLj8ZXFh8PvDfiay1bUEsLRhcai%2BqQS2w%2ByRxp5AfTVdMq0gE7BnfCmnzILHt2h/8hqz/wCvqP8A9CFVa%2BVPgF8V/wBpzxzqtz8MPE3xB8Z2XiaDwfomvaotz4R0jT9Tt9Vaa6W/0fShfRw2k0bNAiwTzC4jwsp8%2BbO%2BLmtA/aX/AGkNb8Aa/wCObn4qfZrn4YeEbDVdX0f%2Bz9PD63dv4g1mwurG/wB0PyTRR6R9nY2RiT7S0zoXjEQqedXCx9oUV8k2X7X3jr4S6bpPxw%2BMXxGh1Dw74w0LxNfReG7ptOtIdHuLPVrS0062huAiMgk%2B1rBNJdSOvmskgaFAy16p%2BwJ8VPFHx1%2BBd54k8X/F7wt4y1nTvGuvaXqOr%2BGtQs/sgEGpTpBHEIWwIxb%2BSYy2XeIxuzOX3tSnFsLM9iq1o/8Ax9v/ANes/wD6Kej%2Bx7v/AJ7Wv/gdF/8AFVZ0rSrqO5Zmltv%2BPaYcXkR6xMOzUNqwjMoq1/Y93/z2tf8AwOi/%2BKo/se7/AOe1r/4HRf8AxVO6Aq0Va/se7/57Wv8A4HRf/FUf2Pd/89rX/wADov8A4qi6ANP/AOPS%2B/69R/6NjqrWnY6VdLbXimW2%2Ba2AGLyI/wDLVDz83HTvVb%2Bx7v8A57Wv/gdF/wDFUk1dgVaKtf2Pd/8APa1/8Dov/iqP7Hu/%2Be1r/wCB0X/xVO6Aq1ah/wCQLcf9fUP/AKDLR/Y93/z2tf8AwOi/%2BKqzFpV0NInj822ybmIj/TIscLJ33Y7/AOcUm0BmUVa/se7/AOe1r/4HRf8AxVH9j3f/AD2tf/A6L/4qndAVaKtf2Pd/89rX/wADov8A4qj%2Bx7v/AJ7Wv/gdF/8AFUXQBN/yBbf/AK%2Bpv/QYqq1py6VdHSII/Ntsi5lJ/wBMixysffdjt/nNVv7Hu/8Anta/%2BB0X/wAVSTQFWirX9j3f/Pa1/wDA6L/4qj%2Bx7v8A57Wv/gdF/wDFU7oCrVrUP%2BPSx/69T/6Nko/se7/57Wv/AIHRf/FVZvtKumtrNRLbfLbEHN5EP%2BWrnj5uevak2roDMoq1/Y93/wA9rX/wOi/%2BKo/se7/57Wv/AIHRf/FU7oCrXeeDP%2BRatv8Agf8A6G1cb/Y93/z2tf8AwOi/%2BKrtfCUL2/h%2B3hkKEjfko4YffbuCQaxrNOJUdzRooormKCiiigAooooAKKKKACiiigAooooAKKKKACiiigAooooAKKKKACiiigArB%2BIf/IFi/wCvpf8A0Fq3qwfiH/yBYv8Ar6X/ANBarp/GhPY42iiiu0gK8%2B%2BPP7K37PX7TWjf2J8cfhTpOvKkZS3vJ4dl3bD/AKZXEZWWLnn5WAPfNeg0VlWo0cRTdOrFSi900mn8ncyr0KGJpOlWgpRe6aTT%2BTTR8tj9i/8AbJ/Z/wBKif8AZA/bSub7RIriUWfgX4t2H9p2kWFjOxL6PFxFGMgBFHAHUnmsnxZ%2B01%2B01omhTeD/ANs//gmff%2BKtGPF5qPw9ktvEVndDu4sJf3iKOeHJOK%2BxJv8AkC2//X1N/wCgxVVryXk0acWsNWnTX8t1OHpyVOay8lJLyPMo5VVwFWNXLcTUoSi7rllzRTW1lNtxt05Zxt0sfmzY3H/BILX/ABNNefCr47eNv2fPF0jhrq302/1DQHifsJY50e2C9iqFRjPSvXvA1l%2B3TawLP%2BzR/wAFD/hV8YdPUbrax8YabEJNn903OmSM8jf7TY96%2BsvF3gHwL8QLD%2ByvHngrSdbtcEfZtX02K5j5/wBmRSK8V8b/APBLP9gHx7M1zqv7M2hWUxbcsugST6YUbsVFpJGBj6Yry3kWOoO9DkXnCVSg/ui6lP8A8kPvafib4oRpqnmNXDZlBaJYuiqkrLoqk4zqLTtX9LI5wftWf8FBPh3%2B6%2BL3/BO%2BXWreP/Wav8O/GttdiT12WkoE35mrN3/wVr%2BAGgW9pF8afhN8V/hy0MBWd/GXw9uoo1PmOSQ0Hm7l5647VX/4dYeBfDvzfCP9qr44eCwn%2BptdE%2BIcjWy%2BxjmR9w9s1YvP2NP27fC1taN8Pf8AgqH4gaL7OTHa%2BKvh9p2p5XzHG0yMyt1Gc4zzS/4yfDv3eaXr7Gp%2BP7mX6lf675Bif%2BRlwoovrLB4ydP7oVvbQ%2BWi8jqvB3/BSj9g3x0EOh/tT%2BEYd/3Rq%2Bof2efyuhGR%2BNeo%2BFvit8LvHIVvBPxJ0DWA/wBw6VrEFxu%2Bnlsc18l%2BMP2Ov2%2Bte3nxHcfsz/EEnq/jj4ZSRtJ7kwK2D9K8v8Vf8E7fjlqJY%2BK/%2BCb37P2tHPzHwZ4y1XRt3%2B7%2B8TbT/tjiCj/Ew3N/25UX/pMqiD%2B2PCjEfHQzXCvzpYXExXzhUoyf3I/SOivy%2BH7H37Rng4bfDv7AfxR8Nxp9248AftQQDZ/uxzo7fmaP7J/bf8G/8g3T/wBsaw2dBceINN8RhfzWPdR/rRiKf8XCTXpzf%2B3UkK3hdW/h57VpeVfLcZD75UnWj9yZ%2Bpesf8faf9esH/opKq1%2BYd3%2B0p/wUU8KzDf8SP2k4USKMeX4k/ZX06ePAQY/fxXW4jGOccjB71F/w8k/bs8Mf8fvja2l29f%2BEs%2BBmrWf/fX2Utj8KS4yy%2BC/eUqkfkn%2BqD%2By%2BC6v8DibAv8Ax/XKP3%2B1wKS%2B9%2Bp%2BoNFfmAP%2BC0/7Snh1c%2BLtR%2BDEoXqI/Dniy0Yj38y2YA1csP8Agvf41hx9p%2BFXw/1b/rw8YXllu/8AAqzGPxqlxxw9e0pyXrF/o2OPDuW1XahnmWVPTMMPH/07Gj%2Bh%2BmdWtc/5DV5/19Sf%2BhGvzg0r/gvoZgDrP7Lelwju1r8X9Nkz74eJK6Kf/gvx8IZr%2Be81z4EarbiSZnK2PjHSLnGSTxidc1vHjHhuTv8AWEvWMl%2BhouD8wm7UsVg6n%2BDMMBL8sWj7zor4Us/%2BDgX9kN5hbaj8L/iLFIf%2Bfaw064Ufil7/AErodM/4Ln/sXaiAZdC%2BIFsD/wA9vCwbH/fuZq3hxXw3PbFQ%2B9//ACJrLgLitK6oRl/hxGDl/wCk42X5H2VVrQ/%2BQ1Z/9fUf/oQr5Fs/%2BC037CE4BvPF3iSz9ftPg%2B94/wC%2BEatnQP8Agsz/AME3xq1rJeftDNa7LhGcXPhLVlwAwJ/5dSK3/wBYchktMVT/APA0vzsSuAeNZfBl9WX%2BGMZ/%2BkVJn0vRXzvZf8FY/wDgnlf48j9pzSFz/wA99OvYv/Q4BWtZ/wDBS/8AYJvseR%2B1R4SXP/Pa%2BMf/AKGoraOdZPPbE0//AAOP/wAkJ8A8dL/mVYn5UKr/AChI9yoryGz/AG/v2IL7Hk/tZ/D5c/8APbxXax/%2BhuK1LT9s39j%2B/wAfYf2rfhtNntH4509v5TVvHMcultWg/wDt%2BH/yRyVeEOLqP8TLcQvXD1//AJSeqaP/AMfb/wDXrP8A%2BinqrXI%2BH/2nP2bLy6Y2n7QngeXNtMB5fiyzbJMTY6SVYtfjT8HL3H2L4s%2BGZs9PK163b%2BT1pHFYWT0qRf8A29H/AOSOCpkmdUf4mFqx9aVRfnTR01FZVr468EXuPsfjHSps9PK1CJv5NWhb39jd/wDHpexS/wDXOQN/KtlOEtmmcNTD16Xxwa9U1%2BaRLVrT/wDj0vv%2BvUf%2BjY6q1a0//j0vv%2BvUf%2BjY6b2MirRRRTAK6j4bf8vv/bP/ANmrl66j4bf8vv8A2z/9mrOr/DY1udRRRRXGWFMuba3vLeS0u4ElilQpLFIoZXUjBBB4II4xT6KAPLfC/wCxh%2Bzf4Q8Nar4O0jwHdSaXrekHSdWsNS8R6hexXOneQ8CWLLcTv/o0cckixQf6uHzXMaoXYnX8Nfs1/B3wp4F8SfDrTvD9/c6d4wjlTxPLq/iK/wBQvNSWS2W1YS3l1PJcNiBFjX958iqAu3Fd3RQBBpmm2Wj6bb6RpsPl29rAkNvHuJ2ooCqMkknAA5PNfE/7L8g8U/t/ftU/Ef7yyeKtA0OJ%2By/YNNMbqPxYZ96%2B36%2BJ/wBgDRbm21/9oHxNfktLqv7SXivy5COsME6QIv0BjYV5%2BIi55phI9E5y%2B6nZf%2BlH3nDNSGH4Nz%2Btf3pU8LSXpUxalL8KCPoiivnn4i/8FB/%2BFd%2BO9W8Df8MQftDa7/ZN9Jbf2x4c%2BGn2qwvNhx5sEvnr5kZ6hsDI7Vi/8POv%2Bsev7UH/AIab/wC6a6555lUJuMqmq0%2BGp/8AK3%2BZ%2BTz4gyenNwlV1Wj92p09KT/Nn1BWR8QPAfhT4o%2BCNW%2BHPjrSzfaNrlhLZanaC4kiMsMilWUSRsrocHhkYMpwQQQDXiHw6/4KD/8ACxPHek%2BBv%2BGIP2htC/ta%2Bjtv7Y8R/DT7LYWe8482eXz28uMdS2Dgdq9U/aE8d%2BK/hb8F/EPxN8GaVb3134dsf7TnsbiF5PtFpAyy3Ucaoynzmt0mEfJAkKEqwBU9eGxuFxsHKjLmS0ekl/6VGP5M7cHjsJj4OWHlzJOz0ktf%2B3ox/J%2BpS8TfskfAW9nOk3PhTUGWy8R3mqRXA8T6iLl7q4QxXDSzi482ZJU%2BWSORmjk/iVjzVH4dfsdfs6fCh7KTwJ4Als206Aw2TS65fXBhiNjBYbB50z/KLW2giVeirGNuDknxD47f8FEPiv4ai8Q/EX4caBoWraDpt5rOrRxJpnmGbQbTUE0%2BK4e5l1G3SP7TcQ3rRSQx3LNG8GLdsFpMjwJ%2B1F8ZdG%2BIF78N9D1azudQ1rx7rGl6brfiia%2BvodPR/GniC2QPbi6jR447aySGJFMbZMSeZsVUGycbI7LM%2Bs/Bnwu8EeAPB0Pw%2B8M6TImiW%2BmwafBpl5fT3UMVrDbpbRwqs7vtTyo1BA%2B8dzNuZmY4/wANf2c/hJ8IbZrb4f6LqNmHmt3eWbxHf3MrpBE0UFu0k87ubaNHYJbE%2BSm4lUB5rkP2F/E3xD8a/BI%2BKPHXjO21iSTxh4rgeaNZpCXh8S6pEnlTSTN/oywpFHFFt%2BRI1AYjCjgP2UvGfjHUfij4E1bUvHuu6ndePPBfizVPGel6lrc9zbWV9Zaxp8MKwQSO0dkIDc3Nr5cKxhwo3hmj3CrrQD17wp%2Bxf%2BzlpdunhjT/AAVfQwXF/p7xXKeKNS%2B2WIs3f7JHaXX2jz7KKHzZhHFbvGkYmlCqBI4Ma/sefs6odGMfgGRRoYQWyJrl6Fu9l416pvQJsagRdu9xm680%2BbJJJ952J8J0Txh418OftBjwz8UPil4k0rR/E2p%2BMYvEPjOy%2BIcUmnx6dDqkSWLWEImk/syazSWCxmfyYGSaRstM5EqVZbz4q6X8K9d07Vvif4o0fU/BP7SPhTTptH03xpdanBHa3moeHc2J1O6UXl/bvBfySOsvlYe6khZGiij3TdX2A%2BmPBP7Pfwi%2BHXje%2B%2BInhDwtJbarfi7DySapczRW4urgXN0ttBLI0VoJp1WWUQIgldVZ9xAI3vB3gfwv4B0660nwlpf2S3vNWvdTuY/PeTfdXdxJc3EmXYkb5ZXbaPlXdhQAAB4R8QdWvdE/a18GeKPCvxM1a70rUPHsug%2BJ4IvGlzPHbXh0O4li0n%2ByAq2sUOFhvGu8vchyBt8qQvH9G1asIKtaP/x9v/16z/8Aop6q1a0f/j7f/r1n/wDRT0PYCrRRRTAKKKKALWn/APHpff8AXqP/AEbHVWrWn/8AHpff9eo/9Gx1VpLdgFFFFMAq1D/yBbj/AK%2Bof/QZaq1ah/5Atx/19Q/%2Bgy0mBVooopgFFFFAFqb/AJAtv/19Tf8AoMVVatTf8gW3/wCvqb/0GKqtJAFFFFMAq1qH/HpY/wDXqf8A0bJVWrWof8elj/16n/0bJSe6Aq0UUUwCu88Gf8i1bf8AA/8A0Nq4Ou88Gf8AItW3/A//AENqxr/AOO5qUUUVylhRRRQAUUUUAFFFFABRRRQAUUUUAFFFFABRRRQAUUUUAFFFFABRRRQAVg/EP/kCxf8AX0v/AKC1b1UPEWif29ZLZ/avK2yh92zdnAIx1HrVQaU02J7Hn1FdR/wrb/qNf%2BS3/wBlR/wrb/qNf%2BS3/wBlXV7Wn3Jszl6K6j/hW3/Ua/8AJb/7Kj/hW3/Ua/8AJb/7Kj2tPuFmYM3/ACBbf/r6m/8AQYqq11r%2BAN9lHZ/2t/q5Xfd5HXcFGPvf7P61F/wrb/qNf%2BS3/wBlSVWHcLM5eiuo/wCFbf8AUa/8lv8A7Kj/AIVt/wBRr/yW/wDsqftafcLM5erWof8AHpY/9ep/9GyVvf8ACtv%2Bo1/5Lf8A2VS3HgDz4oIv7Wx5MRTPkdfnZs/e4%2B9j8KTqwvuFmclRXUf8K2/6jX/kt/8AZUf8K2/6jX/kt/8AZU/a0%2B4WZy9FdR/wrb/qNf8Akt/9lR/wrb/qNf8Akt/9lR7Wn3CzMHWP%2BPtP%2BvWD/wBFJVWutvPAH2uUS/2ttxEiY8jP3UC5%2B97ZqL/hW3/Ua/8AJb/7KkqsLbhZnL1Rv/DHhvVM/wBp%2BHrG5z18%2B0R/5iu2/wCFbf8AUa/8lv8A7Kj/AIVt/wBRr/yW/wDsqHUpSVmJwUlZo8xvfgr8G9Sz/aPwl8M3Gevn6Dbvn80ql4l/ZW/ZgvdYvEvf2cPAUw%2B0yDEvg%2ByYY3H1ir1v/hW3/Ua/8lv/ALKpb7wB9tvZrz%2B1tvmys%2B3yM4yc4%2B9WEqWCm/ehF/8Abq/%2BRMJYPCz%2BKlF%2BsYv/ANtPArv9iL9jG%2Bybr9kr4aMT1b/hBrAH8xDms26/4J6/sNXmfN/ZN8AjP/PLw1bp/wCgqK%2Biv%2BFbf9Rr/wAlv/sqP%2BFbf9Rr/wAlv/sqyeCyqW9GH/gEf/kTCWU5ZLfD0/8AwCH/AMgfMlz/AMEz/wBgi7z5v7K3hIZ/55WBT/0FhUFj/wAEpv8AgnpqOq20F1%2By5oBSS4RXWOe5TILAEfLKK%2Bov%2BFbf9Rr/AMlv/sqlsfAH2K9hvP7W3eVKr7fIxnBzj71ZSyvJZLXD0/8AwCP/AMiZPIsllvhaf/gEP/kT5CuP%2BCRf/BOm5/1n7M2nj/rnrWoJ/wCg3AqnP/wRt/4JuT/f/ZuRfdPFerL/ACu6%2BxP%2BFbf9Rr/yW/8AsqP%2BFbf9Rr/yW/8AsqzeTcPvfDU//AI/5GT4cyCW%2BEpf%2BC4f5HxhP/wRa/4JxTcJ8CLmL/c8X6of53JqnN/wRH/4J2S/c%2BEepx/7niu//rKa%2B2/%2BFbf9Rr/yW/8AsqP%2BFbf9Rr/yW/8Asqh5Fw4/%2BYWn/wCAL/I0hkOTU/gw8F6K35NHxDaf8EMf%2BCeV7cNG3w911AIJWGzxTdcFY2YdWPcCs%2BX/AIIVfsASfc8MeJo/9zxNL/UGvvOz8AfZJTL/AGtuzE6Y8jH3kK5%2B975qL/hW3/Ua/wDJb/7Ks3w9w03rhaf/AICjojluDh8MWvSU1%2BVRHwTL/wAEHf2CpPuaf4uT/d8Sf4xmoJP%2BCCP7Cb8pP43T/d8RR/1hNffv/Ctv%2Bo1/5Lf/AGVH/Ctv%2Bo1/5Lf/AGVJ8N8MP/mFp/8AgP8AwTaOGUPhnNelWsvyro/P8f8ABBf9jCI5s/GfxHt/TyfEsAx%2BdsauWH/BCf8AZZSC5ktPjT8XrcxQB1EHi22UZ8xF5/0T3r70/wCFbf8AUa/8lv8A7KpbfwB5EU8X9rZ86IJnyOnzq2fvc/dx%2BNL/AFb4ZW2Gh9z/APkinQk96lT/AMHV/wD5oPgiH/gid8BrX/jz/aX%2BOEGOnleN7cY/8lKuwf8ABHT4Z2f/AB5fti/tBQ46eX8QoR/K0r7l/wCFbf8AUa/8lv8A7Kj/AIVt/wBRr/yW/wDsqtcP8Ox2oJfOf/yZhPL6FT4nN/8AcWv/APNB8Rx/8EmNCtv%2BPL9u39oyL02/EhR/K3FfQv7DH7K7fszDxQp/aE%2BJPjsa19iwPiF4l/tH7B5P2j/j3%2BRfL3%2Bb8/Xd5af3a9X/AOFbf9Rr/wAlv/sq1PDfhv8A4R7zv9N87ztv/LPbjGfc%2BtbUsqynDTVShTtJbaz/ACc2vwJo5ZhKFZVYJ3XedSX4SqyX3pmpRRRXUeiFFFFABRRRQAV4z4X%2BEHhX4L3WvaF4TlupI9Z8Van4gvZLyRWc3eoXUl5MBtVQEV5iqDGQiqCWOWPs1YOteCf7X1OXUf7T8vzNvyeTnGFA67h6VVONNVVOS1V7Pte1/vsbxxWJp4aeHhNqE3FyXSXI243/AMLk2vNs42iuo/4Vt/1Gv/Jb/wCyo/4Vt/1Gv/Jb/wCyrq9rT7nLZnL0yeCC6ge2uYUkjkQrJHIoKspGCCD1BHaur/4Vt/1Gv/Jb/wCyo/4Vt/1Gv/Jb/wCyo9rT7hZnlviv9m/9nfVTa%2BG9U%2BAvgu507QLO40rQrC48LWjw6dYOvlPawIY9sMLRgIY0AUqACMcVFP8As%2B/AW50W58NXPwR8ISadeR7LvT38NWpgnX7S93tdDHtYfaZJJ8Ef612f7xJr1y%2B8Afbb2a8/tbb5srPt8jOMnOPvVF/wrb/qNf8Akt/9lSVSnYLM898J/Dj4eeAYVt/AvgPRdFjSN40TSdLhtgqPNJO6gRqMBppZZSO7yOx5Yk1LL4NfB/TdT1jWtO%2BFPhq3vPEMqS%2BILuHQrdJdTdX3q1wwTMxDEsC5JBOetem/8K2/6jX/AJLf/ZUf8K2/6jX/AJLf/ZU/a0%2B4WZ53oPwX%2BDsfi/Utdj%2BE3hlb7xSUt/E94NBtxLq8Jwpjun2ZuEKkjbIWGOK5/Uf2Wf2Y9Y8KWXgPVv2cvAd1oem3T3OnaNceELJ7S1ndgzyxwtEUR2ZQSygEkAk8V7TY%2BAPsV7Def2tu8qVX2%2BRjODnH3qi/4Vt/1Gv/ACW/%2Bype0p3CzPMdN%2BCvwb0bxfb/ABB0f4S%2BGbTXrOxSytNbttBt47yC2WMRrAkyoHWMIAgQHaFGMYrpq6j/AIVt/wBRr/yW/wDsqP8AhW3/AFGv/Jb/AOyp%2B1p9wszl6taP/wAfb/8AXrP/AOinre/4Vt/1Gv8AyW/%2ByqWz8AfZJTL/AGtuzE6Y8jH3kK5%2B975pOrC24WZyVFdR/wAK2/6jX/kt/wDZUf8ACtv%2Bo1/5Lf8A2VP2tPuFmcvRXUf8K2/6jX/kt/8AZUf8K2/6jX/kt/8AZUe1p9wszB0//j0vv%2BvUf%2BjY6q11tv4A8iKeL%2B1s%2BdEEz5HT51bP3ufu4/Gov%2BFbf9Rr/wAlv/sqSqwvuFmcvRXUf8K2/wCo1/5Lf/ZUf8K2/wCo1/5Lf/ZU/a0%2B4WZy9Wof%2BQLcf9fUP/oMtb3/AArb/qNf%2BS3/ANlUqeANllJZ/wBrf6yVH3eR02hhj73%2B1%2BlJ1YdwszkqK6j/AIVt/wBRr/yW/wDsqP8AhW3/AFGv/Jb/AOyp%2B1p9wszl6K6j/hW3/Ua/8lv/ALKj/hW3/Ua/8lv/ALKj2tPuFmYM3/IFt/8Ar6m/9BiqrXWv4A32Udn/AGt/q5Xfd5HXcFGPvf7P61F/wrb/AKjX/kt/9lSVWHcLM5eiuo/4Vt/1Gv8AyW/%2Byo/4Vt/1Gv8AyW/%2Byp%2B1p9wszl6tah/x6WP/AF6n/wBGyVvf8K2/6jX/AJLf/ZVLceAPPigi/tbHkxFM%2BR1%2Bdmz97j72PwpOrC%2B4WZyVFdR/wrb/AKjX/kt/9lR/wrb/AKjX/kt/9lT9rT7hZnL13ngz/kWrb/gf/obVl/8ACtv%2Bo1/5Lf8A2Vb2i6b/AGRpkWned5nl7vn24zliemT61nVnGUbIaTTLVFFFc5QUUUUAFFFFABRRRQAUUUUAFFFFABRRRQAUUUUAFFFFABRRRQAUUUUAFfPfxY/aj%2BKng74s67H4bsfDx8H%2BC/E/hPQfEdpfWE76jfz61d28DTW86zrHbpbpeW0m1oZTMVlTMfytX0JXlvjv9kzwH4/%2BKY%2BJ2peKfEFrFcX2j32t%2BGrK4t107WLvSrj7Rp9xcB4WmDwyiNv3UsayeREsgkVAKAPUqKKKACiiigD5/wDhz%2B0r8Q9d/aq8RfCP4geKtF0TSrbxZc6T4T0af4carFPraRaZBebotZkuvsUkwLXDmBIjJ5Vs5wArOPoCvN7r9mvStU%2BMGn/FjxD8UvF%2BqW%2Bja5LrOheE9Qv7eTTNN1CSyksmni/cC5x5M9wFhedoUadmWMEIV9IoAKKKKAOJ/aQ8ZfEb4efAjxX47%2BE%2Bn6Lc6/o2iz3tjH4hklFmvlKXd5BD88m1AzCMFPMYBPMjDGRfFfDn7ZPxk1zXIPF0ml%2BGI/CWmeNPCvhDxFpw064OoXGoazpumXQu7e4%2B0eXFDHJrNknkvFIzLHMfNX5RXvXxj%2BGrfGH4aav8M28c6z4dh1qye0u9T0BLQ3SwSKVkRftcE8Q3KSpJjJAOVKnBHmXgT9gzwL4J1nSdTuvi5421u307UbDU73StVm05bXV9SsbdbayvrlbayiYywwRWsaiJo42%2BxW7SI7oXYA9zooooAK8s/bE%2BLHxV%2BCXwZk%2BI3wn0nQLq5stYsU1Q%2BIWnMcVlLcJFIYo4SpllJdVUM6Ku4uS%2BwRSep1wP7R3wFg/aP%2BHMnwy1H4n%2BJPC9jcXUM15P4YSwM1wIpFkSNje2twqqHRG%2BRVYlQN2CQQDz34GftK/EPxv8f/EHw2%2BJninRdIig8Sa3p/hrw2/w41WzuNRtrObak0WrT3RtLt/KxK8UMW4K27CqpNfQFeV%2BEf2WbbQviFpHxE8X/HHx34xm8P3F3d6HYeKLyxe3sr25haGe6T7PaQyFmSSdVjZzDEs7pFHGgRU9UoAKKKKAPGP2zPi98cfgd4Em%2BJHwtbwg1npunTONJ16zurm/8R6qzxJY6NZJDLEsMty7PGJ2MxV2j/cMu4jD/ZR/aj%2BKnxg1zwhJ8SLHw8um/E74XL488HRaJYTwT6XZ%2Bbag2d28s8q3Moi1GzPnRrCpZZh5eNprtvjL%2BzSnxf8AiT4Z%2BKUHxp8XeGdR8JWt5Fo8OhQaTPbpJchFkuTHqFjcgXAjQxLKu1ljlmQYEr7ovgZ%2ByZ4D%2BAmuJrXh7xV4g1VNP0BdB8MWOt3Fu8Ph7SFl80WFoIYI28rIiXdM0sm23hXfhAKAPUqKKKACvnL9uj9or9pX9m/Sm8ZfCvTfBmrQT/ZbPw74OutNvbvWfEF27SNeSRmGeJYIrS2X7UyhJjKkEyloCUavo2vJPiL%2ByXB8QPjJd/GmD4%2BePNBvrzw3HoL2OhSaWsUFiJHklS3lmsZLq0eZnBkkgmjkYwwkMDDGVAF/ZI%2BNXiD4x%2BFL6bxr490nVNdsDanUtLsPh/qfhufTPOgWRVlttSuJppFb5ik67Y3Cnbu2k161XB/B74DWHwm1rXPF2ofETxH4u8QeIY7OHU/EHih7T7Q9varItvbqtnb28KohmnfiPczTOWZsjHeUAFFFFAHyl%2B1v%2B2J%2B0T%2Bzb8YfDngax0/wheWvjzxTY6B4Xtrvw5qaJYG%2Bmjs7a8n1JpktryVbt90ml26LcC33TCQJGzn2f9nP4n%2BNfiBZeLPDHxJGlyeIPBHjGfQdUvtEs5La0vcW1teQzxwyyzPDm3vIQyGWTDq%2BGIxXJ/Ff9gv4efGbxH/bHjT4qeOnsbXxN/wk2gaDFqtt9l0PXhCYotTtWe2adZIizyJFJLJbLI5byemPRfg58H9F%2BDXh6%2B0jTvEGqaze6vrFxquua7rbwm71K8m2hpZPIiiiXCJHGqxxoqpEiheKAOtooooAK%2BN/jh%2B2d%2B1v8KP2gNO%2BCEdp4Vl/tW6ae8vbH4V%2BINROi2XmDyvIjjuY5NfJjkiEs9mscdrLtjlXdPGB9kV4bJ%2BwzpSeLrHxzpn7SXxQs9S0GO%2Bg8IzxavYSf2Fa3lxHPdWsYmsnF3FIYYF2332oosMfllGUNQB6Z8GvG9p8SPhdovjey8Zab4gTULISNrGkaZLZW9w4JV9tvNJLJbkMGVopHZ0ZWVsEEDpq5r4Q/Cvw38Ffh5YfDfwrcXk9rYtPLJeajMJLi7uJ5nuLi4lZVVTJLNLJI21VXc52qowB0tABRRRQAUUUUAFFFFABRRRQBifErxvY/DP4c6/8SNTtZJ7bw/ol3qVxDEcNIkELSso9yEIFeY/szfGz4xeMvG2ofDX43x%2BG5NUTwLoHiuyuvC%2Bn3FtDFDqT30T2TrPPMZHgksj%2B/BQSrMv7qMqc%2Bv65ouleJNFvPDuu2Md1Y39rJbXltKMrNE6lXQ%2BxUkH61wPwF/Zm8MfAS6vdVsfG/iTxJqN5o2m6Mmp%2BJ7m3lnt9LsBP9jskMEEIKRm5uG3uHmdpmMkjnGAD0iiiigArgf2pfiN44%2BEX7OnjP4nfDTR4L/X9D8P3F5pFndafNdxyzouVDQwOkkoz/AjKx6Aiu%2BrK8c%2BFR448Iaj4S/4SPVdIOoWrQpquh3v2e8tGP3ZYZMEK6nBGQynGGVlJBAOS/Zu%2BKF38UvBuoXur/EHTNf1LS9aksNT/ALP8EX/h2SwlEUUgt57DUJ5riKXZKkoLlQ8c0bKu0hm9CrjPg38FdK%2BDsOvXSeL9a8Rav4o1oar4h8QeIGtvtV7cLbQWkeVtYYYI1SC2gjVY4kGE3HLszN2dABRRRQB8%2B/te/tXfE79l/wAZRa4PCmhX/gq2%2BHHibxBfK00x1O6u9KsXvPJjIxFBFsVV3ESs5lPEQjzL1vwE%2BJvxb1T4i%2BLvgp8cZ/Dl5r/hnTdI1RdU8K6ZPZ2k1rqC3KrGYZ553Ekc1lcgv5mHQxnahyKr/Hz9j/w7%2B0X4203xR44%2BLHiy30uw0q90yfwlp8el/wBnX9pexeTewzGaykuSJ4f3bFJkKrzGUb5q6H4K/ALSfgzc6xrUvj3xF4r1vXfsqal4h8VT2z3ckFtF5Vvb/wCjQQxiOMNIw%2BTczzSMzMzE0Ad5RRRQAV8z/tJ/tSftJ/CX4jeNvCfhLwt4YmsdM8HaTq3hV10e/wBVvHM%2Bqw2VzNcwW8kTSKiySstvD82IQ5lPmGOP6Yrx3x3%2ByHc%2BOPjFffGiL9pv4k6JfXejR6ZFp%2BgzaRBb2lvHMJ41jZtPac4nAkIkldZOY5A8LNEQDp/2dviVL8Uvh4devfHum%2BIL221K4s9Rn03wle6EbWeNsG3msL6aW4t5VBXKyMCQysFAYZ7uuQ%2BDfwb0b4M6NqllZeJdW1zUNd1ubV9e17XXgN3qN5IkcXmOLeKKFNsUMMSrHGihIl4zknr6ACiiigD5Q%2BIn7Vn7Vvg79qnwn%2By3Zy/Dm41Dx/fX8dtfWei391F4LjhjubyzXUD9riN/Le2NjfNGqC02S2r/AOsTDH3T9mr4q6z8Zvg5p3jjxNp1ra6st7qGmaxFYbvs5vbC%2Bnsbh4g5LCJpbaRkDEkKygkkZPn2m/sC6Npd9darbftIfEX7ZJ4wufFVjfNFoX2iw1ifzEe7SX%2By98xFrNNZLHcGaNbWTygnyRFPWfhL8L/DXwZ%2BHemfDTwk91JZaZEwFzfTCS4upXdpZriVwAGllld5HIABZ2IAHFAHR0UUUAR3TXKWsj2UKSTCMmGOWQorNjgFgCVBPfBx6HpXxb4o/bc/a28FfHF/g/4r1nwIulaVo4uvFfjvwz8KNf16w0jUfJMs2jNDaXwkMlvH5Mz3bFFMd1HuhhKtn7Q1G0lv9PnsYNQmtHmhaNLq22%2BZCSCA671Zdw6jcpGRyCOK8I8G/sHT%2BAfAFl8NvC37YHxatNNsLKe0iEMugo0sc%2BTcvNs0oC4nlc%2Ba1zKHuBJvZZUMs3mAHuHhvVrTX/Dthrun6xaajBe2UU8GoWH%2BoukdAwlj%2BZvkYEMvzNwRyetXazPBPg7w78O/BmkfD/whp4tNJ0LTLfT9LtFcsIbaGNY40yxJOEVRknPFadABWV43PjYeEdRHw3XSjrxtWGknW2kFos5GFaYRDeyA8lVwWxjcudw1axPiR4E0/wCJvgbU/Aep6vqenxalbGL%2B0NGvTb3dq%2BQySwyDO11YKwyCpIwwYEggHx54a/4KJftEa3c/FWeKx8IS6d8D9Ps9Z8VzXvg7U9Lvtf064ec%2BXFYXN55%2Bi3Ecdje4F0JzMDayrGscwNfb1fPf/Dub4ZXPiXxB4w1v4ueO9R1PxvcWrfEi5ubvTkHi%2BC2EK21reJFZIkcMUcPlKLVbdmSWUOzmRifoSgAooooA5b4zap8RdF%2BH17q/wwuNLg1G12zTXWraNeakkFqh3ztHZWRWe8m8tWEcEbozuVAOflb5i/ZU/by%2BM/xm%2BIqaZ8Wtf8L%2BGNGfxCukaQi/DHWQNdkxKo/4mL3pttMuZHjI%2BwXCvPDIHt33So1fUHxW%2BGkXxT8NQ6EvjTXfDt1aajBfafrXhy6jiurWeJtykCaOSGVSNytHLHIjKxBXOCPNPB/7CPgvwjeWEb/Gbx/qukWviv8A4Sm98OavqdnLZajrpupLxtQk22qyxMbt/tBgt5IbbzEUiEfMGAPcaKKKACiiigAooooAKKKKACiiigAooooAKKKKACiiigAooooAKKKKACiiigAooooAKKKKACiiigAooooAKKKKACiiigAooooAKKKKACiiigAooooAKKKKACiiigAooooAKKKKACiiigAooooAKKKKACiiigAooooAKKKKACiiigAooooAKKKKACiiigAooooAKKKKACiiigAooooAKKKKACiiigAooooAKKKKACiiigAooooAKKKKACiiigAooooAKKKKACiiigAooooAKKKKACiiigAooooAKKKKACiiigAooooAKKKKACiiigAooooAKKKKAP/Z\">"
            ]
          },
          "metadata": {
            "tags": []
          }
        }
      ]
    },
    {
      "metadata": {
        "id": "Yxlck81OHqt_",
        "colab_type": "text"
      },
      "cell_type": "markdown",
      "source": [
        "# Submit a linear model"
      ]
    },
    {
      "metadata": {
        "id": "Npe3l4SYHquA",
        "colab_type": "code",
        "colab": {}
      },
      "cell_type": "code",
      "source": [
        "## GRADED PART, DO NOT CHANGE!\n",
        "# Testing shapes \n",
        "grader.set_answer(\"9XaAS\", grading_utils.get_tensors_shapes_string([W, b, input_X, input_y, logits, probas, classes]))\n",
        "# Validation loss\n",
        "grader.set_answer(\"vmogZ\", s.run(loss, {input_X: X_val_flat, input_y: y_val_oh}))\n",
        "# Validation accuracy\n",
        "grader.set_answer(\"RMv95\", accuracy_score(y_val, s.run(classes, {input_X: X_val_flat})))"
      ],
      "execution_count": 0,
      "outputs": []
    },
    {
      "metadata": {
        "id": "MAOQZ_-WHquE",
        "colab_type": "code",
        "colab": {
          "base_uri": "https://localhost:8080/",
          "height": 34
        },
        "outputId": "ce94a68c-08ef-4311-ddca-40f501b6fa4b"
      },
      "cell_type": "code",
      "source": [
        "# you can make submission with answers so far to check yourself at this stage\n",
        "grader.submit(COURSERA_EMAIL, COURSERA_TOKEN)"
      ],
      "execution_count": 43,
      "outputs": [
        {
          "output_type": "stream",
          "text": [
            "Submitted to Coursera platform. See results on assignment page!\n"
          ],
          "name": "stdout"
        }
      ]
    },
    {
      "metadata": {
        "id": "J36fp7MhHquI",
        "colab_type": "text"
      },
      "cell_type": "markdown",
      "source": [
        "# MLP with hidden layers"
      ]
    },
    {
      "metadata": {
        "id": "5kriTkUiHquK",
        "colab_type": "text"
      },
      "cell_type": "markdown",
      "source": [
        "Previously we've coded a dense layer with matrix multiplication by hand. \n",
        "But this is not convenient, you have to create a lot of variables and your code becomes a mess. \n",
        "In TensorFlow there's an easier way to make a dense layer:\n",
        "```python\n",
        "hidden1 = tf.layers.dense(inputs, 256, activation=tf.nn.sigmoid)\n",
        "```\n",
        "\n",
        "That will create all the necessary variables automatically.\n",
        "Here you can also choose an activation function (remember that we need it for a hidden layer!).\n",
        "\n",
        "Now define the MLP with 2 hidden layers and restart training with the cell above.\n",
        "\n",
        "You're aiming for ~0.97 validation accuracy here."
      ]
    },
    {
      "metadata": {
        "id": "iQkxl1PZHquL",
        "colab_type": "code",
        "colab": {}
      },
      "cell_type": "code",
      "source": [
        "# write the code here to get a new `step` operation and then run the cell with training loop above.\n",
        "# name your variables in the same way (e.g. logits, probas, classes, etc) for safety.\n",
        "### YOUR CODE HERE ###"
      ],
      "execution_count": 0,
      "outputs": []
    },
    {
      "metadata": {
        "id": "yoVsY5opHquN",
        "colab_type": "text"
      },
      "cell_type": "markdown",
      "source": [
        "# Submit the MLP with 2 hidden layers\n",
        "Run these cells after training the MLP with 2 hidden layers"
      ]
    },
    {
      "metadata": {
        "id": "GKDGIQVzHquP",
        "colab_type": "code",
        "colab": {}
      },
      "cell_type": "code",
      "source": [
        "## GRADED PART, DO NOT CHANGE!\n",
        "# Validation loss for MLP\n",
        "grader.set_answer(\"i8bgs\", s.run(loss, {input_X: X_val_flat, input_y: y_val_oh}))\n",
        "# Validation accuracy for MLP\n",
        "grader.set_answer(\"rE763\", accuracy_score(y_val, s.run(classes, {input_X: X_val_flat})))"
      ],
      "execution_count": 0,
      "outputs": []
    },
    {
      "metadata": {
        "id": "E4RPytqNHquS",
        "colab_type": "code",
        "colab": {}
      },
      "cell_type": "code",
      "source": [
        "# you can make submission with answers so far to check yourself at this stage\n",
        "grader.submit(COURSERA_EMAIL, COURSERA_TOKEN)"
      ],
      "execution_count": 0,
      "outputs": []
    },
    {
      "metadata": {
        "id": "P8_7CNfRHquW",
        "colab_type": "code",
        "colab": {}
      },
      "cell_type": "code",
      "source": [
        ""
      ],
      "execution_count": 0,
      "outputs": []
    }
  ]
}